{
 "cells": [
  {
   "cell_type": "markdown",
   "id": "1f5388a1-f568-4e07-adf7-9880548b95e4",
   "metadata": {},
   "source": [
    "# Karate Club node embeddings\n",
    "* Code from hhttps://towardsdatascience.com/a-beginners-guide-to-graph-neural-networks-using-pytorch-geometric-part-1-d98dc93e7742\n",
    "* The code uses PyGeometric"
   ]
  },
  {
   "cell_type": "code",
   "execution_count": 116,
   "id": "54337e1e-d702-47f2-bc3d-32c3a0064b77",
   "metadata": {},
   "outputs": [
    {
     "name": "stdout",
     "output_type": "stream",
     "text": [
      "nb edges:  78\n"
     ]
    }
   ],
   "source": [
    "import networkx as nx\n",
    "import numpy as np\n",
    "import torch\n",
    "from sklearn.preprocessing import StandardScaler\n",
    "\n",
    "# load graph from networkx library\n",
    "G = nx.karate_club_graph()\n",
    "print(\"nb edges: \", len(list(G.edges())))\n",
    "\n",
    "# retrieve the labels for each node\n",
    "labels = np.asarray([G.nodes[i]['club'] != 'Mr. Hi' for i in G.nodes]).astype(np.int64)\n",
    "# labels are 0's and 1's\n",
    "\n",
    "# create edge index from \n",
    "adj = nx.to_scipy_sparse_matrix(G).tocoo()\n",
    "row = torch.from_numpy(adj.row.astype(np.int64)).to(torch.long)\n",
    "col = torch.from_numpy(adj.col.astype(np.int64)).to(torch.long)\n",
    "# Row and col: size 2*nb_edges (each edge has two entries in adj)\n",
    "edge_index = torch.stack([row, col], dim=0)\n",
    "\n",
    "# There are E edges, and 2*E entries in the adjacency matrix. \n",
    "# Therefore, row, col have 2*E entries each. \n",
    "# `row` and `col` are not used in this example\n",
    "\n",
    "# using degree as embedding (1 feature inhelp(embeddings.reshape)\n",
    "# embeddings are scalars\n",
    "embeddings = np.array(list(dict(G.degree()).values()))\n",
    "\n",
    "# normalizing degree values\n",
    "scale = StandardScaler()\n",
    "#embeddings.reshape(-1,1)\n",
    "# Why use fit_transform and not the reshape in line above?\n",
    "embeddings = scale.fit_transform(embeddings.reshape(-1,1))"
   ]
  },
  {
   "cell_type": "markdown",
   "id": "8e1b8090-00ca-42d7-b149-6cceb9f1973c",
   "metadata": {},
   "source": [
    "## The Custom Dataset"
   ]
  },
  {
   "cell_type": "code",
   "execution_count": 118,
   "id": "99daae7d-7c0e-4164-b982-f86aec75f4ad",
   "metadata": {},
   "outputs": [
    {
     "name": "stdout",
     "output_type": "stream",
     "text": [
      "[0 0 0 0 0 0 0 0 0 1 0 0 0 0 1 1 0 0 1 0 1 0 1 1 1 1 1 1 1 1 1 1 1 1]\n",
      "[0, 1, 2, 3, 4, 5, 6, 7, 8, 9, 10, 11, 12, 13, 14, 15, 16, 17, 18, 19, 20, 21, 22, 23, 24, 25, 26, 27, 28, 29, 30, 31, 32, 33]\n"
     ]
    }
   ],
   "source": [
    "import torch\n",
    "import pandas as pd\n",
    "from torch_geometric.data import InMemoryDataset, Data\n",
    "from sklearn.model_selection import train_test_split\n",
    "import torch_geometric.transforms as T\n",
    "\n",
    "# custom dataset\n",
    "class KarateDataset(InMemoryDataset):\n",
    "    def __init__(self, transform=None, embeddings=None):\n",
    "        super(KarateDataset, self).__init__('.', transform, None, None)\n",
    "\n",
    "        data = Data(edge_index=edge_index)    # Torch Geometric class instance\n",
    "        \n",
    "        data.num_nodes = G.number_of_nodes()\n",
    "        \n",
    "        # embedding (defined above the function). Initial features\n",
    "        data.x = torch.from_numpy(embeddings).type(torch.float32)\n",
    "        \n",
    "        # labels\n",
    "        y = torch.from_numpy(labels).type(torch.long)\n",
    "        data.y = y.clone().detach()\n",
    "        \n",
    "        data.num_classes = 2   # the code does not crash when I increase the number of classes. WHY? \n",
    "\n",
    "        # splitting the data into train, validation and test (shuffled by default)\n",
    "        X_train, X_test, y_train, y_test = train_test_split(\n",
    "                pd.Series(G.nodes()), \n",
    "                pd.Series(labels),\n",
    "                test_size=0.30,   # fraction of data used for tests\n",
    "                random_state=42)  # for reproducible output\n",
    "        \n",
    "        print(labels)\n",
    "        print(G.nodes())\n",
    "        \n",
    "        n_nodes = G.number_of_nodes()\n",
    "\n",
    "        # create train and test masks for data\n",
    "        train_mask = torch.zeros(n_nodes, dtype=torch.bool)\n",
    "        test_mask = torch.zeros(n_nodes, dtype=torch.bool)\n",
    "        train_mask[X_train.index] = True\n",
    "        test_mask[X_test.index] = True\n",
    "        data['train_mask'] = train_mask\n",
    "        data['test_mask'] = test_mask\n",
    "\n",
    "        # What does self.collate return?\n",
    "        self.data, self.slices = self.collate([data])\n",
    "\n",
    "    def _download(self):\n",
    "        return\n",
    "\n",
    "    def _process(self):\n",
    "        return\n",
    "\n",
    "    def __repr__(self):\n",
    "        return '{}()'.format(self.__class__.__name__)\n",
    "    \n",
    "dataset = KarateDataset(embeddings=embeddings)\n",
    "data = dataset[0]\n"
   ]
  },
  {
   "cell_type": "code",
   "execution_count": 120,
   "id": "0d420624-605d-4550-a99d-e8e6862bbdce",
   "metadata": {},
   "outputs": [
    {
     "data": {
      "text/plain": [
       "2"
      ]
     },
     "execution_count": 120,
     "metadata": {},
     "output_type": "execute_result"
    }
   ],
   "source": [
    "dataset.num_classes"
   ]
  },
  {
   "cell_type": "markdown",
   "id": "79eec3d1-b3a1-4325-bf8a-28307de157e1",
   "metadata": {},
   "source": [
    "# Graph Convolutional Network"
   ]
  },
  {
   "cell_type": "code",
   "execution_count": 81,
   "id": "86e56658-1ddd-4528-add5-b586ee8d0c08",
   "metadata": {},
   "outputs": [],
   "source": [
    "import torch.nn as nn\n",
    "import torch.nn.functional as F\n",
    "from torch_geometric.nn import GCNConv\n",
    "\n",
    "# GCN model with 2 layers \n",
    "class Net(torch.nn.Module):\n",
    "    def __init__(self):\n",
    "        super(Net, self).__init__()\n",
    "        self.conv1 = GCNConv(data.num_features, 16)\n",
    "        self.conv2 = GCNConv(16, int(data.num_classes))\n",
    "\n",
    "    def forward(self):\n",
    "        x, edge_index = data.x, data.edge_index\n",
    "        x = F.relu(self.conv1(x, edge_index))\n",
    "        x = F.dropout(x, training=self.training)\n",
    "        x = self.conv2(x, edge_index)\n",
    "        return F.log_softmax(x, dim=1)\n",
    "\n",
    "device = torch.device('cuda' if torch.cuda.is_available() else 'cpu')\n",
    "\n",
    "data =  data.to(device)\n",
    "\n",
    "model = Net().to(device) "
   ]
  },
  {
   "cell_type": "code",
   "execution_count": 82,
   "id": "014181df-33ff-410d-a5bb-3754c484f16d",
   "metadata": {},
   "outputs": [
    {
     "data": {
      "text/plain": [
       "tensor([[ 2.9871],\n",
       "        [ 1.1548],\n",
       "        [ 1.4166],\n",
       "        [ 0.3695],\n",
       "        [-0.4157],\n",
       "        [-0.1540],\n",
       "        [-0.1540],\n",
       "        [-0.1540],\n",
       "        [ 0.1078],\n",
       "        [-0.6775],\n",
       "        [-0.4157],\n",
       "        [-0.9392],\n",
       "        [-0.6775],\n",
       "        [ 0.1078],\n",
       "        [-0.6775],\n",
       "        [-0.6775],\n",
       "        [-0.6775],\n",
       "        [-0.6775],\n",
       "        [-0.6775],\n",
       "        [-0.4157],\n",
       "        [-0.6775],\n",
       "        [-0.6775],\n",
       "        [-0.6775],\n",
       "        [ 0.1078],\n",
       "        [-0.4157],\n",
       "        [-0.4157],\n",
       "        [-0.6775],\n",
       "        [-0.1540],\n",
       "        [-0.4157],\n",
       "        [-0.1540],\n",
       "        [-0.1540],\n",
       "        [ 0.3695],\n",
       "        [ 1.9401],\n",
       "        [ 3.2488]])"
      ]
     },
     "execution_count": 82,
     "metadata": {},
     "output_type": "execute_result"
    }
   ],
   "source": [
    "data.train_mask.sum(), data.test_mask.sum()\n",
    "data.x"
   ]
  },
  {
   "cell_type": "markdown",
   "id": "ea3e7dd9-f361-44e8-a850-10eb0d8fe27b",
   "metadata": {},
   "source": [
    "# Train the GCN model"
   ]
  },
  {
   "cell_type": "code",
   "execution_count": 85,
   "id": "38e3f52c-db4e-4c96-bae0-e5872e08ed26",
   "metadata": {},
   "outputs": [
    {
     "name": "stdout",
     "output_type": "stream",
     "text": [
      "######################################################################\n",
      "Train Accuracy: 0.9130434782608695\n",
      "Test Accuracy: 0.7272727272727273\n",
      "######################################################################\n"
     ]
    }
   ],
   "source": [
    "torch.manual_seed(42)\n",
    "\n",
    "optimizer_name = \"Adam\"\n",
    "lr = 1e-1\n",
    "optimizer = getattr(torch.optim, optimizer_name)(model.parameters(), lr=lr)\n",
    "epochs = 200\n",
    "\n",
    "def train():\n",
    "  model.train()\n",
    "  optimizer.zero_grad()\n",
    "  F.nll_loss(model()[data.train_mask], data.y[data.train_mask]).backward()\n",
    "  optimizer.step()\n",
    "\n",
    "@torch.no_grad()\n",
    "def test():\n",
    "  model.eval()\n",
    "  logits = model()\n",
    "  mask1 = data['train_mask']\n",
    "  pred1 = logits[mask1].max(1)[1]\n",
    "  acc1 = pred1.eq(data.y[mask1]).sum().item() / mask1.sum().item()\n",
    "  mask = data['test_mask']\n",
    "  pred = logits[mask].max(1)[1]\n",
    "  acc = pred.eq(data.y[mask]).sum().item() / mask.sum().item()\n",
    "  return acc1,acc\n",
    "\n",
    "for epoch in range(1, epochs):\n",
    "  train()\n",
    "\n",
    "train_acc,test_acc = test()\n",
    "\n",
    "print('#' * 70)\n",
    "print('Train Accuracy: %s' %train_acc )\n",
    "print('Test Accuracy: %s' % test_acc)\n",
    "print('#' * 70)"
   ]
  },
  {
   "cell_type": "code",
   "execution_count": null,
   "id": "61bc4044-c18c-4754-a5c4-d7ab59b6b0bf",
   "metadata": {},
   "outputs": [],
   "source": []
  }
 ],
 "metadata": {
  "kernelspec": {
   "display_name": "Python 3 (ipykernel)",
   "language": "python",
   "name": "python3"
  },
  "language_info": {
   "codemirror_mode": {
    "name": "ipython",
    "version": 3
   },
   "file_extension": ".py",
   "mimetype": "text/x-python",
   "name": "python",
   "nbconvert_exporter": "python",
   "pygments_lexer": "ipython3",
   "version": "3.8.12"
  },
  "widgets": {
   "application/vnd.jupyter.widget-state+json": {
    "state": {},
    "version_major": 2,
    "version_minor": 0
   }
  }
 },
 "nbformat": 4,
 "nbformat_minor": 5
}
