{
 "cells": [
  {
   "cell_type": "markdown",
   "id": "1f5388a1-f568-4e07-adf7-9880548b95e4",
   "metadata": {},
   "source": [
    "# Karate Club node embeddings\n",
    "* Code from https://towardsdatascience.com/a-beginners-guide-to-graph-neural-networks-using-pytorch-geometric-part-2-cd82c01330ab"
   ]
  },
  {
   "cell_type": "code",
   "execution_count": 4,
   "id": "54337e1e-d702-47f2-bc3d-32c3a0064b77",
   "metadata": {},
   "outputs": [
    {
     "name": "stdout",
     "output_type": "stream",
     "text": [
      "Learning embedding vectors...\n",
      "Learning embedding vectors done!\n"
     ]
    },
    {
     "name": "stderr",
     "output_type": "stream",
     "text": [
      "[Parallel(n_jobs=1)]: Using backend SequentialBackend with 1 concurrent workers.\n",
      "[Parallel(n_jobs=1)]: Done   1 out of   1 | elapsed:    0.1s finished\n"
     ]
    }
   ],
   "source": [
    "from ge import DeepWalk\n",
    "import networkx as nx\n",
    "import numpy as np\n",
    "\n",
    "# load graph from networkx library\n",
    "G = nx.karate_club_graph()\n",
    "\n",
    "# convert nodes from int to str format\n",
    "keys = np.arange(0,34)\n",
    "values = [str(i) for i in keys]\n",
    "dic = dict(zip(keys, values))\n",
    "H = nx.relabel_nodes(G, dic)\n",
    "\n",
    "# train the model and generate embeddings\n",
    "model = DeepWalk(H, walk_length=10, num_walks=80, workers=1)\n",
    "model.train(window_size=5,iter=3)\n",
    "\n",
    "embeddings = model.get_embeddings()"
   ]
  },
  {
   "cell_type": "code",
   "execution_count": 12,
   "id": "c6407796-9351-463d-a8f7-e25c282c834e",
   "metadata": {},
   "outputs": [
    {
     "data": {
      "text/plain": [
       "array([ 0.3041105 ,  0.06050783, -0.07856894,  0.27622882,  0.05635927,\n",
       "       -0.0844336 ,  0.23994312,  0.08040757, -0.08368737,  0.12388054,\n",
       "        0.07417933,  0.09344316, -0.09200957, -0.0471576 , -0.08500138,\n",
       "       -0.10571478,  0.02262803, -0.09477288, -0.08723827, -0.12732226,\n",
       "       -0.12551849, -0.2406005 ,  0.15795696, -0.16136296, -0.11431362,\n",
       "        0.05693149,  0.17660318,  0.17866492, -0.02208714, -0.00144731,\n",
       "        0.09552904,  0.02809266,  0.22849987,  0.06492662, -0.04767409,\n",
       "       -0.2118357 ,  0.17651491,  0.26986164,  0.04472336,  0.07103414,\n",
       "       -0.14313146, -0.06536842,  0.10957801, -0.03987564,  0.14146183,\n",
       "        0.00050398,  0.00658568, -0.20127736, -0.02085317,  0.04279901,\n",
       "        0.20400907,  0.29661897, -0.24028444,  0.0853435 , -0.0896612 ,\n",
       "        0.06705519, -0.07638413,  0.07091422, -0.16234702, -0.01364036,\n",
       "        0.3695843 ,  0.2954055 , -0.04757717, -0.03699087,  0.02974911,\n",
       "       -0.0492499 ,  0.02204545, -0.04613625, -0.01045638,  0.10218555,\n",
       "        0.00289354,  0.06889933, -0.13029963, -0.04848731, -0.24134757,\n",
       "        0.10789917, -0.03729488,  0.07063254, -0.01455576, -0.10964754,\n",
       "       -0.10056657,  0.06224107,  0.14416653, -0.10029406, -0.02870198,\n",
       "       -0.03272166,  0.18636605,  0.04213224,  0.06956059,  0.06792808,\n",
       "       -0.18740897, -0.0882389 , -0.12263927, -0.00381912,  0.03122952,\n",
       "        0.0631907 ,  0.02644156, -0.08315242, -0.23618998,  0.10798647,\n",
       "       -0.04137634, -0.27354872,  0.13613597,  0.04679881, -0.10884345,\n",
       "       -0.01179804,  0.2670475 , -0.07092179, -0.17222057,  0.21540976,\n",
       "       -0.12014208,  0.14316268, -0.08850324,  0.08928096,  0.22352082,\n",
       "       -0.08408084,  0.08004956, -0.01941865,  0.06893881, -0.00391126,\n",
       "        0.0416901 , -0.06674494, -0.05044279, -0.23627329, -0.179226  ,\n",
       "        0.14840728, -0.08981998,  0.00505431], dtype=float32)"
      ]
     },
     "execution_count": 12,
     "metadata": {},
     "output_type": "execute_result"
    }
   ],
   "source": [
    "embeddings[\"3\"]"
   ]
  },
  {
   "cell_type": "code",
   "execution_count": 1,
   "id": "99daae7d-7c0e-4164-b982-f86aec75f4ad",
   "metadata": {},
   "outputs": [
    {
     "data": {
      "text/plain": [
       "3"
      ]
     },
     "execution_count": 1,
     "metadata": {},
     "output_type": "execute_result"
    }
   ],
   "source": [
    "3"
   ]
  },
  {
   "cell_type": "code",
   "execution_count": null,
   "id": "44b49caa-8aef-4173-87a9-dcb7436a21c0",
   "metadata": {},
   "outputs": [],
   "source": []
  }
 ],
 "metadata": {
  "kernelspec": {
   "display_name": "Python 3 (ipykernel)",
   "language": "python",
   "name": "python3"
  },
  "language_info": {
   "codemirror_mode": {
    "name": "ipython",
    "version": 3
   },
   "file_extension": ".py",
   "mimetype": "text/x-python",
   "name": "python",
   "nbconvert_exporter": "python",
   "pygments_lexer": "ipython3",
   "version": "3.8.12"
  },
  "widgets": {
   "application/vnd.jupyter.widget-state+json": {
    "state": {},
    "version_major": 2,
    "version_minor": 0
   }
  }
 },
 "nbformat": 4,
 "nbformat_minor": 5
}
