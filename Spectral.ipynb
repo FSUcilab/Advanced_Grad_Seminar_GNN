{
 "cells": [
  {
   "cell_type": "markdown",
   "id": "31c64e77-ed86-408a-99a2-edc6224f9b5c",
   "metadata": {
    "id": "31c64e77-ed86-408a-99a2-edc6224f9b5c"
   },
   "source": [
    "<script>\n",
    "  jQuery(document).ready(function($) {\n",
    "\n",
    "  $(window).load(function(){\n",
    "    $('#preloader').fadeOut('slow',function(){$(this).remove();});\n",
    "  });\n",
    "\n",
    "  });\n",
    "</script>\n",
    "\n",
    "<style type=\"text/css\">\n",
    "  div#preloader { position: fixed;\n",
    "      left: 0;\n",
    "      top: 0;\n",
    "      z-index: 999;\n",
    "      width: 100%;\n",
    "      height: 100%;\n",
    "      overflow: visible;\n",
    "      background: #fff url('http://preloaders.net/preloaders/720/Moving%20line.gif') no-repeat center center;\n",
    "  }\n",
    "\n",
    "</style>\n",
    "\n",
    "<div id=\"preloader\"></div>"
   ]
  },
  {
   "cell_type": "markdown",
   "id": "9d76e2fb-b3fd-462f-a932-a57719bf9a37",
   "metadata": {
    "id": "9d76e2fb-b3fd-462f-a932-a57719bf9a37",
    "tags": []
   },
   "source": [
    "<script>\n",
    "  function code_toggle() {\n",
    "    if (code_shown){\n",
    "      $('div.input').hide('500');\n",
    "      $('#toggleButton').val('Show Code')\n",
    "    } else {\n",
    "      $('div.input').show('500');\n",
    "      $('#toggleButton').val('Hide Code')\n",
    "    }\n",
    "    code_shown = !code_shown\n",
    "  }\n",
    "\n",
    "  $( document ).ready(function(){\n",
    "    code_shown=false;\n",
    "    $('div.input').hide()\n",
    "  });\n",
    "</script>\n",
    "<form action=\"javascript:code_toggle()\"><input type=\"submit\" id=\"toggleButton\" value=\"Show Code\"></form>"
   ]
  },
  {
   "cell_type": "markdown",
   "id": "6b0f62ef-9c6f-4735-8e33-e699dafd3e5f",
   "metadata": {
    "id": "6b0f62ef-9c6f-4735-8e33-e699dafd3e5f",
    "jp-MarkdownHeadingCollapsed": true,
    "tags": []
   },
   "source": [
    "### Latex Macros\n",
    "$\\newcommand{\\Re}[1]{{\\mathbb{R}^{{#1}}}}\n",
    "\\newcommand{\\Rez}{{\\mathbb{R}}}$"
   ]
  },
  {
   "cell_type": "code",
   "execution_count": 41,
   "id": "3d77eb50-6fe1-4c9a-8bf2-477483fb20c1",
   "metadata": {},
   "outputs": [
    {
     "name": "stdout",
     "output_type": "stream",
     "text": [
      "The autoreload extension is already loaded. To reload it, use:\n",
      "  %reload_ext autoreload\n"
     ]
    }
   ],
   "source": [
    "%load_ext autoreload\n",
    "%autoreload 2\n",
    "#%tableofcontents"
   ]
  },
  {
   "cell_type": "code",
   "execution_count": 42,
   "id": "7f1b6238-be73-4338-9efa-4b46546129f1",
   "metadata": {
    "id": "7f1b6238-be73-4338-9efa-4b46546129f1"
   },
   "outputs": [],
   "source": [
    "import copy\n",
    "\n",
    "import ipywidgets as widgets\n",
    "import matplotlib.pyplot as plt\n",
    "import networkx as nx\n",
    "import numpy as np\n",
    "import sympy\n",
    "import torch\n",
    "from ipywidgets import fixed, interact, interact_manual, interactive\n",
    "from scipy.stats import ortho_group  # compute unitary matrices\n",
    "\n",
    "import spectral_function_library as spec_lib\n",
    "\n",
    "%matplotlib inline"
   ]
  },
  {
   "cell_type": "markdown",
   "id": "07a27398-833c-437d-917f-b536ff0df483",
   "metadata": {
    "id": "07a27398-833c-437d-917f-b536ff0df483",
    "tags": []
   },
   "source": [
    "# Convolution Neural Networks \n",
    "Material is taken from [this Blog](https://www.instapaper.com/read/1477946505)\n",
    "\n",
    "Starting from an RGB image: \n",
    "\n",
    "<img src=\"images/rgb_image_2022-01-24_10-15-38.png\" width=\"800\">\n",
    "\n",
    "the idea is pass this image through as series of steps in order to extract information. The filter is used for this task. \n",
    "\n",
    "<img src=\"images/convolution_2022-01-24_10-17-28.png\" width=\"800\">\n",
    "\n",
    "after image src.\n",
    "\n",
    "<img src=\"images/multihead_2022-01-24_10-19-47.png\" width=\"800\">\n",
    "\n",
    "<img src=\"images/step-by-step_2022-01-24_10-18-45.png\" width=\"800\">\n",
    "\n",
    "\n",
    "## Two important points about the convolutional layer: \n",
    "\n",
    "1. The filter is identical for each pixel. This reduces the number of parameters to calculate. \n",
    "The constant filter helps satisfy the inductive bias of *translation invariance*. \n",
    "\n",
    "2. The convolution is local to the image pixel to which it is applied. Thus, the structure of the image is taken into account during the calculation. \n",
    "\n",
    "A typical CNN architecture: \n",
    "\n",
    "<img src=\"images/cnn_2022-01-24_10-25-56.png\" width=\"800\">"
   ]
  },
  {
   "cell_type": "markdown",
   "id": "67915400-4c26-49bc-83eb-e7091265fec8",
   "metadata": {
    "id": "67915400-4c26-49bc-83eb-e7091265fec8"
   },
   "source": [
    "jupyter nbextension enable --py widgetsnbextensionjupyter nbextension enable --py widgetsnbextensionjupyter nbextension enable --py widgetsnbextensionjupyter nbextension enable --py widgetsnbextension# Alternative view of CNN\n",
    "\n",
    "<img src=\"images/image_graph_2022-01-24_11-00-16.png\" width=\"800\">\n",
    "\n",
    "* An image can be considered to be a graph\n",
    "* The nodes $V$ are the centers of the pixels\n",
    "* If a filter has width 3, each nodes is connected to $8 * d$ adjacent nodes, where $d$ is the number of channels"
   ]
  },
  {
   "cell_type": "markdown",
   "id": "0b027997-855d-455e-83e2-72f83db7fc8b",
   "metadata": {
    "id": "0b027997-855d-455e-83e2-72f83db7fc8b"
   },
   "source": [
    "# Motivation\n",
    "Consider a set of nodes $x_i$, and associated attributes $y_i$. This can be graphed. Let us connect these nodes with edges $e_{ij} = (x_i, x_{i+1})$."
   ]
  },
  {
   "cell_type": "code",
   "execution_count": 43,
   "id": "ec17bb6b-cc14-4803-82dc-60a05f18f7bc",
   "metadata": {
    "colab": {
     "referenced_widgets": [
      "cd7819c371444b5f9547f35f61b1bc7c"
     ]
    },
    "id": "ec17bb6b-cc14-4803-82dc-60a05f18f7bc",
    "outputId": "caa302cd-2b83-4d4c-e8fe-9375dd9c58fe"
   },
   "outputs": [
    {
     "data": {
      "application/vnd.jupyter.widget-view+json": {
       "model_id": "da8e518aa9e54f8db383e0f73e163eaf",
       "version_major": 2,
       "version_minor": 0
      },
      "text/plain": [
       "interactive(children=(IntSlider(value=22, description='N', max=40, min=5), Output()), _dom_classes=('widget-in…"
      ]
     },
     "metadata": {},
     "output_type": "display_data"
    }
   ],
   "source": [
    "@interact(N=(5, 40))\n",
    "def plot1d(N):\n",
    "    x = np.linspace(0, 10, N)\n",
    "    plt.plot(x, 0 * x, \"-o\")\n",
    "    plt.show()"
   ]
  },
  {
   "cell_type": "markdown",
   "id": "06658660-1785-41e0-9463-044a0ad96222",
   "metadata": {
    "id": "06658660-1785-41e0-9463-044a0ad96222"
   },
   "source": [
    "Add an attribute to each of these nodes. I will add a random noise in $N(0,\\sigma)$ and $\\sigma=1.5$, which is fairly large. \n",
    "\n",
    "Consider the problem of computing *embeddings* of each node with the requirement that nearby nodes with similar attributes should have similar embeddings. \n",
    "\n",
    "Without further constraints imposed on the problem (also called *inductive biases*, we will apply a local transformation to this function, and specifically an averaging operation. We will replace $y_i$ by the average of its neighbors :\n",
    "$$ y_i \\longrightarrow \\frac12 (y_{i-1} + y_{i+1})$$\n",
    "The boundary points need special treatment. There are three main ehoices: \n",
    "1. Do not move the point\n",
    "2. Move the point in such a way as to satisfy some condition on the slope.\n",
    "3. Develop an algorithm that figures out the proper treatment\n",
    "\n",
    "We will consider the first choice for simplicity. For future reference, we call the collection of points $V$, the collection of edges $E$. We denote the boundary nodes by $\\partial V$, and the boundary edges (edges attached to $\\partial V$ by $\\partial E$, which is a common notation in discrete and differential geometry. "
   ]
  },
  {
   "cell_type": "code",
   "execution_count": 44,
   "id": "ac43e403-5060-4019-8ebb-25c592440e89",
   "metadata": {
    "colab": {
     "referenced_widgets": [
      "03105b7a1b9a4a98b734b684a533e5c6"
     ]
    },
    "id": "ac43e403-5060-4019-8ebb-25c592440e89",
    "outputId": "249a7bb2-8239-42e2-cd89-9d79106317be"
   },
   "outputs": [
    {
     "data": {
      "application/vnd.jupyter.widget-view+json": {
       "model_id": "c447454f776241219ab549ae58c117ed",
       "version_major": 2,
       "version_minor": 0
      },
      "text/plain": [
       "interactive(children=(IntSlider(value=50, description='seed', min=1), FloatSlider(value=0.75, description='eps…"
      ]
     },
     "metadata": {},
     "output_type": "display_data"
    }
   ],
   "source": [
    "@interact(seed=(1, 100), eps=(0, 1.5), N=(5, 40))\n",
    "def plot1d(seed, eps, N):\n",
    "    np.random.seed(seed)\n",
    "    x = np.linspace(0, 10, N)\n",
    "    noise = eps * np.random.randn(N)\n",
    "    y = np.sin((x / x[-1]) * 2 * np.pi * 2.5) + noise\n",
    "    plt.plot(x, y, \"-o\")\n",
    "    plt.show()"
   ]
  },
  {
   "cell_type": "markdown",
   "id": "664098e0-65b1-4e7f-976d-638ff6b33941",
   "metadata": {
    "id": "664098e0-65b1-4e7f-976d-638ff6b33941"
   },
   "source": [
    "More generally, each point might have multiple attribute. Thus, the node $x_i$, would have $d$ attributes $y_0, \\cdots, y_{d-1}$. These attributes could be categorical or continuous, and the categorical attributes could be nominal (there is nor ordering, such as 'red', 'blue', 'orange') or ordinal (bad, poor, average, good, very good excellent). "
   ]
  },
  {
   "cell_type": "code",
   "execution_count": 45,
   "id": "74d26da2-61bd-4784-9c32-adb19c1f0164",
   "metadata": {
    "colab": {
     "referenced_widgets": [
      "a26da3d6eca14899b2113eac123d83db"
     ]
    },
    "id": "74d26da2-61bd-4784-9c32-adb19c1f0164",
    "outputId": "8f47cb09-9f86-4235-e619-0e021c07e4f0"
   },
   "outputs": [
    {
     "data": {
      "application/vnd.jupyter.widget-view+json": {
       "model_id": "d74cb8f3f0074e72ac551e5e9b478146",
       "version_major": 2,
       "version_minor": 0
      },
      "text/plain": [
       "interactive(children=(IntSlider(value=50, description='Seed', min=1), FloatSlider(value=0.3, description='Nois…"
      ]
     },
     "metadata": {},
     "output_type": "display_data"
    }
   ],
   "source": [
    "dSlider = widgets.IntSlider(min=1, max=5, value=3, description=\"Nb Attributes\")\n",
    "seedSlider = widgets.IntSlider(min=1, max=100, value=50, description=\"Seed\")\n",
    "epsSlider = widgets.FloatSlider(\n",
    "    min=0.0, max=1.5, value=0.30, description=\"Noise $\\sigma$\"\n",
    ")\n",
    "\n",
    "\n",
    "@interact(seed=seedSlider, eps=epsSlider, N=(5, 40), d=dSlider, nb_blur_iter=(0, 5))\n",
    "def plot1d(seed, eps, N, d, nb_blur_iter):\n",
    "    np.random.seed(seed)\n",
    "    eps = eps * np.array([1.0, 2.0, 0.5, 3.0, 4.0])\n",
    "    x = np.linspace(0, 10, N)\n",
    "    noise = np.random.randn(d, N)\n",
    "    y = np.zeros([5, N])\n",
    "    fcts = {}\n",
    "    fcts[0] = np.sin((x / x[-1]) * 2 * np.pi * 2.5)\n",
    "    fcts[1] = 1.5 * np.cos((x / x[-1]) * 2 * np.pi * 2.5) ** 2\n",
    "    fcts[2] = x ** 2 / 10 * np.exp(3 - 0.5 * x)\n",
    "    fcts[3] = np.cos((x / x[-1]) * 2 * np.pi * 4.5)\n",
    "    fcts[4] = 1.5 * np.cos((x / x[-1]) * 2 * np.pi * 2.5)\n",
    "    for i in range(0, 5):\n",
    "        y[i] = fcts[i]\n",
    "\n",
    "    for i in range(0, d):\n",
    "        y[i] += eps[i] * noise[i]\n",
    "\n",
    "    yy = copy.copy(y)\n",
    "\n",
    "    for i in range(0, d):\n",
    "        for n in range(0, nb_blur_iter):\n",
    "            yy[i][0] = y[i][0]\n",
    "            yy[i][N - 1] = y[i][N - 1]\n",
    "            yy[i][1 : N - 2] = 0.5 * (y[i][0 : N - 3] + y[i][2 : N - 1])\n",
    "            y = copy.copy(yy)\n",
    "\n",
    "    for i in range(0, d):\n",
    "        plt.plot(x, yy[i], \"-o\")\n",
    "    plt.grid(True)\n",
    "    plt.ylim(-2, 5)\n",
    "    plt.show()"
   ]
  },
  {
   "cell_type": "markdown",
   "id": "91144ff1-5c17-42e8-9439-5da6ca49968a",
   "metadata": {
    "id": "91144ff1-5c17-42e8-9439-5da6ca49968a"
   },
   "source": [
    "So far, I am describing vector-valued discrete functions of $x$, which is a 1-D representation of a graph $d$ attributes at each node $x_i$. More generally, nodes are points in *some* space, which can be 1-D, 2-D, higher-D, or more abstract, namely, a space of *points*. \n",
    "\n",
    "Now consider adding attributes $y_{Eij}$ to the edges. What kind of transformation functions should one consider? \n",
    "\n",
    "This averaging function is an example of a local filter defined in physical space. This filter takes attributes at nodes and transforms them into a new set of number defined at these same nodes. More generally, in Graph Neural networks, we will consider operators that take attributes defined at nodes, edges, and the graph, and transform them into a new set of vectors defined on these same nodes, vectors and graphs. \n",
    "\n",
    "Filters can be defined either in physical space or in spectral space. We will illustrate the concept by considering the derivative operator on continuous and discrete grids."
   ]
  },
  {
   "cell_type": "markdown",
   "id": "58cd8516-8c45-42a6-930c-cce0792d33cc",
   "metadata": {
    "id": "58cd8516-8c45-42a6-930c-cce0792d33cc"
   },
   "source": [
    "## First Derivative operator (also a filter) on 1D grid in physical space\n",
    "Consider points $x_i$, $i=0,\\cdots, N-1$ connected by edges $e_{i,i+1} = (x_i, x_{i+1})$. The central difference operator of the function $f_i = f(x_i)$ is defined by\n",
    "$$\n",
    "f'_i = \\frac{f_{i+1} - f_{i-1}}{x_{i+1} - x_{i-1}}\n",
    "$$ for $i=1,\\cdots,N-2$, with one-sided operators defined at the boundaries (which is one of many possibilities): \n",
    "\\begin{align}\n",
    "f'_0 &= \\frac{f_1 - f_0}{x_1-x_0} \\\\\n",
    "f'_{N-1} &= \\frac{f_{N-1} - f_{N-2}}{x_{N-1} - x_{N-2}}\n",
    "\\end{align}\n",
    "where $f'_i$ is the approximation of $f'(x)$ evaluated at $x=x_i$. Note that the derivative can be expressed as a vector \n",
    "$f' = (f'_0,\\cdots,f'_{N-1})$, and $f'_i$ is linear with respect to the values $f_j$. Therefore one can write the matrix \n",
    "expression: \n",
    "$$ f' = D f $$\n",
    "where $D \\in \\Re{N\\times N}$ is an $N \\times N$ matrix.  The matrix $D$ is a derivative filter. More specifically, it is a \n",
    "*global* filter since it updates the values at all nodes at once. To the contrary, a *local* filter is defined as the matrix that updates the derivative at a single point. Thus: \n",
    "$$\n",
    "f'_i = (\\begin{matrix}-\\alpha & 0 & \\alpha\\end{matrix})^T \n",
    "   (\\begin{matrix} f_{i+1} & 0 & f_{i-1}) \\end{matrix}\n",
    "$$\n",
    "where a superscript $T$ denotes transpose, and $\\alpha = (x_{i+1} - x_{i-1})^{-1}$. Clearly, the local \n",
    "filter is local to the point at which it applies. The new value only depends on the values of its immediate neighbors. "
   ]
  },
  {
   "cell_type": "markdown",
   "id": "b661f497-627b-4285-98fb-b37e5781c0a2",
   "metadata": {
    "id": "b661f497-627b-4285-98fb-b37e5781c0a2",
    "tags": []
   },
   "source": [
    "***\n",
    "# Spectral Analysis of graphs\n",
    "## Continuous Fourier Transform (CFT)\n",
    "When working in the continuous domain $\\Rez$, a function $f(x)\\in\\Rez$ has a Fourier Transform $\\hat{f}(k)$ related by \n",
    "$$  \\hat{f}(k) = \\frac{1}{2\\pi} \\int_{-\\infty}^\\infty e^{\\iota k x} f(x) \\, dx $$\n",
    "Conversely, one can apply a similar operation to recover $f(x)$ from its Fourier Transform: \n",
    "\n",
    "$$ f(x) = \\frac{1}{2\\pi} \\int_{-\\infty}^\\infty e^{-\\iota k x} \\hat{f}(k) \\, dk $$\n",
    "\n",
    "Notice the sign in the exponent: positive when transforming from physical to Fourier space, and negative when returning to physical space. The sign is a convention. Different authors might use the opposite sign. So always pay attention to the conventions in any paper you read. \n",
    "\n",
    "(you should all have learned about the Fourier transform previously). \n",
    "\n",
    "Let us compute the first derivative of $f(x)$: \n",
    "$$\\frac{d}{dx} f(x) = f'(x)$$\n",
    "The conventional approach would be to calculate the derivative manually, or discretize the expression in physical space. However, the alternative is to compute the derivative by first transforming the expression to Fourier (also called spectral) space: "
   ]
  },
  {
   "cell_type": "markdown",
   "id": "2da8b978-f9b9-463f-af8d-0f55471e1d09",
   "metadata": {
    "id": "2da8b978-f9b9-463f-af8d-0f55471e1d09"
   },
   "source": [
    "\\begin{align}\n",
    " \\frac{d}{dx} f(x) &= \\frac{d}{dx} \\frac{1}{2\\pi} \\int_{-\\infty}^\\infty e^{-\\iota k x} \\hat{f}(k)  d k  \\\\ \n",
    " &=  \\frac{1}{2\\pi} \\int_{-\\infty}^\\infty (-\\iota k) e^{-\\iota k x} \\hat{f}(k) dk \\\\\n",
    " &= \\cal{F}^{-1} [-\\iota  k \\hat{f}(k)]\n",
    "\\end{align}\n",
    "where \n",
    "\\begin{align}\n",
    "\\cal{F}f(x) &= \\hat{f}(k) \\\\\n",
    "\\cal{F}^{-1} \\hat{f}(k) &= f(x) \\\\\n",
    "\\end{align}"
   ]
  },
  {
   "cell_type": "markdown",
   "id": "28f41cba-fafc-4fc6-b93a-e8343a89edfd",
   "metadata": {
    "id": "28f41cba-fafc-4fc6-b93a-e8343a89edfd"
   },
   "source": [
    "So to given a function $f(x)$, one can compute the derivative with the following three steps: \n",
    "1.  $f(x) \\longrightarrow \\hat{f}(k)$\n",
    "2.  $\\hat{f}(k) \\longrightarrow (-\\iota k) \\hat{f}(k)$\n",
    "3.  $(-\\iota k)\\hat{f}(k) \\longrightarrow \\cal{F}^{-1} \\left[(-\\iota k)\\hat{f}(k)\\right] = \\frac{d}{dx} f(x)$"
   ]
  },
  {
   "cell_type": "markdown",
   "id": "6ab4ce30-62b6-4305-9407-131e75eaa0a5",
   "metadata": {
    "id": "6ab4ce30-62b6-4305-9407-131e75eaa0a5"
   },
   "source": [
    "Thus, the derivative operation is applied in Fourier space. A complex operation in physical space becomes a simple multiplication in Fourier space, *at the cost* of two Fourier Transforms. "
   ]
  },
  {
   "cell_type": "markdown",
   "id": "cba007b6-fae6-426c-a2ff-adb9f60e8e2c",
   "metadata": {
    "id": "cba007b6-fae6-426c-a2ff-adb9f60e8e2c",
    "tags": []
   },
   "source": [
    "### Fourier Spectrum\n",
    "$\\hat{f}(k)$ is called the Fourier Spectrum and is generally a complex variable. \n",
    "$P(k) = |\\hat{f}(k)|^2$ is the power spectrum, and satisfies the property: \n",
    "$$\n",
    "\\int_{-\\infty}^\\infty P(k) dk = \\int_{-\\infty}^\\infty |\\hat{f}(k)|^2 dx = \\int_{-\\infty}^\\infty |f(x)|^2 dx\n",
    "$$\n",
    "a rule that generalizes to and holds in $\\Re{n}$. "
   ]
  },
  {
   "cell_type": "markdown",
   "id": "b8b33b3f-3156-4c7c-8519-e1810e989e85",
   "metadata": {
    "id": "eada57f0-bf8f-42c3-a1db-d2762655a498"
   },
   "source": [
    "### Filter\n",
    "The coefficient $(-\\iota k)$ above is an example of a complex operator in Fourier space. This operator tranforms a function $\\hat{f}(k)$ into a \"filtered\" function $\\hat{g}(k)$: \n",
    "$$\n",
    "\\hat{g}(k) = (-\\iota k) \\hat{f}(k)\n",
    "$$\n",
    "and in this particular case, results in the Fourier transform of the $x$-derivative of $f(x)$. More generally, one can define an operator $\\hat{H}(k)$ acting on $\\hat{f}(k)$, which \"shapes\" the power spectrum, leading to filters with different characteristics: low-pass, band-pass, high-pass, custom. \n",
    "\n",
    "Given a function $f(x)$, the resulting filtered function $f_H(x)$ can be defined similarly to the derivative: \n",
    "\n",
    "\\begin{align}\n",
    " f(x) & \\longrightarrow \\cal{F}(f(x)) = \\hat{f}(k) \\\\\n",
    "  \\hat{f}(k) & \\longrightarrow \\hat{H}(k) \\hat{f}(k) \\\\\n",
    " \\hat{H}(k)\\hat{f}(k) & \\longrightarrow \\cal{F}^{-1} (\\hat{H}(k)\\hat{f}(k)) = f_H(x)\n",
    "\\end{align}\n",
    "\n",
    "We will often omit the argument $x$ or $k$, letting the \"hat\" notation indicate whether or not we are in Fourier space. Thus, we can write\n",
    "$$\n",
    "f_H = \\cal{F}^{-1} [\\hat{H} \\; \\cal{F}(f) ]\n",
    "$$ or the equivalent form (requiring the definition of product of operators): \n",
    "\n",
    "\\begin{align}\n",
    "f_H &= (\\cal{F}^{-1} \\, \\hat{H} \\, \\cal{F}) \\; f \\\\\n",
    "   &= H f\n",
    "\\end{align}\n",
    "which defines the filter $H(x)$ in physical space, acting on $f(x)$ to produce $f_H(x)$: \n",
    "$$\n",
    "f_H(x)   = H(x) * f(x)\n",
    "$$\n",
    "where $*$ denotes the convolution operator: \n",
    "$$\n",
    "H(x) * f(x) = \\int_{-\\infty}^\\infty H(x-s) f(s) \\, ds\n",
    "$$"
   ]
  },
  {
   "cell_type": "markdown",
   "id": "44b1eb74-84ff-41d8-bfd8-18ed6fac77a3",
   "metadata": {
    "id": "eada57f0-bf8f-42c3-a1db-d2762655a498"
   },
   "source": [
    "## Formal proof of convolution theorem in continuous space\n",
    "We start with the relation: \n",
    "$$ H = \\cal{F}^{-1} \\hat{H} \\cal{F} $$\n",
    "and express both sides of the equation in integral form: \n",
    "\\begin{align}\n",
    "\\int e^{-\\iota k x} \\left( \\hat{H}(k)\\hat{f}(k)\\right) \\, dk &=\n",
    "   \\int e^{-\\iota k x}\\, dk \\left( \\int e^{\\iota k x''} H(x'')\\,dx'' \\int e^{\\iota k x'} f(x') \\, dx' \\right) \\\\\n",
    "     &= \\int dk \\int e^{\\iota k (x'' + x' - x)} H(x'') f(x) \\, dx' \\, dx''\n",
    "\\end{align}\n",
    "Now make use of the following integral definition of the Dirac function: \n",
    "$$\n",
    "\\int e^{\\iota k x} \\, dk = 2\\pi \\delta(x)\n",
    "$$\n",
    "which leads to\n",
    "\\begin{align}\n",
    "\\int e^{-\\iota k x} \\left( \\hat{H}(k)\\hat{f}(k)\\right) \\, dk &=\n",
    "  \\int dk \\int e^{\\iota k (x'' + x' - x)} H(x'') f(x') \\, dx' \\, dx'' \\\\\n",
    "&= 2\\pi \\int \\delta(x'' + x' - x) H(x'') f(x') \\, dx' \\, dx'' \\\\\n",
    "&= 2\\pi \\int H(x-x') f(x') \\, dx' \\\\\n",
    "&= C \\; H(x) * f(x) = L(x)\n",
    "\\end{align}\n",
    "where $C$ is a constant of proportionality. \n",
    "I was not careful with constants in front of the integrals when taking Fourier transforms and their \n",
    "inverses. \n",
    "\n",
    "We thus find that \n",
    "$$\n",
    "\\cal{F}^{-1} \\left(\\hat{H}(k)\\hat{f}(k)\\right) =  H * f\n",
    "$$\n",
    "Careful calculations show that the constant $C=1$. \n",
    "\n",
    "Integrating $A(x)$ over $x$ leads to: \n",
    "$$\n",
    "\\int \\hat{H}(k) \\hat{f}(k) \\, dk = \\int H(x) f(x) \\, dx\n",
    "$$\n",
    "often referred to as [Plancherel's identity](https://en.wikipedia.org/wiki/Parseval%27s_identity).\n",
    "\n",
    "All integrals are taken over the domain $[-\\infty, \\infty]$. "
   ]
  },
  {
   "cell_type": "markdown",
   "id": "772302f1-790b-4bfb-af4e-e099ec6344f6",
   "metadata": {
    "id": "772302f1-790b-4bfb-af4e-e099ec6344f6"
   },
   "source": [
    "---\n",
    "# Ideal Low-, Mid-, High-pass filters\n",
    "## Low-pass filter\n",
    "\n",
    "\\begin{align}\n",
    "H(k) &= 1, \\hspace{1in} k < k_0 \\\\\n",
    "&= 0, \\hspace{1in} k \\ge k_0 \n",
    "\\end{align}\n",
    "## Band-pass filter\n",
    "\n",
    "\\begin{align}\n",
    "H(k) &= 1, \\hspace{1in} k_0 < k < k_1, \\; k_0 < k_1 \\\\\n",
    "&= 0  \\hspace{1in} \\rm{otherwise}\n",
    "\\end{align}\n",
    "## High-pass filter\n",
    "\n",
    "\\begin{align}\n",
    "H(k) &= 1, \\hspace{1in} k > k_0 \\\\\n",
    "&= 0, \\hspace{1in} k \\le k_0 \n",
    "\\end{align}\n"
   ]
  },
  {
   "cell_type": "markdown",
   "id": "783f8f1d-3b53-4773-9199-45720d821801",
   "metadata": {
    "id": "783f8f1d-3b53-4773-9199-45720d821801"
   },
   "source": [
    "#### Notes: \n",
    "* np.fft uses the discrete Fourier Tranform since the grid is discrete (we skip over these details)\n",
    "* The $x$-domain is $[0,0.5]$. \n",
    "* $\\sin(2\\pi f_1 x)= 0$ at $x=0$ and $x=0.5$. The $x-derivative is $2\\pi f_1\\cos(f_1 2\\pi x)$, equal \n",
    "to $2\\pi f_1$ at $x=0$ and $2\\pi f_1 \\cos(\\pi f_1)$ at $x=0.5$, equal to 2\\pi f_1$ if $f_1$ is even. \n",
    "Therefore the function is  periodic over the domain, since the $f_1$ slider ranges from -40 to 40 by increments of 10.  \n",
    "On the other hand, $\\cos(2\\pi f_3 x + 0.7)$ is not periodic over the $x$ domain (the phase is 0.7, which is not a multiple of $2\\pi$. The frequencies are obtained by \n",
    "decomposing this function into a series of $\\sin$ and $\\cos$ at different frequencies with zero phase. "
   ]
  },
  {
   "cell_type": "code",
   "execution_count": 46,
   "id": "7736896b-adbf-4804-a028-ab8e43780110",
   "metadata": {},
   "outputs": [],
   "source": [
    "grid = widgets.GridspecLayout(3, 3)"
   ]
  },
  {
   "cell_type": "code",
   "execution_count": 47,
   "id": "d86471ee-4d1f-4e1f-b203-8d7bb869b931",
   "metadata": {},
   "outputs": [],
   "source": [
    "freq1Slider = widgets.IntSlider(min=0, max=60, value=30)\n",
    "freq2Slider = widgets.IntSlider(min=30, max=120, value=70)\n",
    "freq3Slider = widgets.IntSlider(min=90, max=200, value=110)\n",
    "ampl1Slider = widgets.FloatSlider(min=-15, max=15, value=5)\n",
    "ampl2Slider = widgets.FloatSlider(min=-15, max=15, value=10)\n",
    "ampl3Slider = widgets.FloatSlider(min=-15, max=15, value=10)\n",
    "k0Slider = widgets.IntSlider(min=0, max=50, value=15)\n",
    "k1Slider = widgets.IntSlider(min=5, max=150, value=100, Description=\"k1\")"
   ]
  },
  {
   "cell_type": "code",
   "execution_count": 48,
   "id": "cc5a1bfb-9e78-44d0-a085-7c0610647763",
   "metadata": {
    "colab": {
     "referenced_widgets": [
      "5730ec078dd74ec3b30268984640cc06"
     ]
    },
    "id": "cc5a1bfb-9e78-44d0-a085-7c0610647763",
    "outputId": "54ad61d1-1647-415e-8b63-a3b06e1eabb3"
   },
   "outputs": [
    {
     "data": {
      "application/vnd.jupyter.widget-view+json": {
       "model_id": "9d8d615c61a34ee4b9dd3d40545ceaa5",
       "version_major": 2,
       "version_minor": 0
      },
      "text/plain": [
       "interactive(children=(IntSlider(value=30, description='freq1', max=60), IntSlider(value=70, description='freq2…"
      ]
     },
     "metadata": {},
     "output_type": "display_data"
    }
   ],
   "source": [
    "@interact_manual(\n",
    "    freq1=freq1Slider,  # (-20, 60, 10),\n",
    "    freq2=freq2Slider,  # (-90, 90, 10),\n",
    "    freq3=freq3Slider,  # (-300, 300, 15),\n",
    "    ampl1=ampl1Slider,  # 1,\n",
    "    ampl2=ampl2Slider,  # 0.5,\n",
    "    ampl3=ampl3Slider,  # 1,\n",
    "    k0=k0Slider,  # (0, 50, 5),\n",
    "    k1=k1Slider,  # (5, 150, 10),\n",
    ")\n",
    "def plotSin2(freq1, freq2, freq3, ampl1, ampl2, ampl3, k0, k1):\n",
    "    fig = plt.figure(figsize=(16, 7))\n",
    "    x = np.linspace(0, 0.5, 500)\n",
    "    k = np.linspace(0, 499, 500)\n",
    "\n",
    "    # NOTE: These functions are NOT periodic over the domain.\n",
    "    # Therefore, the spectrum is not exactly a collection of delta functions\n",
    "    # I could be more precise, but that is not the point of this demonstration.\n",
    "\n",
    "    s = (\n",
    "        ampl1 * np.sin(freq1 * 2 * np.pi * x)\n",
    "        + ampl2 * np.sin(freq2 * 2 * np.pi * x)\n",
    "        + ampl3 * np.cos(freq3 * 2 * np.pi * x + 0.7)\n",
    "    )\n",
    "    nrows, ncols = 3, 2\n",
    "\n",
    "    # ax1.clear()  # to avoid flicker, does not work\n",
    "    ax = fig.add_subplot(nrows, ncols, 1)\n",
    "    # fig, axes = plt.subplots(nrows, ncols, figsize=(16, 5))\n",
    "    ax.set_ylabel(\"Amplitude\")\n",
    "    ax.set_xlabel(\"Time [s]\")\n",
    "    ax.plot(x, s)\n",
    "\n",
    "    fft = np.fft.fft(s)\n",
    "    ifft = np.fft.ifft(s)\n",
    "    # print(\"s: \", s[0:10])\n",
    "    # print(\"ifft: \", ifft[0:11])\n",
    "    # print(\"fft[0-10]: \", fft[0:11])\n",
    "    # print(\"fft[:-10,:]: \", fft[-10:])\n",
    "    power_spec = np.abs(fft) ** 2\n",
    "    # power_spec[0] = 0 # REMOVE MEAN COMPONENT  (simply equal to the mean of the function)\n",
    "    ax2 = fig.add_subplot(nrows, ncols, 2)\n",
    "    ax = ax2\n",
    "    ax.plot(power_spec[0:250])\n",
    "    ax.set_ylabel(\"Power Spectrum\")\n",
    "    ax.set_xlabel(\"k\")\n",
    "\n",
    "    heaviside = np.where((k > k0) & (k < k1), 1, 0)\n",
    "    # Symmetrize this function with respect to $k=500/2$\n",
    "    for i in range(1, 250):  # 250 = 500/2\n",
    "        heaviside[500 - i] = heaviside[i]  # in Fourier space\n",
    "    # print(heaviside)\n",
    "\n",
    "    filtered_power_spectrum = power_spec * heaviside\n",
    "    # print(list(zip(power_spec, heaviside, filtered_power_spectrum)))\n",
    "    # print(\"power spec: \", power_spec[0:50])\n",
    "    # print(\"filtered_spec: \", filtered_power_spectrum[0:50])\n",
    "    filtered_function = np.fft.ifft(filtered_power_spectrum)\n",
    "\n",
    "    ax = fig.add_subplot(nrows, ncols, 3)\n",
    "    ax.plot(filtered_function)\n",
    "    ax.set_ylabel(\"Filtered $f_H(x) = H(x) f(x)$\")\n",
    "    ax.set_xlabel(\"x\")\n",
    "\n",
    "    ax = fig.add_subplot(nrows, ncols, 4)\n",
    "    ax.plot(filtered_power_spectrum[0:250])\n",
    "    ax.set_xlabel(\"k\")\n",
    "    ax.set_ylabel(\"Filtered Power Spectrum\")\n",
    "\n",
    "    filter_phys = np.fft.ifft(heaviside)\n",
    "    ax = fig.add_subplot(nrows, ncols, 5)\n",
    "    ax.plot(filter_phys)\n",
    "    ax.set_ylabel(\"Filter $H(x)$\")\n",
    "    ax.set_xlabel(\"k\")\n",
    "\n",
    "    ax = fig.add_subplot(nrows, ncols, 6)\n",
    "    ax.plot(heaviside[0:250])\n",
    "    ax.set_ylabel(\"Filter $\\hat{H}(k)$\")\n",
    "    ax.set_xlabel(\"k\")\n",
    "\n",
    "    plt.tight_layout()\n",
    "    plt.show()\n",
    "    sumf2 = np.sum(s ** 2)\n",
    "    sump2 = np.sum(power_spec[0:250])\n",
    "    sump3 = np.sum(power_spec)\n",
    "    # print(sum2, sump2, sump2 / sumf2, sump3 / sumf2)\n",
    "    # print(np.sum(power_spec[0:250]), np.sum(power_spec[0:500]), power_spec.shape)\n",
    "\n",
    "    # The ratio sump2 / sumf2 = 250 (when there is no mean component)\n",
    "    # The k=0 component has no complex conjugate. All other components have a complex conjugate.\n",
    "    # These details are beyond the scope of this lecture.\n",
    "    #     = Number of points N / 2\n",
    "    # sum f[i]^2 dx = sum f[i]^2 (0.5/N) = sum power_spectrum  * normalizing constant\n",
    "    #  (one must be careful with this constant)\n",
    "\n",
    "\n",
    "# Alternative to @interact\n",
    "# interact(plotSin2, freq1=(-40,40,10), freq2=(-90,90,10), freq3=(-300,300,15), ampl1=1, ampl2=.5, ampl3=1)"
   ]
  },
  {
   "cell_type": "markdown",
   "id": "b6b0eff8-9c3c-464b-9279-ab8abde21a84",
   "metadata": {
    "id": "b6b0eff8-9c3c-464b-9279-ab8abde21a84"
   },
   "source": [
    "The strong oscilations in the Filter $H(x)$ are due to the discontinuity of the filter in Fourier space. \n",
    "A property of these 1-D filters is that localization in Fourier space (the filter is nonzero for very few $k$) leads \n",
    "to non-local filters $H(x)$ in physical space, and vice-versa. \n",
    "\n",
    "The challenge is to construct filters local in both physical and Fourier space, which is the strength of wavelets (beyond the scope of these lectures). Note that the Fourier transform of a Gaussian is a Gaussian, and it is local in both spaces. (Demonstrate it for yourself as a homework exercise). "
   ]
  },
  {
   "cell_type": "markdown",
   "id": "05d21ae5-a0a7-4794-aa19-e024c89fe816",
   "metadata": {
    "id": "05d21ae5-a0a7-4794-aa19-e024c89fe816"
   },
   "source": [
    "\n",
    "### Discrete 1D domain\n",
    "* A set of nodes $x_i$, $i=0,1,\\cdots,N-1$, such that $x_i$ is connected to $x_{i+1}$. This graph is acyclic (there are no cycles. \n",
    "* If the first and last node are connected, we add the edge $(x_{N-1}, x_{0})$ and create a cyclic graph.\n",
    "* The adjacency matrix of the cyclic graph is as follows: \n",
    "$$\n",
    "A = \\left(\\begin{matrix}\n",
    "0 & 0 & 0 & \\cdots & 0 & 1 \\\\\n",
    "1 & 0 & 0 & \\cdots & 0 & 0 \\\\\n",
    "0 & 1 & 0 & \\cdots & 0 & 0 \\\\\n",
    "0 & 0 & 1 & \\cdots & 0 & 0 \\\\\n",
    "\\cdots\n",
    "\\end{matrix}\\right)\n",
    "$$\n",
    "* A signal $s$ on a graph is defined as the sequence of $N$ elements\n",
    "$$ x = (x_0, x_1, \\cdots, x_{N-1}) $$\n",
    "where each $x_i\\in\\Rez$."
   ]
  },
  {
   "cell_type": "markdown",
   "id": "34a87c78-1698-49e4-8fdf-04bf77a5a693",
   "metadata": {
    "id": "34a87c78-1698-49e4-8fdf-04bf77a5a693",
    "tags": []
   },
   "source": [
    "### 1-D Periodic Domain\n",
    "#### Fourier Filter\n",
    "### 1-D Non-periodic Domain\n",
    "## Fourier Transform, Discrete (DFT)\n",
    "### 1-D Periodic Domain \n",
    "### 1-D Non-periodic Domain\n",
    "## Graph Signal Processing, Discrete\n",
    "### 1-D cyclic graph\n",
    "### 2=D Discrete periodic \n",
    "### Adjoint $A$\n",
    "### Degree Matrix $D$\n",
    "### Laplacian $L$\n",
    "###"
   ]
  },
  {
   "cell_type": "code",
   "execution_count": 49,
   "id": "8d80c2de-b299-446f-8f55-1c50c11a7b75",
   "metadata": {
    "colab": {
     "referenced_widgets": [
      "2fb25b8e20254035aa801380e21f039e"
     ]
    },
    "id": "8d80c2de-b299-446f-8f55-1c50c11a7b75",
    "outputId": "d1ccdde7-2246-4056-ca4b-ad0d4632c524",
    "tags": []
   },
   "outputs": [
    {
     "data": {
      "application/vnd.jupyter.widget-view+json": {
       "model_id": "d7a2beac045842fdbad463d50be7fe6a",
       "version_major": 2,
       "version_minor": 0
      },
      "text/plain": [
       "interactive(children=(IntSlider(value=10, description='N', max=40, min=5), IntSlider(value=110, description='s…"
      ]
     },
     "metadata": {},
     "output_type": "display_data"
    }
   ],
   "source": [
    "# layout = ['circular','planar','random']\n",
    "seed_slider = widgets.IntSlider(min=100, max=120, step=2, value=110)\n",
    "N_slider = widgets.IntSlider(min=5, max=40, step=1, value=10)\n",
    "# matrix = ['Adjacency Matrix', 'Laplacian', 'D^-1 A', 'D^-1 L', 'D^-1/2 L D^-1/2']\n",
    "\n",
    "\n",
    "@interact(N=N_slider, seed=seed_slider)\n",
    "def generate_graph_from_adjacency_matrix(N, seed):\n",
    "    \"\"\"\n",
    "    Arguments\n",
    "    N: number of nodes\n",
    "    \"\"\"\n",
    "    np.random.seed(seed)\n",
    "    ints = np.random.randint(0, 2, N * N).reshape(N, N)\n",
    "    for i in range(N):\n",
    "        ints[i,i] = 0\n",
    "\n",
    "    # Symmetric array\n",
    "    ints = ints + ints.transpose()\n",
    "    ints = np.clip(ints, 0, 1)  # the elements should be zero or 1\n",
    "\n",
    "    # Different matrices\n",
    "    A = ints\n",
    "    D = np.sum(A, axis=0)\n",
    "    D = np.diag(D)\n",
    "    L = D - A\n",
    "    invD = np.linalg.inv(D)\n",
    "    invDA = A * invD\n",
    "    invDL = invD * L\n",
    "    invDLinvD = np.sqrt(invD) * L * np.sqrt(invD)\n",
    "\n",
    "    matrix = [\"A\", \"D\", \"L\", \"invD\", \"invDA\", \"invDL\", \"invDinvD\"]\n",
    "    matrices = [A, D, L, invD, invDA, invDL, invDLinvD]\n",
    "\n",
    "    # Eigenvalues\n",
    "    fig, axes = plt.subplots(3, 3, figsize=(10, 8))\n",
    "    axes = axes.reshape(-1)\n",
    "    fig.suptitle(\"Sorted Eigenvalues of various matrices\")\n",
    "    for i, m in enumerate(matrices):\n",
    "        ax = axes[i]\n",
    "        eigs = np.linalg.eigvals(m)\n",
    "        eigs = np.sort(eigs)[::-1]\n",
    "        ax.set_title(matrix[i])\n",
    "        ax.grid(True)\n",
    "        ax.plot(eigs, \"-o\")\n",
    "    for i in range(i + 1, axes.shape[-1]):\n",
    "        axes[i].axis(\"off\")\n",
    "    plt.tight_layout()\n",
    "    plt.show()"
   ]
  },
  {
   "cell_type": "markdown",
   "id": "b11dd575-3b19-47c6-82a7-b3aedc57e6ae",
   "metadata": {},
   "source": [
    "### Notes\n",
    "* The eigenvalues (spectrum )of A and L are approximatley related (the plots look very similar) but not equal.\n",
    "* The spectra shape depend very little on the seed (A is filled with random numbers (0,1) and is symmetrized to make sure that the eigenvalues $\\lambda_i \\in \\Rez$."
   ]
  },
  {
   "cell_type": "markdown",
   "id": "5fe94bb4-da8b-4c7c-ae20-13e01c449dcb",
   "metadata": {
    "id": "5fe94bb4-da8b-4c7c-ae20-13e01c449dcb"
   },
   "source": [
    "***\n",
    "## Same plot as above but allowing for different types of graph types. \n",
    "* Generate the graph, compute the adjacent matrix, and call the previous function\n",
    "\n"
   ]
  },
  {
   "cell_type": "code",
   "execution_count": 50,
   "id": "140af255-b055-45fd-88c6-03001266d8a0",
   "metadata": {
    "id": "140af255-b055-45fd-88c6-03001266d8a0"
   },
   "outputs": [],
   "source": [
    "def generate_graph_from_adjacency_matrix_1(G, N, seed):\n",
    "    \"\"\"\n",
    "    Arguments\n",
    "    N: number of nodes\n",
    "    \"\"\"\n",
    "    np.random.seed(seed)\n",
    "\n",
    "    # Convert to np.ndArray\n",
    "    A = nx.linalg.graphmatrix.adjacency_matrix(G).toarray()\n",
    "    nx.linalg\n",
    "    # print(\"Adj: \", A, \"\\n\", A.shape, \"\\n\", type(A))\n",
    "\n",
    "    # Different matrices\n",
    "    D = np.sum(A, axis=0)\n",
    "    D = np.diag(D)\n",
    "    L = D - A\n",
    "    invD = np.linalg.inv(D)\n",
    "    invDA = A * invD\n",
    "    invDL = invD * L\n",
    "    invDLinvD = np.sqrt(invD) * L * np.sqrt(invD)\n",
    "\n",
    "    Ln = nx.normalized_laplacian_matrix(G)\n",
    "    Ln = Ln.toarray()  # from sparse array to ndarray\n",
    "\n",
    "    matrix = [\"A\", \"D\", \"L\", \"invD\", \"invDA\", \"invDL\", \"invDinvD\", \"Ln\"]\n",
    "    matrices = [A, D, L, invD, invDA, invDL, invDLinvD, Ln]\n",
    "\n",
    "    # Eigenvalues\n",
    "    fig, axes = plt.subplots(3, 3, figsize=(10, 8))\n",
    "    axes = axes.reshape(-1)\n",
    "    fig.suptitle(\"Eigenvalues of various matrices\")\n",
    "    for i, m in enumerate(matrices):\n",
    "        ax = axes[i]\n",
    "        eigs = np.linalg.eigvals(m)\n",
    "        eigs = np.sort(eigs)[::-1]\n",
    "        ax.set_title(matrix[i])\n",
    "        ax.grid(True)\n",
    "        ax.plot(eigs, \"-o\")\n",
    "    for i in range(i + 2, axes.shape[-1]):\n",
    "        axes[i].axis(\"off\")\n",
    "    plt.tight_layout()\n",
    "    plt.show()"
   ]
  },
  {
   "cell_type": "code",
   "execution_count": 51,
   "id": "d49f2cd0-58c6-454a-a1d3-0eb304c1af8a",
   "metadata": {
    "colab": {
     "referenced_widgets": [
      "544864f65faf42e6ac7de40f4c0a8f30"
     ]
    },
    "id": "d49f2cd0-58c6-454a-a1d3-0eb304c1af8a",
    "outputId": "39a6ddee-a482-46be-c702-14924b7d1cfb"
   },
   "outputs": [
    {
     "data": {
      "application/vnd.jupyter.widget-view+json": {
       "model_id": "5e47b8c384e246f68f2d8a01da71ff8a",
       "version_major": 2,
       "version_minor": 0
      },
      "text/plain": [
       "interactive(children=(IntSlider(value=10, description='nb_nodes', max=30, min=3), IntSlider(value=4, descripti…"
      ]
     },
     "metadata": {},
     "output_type": "display_data"
    }
   ],
   "source": [
    "prob_slider = widgets.FloatSlider(min=0, max=1, step=0.1, value=0.5)\n",
    "node_slider = widgets.IntSlider(min=3, max=30, step=1, value=10)\n",
    "nb_neigh_slider = widgets.IntSlider(min=1, max=10, step=1, value=4)\n",
    "nb_edges_per_node_slider = widgets.IntSlider(min=1, max=20, step=2, value=5)\n",
    "seed_slider = widgets.IntSlider(int=1, max=50, step=1, value=25)\n",
    "graph_type = [\"connected_watts_strogatz\", \"powerlaw_cluster_graph\"]\n",
    "\n",
    "\n",
    "@interact(\n",
    "    nb_nodes=node_slider,\n",
    "    prob=prob_slider,\n",
    "    nb_neigh=nb_neigh_slider,\n",
    "    nb_edges_per_node=nb_edges_per_node_slider,\n",
    "    seed=seed_slider,\n",
    "    graph_type=graph_type,\n",
    "    # directed=True,\n",
    ")\n",
    "def drawGraph(nb_nodes, nb_neigh, prob, seed, nb_edges_per_node, graph_type):\n",
    "    if graph_type == \"connected_watts_strogatz\":\n",
    "        nb_edges_per_node_slider.style.handle_color = 'red'\n",
    "        nb_neigh_slider.style.handle_color = 'black'\n",
    "        nb_tries = 20\n",
    "        edge_prob = prob\n",
    "        G = nx.connected_watts_strogatz_graph(\n",
    "            nb_nodes, nb_neigh, edge_prob, nb_tries, seed\n",
    "        )\n",
    "    elif graph_type == \"powerlaw_cluster_graph\":\n",
    "        nb_neigh_slider.style.handle_color = 'red'\n",
    "        nb_edges_per_node_slider.style.handle_color = 'black'\n",
    "        add_tri_prob = prob\n",
    "        if nb_edges_per_node >= nb_nodes:\n",
    "            nb_edges_per_node = nb_nodes - 1\n",
    "        G = nx.powerlaw_cluster_graph(nb_nodes, nb_edges_per_node, add_tri_prob, seed)\n",
    "\n",
    "    generate_graph_from_adjacency_matrix_1(G, nb_nodes, seed)"
   ]
  },
  {
   "cell_type": "markdown",
   "id": "466b14f8-75f5-4a8c-9abe-a738924d2bb5",
   "metadata": {
    "id": "466b14f8-75f5-4a8c-9abe-a738924d2bb5",
    "tags": []
   },
   "source": [
    "<script>\n",
    "  $(document).ready(function(){\n",
    "    $('div.prompt').hide();\n",
    "    $('div.back-to-top').hide();\n",
    "    $('nav#menubar').hide();\n",
    "    $('.breadcrumb').hide();\n",
    "    $('.hidden-print').hide();\n",
    "  });\n",
    "</script>\n",
    "\n",
    "<footer id=\"attribution\" style=\"float:right; color:#999; background:#fff;\">\n",
    "Created with Jupyter, delivered by Fastly, rendered by Rackspace.\n",
    "</footer>"
   ]
  },
  {
   "cell_type": "markdown",
   "id": "d2228b2a-4a1f-4d95-bb13-2cced8fe03ab",
   "metadata": {
    "colab": {
     "referenced_widgets": [
      "8e2bf9d727d04d0eb3736e08df6342df"
     ]
    },
    "id": "5fd7b9ae-2eaa-4494-bbc7-407914bc14d4",
    "outputId": "d66d946b-8b9c-4aa2-ed46-459ae95af333",
    "tags": []
   },
   "source": [
    "# prob_slider = widgets.FloatSlider(\n",
    "    min=0, max=1, step=0.1, value=0.5, description=\"Probability\"\n",
    ")\n",
    "node_slider = widgets.IntSlider(min=3, max=20, step=1, value=7)\n",
    "nb_neigh_slider = widgets.IntSlider(min=1, max=10, step=1, value=4)\n",
    "nb_edges_per_node_slider = widgets.IntSlider(min=1, max=20, step=2, value=5)\n",
    "seed_slider = widgets.IntSlider(int=1, max=50, step=1, value=25)\n",
    "graph_type = [\"connected_watts_strogatz\", \"powerlaw_cluster_graph\", \"circular_graph\"]\n",
    "\n",
    "# Also draw the eigenfunctions for the cyclic case where the nodes are arranged in a circular layout,\n",
    "# with labels in the nodes\n",
    "\n",
    "\n",
    "@interact_manual(\n",
    "    nb_nodes=node_slider,\n",
    "    prob=prob_slider,\n",
    "    nb_neigh=nb_neigh_slider,\n",
    "    nb_edges_per_node=nb_edges_per_node_slider,\n",
    "    seed=seed_slider,\n",
    "    graph_type=graph_type,\n",
    ")\n",
    "def drawGraphEigenvalues(nb_nodes, nb_neigh, prob, seed, nb_edges_per_node, graph_type):\n",
    "    if graph_type == \"connected_watts_strogatz\":\n",
    "        nb_edges_per_node_slider.style.handle_color = \"red\"\n",
    "        nb_neigh_slider.style.handle_color = \"black\"\n",
    "        nb_tries = 20\n",
    "        edge_prob = prob\n",
    "        G = nx.connected_watts_strogatz_graph(\n",
    "            nb_nodes, nb_neigh, edge_prob, nb_tries, seed\n",
    "        )\n",
    "    elif graph_type == \"powerlaw_cluster_graph\":\n",
    "        nb_neigh_slider.style.handle_color = \"red\"\n",
    "        nb_edges_per_node_slider.style.handle_color = \"black\"\n",
    "        add_tri_prob = prob\n",
    "        if nb_edges_per_node >= nb_nodes:\n",
    "            nb_edges_per_node = nb_nodes - 1\n",
    "        G = nx.powerlaw_cluster_graph(nb_nodes, nb_edges_per_node, add_tri_prob, seed)\n",
    "    elif graph_type == \"circular_graph\":\n",
    "        nb_neigh_slider.style.handle_color = \"red\"\n",
    "        nb_edges_per_node_slider.style.handle_color = \"red\"\n",
    "        nb_neigh_slider.style.handle_color = \"red\"\n",
    "        prob_slider.style.handle_color = \"red\"\n",
    "        seed_slider.style.handle_color = \"red\"\n",
    "\n",
    "        G = nx.Graph()\n",
    "        for n in range(nb_nodes):\n",
    "            G.add_node(n)\n",
    "        for n in range(nb_nodes):\n",
    "            G.add_edge(n, n + 1)\n",
    "        G.add_edge(nb_nodes - 1, 0)\n",
    "\n",
    "    spec_lib.generate_eigenvectors_from_adjacency_matrix_1(G, nb_nodes, seed)"
   ]
  },
  {
   "cell_type": "code",
   "execution_count": 52,
   "id": "523416cc-781a-4c42-8145-7add99d3e900",
   "metadata": {
    "colab": {
     "referenced_widgets": [
      "fe24a298d8744e34a14603274b727ae5"
     ]
    },
    "id": "523416cc-781a-4c42-8145-7add99d3e900",
    "outputId": "6b924b33-a84e-4d2a-c41a-3a0f537a4f86"
   },
   "outputs": [
    {
     "data": {
      "application/vnd.jupyter.widget-view+json": {
       "model_id": "4b494ea14292426bb4ef6656748a0a44",
       "version_major": 2,
       "version_minor": 0
      },
      "text/plain": [
       "interactive(children=(IntSlider(value=5, description='N', max=10, min=3), IntSlider(value=100, description='se…"
      ]
     },
     "metadata": {},
     "output_type": "display_data"
    }
   ],
   "source": [
    "# Test Eigenfunction, sorting, etc. by creating a matrix whose eigenvalues I know\n",
    "N_slider = widgets.IntSlider(min=3, max=10, step=1, value=5)\n",
    "seed_slider = widgets.IntSlider(min=100, max=200, step=1)\n",
    "\n",
    "\n",
    "@interact(N=N_slider, seed=seed_slider)\n",
    "def test_eigen(N, seed):\n",
    "    # generate eigenvalues\n",
    "    np.random.seed(seed)\n",
    "    # large variance for wider spread of spectrum\n",
    "    eigens = (20.0 + 100.0 * np.random.randn(N)) / 20\n",
    "    eigens = np.where(eigens < 0, -eigens, eigens)\n",
    "    print(\"eigens= \", eigens)\n",
    "    print(\"eigens[0]= \", eigens[0])\n",
    "    print(\"eigens[1]= \\n\", eigens[1])\n",
    "    # print(\"eigens= \\n\", eigens)\n",
    "    eigens = np.diag(eigens)\n",
    "    ee = np.linalg.eig(eigens)\n",
    "    print(\"ee= \\n\", ee)\n",
    "    print(\"ee[0]= \", ee[0], type(ee[0]))\n",
    "    print(\"ee[1]= \\n\", ee[1])\n",
    "\n",
    "    args = np.argsort(ee[0])\n",
    "    print(\"args:\", args, type(args))\n",
    "    ee0 = ee[0][args]\n",
    "    ee1 = ee[1][:, args]\n",
    "    print(\"sorted ee\")\n",
    "    print(\"ee[0]= \", ee0)\n",
    "    print(\"ee[1]= \\n\", ee1)\n",
    "    recursivelyrecursively\n",
    "\n",
    "    # create eigenvectors\n",
    "    x = ortho_group.rvs(N)\n",
    "    # Similarity transform (eigenvalues of A are invariant)\n",
    "    A = x.T @ eigens @ x\n",
    "    # A = x @ np.linalg.inv(x)\n",
    "    # print(\"A= \\n\", A)\n",
    "    # print(\"x.T= \\n\", x.T)\n",
    "    # print(\"inv(x)= \\n\", np.linalg.inv(x))\n",
    "    eigens = np.linalg.eig(A)\n",
    "    args = np.argsort(eigens[0])\n",
    "    print(\"===============================\")\n",
    "    print(\"args: \\n\", args)\n",
    "    eigs = eigens[0][args]\n",
    "    print(\"unsorted eigs: \\n\", eigens[0])\n",
    "    print(\"sorted eigs: \\n\", eigs)\n",
    "    eigv = eigens[1][:, args]\n",
    "    print(\"unsorted x:\\n \", x.T)\n",
    "    print(\"unsorted eigv: \\n\", eigens[1])\n",
    "    print(\"sorted x: \\n\", x.T[:, args])\n",
    "    print(\"sorted eigv= \\n\", eigv)\n",
    "\n",
    "    pass"
   ]
  },
  {
   "cell_type": "markdown",
   "id": "68ccfef3-10cc-48c8-aff2-2f982c43ee75",
   "metadata": {
    "id": "37a825c9-aaa4-48b5-b5ee-ea1a995e5d78"
   },
   "source": [
    "# Exploration of eigenvalue and eigenfunctions for the 1-D cyclic and non-cyclic cases\n",
    "As we have seen,  a signal $s^1=(s_0, s_1, \\cdots, s_{N-1})\\in\\Re{N}$, is transformed into a signal $s^2\\in\\Re{N}$ by a filter $H$ according to \n",
    "$$ s^2 = H s^1$$  where $H$ is a matrix in $\\Re{N\\times N}$. Applying this filter recursively, one finds that \n",
    "\\begin{align}\n",
    "s^3 &= H s^2 \\\\\n",
    "s^4 &= H s^3 \\\\\n",
    "s^l &= H s^{l-1}\n",
    "\\end{align}\n",
    "If this is done a large number of times, and if one assumes convergence of $s^l$ to a vector of finite norm, one finds in the limit: \n",
    "$$\n",
    "s^\\infty = H s^\\infty\n",
    "$$\n",
    "which states that $s^\\infty$ is an eigenvector of the filter $H$ with a unit eigenvalue $\\lambda=1$. "
   ]
  },
  {
   "cell_type": "markdown",
   "id": "d1d9befa-7a92-46f2-9736-3be58e2e4468",
   "metadata": {
    "id": "cd7058aa-bfbf-4b0d-ba94-d7d9a351f57b"
   },
   "source": [
    "## Cyclic case, directed graph\n",
    "The adjoint matrix is\n",
    "$$\n",
    "A = \\left(\\begin{matrix}\n",
    "0 & 0 & 0 & \\cdots & 0 & 1 \\\\\n",
    "1 & 0 & 0 & \\cdots & 0 & 0 \\\\\n",
    "0 & 1 & 0 & \\cdots & 0 & 0 \\\\\n",
    "0 & 0 & 1 & \\cdots & 0 & 0 \\\\\n",
    "\\cdots\n",
    "\\end{matrix}\\right)\n",
    "$$\n",
    "Recall: $A_{i,j} = 1$ means an edge goes from node $j$ to node $i$. In this case, there is an edge from node $i+1$ to node $i$\n",
    "for all nodes. There is also an edge from node $N-1$ to node $0$. This matrix is periodic. \n",
    "\n",
    "Given a signal \n",
    "$$\n",
    "s =  (s_0, s_1, \\cdots, s_{N-1})\n",
    "$$\n",
    "the action of $A$ on $s$ simply shifts the value $s_i$ on node $i$ to node $i-1$: \n",
    "$$\n",
    "s^1 = A s = (s_{N-1}, s_0, s_1, \\cdots, s_{N-2})\n",
    "$$\n",
    "\n",
    "In the next animation, we define a graph over a set of nodes, and a signal on this graph, and we apply the operator\n",
    "$A$ multiple times. "
   ]
  },
  {
   "cell_type": "code",
   "execution_count": 53,
   "id": "906b11fb-91b7-4fcb-8eeb-f1bf6f7efc71",
   "metadata": {
    "colab": {
     "referenced_widgets": [
      "03105b7a1b9a4a98b734b684a533e5c6"
     ]
    },
    "id": "ac43e403-5060-4019-8ebb-25c592440e89",
    "outputId": "249a7bb2-8239-42e2-cd89-9d79106317be",
    "tags": []
   },
   "outputs": [
    {
     "data": {
      "application/vnd.jupyter.widget-view+json": {
       "model_id": "a1f8e51fc3164a4daba7eab46a125181",
       "version_major": 2,
       "version_minor": 0
      },
      "text/plain": [
       "interactive(children=(IntSlider(value=50, description='seed', min=1), FloatSlider(value=0.75, description='eps…"
      ]
     },
     "metadata": {},
     "output_type": "display_data"
    }
   ],
   "source": [
    "j = -1\n",
    "\n",
    "\n",
    "@interact_manual(seed=(1, 100), eps=(0, 1.5), N=(5, 40))\n",
    "def plot1d(seed, eps, N=15):\n",
    "    global j\n",
    "    np.random.seed(seed)\n",
    "    # Define a NxN matrix\n",
    "    A = np.zeros([N, N])\n",
    "    for i in range(1, N):\n",
    "        A[i, i - 1] = 1\n",
    "    A[0, N - 1] = 1\n",
    "    x = np.linspace(0, 10, N)\n",
    "\n",
    "    # Signal s\n",
    "    noise = eps * np.random.randn(N)\n",
    "    s = np.sin((x / x[-1]) * 2 * np.pi * 2.5) + noise\n",
    "\n",
    "    j += 1\n",
    "    Aj = np.linalg.matrix_power(A, j)\n",
    "    new_s = Aj @ s\n",
    "\n",
    "    print(Aj)\n",
    "    plt.plot(x, s, \"-o\", color=\"red\")\n",
    "    plt.plot(x, new_s, \"-o\")\n",
    "    plt.title(\"Press button to apply $A$\")\n",
    "    plt.show()"
   ]
  },
  {
   "cell_type": "markdown",
   "id": "2a08c5b1-2cc8-48f3-b584-87e0266178af",
   "metadata": {},
   "source": [
    "A is called the shift operator in  1-D signal processing. Application of $A$ to a time signal translates the signal by $\\Delta t$. The same is true with our graph. Of course, we are working with a special kind of graph. Let us now repeat this process with an undirected cyclic graph. Since node $i$ has a bidirectional connection to node $j$, each row of $A$ has two columns with a unit value. Thus, the adjacency matrix (now symmetric) becomes: \n",
    "$$\n",
    "A = \\left(\\begin{matrix}\n",
    "0 & 1 & 0 & \\cdots & 0 & 1 \\\\\n",
    "1 & 0 & 1 & \\cdots & 0 & 0 \\\\\n",
    "0 & 1 & 0 & \\cdots & 0 & 0 \\\\\n",
    "0 & 0 & 1 & \\cdots & 0 & 0 \\\\\n",
    "\\cdots \\\\\n",
    "0 & 0 & 0 & \\cdots & 0 & 1 \\\\\n",
    "1 & 0 & 0 & \\cdots & 1 & 0 \\\\\n",
    "\\end{matrix}\\right)\n",
    "$$\n"
   ]
  },
  {
   "cell_type": "code",
   "execution_count": 54,
   "id": "04b8e465-8ae9-417c-a870-1bdd08484626",
   "metadata": {
    "colab": {
     "referenced_widgets": [
      "03105b7a1b9a4a98b734b684a533e5c6"
     ]
    },
    "id": "ac43e403-5060-4019-8ebb-25c592440e89",
    "outputId": "249a7bb2-8239-42e2-cd89-9d79106317be",
    "tags": []
   },
   "outputs": [
    {
     "data": {
      "application/vnd.jupyter.widget-view+json": {
       "model_id": "db16ab4a3c36467d806a2e2ebb517122",
       "version_major": 2,
       "version_minor": 0
      },
      "text/plain": [
       "interactive(children=(IntSlider(value=50, description='seed', min=1), FloatSlider(value=0.75, description='eps…"
      ]
     },
     "metadata": {},
     "output_type": "display_data"
    }
   ],
   "source": [
    "j = -1\n",
    "\n",
    "\n",
    "@interact_manual(seed=(1, 100), eps=(0, 1.5), N=(5, 40))\n",
    "def plot1d(seed, eps, N=15):\n",
    "    global j\n",
    "    np.random.seed(seed)\n",
    "    # Define a NxN matrix\n",
    "    A = np.zeros([N, N])\n",
    "    for i in range(1, N):\n",
    "        A[i, i - 1] = 1\n",
    "    A[0, N - 1] = 1\n",
    "    A = A + A.T\n",
    "\n",
    "    x = np.linspace(0, 10, N)\n",
    "\n",
    "    # Signal s\n",
    "    noise = eps * np.random.randn(N)\n",
    "    s = np.sin((x / x[-1]) * 2 * np.pi * 2.5) + noise\n",
    "\n",
    "    j += 1\n",
    "    Aj = np.linalg.matrix_power(A, j)\n",
    "    new_s = Aj @ s\n",
    "\n",
    "    print(Aj)\n",
    "    plt.plot(x, s, \"-\", color=\"red\")\n",
    "    plt.plot(x, new_s, \"-o\")\n",
    "    plt.title(\"Press button to apply $A$\")\n",
    "    plt.show()"
   ]
  },
  {
   "cell_type": "markdown",
   "id": "96216881-bfa4-4893-8dcb-926ada8021d2",
   "metadata": {
    "tags": []
   },
   "source": [
    "The result: instability. The signal $A^n s$ goes to infinity as the number of iterations grows without bound (i.e., $n\\rightarrow\\infty$). Later, when working with neural networks, we want to avoid weights that converge towards infinity or zero. \n",
    "\n",
    "This justifies the use of normalized adjacency matrices. The most common normalization is to premultiply $A$ by $D^{-1}$, where $D$ is the degree matrix. For our graph, all nodes have degree 2. Let us try again. We define a left normalization:\n",
    "$$\n",
    "A^* = D^{-1} A \n",
    "$$\n",
    "Another popular normalization technique is the symmetric version of the preceding one: \n",
    "$$\n",
    "A^* = D^{-1/2} A D^{-1/2}\n",
    "$$"
   ]
  },
  {
   "cell_type": "code",
   "execution_count": 55,
   "id": "13e06ab8-b5b2-49a7-a775-aee25500490e",
   "metadata": {
    "colab": {
     "referenced_widgets": [
      "03105b7a1b9a4a98b734b684a533e5c6"
     ]
    },
    "id": "ac43e403-5060-4019-8ebb-25c592440e89",
    "outputId": "249a7bb2-8239-42e2-cd89-9d79106317be",
    "tags": []
   },
   "outputs": [
    {
     "data": {
      "application/vnd.jupyter.widget-view+json": {
       "model_id": "1a871a5c652140aeacc1f1eba9da07e5",
       "version_major": 2,
       "version_minor": 0
      },
      "text/plain": [
       "interactive(children=(IntSlider(value=50, description='seed', min=1), FloatSlider(value=0.1, description='eps'…"
      ]
     },
     "metadata": {},
     "output_type": "display_data"
    }
   ],
   "source": [
    "j = -1\n",
    "\n",
    "\n",
    "@interact_manual(\n",
    "    seed=(1, 100),\n",
    "    eps=(0, 1.5),\n",
    "    N=(5, 40),\n",
    "    jincr=(1, 10),\n",
    "    normalization=[\"left\", \"symmetric\"],\n",
    ")\n",
    "def plot1d(seed, eps=0.1, N=15, normalization=\"left\", jincr=1):\n",
    "    global j\n",
    "    np.random.seed(seed)\n",
    "    # Define a NxN matrix\n",
    "    A = np.zeros([N, N])\n",
    "    for i in range(1, N):\n",
    "        A[i, i - 1] = 1\n",
    "    A[0, N - 1] = 1\n",
    "    A = A + A.T\n",
    "    D = np.sum(A, axis=1)  # works for all A\n",
    "    Dinv = np.diag(1.0 / D)\n",
    "\n",
    "    if normalization == \"left\":\n",
    "        Dinv = np.diag(1.0 / D)\n",
    "        A = Dinv @ A\n",
    "        print(\"DinvSq @ A @ DinvSq= \", A)\n",
    "    else:\n",
    "        DinvSq = np.sqrt(Dinv)\n",
    "        A = DinvSq @ A @ DinvSq\n",
    "\n",
    "    x = np.linspace(0, 10, N)\n",
    "\n",
    "    # Signal s\n",
    "    noise = eps * np.random.randn(N)\n",
    "    s = np.sin((x / x[-1]) * 2 * np.pi * 2.5) + noise\n",
    "    print(\"mean(s) = \", np.mean(s))\n",
    "\n",
    "    j += jincr\n",
    "    Aj = np.linalg.matrix_power(A, j)\n",
    "    new_s = Aj @ s\n",
    "    print(\"mean(new_s) = \", np.mean(new_s))\n",
    "    print(\"new_s= \", new_s)\n",
    "\n",
    "    plt.plot(x, s, \"-\", color=\"red\")\n",
    "    plt.plot(x, new_s, \"-o\")\n",
    "    plt.title(\"Press button to apply $A$\")\n",
    "    plt.show()"
   ]
  },
  {
   "cell_type": "markdown",
   "id": "023cbb54-74d1-40bd-bd06-1c2eccf869c1",
   "metadata": {},
   "source": [
    "One observes that after many repetitions of normalized (left or symmetric), $A$, the signal converges to a constant equal to the mean of the original signal: \n",
    "$$\n",
    "\\lim_{n\\rightarrow\\infty} s_{new} = \\text{mean}(s) = \\frac1N\\sum_0^{n-1} s_i\n",
    "$$\n",
    "\n",
    "From a theoretical point of view, if $s_{new}$ converges to a constant, it means that in the limit of $n\\rightarrow\\infty$, \n",
    "$$\n",
    "(A^*)^n  s_{new} = (A^*)^{n-1} s_{new}\n",
    "$$\n",
    "which implies that \n",
    "$$ A^* s_{new} = s_{new} $$\n",
    "In other words, $\\lambda=1$ is an eigenvalue of the normalized adjacency matrix (corresonding to a bidirectional cyclic graph), either \n",
    "$A^* = D^{-1} A$ or $A^* = D^{-1/2} A D^{-1/2}$. \n",
    "\n",
    "One can easily show that if a single eigenvalue is greater than 1, $s_{new} \\rightarrow \\infty$. Since that does not happen, the maximum eigenvalue must be unity.\n",
    "\n",
    "We check this out by computing the eigenvalues of the normalized matrix (which must be real since the matrix is symmetric). One also notices that since $A$ is symmetric, both normalizations produce the same results. \n",
    "\n",
    "Exercise: Can you prove this? "
   ]
  },
  {
   "cell_type": "code",
   "execution_count": 56,
   "id": "a2329636-a44f-4e83-b576-afce3e47e9be",
   "metadata": {
    "colab": {
     "referenced_widgets": [
      "03105b7a1b9a4a98b734b684a533e5c6"
     ]
    },
    "id": "ac43e403-5060-4019-8ebb-25c592440e89",
    "outputId": "249a7bb2-8239-42e2-cd89-9d79106317be",
    "tags": []
   },
   "outputs": [
    {
     "data": {
      "application/vnd.jupyter.widget-view+json": {
       "model_id": "fd715a087a524958a8c15f1ded796c99",
       "version_major": 2,
       "version_minor": 0
      },
      "text/plain": [
       "interactive(children=(IntSlider(value=15, description='N', max=40, min=5), Dropdown(description='normalization…"
      ]
     },
     "metadata": {},
     "output_type": "display_data"
    }
   ],
   "source": [
    "@interact_manual(N=(5, 40), normalization=[\"left\", \"symmetric\"])\n",
    "def plot1d(N=15, normalization=\"left\"):\n",
    "    # Define a NxN matrix\n",
    "    A = np.zeros([N, N])\n",
    "    # cyclic linear chain with two connections per node\n",
    "    for i in range(1, N):\n",
    "        A[i, i - 1] = 1\n",
    "    A[0, N - 1] = 1\n",
    "    A = A + A.T\n",
    "    \n",
    "    D = np.sum(A, axis=1)  # works for all A\n",
    "    Dinv = np.diag(1.0 / D)\n",
    "\n",
    "    if normalization == \"left\":\n",
    "        Dinv = np.diag(1.0 / D)\n",
    "        A = Dinv @ A\n",
    "    else:\n",
    "        DinvSq = np.sqrt(Dinv)\n",
    "        A = DinvSq @ A @ DinvSq\n",
    "\n",
    "    print(\"A^*= \", A)\n",
    "    evalue, evector = np.linalg.eig(A)\n",
    "    print(\"\\nSorted eigenvalues: \", np.sort(evalue))\n",
    "    print(f\"NOTE: the maximum eigenvalue = 1\")"
   ]
  },
  {
   "cell_type": "markdown",
   "id": "379fe51a-acf3-4cf8-ac10-27dfdf396604",
   "metadata": {
    "id": "921ae72a-bd52-44c3-a75c-37ffe2f31fc5",
    "tags": []
   },
   "source": [
    "---\n",
    "## Cyclic case, non-directed graph\n",
    "We now repeat the last few experiments with a linear graph (i.e., a chain), but non-periodic: the boundary points are not considered as a single point. \n",
    "\n",
    "### Directed Graph\n",
    " $A_{i+1,i}=1$, for $i=0,\\cdots,N-2$. \n",
    "\n",
    "### Undirected Graph\n",
    "$A_{i+1,i}$ and $A_{i,i+1}=1$ for $i=0,\\cdots,N-2$. \n",
    "\n",
    "Let us apply the previous code to this case and see the effect of successive applications of $A$ on the signal. \n",
    "\n",
    "Undirected graphs lead to NaNs in the normalized matrices. "
   ]
  },
  {
   "cell_type": "code",
   "execution_count": 57,
   "id": "6a5ea98f-dd8e-4b8c-a337-42c8dbbf0147",
   "metadata": {},
   "outputs": [
    {
     "data": {
      "application/vnd.jupyter.widget-view+json": {
       "model_id": "f17e447d3a5a460ca2aaa2b3b19e9b6b",
       "version_major": 2,
       "version_minor": 0
      },
      "text/plain": [
       "interactive(children=(IntSlider(value=15, description='N', max=20, min=5), Dropdown(description='normalization…"
      ]
     },
     "metadata": {},
     "output_type": "display_data"
    }
   ],
   "source": [
    "@interact_manual(\n",
    "    N=(5, 20),\n",
    "    normalization=[\"none\", \"left\", \"symmetric\"],\n",
    "    graph=[\"undirected\", \"directed\"],\n",
    ")\n",
    "def plot1d(N=15, normalization=\"left\", graph=[\"undirected\"]):\n",
    "    # Define a NxN matrix\n",
    "    A = np.zeros([N, N])\n",
    "    for i in range(1, N):\n",
    "        A[i, i - 1] = 1\n",
    "\n",
    "    if graph == \"undirected\":\n",
    "        A = A + A.T\n",
    "\n",
    "    D = np.sum(A, axis=1)  # works for all A\n",
    "    print(\"D= \", D)\n",
    "\n",
    "    if normalization == \"left\":\n",
    "        Dinv = np.diag(1.0 / D)\n",
    "        An = Dinv @ A\n",
    "    elif normalization == \"none\":\n",
    "        An = A\n",
    "    else:\n",
    "        Dinv = np.diag(1.0 / D)\n",
    "        DinvSq = np.sqrt(Dinv)\n",
    "        An = DinvSq @ A @ DinvSq\n",
    "\n",
    "    print(\"A = \", A)\n",
    "    print(\"An= \", An)\n",
    "    evalue, evector = np.linalg.eig(An)\n",
    "    print(np.sort(evalue))"
   ]
  },
  {
   "cell_type": "markdown",
   "id": "6705cf4d-d805-4f55-ac67-20abdd507efc",
   "metadata": {},
   "source": [
    "When the graph is directed, the first row of $A$ is zero, which leads to a zero eigenvalue, and the matrix is not invertible. \n",
    "\n",
    "With no normalization, the maximum eigenvalue magnitude is greater than unity, which is not desirable for an iterative process. However, with both left and symmetric normalization, the eigenvalues are still greater than unity. \n",
    "\n",
    "This leads to the idea of iterating with a matrix whose eigenvalues have better properties. This matrix is the Laplacian: \n",
    "$$\n",
    "L = D - A\n",
    "$$\n",
    "whose rows sum to zero. One easily sees that this represents a first or second order approximation to the second derivative is the nodes are equally spaced. The Laplacian measure curvature. \n",
    "\n",
    "Let us compute the eigenvalues of $L$, and its normalized version: \n",
    "\\begin{align}\n",
    "L^* &= D^{-1} L \\\\\n",
    "L^* &= D^{-1/2} L D^{-1/2}\n",
    "\\end{align}\n",
    "where $D$ is still defined as the degree matrix of $A$. \n"
   ]
  },
  {
   "cell_type": "code",
   "execution_count": 58,
   "id": "aceb6903-575c-4b10-bede-47330861779f",
   "metadata": {},
   "outputs": [
    {
     "data": {
      "text/plain": [
       "array([[1, 0, 0],\n",
       "       [0, 2, 0],\n",
       "       [0, 0, 3]])"
      ]
     },
     "execution_count": 58,
     "metadata": {},
     "output_type": "execute_result"
    }
   ],
   "source": [
    "np.diag([1, 2, 3])"
   ]
  },
  {
   "cell_type": "code",
   "execution_count": 59,
   "id": "f8e3d387-6ca4-4dff-93b9-663b2dc09553",
   "metadata": {
    "tags": []
   },
   "outputs": [
    {
     "data": {
      "application/vnd.jupyter.widget-view+json": {
       "model_id": "c8ec469acff04ab1b37a122b73a82bfe",
       "version_major": 2,
       "version_minor": 0
      },
      "text/plain": [
       "interactive(children=(IntSlider(value=15, description='N', max=20, min=5), Dropdown(description='normalization…"
      ]
     },
     "metadata": {},
     "output_type": "display_data"
    }
   ],
   "source": [
    "@interact_manual(\n",
    "    N=(5, 20),\n",
    "    normalization=[\"none\", \"left\", \"symmetric\"],\n",
    "    graph=[\"undirected\", \"directed\"],\n",
    ")\n",
    "def plot1d(N=15, normalization=\"none\", graph=[\"undirected\"]):\n",
    "    # Define a NxN matrix\n",
    "    A = np.zeros([N, N])\n",
    "    for i in range(1, N):\n",
    "        A[i, i - 1] = 1\n",
    "\n",
    "    if graph == \"undirected\":\n",
    "        A = A + A.T\n",
    "\n",
    "    diagD = np.sum(A, axis=1)  # works for all A\n",
    "    Dinv = np.diag(1 / diagD)\n",
    "    D = np.diag(diagD)\n",
    "    # print(\"D= \", D)\n",
    "    # print(\"Dinv= \", Dinv)\n",
    "    # print(\"diag(D) \", np.diag(D))\n",
    "\n",
    "    # print(\"D= \", D)\n",
    "    # print(\"A= \", A)\n",
    "    L = D - A\n",
    "    # print(\"L= \", L)\n",
    "\n",
    "    # We will call L (normalized or not, the filter)\n",
    "    H = L\n",
    "\n",
    "    if normalization == \"left\":\n",
    "        Hn = Dinv @ H  # normalized\n",
    "    elif normalization == \"none\":\n",
    "        Hn = L\n",
    "    else:\n",
    "        DinvSq = np.sqrt(Dinv)\n",
    "        Hn = DinvSq @ H @ DinvSq\n",
    "\n",
    "    print(\"A= \", A)\n",
    "    print(\"Dinv= \", Dinv)\n",
    "    print(\"(Dinv@D)= \", (Dinv @ np.diag(D)))\n",
    "    print(\"norm(Dinv@D-np.eye(N))= \", np.linalg.norm(Dinv @ np.diag(D) - np.eye(N)))\n",
    "    print(\"L=H = \", L)\n",
    "    print(\"Hn= \", Hn)\n",
    "    evalue, evector = np.linalg.eig(Hn)\n",
    "    print(\"Sorted eigenvalues: \", np.sort(evalue))"
   ]
  },
  {
   "cell_type": "markdown",
   "id": "af399ec4-3671-44c5-a336-cb2cfa2f5193",
   "metadata": {
    "tags": []
   },
   "source": [
    "Everything works as expected for undirected graphs. The two normalizations (left and symmetric) produce real eigenvalues in the range $[0,2]$. The unormalized Laplacian has unbounded eigenvalues. $\\lambda=1$ is another eigenvalue, independent of the number of nodes, $N$. \n",
    "\n",
    "Clearly, the iteration \n",
    "$$\n",
    "s^{n+1} = A^n s^n\n",
    "$$\n",
    "diverges as $n\\rightarrow\\infty$. "
   ]
  },
  {
   "cell_type": "markdown",
   "id": "7954224b-56c6-439e-93ad-4c6d8b4f2a5c",
   "metadata": {},
   "source": [
    "From linear algebra, any symmetric matrix $L$ can be expressed as\n",
    "$$\n",
    "L = U^{-1} \\Lambda U\n",
    "$$\n",
    "where the *columns* of $U^{-1}$ are the eigenvectors of $A$ and $\\Lambda$ is a diagonal matrix with the eigenvalues of $L$. This is easily seen by multiplying both sides by $U^{-1}$: \n",
    "$$\n",
    "L \\, U^{-1}  = U^{-1} \\Lambda \n",
    "$$\n",
    "In component notation: \n",
    "\\begin{align}\n",
    "\\sum_j L_{ij} U^{-1}_{jk} &= \\sum_j U^{-1}_{ij} \\Lambda_{jk} \\\\\n",
    "    &= \\sum_j U^{-1}_{ij} \\delta_{jk} \\Lambda_{jk} \\\\\n",
    "    &= U^{-1}_{ik} \\lambda_k\n",
    "\\end{align}\n",
    "where $\\Lambda\\in\\Re{N\\times N}$ is a diagonal matrix. If the eigenvectors are normalized, $U^{-1} = U^T$, which is a normal matrix (i.e., the eigenvectors have unit length, and are orthogonal). We made the implicit asumptions that all eigenvalues are different. Otherwise, one has to resort to the Jordan normal form, which is out of scope.\n",
    "The LHS (left-hand side) of the last equation represents $L U^{-1}_k$, where $U^{-1}_k$ is the $k^{th}$ column of $U^{-1}$. Therefore, $U^{-1}_k$ is an eigenfunction of $L$ with eigenvalue $\\lambda_k$. Again, we assume all eigenvalues are different. If an eigenvalue $\\lambda_k$ has multiplicity $m_k$, the corresponding eigenvectors form a subspace $U^{-1}_k \\in \\Re{m_k\\times m_k}$. "
   ]
  },
  {
   "cell_type": "markdown",
   "id": "e8dbb41d-3a5c-478f-a7a2-57b3de914517",
   "metadata": {},
   "source": [
    "## Eigenvectors of various operators on the cyclic and non-cyclic chain\n",
    "We write a program to plot the eigenvectors of $A$, normalized $A$ (left and symmetric), and $L$ (normalized or not). \n",
    "\n",
    "Consider a matrix that has a unit eigenvalue $\\lambda = 1$ with associated eigenvector $v$. Assume that $\\lambda=1$ is the largest eigenvector. Starting from a random signal $s$, we know that it can be expressed as a linear combination of the eigenvectors of $A$. Since the eigenvectors form a basis of $A$, this expansion is unique. Thus: \n",
    "$$\n",
    "s = \\sum_k a_k v_k\n",
    "$$\n",
    "where $v_k$, $k=0,1,\\cdots,N-1$ is the $k^{th}$ eigenvectors and $\\lambda_k$ is the $k^{th}$ eigenvalue. Apply $A$ to both sides: \n",
    "$$\n",
    "A s = \\sum_k a_k A_k v_k = \\sum_k a_k \\lambda_k v_k\n",
    "$$\n",
    "Therefore, applying $A$ multiple times to both sides: \n",
    "$$\n",
    "A^n s = \\sum_k a_k \\lambda^n_k v_k\n",
    "$$\n",
    "If we assume that $\\lambda_{max}$ is the eigenvalue of maximum magnitude, we reexpress the equation above as\n",
    "\\begin{align}\n",
    "A^n s &= \\lambda_{max}^n \\sum_k a_k \\left(\\frac{\\lambda_k}{\\lambda_{max}}\\right)^n v_k \n",
    "\\end{align}\n",
    "As $n\\rightarrow\\infty$, the term with the largest eigenvalue in magnitude will dominate the expression. Therefore, \n",
    "$$\n",
    "A^n s \\rightarrow a_{k^*} \\lambda_{k^*}^n v_{k^*}\n",
    "$$ \n",
    "for very large $n$. Setting $\\lambda_{max}=1$, we find that\n",
    "$$\n",
    "A^n s \\rightarrow a_{k^*} v_{k^*}\n",
    "$$\n",
    "which is finite. This result holds for any matrix $A$. \n",
    "\n",
    "We demonstrated this earlier in the case when $A$ is the shift operator of a linear undirected graph, that $v_{k^*} \\rightarrow \\text{mean}(s}$. In this case, the constant function is an eigenvector that corresponds to the unity eigenvalue. \n",
    "\n",
    "<font color='red'>\n",
    "(NEED MORE DEVELOPMENT). I AM CONFUSED. WHAT INFORMATION AM I TRYING TO IMPART? \n",
    "</font>"
   ]
  },
  {
   "cell_type": "code",
   "execution_count": 60,
   "id": "ed5808f6-9a79-480d-9753-7e5ff363942c",
   "metadata": {
    "tags": []
   },
   "outputs": [
    {
     "data": {
      "application/vnd.jupyter.widget-view+json": {
       "model_id": "47263b09eedc4a41a19fc3a70ab5b979",
       "version_major": 2,
       "version_minor": 0
      },
      "text/plain": [
       "interactive(children=(IntSlider(value=10, description='N', min=5), IntSlider(value=50, description='which_eig'…"
      ]
     },
     "metadata": {},
     "output_type": "display_data"
    }
   ],
   "source": [
    "# I would like which_eig to plot to have a maximum of N\n",
    "which_eig_slider = widgets.IntSlider(min=0, max=100, value=0)\n",
    "\n",
    "\n",
    "@interact(N=(5, 100), which_eig=(0, 100), graph=[\"undirected\", \"directed\"])\n",
    "def plot1d(N=10, which_eig=which_eig_slider, graph=[\"undirected\"]):\n",
    "    # poor programming but allows me to change the slider position\n",
    "    # global which_eig_slider\n",
    "\n",
    "    # Define a NxN matrix\n",
    "    # if which_eig > N:\n",
    "    #     which_eig = N - 1 # count from 0\n",
    "    # which_eig_slider.value = N - 1\n",
    "    # print(which_eig_slider)\n",
    "    # print(\"which_eig: \", which_eig)\n",
    "\n",
    "    A = np.zeros([N, N])\n",
    "    for i in range(1, N):\n",
    "        A[i, i - 1] = 1\n",
    "\n",
    "    if graph == \"undirected\":\n",
    "        A = A + A.T\n",
    "\n",
    "    diagD = np.sum(A, axis=1)  # works for all A\n",
    "    # The undirected version has an Inf in Dinv\n",
    "    Dinv = np.diag(1 / diagD)\n",
    "    D = np.diag(diagD)\n",
    "    L = D - A\n",
    "    # We will call L (normalized or not, the filter)\n",
    "    H = L\n",
    "\n",
    "    H_dict = {}\n",
    "    eigval_dict = {}\n",
    "    eigvec_dict = {}\n",
    "    H_dict[\"none\"] = L\n",
    "\n",
    "    # Next two matrices have NaNs in the undirected graph case\n",
    "    H_dict[\"left\"] = Dinv @ H  # normalized\n",
    "    DinvSq = np.sqrt(Dinv)\n",
    "    H_dict[\"symmetric\"] = DinvSq @ H @ DinvSq\n",
    "\n",
    "    if graph == \"directed\":\n",
    "        # Remove keys (works even when key is not in dict)\n",
    "        H_dict.pop(\"left\", None)\n",
    "        H_dict.pop(\"symmetric\", None)\n",
    "\n",
    "    # Draw three columns: no normalization, left, and symmetric\n",
    "    # Draw 5 eigenvectors for first five eigenvalues, sorted by magnitude\n",
    "    # Below the eigenvectors, plot the first 10 eigenvalues, sorted by magnitude\n",
    "\n",
    "    nrows = 3\n",
    "    ncols = 3\n",
    "    # rows and cols are used to access axes array elements\n",
    "    row_eigf, row_eigv = 0, 1\n",
    "    cols_dict = {\"none\": 0, \"left\": 1, \"symmetric\": 2}\n",
    "    pos_none_eig = 2, 1\n",
    "    pos_none_tot_var = 2, 0\n",
    "\n",
    "    fig, axes = plt.subplots(nrows, ncols, figsize=(15, 6))\n",
    "\n",
    "    for k, v in H_dict.items():\n",
    "        eigval_dict[k], eigvec_dict[k] = np.linalg.eig(v)\n",
    "        arg = np.argsort(eigval_dict[k])\n",
    "        eigval_dict[k] = eigval_dict[k][arg]\n",
    "        eigvec_dict[k] = eigvec_dict[k][:, arg]\n",
    "\n",
    "    for k in H_dict.keys():\n",
    "        ax = axes[row_eigf, cols_dict[k]]\n",
    "        for i in range(0, 5):\n",
    "            ax.plot(eigvec_dict[k][:, i], \"-o\", label=f\"$\\lambda_{i}$\")\n",
    "        ax.set_xlabel(\"k\")\n",
    "        ax.set_ylabel(\"v_k\")\n",
    "        ax.legend(framealpha=0.5)\n",
    "\n",
    "        ax = axes[row_eigv, cols_dict[k]]\n",
    "        ax.plot(eigval_dict[k], \"-o\", color=\"black\")\n",
    "        ax.set_ylim(0, 5)\n",
    "        ax.set_xlabel(\"k\")\n",
    "        ax.set_ylabel(\"$\\lambda_k$\")\n",
    "        ax.grid(True)\n",
    "\n",
    "    ax = axes[pos_none_eig]  # [0], pos_none_eig[1]]\n",
    "    ax.set_ylim(-0.2, 0.2)\n",
    "    ax.grid(True)\n",
    "    ax.set_title(\"Single Eigenvector, no normalization\")\n",
    "\n",
    "    try:\n",
    "        eigvec = eigvec_dict[\"none\"][:, which_eig]\n",
    "    except:\n",
    "        print(f\"which_eig must be < N! Reset value to ${N-1}$\")\n",
    "        which_eig = N - 1\n",
    "        eigvec = eigvec_dict[\"none\"][:, which_eig]\n",
    "\n",
    "    # print(\"norm(eigvec): \", np.linalg.norm(eigvec, 2))\n",
    "    # eig_string = \"$\\lambda_%s$\" % which_eig\n",
    "    # print(\"eig_string: \", eig_string)\n",
    "    ax.plot(eigvec, \"-o\", color=\"black\", label=f\"$\\lambda_{which_eig}$\")\n",
    "    ax = axes[row_eigv, cols_dict[\"none\"]]\n",
    "    ax.plot(which_eig, eigval_dict[\"none\"][which_eig], \"o\", ms=10, color=\"red\")\n",
    "    ax.set_title(f\"Eigenvalues $\\lambda_k$\")\n",
    "\n",
    "    ax = axes[pos_none_tot_var]\n",
    "\n",
    "    def tot_var(L, v):\n",
    "        \"\"\"\n",
    "        Calculate the total variation: \\sum_i (s[i]-s[j])^2\n",
    "        where s is a signal, which could be an eigenvector of $A$.\n",
    "        The function is inefficient but will work on general graphs\n",
    "        \"\"\"\n",
    "        total_variat = 0\n",
    "        for i in range(N):\n",
    "            for j in range(N):\n",
    "                if abs(A[i, j]) > 0.01:\n",
    "                    total_variat += (v[i] - v[j]) ** 2\n",
    "        return total_variat\n",
    "\n",
    "    # Calculate total variation for all eigenvalues, and for 'none' and 'symmetric' normaliz\n",
    "    totvar = []\n",
    "    for i in range(N):\n",
    "        v = eigvec_dict[\"none\"][:, i]\n",
    "        totvar.append(tot_var(L, v))\n",
    "\n",
    "    ax.plot(totvar, \"-o\", color=\"black\")\n",
    "    ax.plot(which_eig, totvar[which_eig], \"o\", ms=10, color=\"red\")\n",
    "    ax.grid(True)\n",
    "    ax.set_title(\"Total Variation, $L$, no normalization\")\n",
    "\n",
    "    # Plot curve\n",
    "\n",
    "    for k in H_dict.keys():\n",
    "        ax = axes[0, cols_dict[k]]\n",
    "        ax.set_title(k + \" normalization\")\n",
    "        ax = axes[1, cols_dict[k]]\n",
    "        ax.set_title(k + \" normalization\")\n",
    "\n",
    "    plt.suptitle(\n",
    "        \"Eigenvectors and eigenvalues for $L$ (left), $D^{-1}L$ (middle), $D^{-1/2}LD^{-1/2}$ (right)\",\n",
    "        fontsize=16,\n",
    "    )\n",
    "\n",
    "    plt.tight_layout()\n",
    "    # plt.show()"
   ]
  },
  {
   "cell_type": "markdown",
   "id": "dfa673e6-468c-4c9a-872d-0ed60ef888c4",
   "metadata": {},
   "source": [
    "## Findings\n",
    "* The spectrum (eigenvalues) range is independent of $N$. \n",
    "* The eigenvector of the unnormalized Laplacian has a fixed range for most $N$. It always has unit $l_2$ norm. \n",
    "* The total variation $\\sum_{i,j} A_{i,j} (v_i-v_j)^2$ increases with the eigenvalue. Here, $v_j$ is the eigenvector $j$ that corresponds to eigenvalue $\\lambda_i$. "
   ]
  },
  {
   "cell_type": "markdown",
   "id": "ad110faa-c031-444d-ae73-4e645cd130d9",
   "metadata": {},
   "source": [
    "## Code complexity\n",
    "The plotting code above is getting complicated. It is therefore time to simplify the code by refactoring common operations. Different plots have different number of subplots, and each subplot draws one or more curves. They require an axis (`ax`) and dependent and independent variables, either one or a group. Therefore, smaller routines dedicated to drawing a single subplot would be useful. \n",
    "Furthermore, there is a need to create routines to create different kinds of matrices, alogn with their eigenvalues, and eigenvectors. Of course, the `Networkx` graph already does this, but doing it ourselves is good coding practice. "
   ]
  },
  {
   "cell_type": "markdown",
   "id": "7139925d-6d95-4290-8cb7-7de81b0e6941",
   "metadata": {},
   "source": [
    "# Code refactoring"
   ]
  },
  {
   "cell_type": "markdown",
   "id": "f80d7b84-98dc-48ae-8171-e095a6d5c962",
   "metadata": {},
   "source": [
    "## Refactored version of previous function\n",
    "* The new functions are located in the file `spectral_function_library.py` in the main folder.\n",
    "* Pay attention to the first two lines of this notebook: \n",
    "    * %load_ext autoreload\n",
    "    * %autoreload 2\n",
    "    \n",
    "These two lines ensure that modules are automatically reloaded when changed on disk. "
   ]
  },
  {
   "cell_type": "code",
   "execution_count": 61,
   "id": "6ff3fad4-2233-4650-9369-3f24dea1ddd0",
   "metadata": {
    "tags": []
   },
   "outputs": [
    {
     "data": {
      "application/vnd.jupyter.widget-view+json": {
       "model_id": "09524917fba04734984aaf3cffcfc14e",
       "version_major": 2,
       "version_minor": 0
      },
      "text/plain": [
       "interactive(children=(IntSlider(value=10, description='N', min=5), IntSlider(value=50, description='which_eig'…"
      ]
     },
     "metadata": {},
     "output_type": "display_data"
    }
   ],
   "source": [
    "# I would like which_eig to plot to have a maximum of N\n",
    "which_eig_slider = widgets.IntSlider(min=0, max=100, value=0)\n",
    "\n",
    "\n",
    "@interact(N=(5, 100), which_eig=(0, 100), graph=[\"undirected\", \"directed\"])\n",
    "def plot1d(N=10, which_eig=which_eig_slider, graph=[\"undirected\"]):\n",
    "    A = spec_lib.linear_acyclic_chain(N, graph)\n",
    "    D = spec_lib.degree_matrix(A)\n",
    "    H = L = D - A  # H stands for filter\n",
    "\n",
    "    norms = [\"none\", \"left\", \"symmetric\"]\n",
    "    H_dict = {k: spec_lib.normalized_matrix(L, D, k) for k in norms}\n",
    "\n",
    "    eigval_dict = {}\n",
    "    eigvec_dict = {}\n",
    "\n",
    "    if graph == \"directed\":\n",
    "        # Remove keys (works even when key is not in dict)\n",
    "        H_dict.pop(\"left\", None)\n",
    "        H_dict.pop(\"symmetric\", None)\n",
    "\n",
    "    # Draw three columns: no normalization, left, and symmetric\n",
    "    # Draw 5 eigenvectors for first five eigenvalues, sorted by magnitude\n",
    "    # Below the eigenvectors, plot the first 10 eigenvalues, sorted by magnitude\n",
    "\n",
    "    for k, v in H_dict.items():\n",
    "        eigval_dict[k], eigvec_dict[k] = np.linalg.eig(v)\n",
    "        arg = np.argsort(eigval_dict[k])\n",
    "        eigval_dict[k] = eigval_dict[k][arg]\n",
    "        eigvec_dict[k] = eigvec_dict[k][:, arg]\n",
    "        \n",
    "    # Total variation (based on Laplaci\n",
    "    totvar = [spec_lib.tot_var(A, eigvec_dict[\"none\"][:, i]) for i in range(N)]\n",
    "    \n",
    "    \"\"\"\n",
    "    Six plots of eigenvalues and eigenvectors of L and two normalized versions, \n",
    "    left and symmetric normalization by Dinv and sqrt(Dinv). \n",
    "    Also plotted: \n",
    "       1) total variation of the signal a a function of eigenvalue\n",
    "       2) the k^{th} eigenvector of the Laplacian. The chosen eigenvector is controlled\n",
    "        with a slider bar (which_eigen)\n",
    "    \"\"\"\n",
    "    spec_lib.plot_data1(H_dict, eigval_dict, eigvec_dict, totvar, which_eig)"
   ]
  },
  {
   "cell_type": "markdown",
   "id": "32cd10a5-45ca-4f14-946c-ed980ba908ba",
   "metadata": {},
   "source": [
    "# Example of a simple embedding calculation using a spectral approach. \n",
    "* We will not be concerned with efficiency\n",
    "* We will linearize any nonlinearities. "
   ]
  },
  {
   "cell_type": "markdown",
   "id": "5dad9db6-ddfa-433c-a0d7-dc22719f4d15",
   "metadata": {
    "tags": []
   },
   "source": [
    "---\n",
    "## Time to think about node embeddings and Neural networks\n",
    "The simplest algorithm would be to iterate the following: \n",
    "$$\n",
    "H^{n+1}_{i,l} = \\sum_{j\\in\\cal{N}(v_j)\\cup v_j} (I_{i,j} +A_{i,j}) H^{n+1}_{j,k} W_{k,l} \n",
    "$H^{i,l}$ to feature $l$ on graph node $i$. Feature $l$ is also called the value of element $l$ of the node's embedding. The number of features on a node need not be equal to the number of embeddings. \n",
    "\n",
    "The subscript refers to the iteration number. In practice, a nonlinear funciton is applied between iterations. Thus, \n",
    "$$\n",
    "H^{n+1} = \\sigma((I+A) H^{n} W) \n",
    "$$\n",
    "where $W$ is a weight matrix that will be determined by optimizing an appropriate cost function. \n",
    "\n",
    "Let us link together multiple iterations: \n",
    "\\begin{align}\n",
    "H^{1} &= \\sigma((I+A) H^0 W^0)  \\\\\n",
    "H^{2} &= \\sigma((I+A) H^1 W^1) \\\\\n",
    "\\cdots &=  \\cdots\n",
    "\\end{align}\n",
    "Note that $w^n$ could be independent of $n$, which reminds us of recursion, or have different values for each iteration, which reminds us of a multi-stage convolution network. The weight matrix $W^n \\in \\Re{d^{n}\\times d^{n+1}}$ where $d^n$ is the size of the embedding vector at iteration $n$. $H^0$ is usually chosen to be the existing feature matrix of the graph. \n",
    "\n",
    "Now let us remove the nonlinearity. This gives the linear algorithm :\n",
    "\\begin{align}\n",
    "H^{1} &= (I+A) H^0 W^0 \\\\\n",
    "H^{2} &= (I+A) H^1 W^1 \\\\\n",
    "      &= (I+A)^2 W^0 W^1 \\\\\n",
    "\\cdots &=  \\cdots\n",
    "\\end{align}\n",
    "Since $W^0$ and $W^1$ were computed by the algorithm being developed, their product can be replaced by a single matrix $W$. After $n$ iterations,  we have: \n",
    "$$\n",
    "H^n = (I+A)^n H^0 W^0\n",
    "$$\n",
    "We will actually replace $I+A$ by its symmetrized normalized form\n",
    "$$\n",
    "\\tilde{A} = (I+A)^{-1/2} (I+A) (I+A)^{-1/2}\n",
    "$$\n",
    "We will use PyTorch to implement one layer of a GNN, namely\n",
    "$$\n",
    "H^{n+1} = \\sigma(\\tilde{A} H^{n} W) \n",
    "$$\n",
    "where we will assume an embedding in $\\Re{d}$, $W\\in\\Re{d^n\\times d^{n+1}}$. \n"
   ]
  },
  {
   "cell_type": "markdown",
   "id": "3ed045f8-11d8-4fbf-8886-c27f14b13a04",
   "metadata": {
    "id": "140af255-b055-45fd-88c6-03001266d8a0"
   },
   "source": [
    "# def generate_graph_from_adjacency_matrix_1(G, N, seed):\n",
    "    \"\"\"\n",
    "    Arguments\n",
    "    N: number of nodes\n",
    "    \"\"\"\n",
    "    np.random.seed(seed)\n",
    "\n",
    "    # Convert to np.ndArray\n",
    "    A = nx.linalg.graphmatrix.adjacency_matrix(G).toarray()\n",
    "    nx.linalg\n",
    "    # print(\"Adj: \", A, \"\\n\", A.shape, \"\\n\", type(A))\n",
    "\n",
    "    # Different matrices\n",
    "    D = np.sum(A, axis=0)\n",
    "    D = np.diag(D)\n",
    "    I = np.eye(N)\n",
    "    Sqinv = np.sqrt(np.inv(I+A))\n",
    "    An = Sqinv @ (A+I) @ Sqinv\n",
    "\n",
    "    print(I)\n",
    "    L = D - A\n",
    "    Ln = nx.normalized_laplacian_matrix(G)   # Is it symmetric?\n",
    "    Ln = Ln.toarray()  # from sparse array to ndarray\n",
    "\n",
    "    # Create a signal on the graph. We will choose a sine wave. \n",
    "    def sig(ivec, freq):\n",
    "        return np.sin(2.*np.pi*freq*ivec / ivec[-1])\n",
    "                   \n",
    "    ivec = np.asarray(list(range(D.shape[0])))\n",
    "    s = sig(ivec, freq=2)\n",
    "    \n",
    "    ### WHAT NEXT?\n",
    "                   \n",
    "                   \n",
    "    matrix = [\"A\", \"D\", \"L\", \"invD\", \"invDA\", \"invDL\", \"invDinvD\", \"Ln\"]\n",
    "    matrices = [A, D, L, invD, invDA, invDL, invDLinvD, Ln]\n",
    "\n",
    "    # Eigenvalues\n",
    "    fig, axes = plt.subplots(3, 3, figsize=(10, 8))\n",
    "    axes = axes.reshape(-1)\n",
    "    fig.suptitle(\"Eigenvalues of various matrices\")\n",
    "    for i, m in enumerate(matrices):\n",
    "        ax = axes[i]\n",
    "        eigs = np.linalg.eigvals(m)\n",
    "        eigs = np.sort(eigs)[::-1]\n",
    "        ax.set_title(matrix[i])\n",
    "        ax.grid(True)\n",
    "        ax.plot(eigs, \"-o\")\n",
    "    for i in range(i + 2, axes.shape[-1]):\n",
    "        axes[i].axis(\"off\")\n",
    "    plt.tight_layout()\n",
    "    plt.show()"
   ]
  },
  {
   "cell_type": "code",
   "execution_count": 62,
   "id": "robust-niger",
   "metadata": {
    "colab": {
     "referenced_widgets": [
      "544864f65faf42e6ac7de40f4c0a8f30"
     ]
    },
    "id": "d49f2cd0-58c6-454a-a1d3-0eb304c1af8a",
    "outputId": "39a6ddee-a482-46be-c702-14924b7d1cfb"
   },
   "outputs": [
    {
     "data": {
      "application/vnd.jupyter.widget-view+json": {
       "model_id": "59b9b68bc8f849ca9fa0792ec481b2b1",
       "version_major": 2,
       "version_minor": 0
      },
      "text/plain": [
       "interactive(children=(IntSlider(value=10, description='nb_nodes', max=30, min=3), IntSlider(value=4, descripti…"
      ]
     },
     "metadata": {},
     "output_type": "display_data"
    }
   ],
   "source": [
    "prob_slider = widgets.FloatSlider(min=0, max=1, step=0.1, value=0.5)\n",
    "node_slider = widgets.IntSlider(min=3, max=30, step=1, value=10)\n",
    "nb_neigh_slider = widgets.IntSlider(min=1, max=10, step=1, value=4)\n",
    "nb_edges_per_node_slider = widgets.IntSlider(min=1, max=20, step=2, value=5)\n",
    "seed_slider = widgets.IntSlider(int=1, max=50, step=1, value=25)\n",
    "graph_type = [\"connected_watts_strogatz\", \"powerlaw_cluster_graph\"]\n",
    "\n",
    "@interact(\n",
    "    nb_nodes=node_slider,\n",
    "    prob=prob_slider,\n",
    "    nb_neigh=nb_neigh_slider,\n",
    "    nb_edges_per_node=nb_edges_per_node_slider,\n",
    "    seed=seed_slider,\n",
    "    graph_type=graph_type,\n",
    "    # directed=True,\n",
    ")\n",
    "def drawGraph(nb_nodes, nb_neigh, prob, seed, nb_edges_per_node, graph_type):\n",
    "    if graph_type == \"connected_watts_strogatz\":\n",
    "        nb_edges_per_node_slider.style.handle_color = 'red'\n",
    "        nb_neigh_slider.style.handle_color = 'black'\n",
    "        nb_tries = 20\n",
    "        edge_prob = prob\n",
    "        G = nx.connected_watts_strogatz_graph(\n",
    "            nb_nodes, nb_neigh, edge_prob, nb_tries, seed\n",
    "        )\n",
    "    elif graph_type == \"powerlaw_cluster_graph\":\n",
    "        nb_neigh_slider.style.handle_color = 'red'\n",
    "        nb_edges_per_node_slider.style.handle_color = 'black'\n",
    "        add_tri_prob = prob\n",
    "        if nb_edges_per_node >= nb_nodes:\n",
    "            nb_edges_per_node = nb_nodes - 1\n",
    "        G = nx.powerlaw_cluster_graph(nb_nodes, nb_edges_per_node, add_tri_prob, seed)\n",
    "\n",
    "    generate_graph_from_adjacency_matrix_1(G, nb_nodes, seed)"
   ]
  },
  {
   "cell_type": "code",
   "execution_count": null,
   "id": "d04f198a-3f09-47b6-8b97-c3c49a124f59",
   "metadata": {},
   "outputs": [],
   "source": []
  }
 ],
 "metadata": {
  "colab": {
   "name": "Spectral.ipynb",
   "provenance": []
  },
  "kernelspec": {
   "display_name": "Python 3",
   "language": "python",
   "name": "python3"
  },
  "language_info": {
   "codemirror_mode": {
    "name": "ipython",
    "version": 3
   },
   "file_extension": ".py",
   "mimetype": "text/x-python",
   "name": "python",
   "nbconvert_exporter": "python",
   "pygments_lexer": "ipython3",
   "version": "3.8.8"
  },
  "widgets": {
   "application/vnd.jupyter.widget-state+json": {
    "state": {},
    "version_major": 2,
    "version_minor": 0
   }
  }
 },
 "nbformat": 4,
 "nbformat_minor": 5
}
