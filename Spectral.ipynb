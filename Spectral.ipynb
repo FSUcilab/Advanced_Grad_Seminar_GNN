{
 "cells": [
  {
   "cell_type": "markdown",
   "id": "31c64e77-ed86-408a-99a2-edc6224f9b5c",
   "metadata": {
    "id": "31c64e77-ed86-408a-99a2-edc6224f9b5c"
   },
   "source": [
    "<script>\n",
    "  jQuery(document).ready(function($) {\n",
    "\n",
    "  $(window).load(function(){\n",
    "    $('#preloader').fadeOut('slow',function(){$(this).remove();});\n",
    "  });\n",
    "\n",
    "  });\n",
    "</script>\n",
    "\n",
    "<style type=\"text/css\">\n",
    "  div#preloader { position: fixed;\n",
    "      left: 0;\n",
    "      top: 0;\n",
    "      z-index: 999;\n",
    "      width: 100%;\n",
    "      height: 100%;\n",
    "      overflow: visible;\n",
    "      background: #fff url('http://preloaders.net/preloaders/720/Moving%20line.gif') no-repeat center center;\n",
    "  }\n",
    "\n",
    "</style>\n",
    "\n",
    "<div id=\"preloader\"></div>"
   ]
  },
  {
   "cell_type": "markdown",
   "id": "9d76e2fb-b3fd-462f-a932-a57719bf9a37",
   "metadata": {
    "id": "9d76e2fb-b3fd-462f-a932-a57719bf9a37",
    "tags": []
   },
   "source": [
    "<script>\n",
    "  function code_toggle() {\n",
    "    if (code_shown){\n",
    "      $('div.input').hide('500');\n",
    "      $('#toggleButton').val('Show Code')\n",
    "    } else {\n",
    "      $('div.input').show('500');\n",
    "      $('#toggleButton').val('Hide Code')\n",
    "    }\n",
    "    code_shown = !code_shown\n",
    "  }\n",
    "\n",
    "  $( document ).ready(function(){\n",
    "    code_shown=false;\n",
    "    $('div.input').hide()\n",
    "  });\n",
    "</script>\n",
    "<form action=\"javascript:code_toggle()\"><input type=\"submit\" id=\"toggleButton\" value=\"Show Code\"></form>"
   ]
  },
  {
   "cell_type": "markdown",
   "id": "6b0f62ef-9c6f-4735-8e33-e699dafd3e5f",
   "metadata": {
    "id": "6b0f62ef-9c6f-4735-8e33-e699dafd3e5f",
    "tags": []
   },
   "source": [
    "### Latex Macros\n",
    "$\\newcommand{\\Re}[1]{{\\mathbb{R}^{{#1}}}}\n",
    "\\newcommand{\\Rez}{{\\mathbb{R}}}$"
   ]
  },
  {
   "cell_type": "code",
   "execution_count": 6,
   "id": "3d77eb50-6fe1-4c9a-8bf2-477483fb20c1",
   "metadata": {},
   "outputs": [
    {
     "name": "stdout",
     "output_type": "stream",
     "text": [
      "The autoreload extension is already loaded. To reload it, use:\n",
      "  %reload_ext autoreload\n"
     ]
    }
   ],
   "source": [
    "%load_ext autoreload\n",
    "%autoreload 2"
   ]
  },
  {
   "cell_type": "code",
   "execution_count": 8,
   "id": "7f1b6238-be73-4338-9efa-4b46546129f1",
   "metadata": {
    "id": "7f1b6238-be73-4338-9efa-4b46546129f1"
   },
   "outputs": [],
   "source": [
    "import numpy as np\n",
    "import networkx as nx\n",
    "import ipywidgets as widgets\n",
    "from ipywidgets import interact, interactive, fixed, interact_manual\n",
    "from scipy.stats import ortho_group  # compute unitary matrices\n",
    "import matplotlib.pyplot as plt\n",
    "import copy\n",
    "import sympy\n",
    "import spectral_function_library as spec_lib\n",
    "#%matplotlib inline"
   ]
  },
  {
   "cell_type": "markdown",
   "id": "07a27398-833c-437d-917f-b536ff0df483",
   "metadata": {
    "id": "07a27398-833c-437d-917f-b536ff0df483",
    "tags": []
   },
   "source": [
    "# Convolution Neural Networks \n",
    "Material is taken from [this Blog](https://www.instapaper.com/read/1477946505)\n",
    "\n",
    "Starting from an RGB image: \n",
    "\n",
    "<img src=\"attachment:184a4f79-819b-42b2-96e6-6123f3a0cb26.png\" width=\"800\">\n",
    "\n",
    "the idea is pass this image through as series of steps in order to extract information. The filter is used for this task. \n",
    "\n",
    "<img src=\"attachment:e6bb7f0b-06cb-41c9-b314-09df22cadab1.png\" width=\"800\">\n",
    "\n",
    "after image src.\n",
    "\n",
    "<img src=\"attachment:e6bb7f0b-06cb-41c9-b314-09df22cadab1.png\" width=\"800\">\n",
    "\n",
    "<img src=\"attachment:32eba126-86c4-46d9-8f70-1732e279902a.png\" width=\"800\">\n",
    "\n",
    "<img src=\"attachment:9c228339-f401-4074-8730-49b67155ac7b.png\" width=\"800\">\n",
    "\n",
    "## Two important points about the convolutional layer: \n",
    "\n",
    "1. The filter is identical for each pixel. This reduces the number of parameters to calculate. \n",
    "The constant filter helps satisfy the inductive bias of *translation invariance*. \n",
    "\n",
    "2. The convolution is local to the image pixel to which it is applied. Thus, the structure of the image is taken into account during the calculation. \n",
    "\n",
    "A typical CNN architecture: \n",
    "\n",
    "<img src=\"attachment:c422d8dd-d883-46cf-99ba-5bdf15ac347a.png\" width=\"800\">"
   ]
  },
  {
   "cell_type": "markdown",
   "id": "67915400-4c26-49bc-83eb-e7091265fec8",
   "metadata": {
    "id": "67915400-4c26-49bc-83eb-e7091265fec8"
   },
   "source": [
    "jupyter nbextension enable --py widgetsnbextensionjupyter nbextension enable --py widgetsnbextensionjupyter nbextension enable --py widgetsnbextensionjupyter nbextension enable --py widgetsnbextension# Alternative view of CNN\n",
    "\n",
    "<img src=\"attachment:34feb6d0-71dd-4c44-972b-ae662ee8ce3c.png\" width=\"800\">\n",
    "\n",
    "* An image can be considered to be a graph\n",
    "* The nodes $V$ are the centers of the pixels\n",
    "* If a filter has width 3, each nodes is connected to $8 * d$ adjacent nodes, where $d$ is the number of channels"
   ]
  },
  {
   "cell_type": "markdown",
   "id": "0b027997-855d-455e-83e2-72f83db7fc8b",
   "metadata": {
    "id": "0b027997-855d-455e-83e2-72f83db7fc8b"
   },
   "source": [
    "# Motivation\n",
    "Consider a set of nodes $x_i$, and associated attributes $y_i$. This can be graphed. Let us connect these nodes with edges $e_{ij} = (x_i, x_{i+1})$."
   ]
  },
  {
   "cell_type": "code",
   "execution_count": 3,
   "id": "ec17bb6b-cc14-4803-82dc-60a05f18f7bc",
   "metadata": {
    "colab": {
     "referenced_widgets": [
      "cd7819c371444b5f9547f35f61b1bc7c"
     ]
    },
    "id": "ec17bb6b-cc14-4803-82dc-60a05f18f7bc",
    "outputId": "caa302cd-2b83-4d4c-e8fe-9375dd9c58fe"
   },
   "outputs": [
    {
     "data": {
      "application/vnd.jupyter.widget-view+json": {
       "model_id": "a5fb09e9477a43f88367d59eca3bee79",
       "version_major": 2,
       "version_minor": 0
      },
      "text/plain": [
       "interactive(children=(IntSlider(value=22, description='N', max=40, min=5), Output()), _dom_classes=('widget-in…"
      ]
     },
     "metadata": {},
     "output_type": "display_data"
    }
   ],
   "source": [
    "@interact(N=(5,40))\n",
    "def plot1d(N):\n",
    "    x = np.linspace(0, 10, N)\n",
    "    plt.plot(x, 0*x, '-o')\n",
    "    plt.show()"
   ]
  },
  {
   "cell_type": "markdown",
   "id": "06658660-1785-41e0-9463-044a0ad96222",
   "metadata": {
    "id": "06658660-1785-41e0-9463-044a0ad96222"
   },
   "source": [
    "Add an attribute to each of these nodes. I will add a random noise in $N(0,\\sigma)$ and $\\sigma=1.5$, which is fairly large. \n",
    "\n",
    "Consider the problem of computing *embeddings* of each node with the requirement that nearby nodes with similar attributes should have similar embeddings. \n",
    "\n",
    "Without further constraints imposed on the problem (also called *inductive biases*, we will apply a local transformation to this function, and specifically an averaging operation. We will replace $y_i$ by the average of its neighbors :\n",
    "$$ y_i \\longrightarrow \\frac12 (y_{i-1} + y_{i+1})$$\n",
    "The boundary points need special treatment. There are three main ehoices: \n",
    "1. Do not move the point\n",
    "2. Move the point in such a way as to satisfy some condition on the slope.\n",
    "3. Develop an algorithm that figures out the proper treatment\n",
    "\n",
    "We will consider the first choice for simplicity. For future reference, we call the collection of points $V$, the collection of edges $E$. We denote the boundary nodes by $\\partial V$, and the boundary edges (edges attached to $\\partial V$ by $\\partial E$, which is a common notation in discrete and differential geometry. "
   ]
  },
  {
   "cell_type": "code",
   "execution_count": 3,
   "id": "ac43e403-5060-4019-8ebb-25c592440e89",
   "metadata": {
    "colab": {
     "referenced_widgets": [
      "03105b7a1b9a4a98b734b684a533e5c6"
     ]
    },
    "id": "ac43e403-5060-4019-8ebb-25c592440e89",
    "outputId": "249a7bb2-8239-42e2-cd89-9d79106317be"
   },
   "outputs": [
    {
     "data": {
      "application/vnd.jupyter.widget-view+json": {
       "model_id": "f505ab6e6797403f94761c013b3f5f8f",
       "version_major": 2,
       "version_minor": 0
      },
      "text/plain": [
       "interactive(children=(IntSlider(value=50, description='seed', min=1), FloatSlider(value=0.75, description='eps…"
      ]
     },
     "metadata": {},
     "output_type": "display_data"
    }
   ],
   "source": [
    "@interact(seed=(1,100), eps=(0,1.5), N=(5,40))\n",
    "def plot1d(seed, eps, N):\n",
    "    np.random.seed(seed)\n",
    "    x = np.linspace(0, 10, N)\n",
    "    noise = eps * np.random.randn(N)\n",
    "    y = np.sin((x/x[-1])*2*np.pi*2.5) + noise\n",
    "    plt.plot(x, y, '-o')\n",
    "    plt.show()"
   ]
  },
  {
   "cell_type": "markdown",
   "id": "664098e0-65b1-4e7f-976d-638ff6b33941",
   "metadata": {
    "id": "664098e0-65b1-4e7f-976d-638ff6b33941"
   },
   "source": [
    "More generally, each point might have multiple attribute. Thus, the node $x_i$, would have $d$ attributes $y_0, \\cdots, y_{d-1}$. These attributes could be categorical or continuous, and the categorical attributes could be nominal (there is nor ordering, such as 'red', 'blue', 'orange') or ordinal (bad, poor, average, good, very good excellent). "
   ]
  },
  {
   "cell_type": "code",
   "execution_count": 4,
   "id": "74d26da2-61bd-4784-9c32-adb19c1f0164",
   "metadata": {
    "colab": {
     "referenced_widgets": [
      "a26da3d6eca14899b2113eac123d83db"
     ]
    },
    "id": "74d26da2-61bd-4784-9c32-adb19c1f0164",
    "outputId": "8f47cb09-9f86-4235-e619-0e021c07e4f0"
   },
   "outputs": [
    {
     "data": {
      "application/vnd.jupyter.widget-view+json": {
       "model_id": "5795ae6e7d6f4e7790f2994056ea175f",
       "version_major": 2,
       "version_minor": 0
      },
      "text/plain": [
       "interactive(children=(IntSlider(value=50, description='Seed', min=1), FloatSlider(value=0.3, description='Nois…"
      ]
     },
     "metadata": {},
     "output_type": "display_data"
    }
   ],
   "source": [
    "dSlider = widgets.IntSlider(min=1, max=5, value=3, description=\"Nb Attributes\")\n",
    "seedSlider = widgets.IntSlider(min=1, max=100, value=50, description=\"Seed\")\n",
    "epsSlider = widgets.FloatSlider(min=0., max=1.5, value=0.30, description=\"Noise $\\sigma$\")\n",
    "@interact(seed=seedSlider, eps=epsSlider, N=(5,40), d=dSlider, nb_blur_iter=(0,5))\n",
    "def plot1d(seed, eps, N, d, nb_blur_iter):\n",
    "    np.random.seed(seed)\n",
    "    eps = eps * np.array([1.,2.,.5,3.,4.])\n",
    "    x = np.linspace(0, 10, N)\n",
    "    noise = np.random.randn(d,N)\n",
    "    y = np.zeros([5, N])\n",
    "    fcts = {}\n",
    "    fcts[0] = np.sin((x/x[-1])*2*np.pi*2.5)\n",
    "    fcts[1] = 1.5 *  np.cos((x/x[-1])*2*np.pi*2.5) ** 2\n",
    "    fcts[2] = x ** 2 / 10 * np.exp(3-.5*x)\n",
    "    fcts[3] = np.cos((x/x[-1])*2*np.pi*4.5)\n",
    "    fcts[4] = 1.5 *  np.cos((x/x[-1])*2*np.pi*2.5)\n",
    "    for i in range(0,5):\n",
    "        y[i] = fcts[i]\n",
    "    \n",
    "    for i in range(0, d):\n",
    "        y[i] += eps[i] * noise[i]\n",
    "        \n",
    "    yy = copy.copy(y)\n",
    "    \n",
    "    for i in range(0, d):\n",
    "        for n in range(0, nb_blur_iter):\n",
    "            yy[i][0] = y[i][0]\n",
    "            yy[i][N-1] = y[i][N-1]\n",
    "            yy[i][1:N-2] = 0.5 * (y[i][0:N-3] + y[i][2:N-1])\n",
    "            y = copy.copy(yy)\n",
    "    \n",
    "    for i in range(0,d):\n",
    "        plt.plot(x, yy[i], '-o')\n",
    "    plt.grid(True)\n",
    "    plt.ylim(-2, 5)\n",
    "    plt.show()"
   ]
  },
  {
   "cell_type": "markdown",
   "id": "91144ff1-5c17-42e8-9439-5da6ca49968a",
   "metadata": {
    "id": "91144ff1-5c17-42e8-9439-5da6ca49968a"
   },
   "source": [
    "So far, I am describing vector-valued discrete functions of $x$, which is a 1-D representation of a graph $d$ attributes at each node $x_i$. More generally, nodes are points in *some* space, which can be 1-D, 2-D, higher-D, or more abstract, namely, a space of *points*. \n",
    "\n",
    "Now consider adding attributes $y_{Eij}$ to the edges. What kind of transformation functions should one consider? \n",
    "\n",
    "This averaging function is an example of a local filter defined in physical space. This filter takes attributes at nodes and transforms them into a new set of number defined at these same nodes. More generally, in Graph Neural networks, we will consider operators that take attributes defined at nodes, edges, and the graph, and transform them into a new set of vectors defined on these same nodes, vectors and graphs. \n",
    "\n",
    "Filters can be defined either in physical space or in spectral space. We will illustrate the concept by considering the derivative operator on continuous and discrete grids."
   ]
  },
  {
   "cell_type": "markdown",
   "id": "58cd8516-8c45-42a6-930c-cce0792d33cc",
   "metadata": {
    "id": "58cd8516-8c45-42a6-930c-cce0792d33cc"
   },
   "source": [
    "## First Derivative operator (also a filter) on 1D grid in physical space\n",
    "Consider points $x_i$, $i=0,\\cdots, N-1$ connected by edges $e_{i,i+1} = (x_i, x_{i+1})$. The central difference operator of the function $f_i = f(x_i)$ is defined by\n",
    "$$\n",
    "f'_i = \\frac{f_{i+1} - f_{i-1}}{x_{i+1} - x_{i-1}}\n",
    "$$ for $i=1,\\cdots,N-2$, with one-sided operators defined at the boundaries (which is one of many possibilities): \n",
    "\\begin{align}\n",
    "f'_0 &= \\frac{f_1 - f_0}{x_1-x_0} \\\\\n",
    "f'_{N-1} &= \\frac{f_{N-1} - f_{N-2}}{x_{N-1} - x_{N-2}}\n",
    "\\end{align}\n",
    "where $f'_i$ is the approximation of $f'(x)$ evaluated at $x=x_i$. Note that the derivative can be expressed as a vector \n",
    "$f' = (f'_0,\\cdots,f'_{N-1})$, and $f'_i$ is linear with respect to the values $f_j$. Therefore one can write the matrix \n",
    "expression: \n",
    "$$ f' = D f $$\n",
    "where $D \\in \\Re{N\\times N}$ is an $N \\times N$ matrix.  The matrix $D$ is a derivative filter. More specifically, it is a \n",
    "*global* filter since it updates the values at all nodes at once. To the contrary, a *local* filter is defined as the matrix that updates the derivative at a single point. Thus: \n",
    "$$\n",
    "f'_i = (\\begin{matrix}-\\alpha & 0 & \\alpha\\end{matrix})^T \n",
    "   (\\begin{matrix} f_{i+1} & 0 & f_{i-1}) \\end{matrix}\n",
    "$$\n",
    "where a superscript $T$ denotes transpose, and $\\alpha = (x_{i+1} - x_{i-1})^{-1}$. Clearly, the local \n",
    "filter is local to the point at which it applies. The new value only depends on the values of its immediate neighbors. "
   ]
  },
  {
   "cell_type": "markdown",
   "id": "b661f497-627b-4285-98fb-b37e5781c0a2",
   "metadata": {
    "id": "b661f497-627b-4285-98fb-b37e5781c0a2",
    "tags": []
   },
   "source": [
    "***\n",
    "# Spectral Analysis of graphs\n",
    "## Continuous Fourier Transform (CFT)\n",
    "When working in the continuous domain $\\Rez$, a function $f(x)\\in\\Rez$ has a Fourier Transform $\\hat{f}(k)$ related by \n",
    "$$  \\hat{f}(k) = \\frac{1}{2\\pi} \\int_{-\\infty}^\\infty e^{\\iota k x} f(x) \\, dx $$\n",
    "Conversely, one can apply a similar operation to recover $f(x)$ from its Fourier Transform: \n",
    "\n",
    "$$ f(x) = \\frac{1}{2\\pi} \\int_{-\\infty}^\\infty e^{-\\iota k x} \\hat{f}(k) \\, dk $$\n",
    "\n",
    "Notice the sign in the exponent: positive when transforming from physical to Fourier space, and negative when returning to physical space. The sign is a convention. Different authors might use the opposite sign. So always pay attention to the conventions in any paper you read. \n",
    "\n",
    "(you should all have learned about the Fourier transform previously). \n",
    "\n",
    "Let us compute the first derivative of $f(x)$: \n",
    "$$\\frac{d}{dx} f(x) = f'(x)$$\n",
    "The conventional approach would be to calculate the derivative manually, or discretize the expression in physical space. However, the alternative is to compute the derivative by first transforming the expression to Fourier (also called spectral) space: "
   ]
  },
  {
   "cell_type": "markdown",
   "id": "2da8b978-f9b9-463f-af8d-0f55471e1d09",
   "metadata": {
    "id": "2da8b978-f9b9-463f-af8d-0f55471e1d09"
   },
   "source": [
    "\\begin{align}\n",
    " \\frac{d}{dx} f(x) &= \\frac{d}{dx} \\frac{1}{2\\pi} \\int_{-\\infty}^\\infty e^{-\\iota k x} \\hat{f}(k)  d k  \\\\ \n",
    " &=  \\frac{1}{2\\pi} \\int_{-\\infty}^\\infty (-\\iota k) e^{-\\iota k x} \\hat{f}(k) dk \\\\\n",
    " &= \\cal{F}^{-1} [-\\iota  k \\hat{f}(k)]\n",
    "\\end{align}\n",
    "where \n",
    "\\begin{align}\n",
    "\\cal{F}f(x) &= \\hat{f}(k) \\\\\n",
    "\\cal{F}^{-1} \\hat{f}(k) &= f(x) \\\\\n",
    "\\end{align}"
   ]
  },
  {
   "cell_type": "markdown",
   "id": "28f41cba-fafc-4fc6-b93a-e8343a89edfd",
   "metadata": {
    "id": "28f41cba-fafc-4fc6-b93a-e8343a89edfd"
   },
   "source": [
    "So to given a function $f(x)$, one can compute the derivative with the following three steps: \n",
    "1.  $f(x) \\longrightarrow \\hat{f}(k)$\n",
    "2.  $\\hat{f}(k) \\longrightarrow (-\\iota k) \\hat{f}(k)$\n",
    "3.  $(-\\iota k)\\hat{f}(k) \\longrightarrow \\cal{F}^{-1} \\left[(-\\iota k)\\hat{f}(k)\\right] = \\frac{d}{dx} f(x)$"
   ]
  },
  {
   "cell_type": "markdown",
   "id": "6ab4ce30-62b6-4305-9407-131e75eaa0a5",
   "metadata": {
    "id": "6ab4ce30-62b6-4305-9407-131e75eaa0a5"
   },
   "source": [
    "Thus, the derivative operation is applied in Fourier space. A complex operation in physical space becomes a simple multiplication in Fourier space, *at the cost* of two Fourier Transforms. "
   ]
  },
  {
   "cell_type": "markdown",
   "id": "cba007b6-fae6-426c-a2ff-adb9f60e8e2c",
   "metadata": {
    "id": "cba007b6-fae6-426c-a2ff-adb9f60e8e2c",
    "tags": []
   },
   "source": [
    "### Fourier Spectrum\n",
    "$\\hat{f}(k)$ is called the Fourier Spectrum and is generally a complex variable. \n",
    "$P(k) = |\\hat{f}(k)|^2$ is the power spectrum, and satisfies the property: \n",
    "$$\n",
    "\\int_{-\\infty}^\\infty P(k) dk = \\int_{-\\infty}^\\infty |\\hat{f}(k)|^2 dx = \\int_{-\\infty}^\\infty |f(x)|^2 dx\n",
    "$$\n",
    "a rule that generalizes to and holds in $\\Re{n}$. "
   ]
  },
  {
   "cell_type": "markdown",
   "id": "eada57f0-bf8f-42c3-a1db-d2762655a498",
   "metadata": {
    "id": "eada57f0-bf8f-42c3-a1db-d2762655a498"
   },
   "source": [
    "### Filter\n",
    "The coefficient $(-\\iota k)$ above is an example of a complex operator in Fourier space. This operator tranforms a function $\\hat{f}(k)$ into a \"filtered\" function $\\hat{g}(k)$: \n",
    "$$\n",
    "\\hat{g}(k) = (-\\iota k) \\hat{f}(k)\n",
    "$$\n",
    "and in this particular case, results in the Fourier transform of the $x$-derivative of $f(x)$. More generally, one can define an operator $\\hat{H}(k)$ acting on $\\hat{f}(k)$, which \"shapes\" the power spectrum, leading to filters with different characteristics: low-pass, band-pass, high-pass, custom. \n",
    "\n",
    "Given a function $f(x)$, the resulting filtered function $f_H(x)$ can be defined similarly to the derivative: \n",
    "\n",
    "\\begin{align}\n",
    " f(x) & \\longrightarrow \\cal{F}(f(x)) = \\hat{f}(k) \\\\\n",
    "  \\hat{f}(k) & \\longrightarrow \\hat{H}(k) \\hat{f}(k) \\\\\n",
    " \\hat{H}(k)\\hat{f}(k) & \\longrightarrow \\cal{F}^{-1} (\\hat{H}(k)\\hat{f}(k)) = f_H(x)\n",
    "\\end{align}\n",
    "\n",
    "We will often omit the argument $x$ or $k$, letting the \"hat\" notation indicate whether or not we are in Fourier space. Thus, we can write\n",
    "$$\n",
    "f_H = \\cal{F}^{-1} [\\hat{H} \\; \\cal{F}(f) ]\n",
    "$$ or the equivalent form (requiring the definition of product of operators): \n",
    "\n",
    "\\begin{align}\n",
    "f_H &= (\\cal{F}^{-1} \\, \\hat{H} \\, \\cal{F}) \\; f \\\\\n",
    "   &= H f\n",
    "\\end{align}\n",
    "which defines the filter $H(x)$ in physical space, acting on $f(x)$ to produce $f_H(x)$: \n",
    "$$\n",
    "f_H(x)   = H(x) * f(x)\n",
    "$$\n",
    "where $*$ denotes the convolution operator: \n",
    "$$\n",
    "H(x) * f(x) = \\int_{-\\infty}^\\infty H(x-s) f(s) \\, ds$$"
   ]
  },
  {
   "cell_type": "markdown",
   "id": "40fb08a6-4010-43da-a5cc-28148eb913cb",
   "metadata": {
    "id": "40fb08a6-4010-43da-a5cc-28148eb913cb",
    "tags": []
   },
   "source": [
    "## Interactive examples of filters in continuous space\n",
    "We build upon the description at http://localhost:8889/lab/tree/Spectral.ipynb\n",
    "\n",
    "Consider the function $f(x) = \\sum_i \n",
    "\n",
    "COMPLETE LATER."
   ]
  },
  {
   "cell_type": "markdown",
   "id": "772302f1-790b-4bfb-af4e-e099ec6344f6",
   "metadata": {
    "id": "772302f1-790b-4bfb-af4e-e099ec6344f6"
   },
   "source": [
    "# Ideal Low-, Mid-, High-pass filters\n",
    "## Low-pass filter\n",
    "\n",
    "\\begin{align}\n",
    "H(k) &= 1, \\hspace{1in} k < k_0 \\\\\n",
    "&= 0, \\hspace{1in} k \\ge k_0 \n",
    "\\end{align}\n",
    "## Band-pass filter\n",
    "\n",
    "\\begin{align}\n",
    "H(k) &= 1, \\hspace{1in} k_0 < k < k_1, \\; k_0 < k_1 \\\\\n",
    "&= 0  \\hspace{1in} \\rm{otherwise}\n",
    "\\end{align}\n",
    "## High-pass filter\n",
    "\n",
    "\\begin{align}\n",
    "H(k) &= 1, \\hspace{1in} k > k_0 \\\\\n",
    "&= 0, \\hspace{1in} k \\le k_0 \n",
    "\\end{align}\n"
   ]
  },
  {
   "cell_type": "markdown",
   "id": "783f8f1d-3b53-4773-9199-45720d821801",
   "metadata": {
    "id": "783f8f1d-3b53-4773-9199-45720d821801"
   },
   "source": [
    "#### Notes: \n",
    "* np.fft uses the discrete Fourier Tranform since the grid is discrete (we skip over these details)\n",
    "* The $x$-domain is $[0,0.5]$. \n",
    "* $\\sin(2\\pi f_1 x)= 0$ at $x=0$ and $x=0.5$. The $x-derivative is $2\\pi f_1\\cos(f_1 2\\pi x)$, equal \n",
    "to $2\\pi f_1$ at $x=0$ and $2\\pi f_1 \\cos(\\pi f_1)$ at $x=0.5$, equal to 2\\pi f_1$ if $f_1$ is even. \n",
    "Therefore the function is  periodic over the domain, since the $f_1$ slider ranges from -40 to 40 by increments of 10.  \n",
    "On the other hand, $\\cos(2\\pi f_3 x + 0.7)$ is not periodic over the $x$ domain (the phase is 0.7, which is not a multiple of $2\\pi$. The frequencies are obtained by \n",
    "decomposing this function into a series of $\\sin$ and $\\cos$ at different frequencies with zero phase. "
   ]
  },
  {
   "cell_type": "code",
   "execution_count": 8,
   "id": "cc5a1bfb-9e78-44d0-a085-7c0610647763",
   "metadata": {
    "colab": {
     "referenced_widgets": [
      "5730ec078dd74ec3b30268984640cc06"
     ]
    },
    "id": "cc5a1bfb-9e78-44d0-a085-7c0610647763",
    "outputId": "54ad61d1-1647-415e-8b63-a3b06e1eabb3"
   },
   "outputs": [
    {
     "data": {
      "application/vnd.jupyter.widget-view+json": {
       "model_id": "7fb986a84d2048ff9750fd7670879d67",
       "version_major": 2,
       "version_minor": 0
      },
      "text/plain": [
       "interactive(children=(IntSlider(value=20, description='freq1', max=60, min=-20, step=10), IntSlider(value=0, d…"
      ]
     },
     "metadata": {},
     "output_type": "display_data"
    }
   ],
   "source": [
    "@interact_manual(\n",
    "    freq1=(-20, 60, 10),\n",
    "    freq2=(-90, 90, 10),\n",
    "    freq3=(-300, 300, 15),\n",
    "    ampl1=1,\n",
    "    ampl2=0.5,\n",
    "    ampl3=1,\n",
    "    k0=(0, 50, 5),\n",
    "    k1=(5, 150, 10),\n",
    ")\n",
    "def plotSin2(freq1, freq2, freq3, ampl1, ampl2, ampl3, k0, k1):\n",
    "    fig = plt.figure(figsize=(16, 7))\n",
    "    x = np.linspace(0, 0.5, 500)\n",
    "    k = np.linspace(0, 499, 500)\n",
    "    \n",
    "    # NOTE: These functions are NOT periodic over the domain. \n",
    "    # Therefore, the spectrum is not exactly a collection of delta functions\n",
    "    # I could be more precise, but that is not the point of this demonstration. \n",
    "    \n",
    "    s = (\n",
    "        ampl1 * np.sin(freq1 * 2 * np.pi * x)\n",
    "        + ampl2 * np.sin(freq2 * 2 * np.pi * x)\n",
    "        + ampl3 * np.cos(freq3 * 2 * np.pi * x + 0.7)\n",
    "    )\n",
    "    nrows, ncols = 3, 2\n",
    "\n",
    "    # ax1.clear()  # to avoid flicker, does not work\n",
    "    ax = fig.add_subplot(nrows, ncols, 1)\n",
    "    # fig, axes = plt.subplots(nrows, ncols, figsize=(16, 5))\n",
    "    ax.set_ylabel(\"Amplitude\")\n",
    "    ax.set_xlabel(\"Time [s]\")\n",
    "    ax.plot(x, s)\n",
    "\n",
    "    fft = np.fft.fft(s)\n",
    "    ifft = np.fft.ifft(s)\n",
    "    # print(\"s: \", s[0:10])\n",
    "    # print(\"ifft: \", ifft[0:11])\n",
    "    # print(\"fft[0-10]: \", fft[0:11])\n",
    "    # print(\"fft[:-10,:]: \", fft[-10:])\n",
    "    power_spec = np.abs(fft) ** 2\n",
    "    #power_spec[0] = 0 # REMOVE MEAN COMPONENT  (simply equal to the mean of the function)\n",
    "    ax2 = fig.add_subplot(nrows, ncols, 2)\n",
    "    ax = ax2\n",
    "    ax.plot(power_spec[0 : 250])\n",
    "    ax.set_ylabel(\"Power Spectrum\")\n",
    "    ax.set_xlabel(\"k\")\n",
    "\n",
    "    heaviside = np.where((k > k0) & (k < k1), 1, 0)\n",
    "    # Symmetrize this function with respect to $k=500/2$\n",
    "    for i in range(1,250): # 250 = 500/2\n",
    "        heaviside[500-i] = heaviside[i]  # in Fourier space\n",
    "    # print(heaviside)\n",
    "\n",
    "    filtered_power_spectrum = power_spec * heaviside\n",
    "    # print(list(zip(power_spec, heaviside, filtered_power_spectrum)))\n",
    "    # print(\"power spec: \", power_spec[0:50])\n",
    "    # print(\"filtered_spec: \", filtered_power_spectrum[0:50])\n",
    "    filtered_function = np.fft.ifft(filtered_power_spectrum)\n",
    "    \n",
    "    ax = fig.add_subplot(nrows, ncols, 3)\n",
    "    ax.plot(filtered_function)\n",
    "    ax.set_ylabel(\"Filtered $f_H(x) = H(x) f(x)$\")\n",
    "    ax.set_xlabel(\"x\")\n",
    "    \n",
    "    ax = fig.add_subplot(nrows, ncols, 4)\n",
    "    ax.plot(filtered_power_spectrum[0 : 250])\n",
    "    ax.set_xlabel(\"k\")\n",
    "    ax.set_ylabel(\"Filtered Power Spectrum\")\n",
    "    \n",
    "    filter_phys = np.fft.ifft(heaviside)\n",
    "    ax = fig.add_subplot(nrows, ncols, 5)\n",
    "    ax.plot(filter_phys)\n",
    "    ax.set_ylabel(\"Filter $H(x)$\")\n",
    "    ax.set_xlabel(\"k\")\n",
    "    \n",
    "    ax = fig.add_subplot(nrows, ncols, 6)\n",
    "    ax.plot(heaviside[0:250])\n",
    "    ax.set_ylabel(\"Filter $\\hat{H}(k)$\")\n",
    "    ax.set_xlabel(\"k\")\n",
    "\n",
    "    plt.tight_layout()\n",
    "    plt.show()\n",
    "    sumf2 = np.sum(s ** 2)\n",
    "    sump2 = np.sum(power_spec[0:250])\n",
    "    sump3 = np.sum(power_spec)\n",
    "    # print(sum2, sump2, sump2 / sumf2, sump3 / sumf2)\n",
    "    # print(np.sum(power_spec[0:250]), np.sum(power_spec[0:500]), power_spec.shape)\n",
    "\n",
    "    # The ratio sump2 / sumf2 = 250 (when there is no mean component)\n",
    "    # The k=0 component has no complex conjugate. All other components have a complex conjugate.\n",
    "    # These details are beyond the scope of this lecture.\n",
    "    #     = Number of points N / 2\n",
    "    # sum f[i]^2 dx = sum f[i]^2 (0.5/N) = sum power_spectrum  * normalizing constant\n",
    "    #  (one must be careful with this constant)\n",
    "\n",
    "\n",
    "# Alternative to @interact\n",
    "# interact(plotSin2, freq1=(-40,40,10), freq2=(-90,90,10), freq3=(-300,300,15), ampl1=1, ampl2=.5, ampl3=1)"
   ]
  },
  {
   "cell_type": "markdown",
   "id": "b6b0eff8-9c3c-464b-9279-ab8abde21a84",
   "metadata": {
    "id": "b6b0eff8-9c3c-464b-9279-ab8abde21a84"
   },
   "source": [
    "The strong oscilations in the Filter $H(x)$ are due to the discontinuity of the filter in Fourier space. \n",
    "A property of these 1-D filters is that localization in Fourier space (the filter is nonzero for very few $k$) leads \n",
    "to non-local filters $H(x)$ in physical space, and vice-versa. \n",
    "\n",
    "The challenge is to construct filters local in both physical and Fourier space, which is the strength of wavelets (beyond the scope of these lectures). Note that the Fourier transform of a Gaussian is a Gaussian, and it is local in both spaces. (Demonstrate it for yourself as a homework exercise). "
   ]
  },
  {
   "cell_type": "markdown",
   "id": "05d21ae5-a0a7-4794-aa19-e024c89fe816",
   "metadata": {
    "id": "05d21ae5-a0a7-4794-aa19-e024c89fe816"
   },
   "source": [
    "Hi Toan,\n",
    "\n",
    "I just found out that you never switched your major to an M.S. project. Please do this ASAP. Otherwise you might have issues regarding graduation this semester or this summer. Karey can help you if needed. But you must ask. Thanks. This is your responsibility.\n",
    "\n",
    " Gordon## Graphs\n",
    "The challenge is to generalize the filter Fourier Transforms and Filters to graphs, which are unstructured. There is no particular connectivity patterns as there is for the discrete case of the 1D continuous domain. \n",
    "\n",
    "### Discrete 1D domain\n",
    "* A set of nodes $x_i$, $i=0,1,\\cdots,N-1$, such that $x_i$ is connected to $x_{i+1}$. This graph is acyclic (there are no cycles. \n",
    "* If the first and last node are connected, we add the edge $(x_{N-1}, x_{0})$ and create a cyclic graph.\n",
    "* The adjacency matrix of the cyclic graph is as follows: \n",
    "$$\n",
    "A = \\left(\\begin{matrix}\n",
    "0 & 0 & 0 & \\cdots & 0 & 1 \\\\\n",
    "1 & 0 & 0 & \\cdots & 0 & 0 \\\\\n",
    "0 & 1 & 0 & \\cdots & 0 & 0 \\\\\n",
    "0 & 0 & 1 & \\cdots & 0 & 0 \\\\\n",
    "\\cdots\n",
    "\\end{matrix}\\right)\n",
    "$$\n",
    "* A signal $s$ on a graph is defined as the sequence of $N$ elements\n",
    "$$ x = (x_0, x_1, \\cdots, x_{N-1}) $$\n",
    "where each $x_i\\in\\Rez$."
   ]
  },
  {
   "cell_type": "markdown",
   "id": "34a87c78-1698-49e4-8fdf-04bf77a5a693",
   "metadata": {
    "id": "34a87c78-1698-49e4-8fdf-04bf77a5a693",
    "tags": []
   },
   "source": [
    "Hi Toan,\n",
    "\n",
    "I just found out that you never switched your major to an M.S. project. Please do this ASAP. Otherwise you might have issues regarding graduation this semester or this summer. Karey can help you if needed. But you must ask. Thanks. This is your responsibility.\n",
    "\n",
    " Gordon### 1-D Periodic Domain\n",
    "#### Fourier Filter\n",
    "### 1-D Non-periodic Domain\n",
    "## Fourier Transform, Discrete (DFT)\n",
    "### 1-D Periodic Domain \n",
    "### 1-D Non-periodic Domain\n",
    "## Graph Signal Processing, Discrete\n",
    "### 1-D cyclic graph\n",
    "### 2=D Discrete periodic \n",
    "### Adjoint $A$\n",
    "### Degree Matrix $D$\n",
    "### Laplacian $L$\n",
    "###"
   ]
  },
  {
   "cell_type": "code",
   "execution_count": null,
   "id": "8d80c2de-b299-446f-8f55-1c50c11a7b75",
   "metadata": {
    "colab": {
     "referenced_widgets": [
      "2fb25b8e20254035aa801380e21f039e"
     ]
    },
    "id": "8d80c2de-b299-446f-8f55-1c50c11a7b75",
    "jupyter": {
     "source_hidden": true
    },
    "outputId": "d1ccdde7-2246-4056-ca4b-ad0d4632c524",
    "tags": []
   },
   "outputs": [
    {
     "data": {
      "application/vnd.jupyter.widget-view+json": {
       "model_id": "2fb25b8e20254035aa801380e21f039e",
       "version_major": 2,
       "version_minor": 0
      },
      "text/plain": [
       "interactive(children=(IntSlider(value=10, description='N', max=40, min=5), IntSlider(value=110, description='s…"
      ]
     },
     "metadata": {},
     "output_type": "display_data"
    }
   ],
   "source": [
    "# layout = ['circular','planar','random']\n",
    "seed_slider = widgets.IntSlider(min=100, max=120, step=2, value=110)\n",
    "N_slider = widgets.IntSlider(min=5, max=40, step=1, value=10)\n",
    "#matrix = ['Adjacency Matrix', 'Laplacian', 'D^-1 A', 'D^-1 L', 'D^-1/2 L D^-1/2']\n",
    "\n",
    "@interact(N=N_slider, seed=seed_slider)\n",
    "def generate_graph_from_adjacency_matrix(N, seed):\n",
    "    \"\"\"\n",
    "    Arguments\n",
    "    N: number of nodes\n",
    "    \"\"\"\n",
    "    np.random.seed(seed)\n",
    "    ints = np.random.randint(0, 2, N * N).reshape(N, N)\n",
    "\n",
    "    # Symmetric array\n",
    "    ints = ints + ints.transpose()\n",
    "    ints = np.clip(ints, 0, 1)\n",
    "\n",
    "    # Different matrices\n",
    "    A = ints\n",
    "    D = np.sum(A, axis=0)\n",
    "    D = np.diag(D)\n",
    "    L = D - A\n",
    "    invD = np.linalg.inv(D)\n",
    "    invDA = A * invD\n",
    "    invDL = invD * L\n",
    "    invDLinvD = np.sqrt(invD) * L * np.sqrt(invD)\n",
    "    \n",
    "    matrix = ['A', 'D', 'L', 'invD', 'invDA', 'invDL', 'invDinvD']\n",
    "    matrices = [A, D, L, invD, invDA, invDL, invDLinvD]\n",
    "    \n",
    "    # Eigenvalues\n",
    "    fig, axes = plt.subplots(3,3, figsize=(10,8))\n",
    "    axes = axes.reshape(-1)\n",
    "    fig.suptitle(\"Eigenvalues of various matrices\")\n",
    "    for i,m in enumerate(matrices): \n",
    "        ax = axes[i]\n",
    "        eigs = np.linalg.eigvals(m)\n",
    "        eigs = np.sort(eigs)[::-1] \n",
    "        ax.set_title(matrix[i])\n",
    "        ax.grid(True)\n",
    "        ax.plot(eigs, '-o')\n",
    "    for i in range(i+1,axes.shape[-1]): axes[i].axis('off')\n",
    "    plt.tight_layout()\n",
    "    plt.show()\n"
   ]
  },
  {
   "cell_type": "markdown",
   "id": "5fe94bb4-da8b-4c7c-ae20-13e01c449dcb",
   "metadata": {
    "id": "5fe94bb4-da8b-4c7c-ae20-13e01c449dcb"
   },
   "source": [
    "***\n",
    "## Same plot as above but allowing for different types of graph types. \n",
    "* Generate the graph, compute the adjacent matrix, and call the previous function\n",
    "\n"
   ]
  },
  {
   "cell_type": "code",
   "execution_count": 9,
   "id": "140af255-b055-45fd-88c6-03001266d8a0",
   "metadata": {
    "id": "140af255-b055-45fd-88c6-03001266d8a0"
   },
   "outputs": [],
   "source": [
    "def generate_graph_from_adjacency_matrix_1(G, N, seed):\n",
    "    \"\"\"\n",
    "    Arguments\n",
    "    N: number of nodes\n",
    "    \"\"\"\n",
    "    np.random.seed(seed)\n",
    "\n",
    "    # Convert to np.ndArray\n",
    "    A = nx.linalg.graphmatrix.adjacency_matrix(G).toarray() \n",
    "    nx.linalg\n",
    "    #print(\"Adj: \", A, \"\\n\", A.shape, \"\\n\", type(A))\n",
    "\n",
    "    # Different matrices\n",
    "    D = np.sum(A, axis=0)\n",
    "    D = np.diag(D)\n",
    "    L = D - A\n",
    "    invD = np.linalg.inv(D)\n",
    "    invDA = A * invD\n",
    "    invDL = invD * L\n",
    "    invDLinvD = np.sqrt(invD) * L * np.sqrt(invD)\n",
    "    \n",
    "    \n",
    "    Ln = nx.normalized_laplacian_matrix(G)\n",
    "    Ln = Ln.toarray() # from sparse array to ndarray\n",
    "    \n",
    "    matrix = ['A', 'D', 'L', 'invD', 'invDA', 'invDL', 'invDinvD', 'Ln']\n",
    "    matrices = [A, D, L, invD, invDA, invDL, invDLinvD, Ln]\n",
    "    \n",
    "    # Eigenvalues\n",
    "    fig, axes = plt.subplots(3,3, figsize=(10,8))\n",
    "    axes = axes.reshape(-1)\n",
    "    fig.suptitle(\"Eigenvalues of various matrices\")\n",
    "    for i,m in enumerate(matrices): \n",
    "        ax = axes[i]\n",
    "        eigs = np.linalg.eigvals(m)\n",
    "        eigs = np.sort(eigs)[::-1] \n",
    "        ax.set_title(matrix[i])\n",
    "        ax.grid(True)\n",
    "        ax.plot(eigs, '-o')\n",
    "    for i in range(i+2,axes.shape[-1]): axes[i].axis('off')\n",
    "    plt.tight_layout()\n",
    "    plt.show()"
   ]
  },
  {
   "cell_type": "code",
   "execution_count": 12,
   "id": "d49f2cd0-58c6-454a-a1d3-0eb304c1af8a",
   "metadata": {
    "colab": {
     "referenced_widgets": [
      "544864f65faf42e6ac7de40f4c0a8f30"
     ]
    },
    "id": "d49f2cd0-58c6-454a-a1d3-0eb304c1af8a",
    "outputId": "39a6ddee-a482-46be-c702-14924b7d1cfb"
   },
   "outputs": [
    {
     "data": {
      "application/vnd.jupyter.widget-view+json": {
       "model_id": "701161969a57409e9e56b40b9f33f07d",
       "version_major": 2,
       "version_minor": 0
      },
      "text/plain": [
       "interactive(children=(IntSlider(value=10, description='nb_nodes', max=30, min=3), IntSlider(value=4, descripti…"
      ]
     },
     "metadata": {},
     "output_type": "display_data"
    }
   ],
   "source": [
    "prob_slider = widgets.FloatSlider(min=0, max=1, step=0.1, value=0.5)\n",
    "node_slider = widgets.IntSlider(min=3, max=30, step=1, value=10)\n",
    "nb_neigh_slider = widgets.IntSlider(min=1, max=10, step=1, value=4)\n",
    "nb_edges_per_node_slider = widgets.IntSlider(min=1, max=20, step=2, value=5)\n",
    "seed_slider = widgets.IntSlider(int=1, max=50, step=1, value=25)\n",
    "graph_type = [\"connected_Hi Toan,\n",
    "\n",
    "I just found out that you never switched your major to an M.S. project. Please do this ASAP. Otherwise you might have issues regarding graduation this semester or this summer. Karey can help you if needed. But you must ask. Thanks. This is your responsibility.\n",
    "\n",
    " Gordonwatts_strogatz\", \"powerlaw_cluster_graph\"]\n",
    "\n",
    "\n",
    "@interact_manual(\n",
    "    nb_nodes=node_slider,\n",
    "    prob=prob_slider,\n",
    "    nb_neigh=nb_neigh_slider,\n",
    "    nb_edges_per_node=nb_edges_per_node_slider,\n",
    "    seed=seed_slider,\n",
    "    graph_type=graph_type,\n",
    "    # directed=True,\n",
    ")\n",
    "def drawGraph(nb_nodes, nb_neigh, prob, seed, nb_edges_per_node, graph_type):\n",
    "    if graph_type == \"connected_watts_strogatz\":\n",
    "        nb_edges_per_node_slider.style.handle_color = 'red'\n",
    "        nb_neigh_slider.style.handle_color = 'black'\n",
    "        nb_tries = 20\n",
    "        edge_prob = prob\n",
    "        G = nx.connected_watts_strogatz_graph(\n",
    "            nb_nodes, nb_neigh, edge_prob, nb_tries, seed\n",
    "        )\n",
    "    elif graph_type == \"powerlaw_cluster_graph\":\n",
    "        nb_neigh_slider.style.handle_color = 'red'\n",
    "        nb_edges_per_node_slider.style.handle_color = 'black'\n",
    "        add_tri_prob = prob\n",
    "        if nb_edges_per_node >= nb_nodes:\n",
    "            nb_edges_per_node = nb_nodes - 1\n",
    "        G = nx.powerlaw_cluster_graph(nb_nodes, nb_edges_per_node, add_tri_prob, seed)\n",
    "\n",
    "    generate_graph_from_adjacency_matrix_1(G, nb_nodes, seed)"
   ]
  },
  {
   "cell_type": "markdown",
   "id": "b1213c7e-40a2-4738-b1dd-430f9fe2922b",
   "metadata": {
    "id": "b1213c7e-40a2-4738-b1dd-430f9fe2922b"
   },
   "source": [
    "Hi Toan,\n",
    "\n",
    "I just found out that you never switched your major to an M.S. project. Please do this ASAP. Otherwise you might have issues regarding graduation this semester or this summer. Karey can help you if needed. But you must ask. Thanks. This is your responsibility.\n",
    "\n",
    " GordonHi Toan,\n",
    "\n",
    "I just found out that you never switched your major to an M.S. project. Please do this ASAP. Otherwise you might have issues regarding graduation this semester or this summer. Karey can help you if needed. But you must ask. Thanks. This is your responsibility.\n",
    "\n",
    " Gordon***\n",
    "### Script added to polish the file"
   ]
  },
  {
   "cell_type": "markdown",
   "id": "466b14f8-75f5-4a8c-9abe-a738924d2bb5",
   "metadata": {
    "id": "466b14f8-75f5-4a8c-9abe-a738924d2bb5",
    "tags": []
   },
   "source": [
    "<script>\n",
    "  $(document).ready(function(){\n",
    "    $('div.prompt').hide();\n",
    "    $('div.back-to-top').hide();\n",
    "    $('nav#menubar').hide();\n",
    "    $('.breadcrumb').hide();\n",
    "    $('.hidden-print').hide();\n",
    "  });\n",
    "</script>\n",
    "\n",
    "<footer id=\"attribution\" style=\"float:right; color:#999; background:#fff;\">\n",
    "Created with Jupyter, delivered by Fastly, rendered by Rackspace.\n",
    "</footer>"
   ]
  },
  {
   "cell_type": "code",
   "execution_count": 10,
   "id": "5fd7b9ae-2eaa-4494-bbc7-407914bc14d4",
   "metadata": {
    "colab": {
     "referenced_widgets": [
      "8e2bf9d727d04d0eb3736e08df6342df"
     ]
    },
    "id": "5fd7b9ae-2eaa-4494-bbc7-407914bc14d4",
    "outputId": "d66d946b-8b9c-4aa2-ed46-459ae95af333",
    "tags": []
   },
   "outputs": [
    {
     "data": {
      "application/vnd.jupyter.widget-view+json": {
       "model_id": "2eff1c81f799469385792d1a8df03b5a",
       "version_major": 2,
       "version_minor": 0
      },
      "text/plain": [
       "interactive(children=(IntSlider(value=7, description='nb_nodes', max=20, min=3), IntSlider(value=4, descriptio…"
      ]
     },
     "metadata": {},
     "output_type": "display_data"
    }
   ],
   "source": [
    "prob_slider = widgets.FloatSlider(min=0, max=1, step=0.1, value=0.5, description=\"Probability\")\n",
    "node_slider = widgets.IntSlider(min=3, max=20, step=1, value=7)\n",
    "nb_neigh_slider = widgets.IntSlider(min=1, max=10, step=1, value=4)\n",
    "nb_edges_per_node_slider = widgets.IntSlider(min=1, max=20, step=2, value=5)\n",
    "seed_slider = widgets.IntSlider(int=1, max=50, step=1, value=25)\n",
    "graph_type = [\"connected_watts_strogatz\", \"powerlaw_cluster_graph\", \"circular_graph\"]\n",
    "\n",
    "# Also draw the eigenfunctions for the cyclic case where the nodes are arranged in a circular layout, \n",
    "# with labels in the nodes\n",
    "\n",
    "\n",
    "@interact_manual(\n",
    "    nb_nodes=node_slider,\n",
    "    prob=prob_slider,\n",
    "    nb_neigh=nb_neigh_slider,\n",
    "    nb_edges_per_node=nb_edges_per_node_slider,\n",
    "    seed=seed_slider,\n",
    "    graph_type=graph_type,\n",
    ")\n",
    "def drawGraphEigenvalues(nb_nodes, nb_neigh, prob, seed, nb_edges_per_node, graph_type):\n",
    "    if graph_type == \"connected_watts_strogatz\":\n",
    "        nb_edges_per_node_slider.style.handle_color = \"red\"\n",
    "        nb_neigh_slider.style.handle_color = \"black\"\n",
    "        nb_tries = 20\n",
    "        edge_prob = prob\n",
    "        G = nx.connected_watts_strogatz_graph(\n",
    "            nb_nodes, nb_neigh, edge_prob, nb_tries, seed\n",
    "        )\n",
    "    elif graph_type == \"powerlaw_cluster_graph\":\n",
    "        nb_neigh_slider.style.handle_color = \"red\"\n",
    "        nb_edges_per_node_slider.style.handle_color = \"black\"\n",
    "        add_tri_prob = prob\n",
    "        if nb_edges_per_node >= nb_nodes:\n",
    "            nb_edges_per_node = nb_nodes - 1\n",
    "        G = nx.powerlaw_cluster_graph(nb_nodes, nb_edges_per_node, add_tri_prob, seed)\n",
    "    elif graph_type == \"circular_graph\":\n",
    "        nb_neigh_slider.style.handle_color = \"red\"\n",
    "        nb_edges_per_node_slider.style.handle_color = \"red\"\n",
    "        nb_neigh_slider.style.handle_color = \"red\"\n",
    "        prob_slider.style.handle_color = \"red\"\n",
    "        seed_slider.style.handle_color = \"red\"\n",
    "\n",
    "        G = nx.Graph()\n",
    "        for n in range(nb_nodes):\n",
    "            G.add_node(n)\n",
    "        for n in range(nb_nodes):\n",
    "            G.add_edge(n, n + 1)\n",
    "        G.add_edge(nb_nodes - 1, 0)\n",
    "\n",
    "    spec_lib.generate_eigenvectors_from_adjacency_matrix_1(G, nb_nodes, seed)"
   ]
  },
  {
   "cell_type": "code",
   "execution_count": 11,
   "id": "523416cc-781a-4c42-8145-7add99d3e900",
   "metadata": {
    "colab": {
     "referenced_widgets": [
      "fe24a298d8744e34a14603274b727ae5"
     ]
    },
    "id": "523416cc-781a-4c42-8145-7add99d3e900",
    "outputId": "6b924b33-a84e-4d2a-c41a-3a0f537a4f86"
   },
   "outputs": [
    {
     "data": {
      "application/vnd.jupyter.widget-view+json": {
       "model_id": "cd33a6e2b4a14d4080aeba28a99cba85",
       "version_major": 2,
       "version_minor": 0
      },
      "text/plain": [
       "interactive(children=(IntSlider(value=5, description='N', max=10, min=3), IntSlider(value=100, description='se…"
      ]
     },
     "metadata": {},
     "output_type": "display_data"
    }
   ],
   "source": [
    "# Test Eigenfunction, sorting, etc. by creating a matrix whose eigenvalues I know\n",
    "N_slider = widgets.IntSlider(min=3, max=10, step=1, value=5)\n",
    "seed_slider = widgets.IntSlider(min=100, max=200, step=1)\n",
    "\n",
    "\n",
    "@interact(N=N_slider, seed=seed_slider)\n",
    "def test_eigen(N, seed):\n",
    "    # generate eigenvalues\n",
    "    np.random.seed(seed)\n",
    "    # large variance for wider spread of spectrum\n",
    "    eigens = (20.0 + 100.0 * np.random.randn(N)) / 20\n",
    "    eigens = np.where(eigens < 0, -eigens, eigens)\n",
    "    print(\"eigens= \", eigens)\n",
    "    print(\"eigens[0]= \", eigens[0])\n",
    "    print(\"eigens[1]= \\n\", eigens[1])\n",
    "    # print(\"eigens= \\n\", eigens)\n",
    "    eigens = np.diag(eigens)\n",
    "    ee = np.linalg.eig(eigens)\n",
    "    print(\"ee= \\n\",  ee)\n",
    "    print(\"ee[0]= \", ee[0], type(ee[0]))\n",
    "    print(\"ee[1]= \\n\", ee[1])\n",
    "    \n",
    "    args = np.argsort(ee[0])\n",
    "    print(\"args:\", args, type(args))\n",
    "    ee0 = ee[0][args]\n",
    "    ee1 = ee[1][:,args]\n",
    "    print(\"sorted ee\")\n",
    "    print(\"ee[0]= \", ee0)\n",
    "    print(\"ee[1]= \\n\", ee1)\n",
    "    recursivelyrecursively\n",
    "    \n",
    "    # create eigenvectors\n",
    "    x = ortho_group.rvs(N)\n",
    "    # Similarity transform (eigenvalues of A are invariant)\n",
    "    A = x.T @ eigens @ x\n",
    "    # A = x @ np.linalg.inv(x)\n",
    "    # print(\"A= \\n\", A)\n",
    "    # print(\"x.T= \\n\", x.T)\n",
    "    # print(\"inv(x)= \\n\", np.linalg.inv(x))\n",
    "    eigens = np.linalg.eig(A)\n",
    "    args = np.argsort(eigens[0])\n",
    "    print(\"===============================\")\n",
    "    print(\"args: \\n\", args)\n",
    "    eigs = eigens[0][args]\n",
    "    print(\"unsorted eigs: \\n\", eigens[0])\n",
    "    print(\"sorted eigs: \\n\", eigs)\n",
    "    eigv = eigens[1][:,args]\n",
    "    print(\"unsorted x:\\n \", x.T)\n",
    "    print(\"unsorted eigv: \\n\", eigens[1])\n",
    "    print(\"sorted x: \\n\", x.T[:,args])\n",
    "    print(\"sorted eigv= \\n\", eigv)\n",
    "\n",
    "    pass"
   ]
  },
  {
   "cell_type": "markdown",
   "id": "68ccfef3-10cc-48c8-aff2-2f982c43ee75",
   "metadata": {
    "id": "37a825c9-aaa4-48b5-b5ee-ea1a995e5d78"
   },
   "source": [
    "# Exploration of eigenvalue and eigenfunctions for the 1-D cyclic non-cyclic cases\n",
    "As we have seen,  a signal $s^1=(s_0, s_1, \\cdots, s_{N-1})\\in\\Re{N}$, is transformed into a signal $s^2\\in\\Re{N}$ by a filter $H$ according to \n",
    "$$ s^2 = H s^1$$  where $H$ is a matrix in $\\Re{N\\times N}$. Applying this filter recursively, one finds that \n",
    "\\begin{align}\n",
    "s^3 &= H s^2 \\\\\n",
    "s^4 &= H s^3 \\\\\n",
    "s^l &= H s^{l-1}\n",
    "\\end{align}\n",
    "If this is done a large number of times, and if one assumes convergence of $s^l$ to a vector of finite norm, one finds in the limit: \n",
    "$$\n",
    "s^\\infty = H s^\\infty\n",
    "$$\n",
    "which states that $s^\\infty$ is an eigenvector of the filter $H$ with a unit eigenvalue $\\lambda=1$. recursivelyrecursively"
   ]
  },
  {
   "cell_type": "code",
   "execution_count": null,
   "id": "cd7058aa-bfbf-4b0d-ba94-d7d9a351f57b",
   "metadata": {
    "id": "cd7058aa-bfbf-4b0d-ba94-d7d9a351f57b"
   },
   "outputs": [],
   "source": []
  },
  {
   "cell_type": "code",
   "execution_count": null,
   "id": "921ae72a-bd52-44c3-a75c-37ffe2f31fc5",
   "metadata": {
    "id": "921ae72a-bd52-44c3-a75c-37ffe2f31fc5"
   },
   "outputs": [],
   "source": []
  }
 ],
 "metadata": {
  "colab": {
   "name": "Spectral.ipynb",
   "provenance": []
  },
  "kernelspec": {
   "display_name": "Python 3",
   "language": "python",
   "name": "python3"
  },
  "language_info": {
   "codemirror_mode": {
    "name": "ipython",
    "version": 3
   },
   "file_extension": ".py",
   "mimetype": "text/x-python",
   "name": "python",
   "nbconvert_exporter": "python",
   "pygments_lexer": "ipython3",
   "version": "3.6.13"
  },
  "widgets": {
   "application/vnd.jupyter.widget-state+json": {}
  }
 },
 "nbformat": 4,
 "nbformat_minor": 5
}
