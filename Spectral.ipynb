{
 "cells": [
  {
   "cell_type": "markdown",
   "id": "31c64e77-ed86-408a-99a2-edc6224f9b5c",
   "metadata": {
    "id": "31c64e77-ed86-408a-99a2-edc6224f9b5c"
   },
   "source": [
    "<script>\n",
    "  jQuery(document).ready(function($) {\n",
    "\n",
    "  $(window).load(function(){\n",
    "    $('#preloader').fadeOut('slow',function(){$(this).remove();});\n",
    "  });\n",
    "\n",
    "  });\n",
    "</script>\n",
    "\n",
    "<style type=\"text/css\">\n",
    "  div#preloader { position: fixed;\n",
    "      left: 0;\n",
    "      top: 0;\n",
    "      z-index: 999;\n",
    "      width: 100%;\n",
    "      height: 100%;\n",
    "      overflow: visible;\n",
    "      background: #fff url('http://preloaders.net/preloaders/720/Moving%20line.gif') no-repeat center center;\n",
    "  }\n",
    "\n",
    "</style>\n",
    "\n",
    "<div id=\"preloader\"></div>"
   ]
  },
  {
   "cell_type": "markdown",
   "id": "9d76e2fb-b3fd-462f-a932-a57719bf9a37",
   "metadata": {
    "id": "9d76e2fb-b3fd-462f-a932-a57719bf9a37",
    "tags": []
   },
   "source": [
    "<script>\n",
    "  function code_toggle() {\n",
    "    if (code_shown){\n",
    "      $('div.input').hide('500');\n",
    "      $('#toggleButton').val('Show Code')\n",
    "    } else {\n",
    "      $('div.input').show('500');\n",
    "      $('#toggleButton').val('Hide Code')\n",
    "    }\n",
    "    code_shown = !code_shown\n",
    "  }\n",
    "\n",
    "  $( document ).ready(function(){\n",
    "    code_shown=false;\n",
    "    $('div.input').hide()\n",
    "  });\n",
    "</script>\n",
    "<form action=\"javascript:code_toggle()\"><input type=\"submit\" id=\"toggleButton\" value=\"Show Code\"></form>"
   ]
  },
  {
   "cell_type": "markdown",
   "id": "6b0f62ef-9c6f-4735-8e33-e699dafd3e5f",
   "metadata": {
    "id": "6b0f62ef-9c6f-4735-8e33-e699dafd3e5f",
    "tags": []
   },
   "source": [
    "### Latex Macros\n",
    "$\\newcommand{\\Re}[1]{{\\mathbb{R}^{{#1}}}}\n",
    "\\newcommand{\\Rez}{{\\mathbb{R}}}$"
   ]
  },
  {
   "cell_type": "code",
   "execution_count": 1,
   "id": "3d77eb50-6fe1-4c9a-8bf2-477483fb20c1",
   "metadata": {},
   "outputs": [
    {
     "name": "stderr",
     "output_type": "stream",
     "text": [
      "UsageError: Line magic function `%tableofcontentsf` not found.\n"
     ]
    }
   ],
   "source": [
    "%load_ext autoreload\n",
    "%autoreload 2\n",
    "%tableofcontentsf"
   ]
  },
  {
   "cell_type": "code",
   "execution_count": 2,
   "id": "7f1b6238-be73-4338-9efa-4b46546129f1",
   "metadata": {
    "id": "7f1b6238-be73-4338-9efa-4b46546129f1"
   },
   "outputs": [],
   "source": [
    "import copy\n",
    "\n",
    "import ipywidgets as widgets\n",
    "import matplotlib.pyplot as plt\n",
    "import networkx as nx\n",
    "import numpy as np\n",
    "import sympy\n",
    "from ipywidgets import fixed, interact, interact_manual, interactive\n",
    "from scipy.stats import ortho_group  # compute unitary matrices\n",
    "\n",
    "import spectral_function_library as spec_lib\n",
    "\n",
    "%matplotlib inline"
   ]
  },
  {
   "cell_type": "markdown",
   "id": "07a27398-833c-437d-917f-b536ff0df483",
   "metadata": {
    "id": "07a27398-833c-437d-917f-b536ff0df483",
    "tags": []
   },
   "source": [
    "# Convolution Neural Networks \n",
    "Material is taken from [this Blog](https://www.instapaper.com/read/1477946505)\n",
    "\n",
    "Starting from an RGB image: \n",
    "\n",
    "<img src=\"images/rgb_image_2022-01-24_10-15-38.png\" width=\"800\">\n",
    "\n",
    "the idea is pass this image through as series of steps in order to extract information. The filter is used for this task. \n",
    "\n",
    "<img src=\"images/convolution_2022-01-24_10-17-28.png\" width=\"800\">\n",
    "\n",
    "after image src.\n",
    "\n",
    "<img src=\"images/multihead_2022-01-24_10-19-47.png\" width=\"800\">\n",
    "\n",
    "<img src=\"images/step-by-step_2022-01-24_10-18-45.png\" width=\"800\">\n",
    "\n",
    "\n",
    "## Two important points about the convolutional layer: \n",
    "\n",
    "1. The filter is identical for each pixel. This reduces the number of parameters to calculate. \n",
    "The constant filter helps satisfy the inductive bias of *translation invariance*. \n",
    "\n",
    "2. The convolution is local to the image pixel to which it is applied. Thus, the structure of the image is taken into account during the calculation. \n",
    "\n",
    "A typical CNN architecture: \n",
    "\n",
    "<img src=\"images/cnn_2022-01-24_10-25-56.png\" width=\"800\">"
   ]
  },
  {
   "cell_type": "markdown",
   "id": "67915400-4c26-49bc-83eb-e7091265fec8",
   "metadata": {
    "id": "67915400-4c26-49bc-83eb-e7091265fec8"
   },
   "source": [
    "jupyter nbextension enable --py widgetsnbextensionjupyter nbextension enable --py widgetsnbextensionjupyter nbextension enable --py widgetsnbextensionjupyter nbextension enable --py widgetsnbextension# Alternative view of CNN\n",
    "\n",
    "<img src=\"images/image_graph_2022-01-24_11-00-16.png\" width=\"800\">\n",
    "\n",
    "* An image can be considered to be a graph\n",
    "* The nodes $V$ are the centers of the pixels\n",
    "* If a filter has width 3, each nodes is connected to $8 * d$ adjacent nodes, where $d$ is the number of channels"
   ]
  },
  {
   "cell_type": "markdown",
   "id": "0b027997-855d-455e-83e2-72f83db7fc8b",
   "metadata": {
    "id": "0b027997-855d-455e-83e2-72f83db7fc8b"
   },
   "source": [
    "# Motivation\n",
    "Consider a set of nodes $x_i$, and associated attributes $y_i$. This can be graphed. Let us connect these nodes with edges $e_{ij} = (x_i, x_{i+1})$."
   ]
  },
  {
   "cell_type": "code",
   "execution_count": 3,
   "id": "ec17bb6b-cc14-4803-82dc-60a05f18f7bc",
   "metadata": {
    "colab": {
     "referenced_widgets": [
      "cd7819c371444b5f9547f35f61b1bc7c"
     ]
    },
    "id": "ec17bb6b-cc14-4803-82dc-60a05f18f7bc",
    "outputId": "caa302cd-2b83-4d4c-e8fe-9375dd9c58fe"
   },
   "outputs": [
    {
     "data": {
      "application/vnd.jupyter.widget-view+json": {
       "model_id": "13b9983fd4e54f3e82343156873f47ee",
       "version_major": 2,
       "version_minor": 0
      },
      "text/plain": [
       "interactive(children=(IntSlider(value=22, description='N', max=40, min=5), Output()), _dom_classes=('widget-in…"
      ]
     },
     "metadata": {},
     "output_type": "display_data"
    }
   ],
   "source": [
    "@interact(N=(5, 40))\n",
    "def plot1d(N):\n",
    "    x = np.linspace(0, 10, N)\n",
    "    plt.plot(x, 0 * x, \"-o\")\n",
    "    plt.show()"
   ]
  },
  {
   "cell_type": "markdown",
   "id": "06658660-1785-41e0-9463-044a0ad96222",
   "metadata": {
    "id": "06658660-1785-41e0-9463-044a0ad96222"
   },
   "source": [
    "Add an attribute to each of these nodes. I will add a random noise in $N(0,\\sigma)$ and $\\sigma=1.5$, which is fairly large. \n",
    "\n",
    "Consider the problem of computing *embeddings* of each node with the requirement that nearby nodes with similar attributes should have similar embeddings. \n",
    "\n",
    "Without further constraints imposed on the problem (also called *inductive biases*, we will apply a local transformation to this function, and specifically an averaging operation. We will replace $y_i$ by the average of its neighbors :\n",
    "$$ y_i \\longrightarrow \\frac12 (y_{i-1} + y_{i+1})$$\n",
    "The boundary points need special treatment. There are three main ehoices: \n",
    "1. Do not move the point\n",
    "2. Move the point in such a way as to satisfy some condition on the slope.\n",
    "3. Develop an algorithm that figures out the proper treatment\n",
    "\n",
    "We will consider the first choice for simplicity. For future reference, we call the collection of points $V$, the collection of edges $E$. We denote the boundary nodes by $\\partial V$, and the boundary edges (edges attached to $\\partial V$ by $\\partial E$, which is a common notation in discrete and differential geometry. "
   ]
  },
  {
   "cell_type": "code",
   "execution_count": 4,
   "id": "ac43e403-5060-4019-8ebb-25c592440e89",
   "metadata": {
    "colab": {
     "referenced_widgets": [
      "03105b7a1b9a4a98b734b684a533e5c6"
     ]
    },
    "id": "ac43e403-5060-4019-8ebb-25c592440e89",
    "outputId": "249a7bb2-8239-42e2-cd89-9d79106317be"
   },
   "outputs": [
    {
     "data": {
      "application/vnd.jupyter.widget-view+json": {
       "model_id": "f2436b1832bc4f8c9743499c88c3573d",
       "version_major": 2,
       "version_minor": 0
      },
      "text/plain": [
       "interactive(children=(IntSlider(value=50, description='seed', min=1), FloatSlider(value=0.75, description='eps…"
      ]
     },
     "metadata": {},
     "output_type": "display_data"
    }
   ],
   "source": [
    "@interact(seed=(1, 100), eps=(0, 1.5), N=(5, 40))\n",
    "def plot1d(seed, eps, N):\n",
    "    np.random.seed(seed)\n",
    "    x = np.linspace(0, 10, N)\n",
    "    noise = eps * np.random.randn(N)\n",
    "    y = np.sin((x / x[-1]) * 2 * np.pi * 2.5) + noise\n",
    "    plt.plot(x, y, \"-o\")\n",
    "    plt.show()"
   ]
  },
  {
   "cell_type": "markdown",
   "id": "664098e0-65b1-4e7f-976d-638ff6b33941",
   "metadata": {
    "id": "664098e0-65b1-4e7f-976d-638ff6b33941"
   },
   "source": [
    "More generally, each point might have multiple attribute. Thus, the node $x_i$, would have $d$ attributes $y_0, \\cdots, y_{d-1}$. These attributes could be categorical or continuous, and the categorical attributes could be nominal (there is nor ordering, such as 'red', 'blue', 'orange') or ordinal (bad, poor, average, good, very good excellent). "
   ]
  },
  {
   "cell_type": "code",
   "execution_count": 5,
   "id": "74d26da2-61bd-4784-9c32-adb19c1f0164",
   "metadata": {
    "colab": {
     "referenced_widgets": [
      "a26da3d6eca14899b2113eac123d83db"
     ]
    },
    "id": "74d26da2-61bd-4784-9c32-adb19c1f0164",
    "outputId": "8f47cb09-9f86-4235-e619-0e021c07e4f0"
   },
   "outputs": [
    {
     "data": {
      "application/vnd.jupyter.widget-view+json": {
       "model_id": "cf13b258bdbb446690e6f9a672370ee7",
       "version_major": 2,
       "version_minor": 0
      },
      "text/plain": [
       "interactive(children=(IntSlider(value=50, description='Seed', min=1), FloatSlider(value=0.3, description='Nois…"
      ]
     },
     "metadata": {},
     "output_type": "display_data"
    }
   ],
   "source": [
    "dSlider = widgets.IntSlider(min=1, max=5, value=3, description=\"Nb Attributes\")\n",
    "seedSlider = widgets.IntSlider(min=1, max=100, value=50, description=\"Seed\")\n",
    "epsSlider = widgets.FloatSlider(\n",
    "    min=0.0, max=1.5, value=0.30, description=\"Noise $\\sigma$\"\n",
    ")\n",
    "\n",
    "\n",
    "@interact(seed=seedSlider, eps=epsSlider, N=(5, 40), d=dSlider, nb_blur_iter=(0, 5))\n",
    "def plot1d(seed, eps, N, d, nb_blur_iter):\n",
    "    np.random.seed(seed)\n",
    "    eps = eps * np.array([1.0, 2.0, 0.5, 3.0, 4.0])\n",
    "    x = np.linspace(0, 10, N)\n",
    "    noise = np.random.randn(d, N)\n",
    "    y = np.zeros([5, N])\n",
    "    fcts = {}\n",
    "    fcts[0] = np.sin((x / x[-1]) * 2 * np.pi * 2.5)\n",
    "    fcts[1] = 1.5 * np.cos((x / x[-1]) * 2 * np.pi * 2.5) ** 2\n",
    "    fcts[2] = x ** 2 / 10 * np.exp(3 - 0.5 * x)\n",
    "    fcts[3] = np.cos((x / x[-1]) * 2 * np.pi * 4.5)\n",
    "    fcts[4] = 1.5 * np.cos((x / x[-1]) * 2 * np.pi * 2.5)\n",
    "    for i in range(0, 5):\n",
    "        y[i] = fcts[i]\n",
    "\n",
    "    for i in range(0, d):\n",
    "        y[i] += eps[i] * noise[i]\n",
    "\n",
    "    yy = copy.copy(y)\n",
    "\n",
    "    for i in range(0, d):\n",
    "        for n in range(0, nb_blur_iter):\n",
    "            yy[i][0] = y[i][0]\n",
    "            yy[i][N - 1] = y[i][N - 1]\n",
    "            yy[i][1 : N - 2] = 0.5 * (y[i][0 : N - 3] + y[i][2 : N - 1])\n",
    "            y = copy.copy(yy)\n",
    "\n",
    "    for i in range(0, d):\n",
    "        plt.plot(x, yy[i], \"-o\")\n",
    "    plt.grid(True)\n",
    "    plt.ylim(-2, 5)\n",
    "    plt.show()"
   ]
  },
  {
   "cell_type": "markdown",
   "id": "91144ff1-5c17-42e8-9439-5da6ca49968a",
   "metadata": {
    "id": "91144ff1-5c17-42e8-9439-5da6ca49968a"
   },
   "source": [
    "So far, I am describing vector-valued discrete functions of $x$, which is a 1-D representation of a graph $d$ attributes at each node $x_i$. More generally, nodes are points in *some* space, which can be 1-D, 2-D, higher-D, or more abstract, namely, a space of *points*. \n",
    "\n",
    "Now consider adding attributes $y_{Eij}$ to the edges. What kind of transformation functions should one consider? \n",
    "\n",
    "This averaging function is an example of a local filter defined in physical space. This filter takes attributes at nodes and transforms them into a new set of number defined at these same nodes. More generally, in Graph Neural networks, we will consider operators that take attributes defined at nodes, edges, and the graph, and transform them into a new set of vectors defined on these same nodes, vectors and graphs. \n",
    "\n",
    "Filters can be defined either in physical space or in spectral space. We will illustrate the concept by considering the derivative operator on continuous and discrete grids."
   ]
  },
  {
   "cell_type": "markdown",
   "id": "58cd8516-8c45-42a6-930c-cce0792d33cc",
   "metadata": {
    "id": "58cd8516-8c45-42a6-930c-cce0792d33cc"
   },
   "source": [
    "## First Derivative operator (also a filter) on 1D grid in physical space\n",
    "Consider points $x_i$, $i=0,\\cdots, N-1$ connected by edges $e_{i,i+1} = (x_i, x_{i+1})$. The central difference operator of the function $f_i = f(x_i)$ is defined by\n",
    "$$\n",
    "f'_i = \\frac{f_{i+1} - f_{i-1}}{x_{i+1} - x_{i-1}}\n",
    "$$ for $i=1,\\cdots,N-2$, with one-sided operators defined at the boundaries (which is one of many possibilities): \n",
    "\\begin{align}\n",
    "f'_0 &= \\frac{f_1 - f_0}{x_1-x_0} \\\\\n",
    "f'_{N-1} &= \\frac{f_{N-1} - f_{N-2}}{x_{N-1} - x_{N-2}}\n",
    "\\end{align}\n",
    "where $f'_i$ is the approximation of $f'(x)$ evaluated at $x=x_i$. Note that the derivative can be expressed as a vector \n",
    "$f' = (f'_0,\\cdots,f'_{N-1})$, and $f'_i$ is linear with respect to the values $f_j$. Therefore one can write the matrix \n",
    "expression: \n",
    "$$ f' = D f $$\n",
    "where $D \\in \\Re{N\\times N}$ is an $N \\times N$ matrix.  The matrix $D$ is a derivative filter. More specifically, it is a \n",
    "*global* filter since it updates the values at all nodes at once. To the contrary, a *local* filter is defined as the matrix that updates the derivative at a single point. Thus: \n",
    "$$\n",
    "f'_i = (\\begin{matrix}-\\alpha & 0 & \\alpha\\end{matrix})^T \n",
    "   (\\begin{matrix} f_{i+1} & 0 & f_{i-1}) \\end{matrix}\n",
    "$$\n",
    "where a superscript $T$ denotes transpose, and $\\alpha = (x_{i+1} - x_{i-1})^{-1}$. Clearly, the local \n",
    "filter is local to the point at which it applies. The new value only depends on the values of its immediate neighbors. "
   ]
  },
  {
   "cell_type": "markdown",
   "id": "b661f497-627b-4285-98fb-b37e5781c0a2",
   "metadata": {
    "id": "b661f497-627b-4285-98fb-b37e5781c0a2",
    "tags": []
   },
   "source": [
    "***\n",
    "# Spectral Analysis of graphs\n",
    "## Continuous Fourier Transform (CFT)\n",
    "When working in the continuous domain $\\Rez$, a function $f(x)\\in\\Rez$ has a Fourier Transform $\\hat{f}(k)$ related by \n",
    "$$  \\hat{f}(k) = \\frac{1}{2\\pi} \\int_{-\\infty}^\\infty e^{\\iota k x} f(x) \\, dx $$\n",
    "Conversely, one can apply a similar operation to recover $f(x)$ from its Fourier Transform: \n",
    "\n",
    "$$ f(x) = \\frac{1}{2\\pi} \\int_{-\\infty}^\\infty e^{-\\iota k x} \\hat{f}(k) \\, dk $$\n",
    "\n",
    "Notice the sign in the exponent: positive when transforming from physical to Fourier space, and negative when returning to physical space. The sign is a convention. Different authors might use the opposite sign. So always pay attention to the conventions in any paper you read. \n",
    "\n",
    "(you should all have learned about the Fourier transform previously). \n",
    "\n",
    "Let us compute the first derivative of $f(x)$: \n",
    "$$\\frac{d}{dx} f(x) = f'(x)$$\n",
    "The conventional approach would be to calculate the derivative manually, or discretize the expression in physical space. However, the alternative is to compute the derivative by first transforming the expression to Fourier (also called spectral) space: "
   ]
  },
  {
   "cell_type": "markdown",
   "id": "2da8b978-f9b9-463f-af8d-0f55471e1d09",
   "metadata": {
    "id": "2da8b978-f9b9-463f-af8d-0f55471e1d09"
   },
   "source": [
    "\\begin{align}\n",
    " \\frac{d}{dx} f(x) &= \\frac{d}{dx} \\frac{1}{2\\pi} \\int_{-\\infty}^\\infty e^{-\\iota k x} \\hat{f}(k)  d k  \\\\ \n",
    " &=  \\frac{1}{2\\pi} \\int_{-\\infty}^\\infty (-\\iota k) e^{-\\iota k x} \\hat{f}(k) dk \\\\\n",
    " &= \\cal{F}^{-1} [-\\iota  k \\hat{f}(k)]\n",
    "\\end{align}\n",
    "where \n",
    "\\begin{align}\n",
    "\\cal{F}f(x) &= \\hat{f}(k) \\\\\n",
    "\\cal{F}^{-1} \\hat{f}(k) &= f(x) \\\\\n",
    "\\end{align}"
   ]
  },
  {
   "cell_type": "markdown",
   "id": "28f41cba-fafc-4fc6-b93a-e8343a89edfd",
   "metadata": {
    "id": "28f41cba-fafc-4fc6-b93a-e8343a89edfd"
   },
   "source": [
    "So to given a function $f(x)$, one can compute the derivative with the following three steps: \n",
    "1.  $f(x) \\longrightarrow \\hat{f}(k)$\n",
    "2.  $\\hat{f}(k) \\longrightarrow (-\\iota k) \\hat{f}(k)$\n",
    "3.  $(-\\iota k)\\hat{f}(k) \\longrightarrow \\cal{F}^{-1} \\left[(-\\iota k)\\hat{f}(k)\\right] = \\frac{d}{dx} f(x)$"
   ]
  },
  {
   "cell_type": "markdown",
   "id": "6ab4ce30-62b6-4305-9407-131e75eaa0a5",
   "metadata": {
    "id": "6ab4ce30-62b6-4305-9407-131e75eaa0a5"
   },
   "source": [
    "Thus, the derivative operation is applied in Fourier space. A complex operation in physical space becomes a simple multiplication in Fourier space, *at the cost* of two Fourier Transforms. "
   ]
  },
  {
   "cell_type": "markdown",
   "id": "cba007b6-fae6-426c-a2ff-adb9f60e8e2c",
   "metadata": {
    "id": "cba007b6-fae6-426c-a2ff-adb9f60e8e2c",
    "tags": []
   },
   "source": [
    "### Fourier Spectrum\n",
    "$\\hat{f}(k)$ is called the Fourier Spectrum and is generally a complex variable. \n",
    "$P(k) = |\\hat{f}(k)|^2$ is the power spectrum, and satisfies the property: \n",
    "$$\n",
    "\\int_{-\\infty}^\\infty P(k) dk = \\int_{-\\infty}^\\infty |\\hat{f}(k)|^2 dx = \\int_{-\\infty}^\\infty |f(x)|^2 dx\n",
    "$$\n",
    "a rule that generalizes to and holds in $\\Re{n}$. "
   ]
  },
  {
   "cell_type": "markdown",
   "id": "b8b33b3f-3156-4c7c-8519-e1810e989e85",
   "metadata": {
    "id": "eada57f0-bf8f-42c3-a1db-d2762655a498"
   },
   "source": [
    "### Filter\n",
    "The coefficient $(-\\iota k)$ above is an example of a complex operator in Fourier space. This operator tranforms a function $\\hat{f}(k)$ into a \"filtered\" function $\\hat{g}(k)$: \n",
    "$$\n",
    "\\hat{g}(k) = (-\\iota k) \\hat{f}(k)\n",
    "$$\n",
    "and in this particular case, results in the Fourier transform of the $x$-derivative of $f(x)$. More generally, one can define an operator $\\hat{H}(k)$ acting on $\\hat{f}(k)$, which \"shapes\" the power spectrum, leading to filters with different characteristics: low-pass, band-pass, high-pass, custom. \n",
    "\n",
    "Given a function $f(x)$, the resulting filtered function $f_H(x)$ can be defined similarly to the derivative: \n",
    "\n",
    "\\begin{align}\n",
    " f(x) & \\longrightarrow \\cal{F}(f(x)) = \\hat{f}(k) \\\\\n",
    "  \\hat{f}(k) & \\longrightarrow \\hat{H}(k) \\hat{f}(k) \\\\\n",
    " \\hat{H}(k)\\hat{f}(k) & \\longrightarrow \\cal{F}^{-1} (\\hat{H}(k)\\hat{f}(k)) = f_H(x)\n",
    "\\end{align}\n",
    "\n",
    "We will often omit the argument $x$ or $k$, letting the \"hat\" notation indicate whether or not we are in Fourier space. Thus, we can write\n",
    "$$\n",
    "f_H = \\cal{F}^{-1} [\\hat{H} \\; \\cal{F}(f) ]\n",
    "$$ or the equivalent form (requiring the definition of product of operators): \n",
    "\n",
    "\\begin{align}\n",
    "f_H &= (\\cal{F}^{-1} \\, \\hat{H} \\, \\cal{F}) \\; f \\\\\n",
    "   &= H f\n",
    "\\end{align}\n",
    "which defines the filter $H(x)$ in physical space, acting on $f(x)$ to produce $f_H(x)$: \n",
    "$$\n",
    "f_H(x)   = H(x) * f(x)\n",
    "$$\n",
    "where $*$ denotes the convolution operator: \n",
    "$$\n",
    "H(x) * f(x) = \\int_{-\\infty}^\\infty H(x-s) f(s) \\, ds\n",
    "$$"
   ]
  },
  {
   "cell_type": "markdown",
   "id": "44b1eb74-84ff-41d8-bfd8-18ed6fac77a3",
   "metadata": {
    "id": "eada57f0-bf8f-42c3-a1db-d2762655a498"
   },
   "source": [
    "## Formal proof of convolution theorem in continuous space\n",
    "We start with the relation: \n",
    "$$ H = \\cal{F}^{-1} \\hat{H} \\cal{F} $$\n",
    "and express both sides of the equation in integral form: \n",
    "\\begin{align}\n",
    "\\int e^{-\\iota k x} \\left( \\hat{H}(k)\\hat{f}(k)\\right) \\, dk &=\n",
    "   \\int e^{-\\iota k x}\\, dk \\left( \\int e^{\\iota k x''} H(x'')\\,dx'' \\int e^{\\iota k x'} f(x') \\, dx' \\right) \\\\\n",
    "     &= \\int dk \\int e^{\\iota k (x'' + x' - x)} H(x'') f(x) \\, dx' \\, dx''\n",
    "\\end{align}\n",
    "Now make use of the following integral definition of the Dirac function: \n",
    "$$\n",
    "\\int e^{\\iota k x} \\, dk = 2\\pi \\delta(x)\n",
    "$$\n",
    "which leads to\n",
    "\\begin{align}\n",
    "\\int e^{-\\iota k x} \\left( \\hat{H}(k)\\hat{f}(k)\\right) \\, dk &=\n",
    "  \\int dk \\int e^{\\iota k (x'' + x' - x)} H(x'') f(x') \\, dx' \\, dx'' \\\\\n",
    "&= 2\\pi \\int \\delta(x'' + x' - x) H(x'') f(x') \\, dx' \\, dx'' \\\\\n",
    "&= 2\\pi \\int H(x-x') f(x') \\, dx' \\\\\n",
    "&= C \\; H(x) * f(x) = L(x)\n",
    "\\end{align}\n",
    "where $C$ is a constant of proportionality. \n",
    "I was not careful with constants in front of the integrals when taking Fourier transforms and their \n",
    "inverses. \n",
    "\n",
    "We thus find that \n",
    "$$\n",
    "\\cal{F}^{-1} \\left(\\hat{H}(k)\\hat{f}(k)\\right) =  H * f\n",
    "$$\n",
    "Careful calculations show that the constant $C=1$. \n",
    "\n",
    "Integrating $A(x)$ over $x$ leads to: \n",
    "$$\n",
    "\\int \\hat{H}(k) \\hat{f}(k) \\, dk = \\int H(x) f(x) \\, dx\n",
    "$$\n",
    "often referred to as [Plancherel's identity](https://en.wikipedia.org/wiki/Parseval%27s_identity).\n",
    "\n",
    "All integrals are taken over the domain $[-\\infty, \\infty]$. "
   ]
  },
  {
   "cell_type": "markdown",
   "id": "772302f1-790b-4bfb-af4e-e099ec6344f6",
   "metadata": {
    "id": "772302f1-790b-4bfb-af4e-e099ec6344f6"
   },
   "source": [
    "---\n",
    "# Ideal Low-, Mid-, High-pass filters\n",
    "## Low-pass filter\n",
    "\n",
    "\\begin{align}\n",
    "H(k) &= 1, \\hspace{1in} k < k_0 \\\\\n",
    "&= 0, \\hspace{1in} k \\ge k_0 \n",
    "\\end{align}\n",
    "## Band-pass filter\n",
    "\n",
    "\\begin{align}\n",
    "H(k) &= 1, \\hspace{1in} k_0 < k < k_1, \\; k_0 < k_1 \\\\\n",
    "&= 0  \\hspace{1in} \\rm{otherwise}\n",
    "\\end{align}\n",
    "## High-pass filter\n",
    "\n",
    "\\begin{align}\n",
    "H(k) &= 1, \\hspace{1in} k > k_0 \\\\\n",
    "&= 0, \\hspace{1in} k \\le k_0 \n",
    "\\end{align}\n"
   ]
  },
  {
   "cell_type": "markdown",
   "id": "783f8f1d-3b53-4773-9199-45720d821801",
   "metadata": {
    "id": "783f8f1d-3b53-4773-9199-45720d821801"
   },
   "source": [
    "#### Notes: \n",
    "* np.fft uses the discrete Fourier Tranform since the grid is discrete (we skip over these details)\n",
    "* The $x$-domain is $[0,0.5]$. \n",
    "* $\\sin(2\\pi f_1 x)= 0$ at $x=0$ and $x=0.5$. The $x-derivative is $2\\pi f_1\\cos(f_1 2\\pi x)$, equal \n",
    "to $2\\pi f_1$ at $x=0$ and $2\\pi f_1 \\cos(\\pi f_1)$ at $x=0.5$, equal to 2\\pi f_1$ if $f_1$ is even. \n",
    "Therefore the function is  periodic over the domain, since the $f_1$ slider ranges from -40 to 40 by increments of 10.  \n",
    "On the other hand, $\\cos(2\\pi f_3 x + 0.7)$ is not periodic over the $x$ domain (the phase is 0.7, which is not a multiple of $2\\pi$. The frequencies are obtained by \n",
    "decomposing this function into a series of $\\sin$ and $\\cos$ at different frequencies with zero phase. "
   ]
  },
  {
   "cell_type": "code",
   "execution_count": 6,
   "id": "7736896b-adbf-4804-a028-ab8e43780110",
   "metadata": {},
   "outputs": [],
   "source": [
    "grid = widgets.GridspecLayout(3, 3)"
   ]
  },
  {
   "cell_type": "code",
   "execution_count": 7,
   "id": "d86471ee-4d1f-4e1f-b203-8d7bb869b931",
   "metadata": {},
   "outputs": [],
   "source": [
    "freq1Slider = widgets.IntSlider(min=0, max=60, value=30)\n",
    "freq2Slider = widgets.IntSlider(min=30, max=120, value=70)\n",
    "freq3Slider = widgets.IntSlider(min=90, max=200, value=110)\n",
    "ampl1Slider = widgets.FloatSlider(min=-15, max=15, value=5)\n",
    "ampl2Slider = widgets.FloatSlider(min=-15, max=15, value=10)\n",
    "ampl3Slider = widgets.FloatSlider(min=-15, max=15, value=10)\n",
    "k0Slider = widgets.IntSlider(min=0, max=50, value=15)\n",
    "k1Slider = widgets.IntSlider(min=5, max=150, value=100, Description=\"k1\")"
   ]
  },
  {
   "cell_type": "code",
   "execution_count": 8,
   "id": "cc5a1bfb-9e78-44d0-a085-7c0610647763",
   "metadata": {
    "colab": {
     "referenced_widgets": [
      "5730ec078dd74ec3b30268984640cc06"
     ]
    },
    "id": "cc5a1bfb-9e78-44d0-a085-7c0610647763",
    "outputId": "54ad61d1-1647-415e-8b63-a3b06e1eabb3"
   },
   "outputs": [
    {
     "data": {
      "application/vnd.jupyter.widget-view+json": {
       "model_id": "d5497223082f49f69245fc766e929ea1",
       "version_major": 2,
       "version_minor": 0
      },
      "text/plain": [
       "interactive(children=(IntSlider(value=30, description='freq1', max=60), IntSlider(value=70, description='freq2…"
      ]
     },
     "metadata": {},
     "output_type": "display_data"
    }
   ],
   "source": [
    "@interact_manual(\n",
    "    freq1=freq1Slider,  # (-20, 60, 10),\n",
    "    freq2=freq2Slider,  # (-90, 90, 10),\n",
    "    freq3=freq3Slider,  # (-300, 300, 15),\n",
    "    ampl1=ampl1Slider,  # 1,\n",
    "    ampl2=ampl2Slider,  # 0.5,\n",
    "    ampl3=ampl3Slider,  # 1,\n",
    "    k0=k0Slider,  # (0, 50, 5),\n",
    "    k1=k1Slider,  # (5, 150, 10),\n",
    ")\n",
    "def plotSin2(freq1, freq2, freq3, ampl1, ampl2, ampl3, k0, k1):\n",
    "    fig = plt.figure(figsize=(16, 7))\n",
    "    x = np.linspace(0, 0.5, 500)\n",
    "    k = np.linspace(0, 499, 500)\n",
    "\n",
    "    # NOTE: These functions are NOT periodic over the domain.\n",
    "    # Therefore, the spectrum is not exactly a collection of delta functions\n",
    "    # I could be more precise, but that is not the point of this demonstration.\n",
    "\n",
    "    s = (\n",
    "        ampl1 * np.sin(freq1 * 2 * np.pi * x)\n",
    "        + ampl2 * np.sin(freq2 * 2 * np.pi * x)\n",
    "        + ampl3 * np.cos(freq3 * 2 * np.pi * x + 0.7)\n",
    "    )\n",
    "    nrows, ncols = 3, 2\n",
    "\n",
    "    # ax1.clear()  # to avoid flicker, does not work\n",
    "    ax = fig.add_subplot(nrows, ncols, 1)\n",
    "    # fig, axes = plt.subplots(nrows, ncols, figsize=(16, 5))\n",
    "    ax.set_ylabel(\"Amplitude\")\n",
    "    ax.set_xlabel(\"Time [s]\")\n",
    "    ax.plot(x, s)\n",
    "\n",
    "    fft = np.fft.fft(s)\n",
    "    ifft = np.fft.ifft(s)\n",
    "    # print(\"s: \", s[0:10])\n",
    "    # print(\"ifft: \", ifft[0:11])\n",
    "    # print(\"fft[0-10]: \", fft[0:11])\n",
    "    # print(\"fft[:-10,:]: \", fft[-10:])\n",
    "    power_spec = np.abs(fft) ** 2\n",
    "    # power_spec[0] = 0 # REMOVE MEAN COMPONENT  (simply equal to the mean of the function)\n",
    "    ax2 = fig.add_subplot(nrows, ncols, 2)\n",
    "    ax = ax2\n",
    "    ax.plot(power_spec[0:250])\n",
    "    ax.set_ylabel(\"Power Spectrum\")\n",
    "    ax.set_xlabel(\"k\")\n",
    "\n",
    "    heaviside = np.where((k > k0) & (k < k1), 1, 0)\n",
    "    # Symmetrize this function with respect to $k=500/2$\n",
    "    for i in range(1, 250):  # 250 = 500/2\n",
    "        heaviside[500 - i] = heaviside[i]  # in Fourier space\n",
    "    # print(heaviside)\n",
    "\n",
    "    filtered_power_spectrum = power_spec * heaviside\n",
    "    # print(list(zip(power_spec, heaviside, filtered_power_spectrum)))\n",
    "    # print(\"power spec: \", power_spec[0:50])\n",
    "    # print(\"filtered_spec: \", filtered_power_spectrum[0:50])\n",
    "    filtered_function = np.fft.ifft(filtered_power_spectrum)\n",
    "\n",
    "    ax = fig.add_subplot(nrows, ncols, 3)\n",
    "    ax.plot(filtered_function)\n",
    "    ax.set_ylabel(\"Filtered $f_H(x) = H(x) f(x)$\")\n",
    "    ax.set_xlabel(\"x\")\n",
    "\n",
    "    ax = fig.add_subplot(nrows, ncols, 4)\n",
    "    ax.plot(filtered_power_spectrum[0:250])\n",
    "    ax.set_xlabel(\"k\")\n",
    "    ax.set_ylabel(\"Filtered Power Spectrum\")\n",
    "\n",
    "    filter_phys = np.fft.ifft(heaviside)\n",
    "    ax = fig.add_subplot(nrows, ncols, 5)\n",
    "    ax.plot(filter_phys)\n",
    "    ax.set_ylabel(\"Filter $H(x)$\")\n",
    "    ax.set_xlabel(\"k\")\n",
    "\n",
    "    ax = fig.add_subplot(nrows, ncols, 6)\n",
    "    ax.plot(heaviside[0:250])\n",
    "    ax.set_ylabel(\"Filter $\\hat{H}(k)$\")\n",
    "    ax.set_xlabel(\"k\")\n",
    "\n",
    "    plt.tight_layout()\n",
    "    plt.show()\n",
    "    sumf2 = np.sum(s ** 2)\n",
    "    sump2 = np.sum(power_spec[0:250])\n",
    "    sump3 = np.sum(power_spec)\n",
    "    # print(sum2, sump2, sump2 / sumf2, sump3 / sumf2)\n",
    "    # print(np.sum(power_spec[0:250]), np.sum(power_spec[0:500]), power_spec.shape)\n",
    "\n",
    "    # The ratio sump2 / sumf2 = 250 (when there is no mean component)\n",
    "    # The k=0 component has no complex conjugate. All other components have a complex conjugate.\n",
    "    # These details are beyond the scope of this lecture.\n",
    "    #     = Number of points N / 2\n",
    "    # sum f[i]^2 dx = sum f[i]^2 (0.5/N) = sum power_spectrum  * normalizing constant\n",
    "    #  (one must be careful with this constant)\n",
    "\n",
    "\n",
    "# Alternative to @interact\n",
    "# interact(plotSin2, freq1=(-40,40,10), freq2=(-90,90,10), freq3=(-300,300,15), ampl1=1, ampl2=.5, ampl3=1)"
   ]
  },
  {
   "cell_type": "markdown",
   "id": "b6b0eff8-9c3c-464b-9279-ab8abde21a84",
   "metadata": {
    "id": "b6b0eff8-9c3c-464b-9279-ab8abde21a84"
   },
   "source": [
    "The strong oscilations in the Filter $H(x)$ are due to the discontinuity of the filter in Fourier space. \n",
    "A property of these 1-D filters is that localization in Fourier space (the filter is nonzero for very few $k$) leads \n",
    "to non-local filters $H(x)$ in physical space, and vice-versa. \n",
    "\n",
    "The challenge is to construct filters local in both physical and Fourier space, which is the strength of wavelets (beyond the scope of these lectures). Note that the Fourier transform of a Gaussian is a Gaussian, and it is local in both spaces. (Demonstrate it for yourself as a homework exercise). "
   ]
  },
  {
   "cell_type": "markdown",
   "id": "05d21ae5-a0a7-4794-aa19-e024c89fe816",
   "metadata": {
    "id": "05d21ae5-a0a7-4794-aa19-e024c89fe816"
   },
   "source": [
    "\n",
    "### Discrete 1D domain\n",
    "* A set of nodes $x_i$, $i=0,1,\\cdots,N-1$, such that $x_i$ is connected to $x_{i+1}$. This graph is acyclic (there are no cycles. \n",
    "* If the first and last node are connected, we add the edge $(x_{N-1}, x_{0})$ and create a cyclic graph.\n",
    "* The adjacency matrix of the cyclic graph is as follows: \n",
    "$$\n",
    "A = \\left(\\begin{matrix}\n",
    "0 & 0 & 0 & \\cdots & 0 & 1 \\\\\n",
    "1 & 0 & 0 & \\cdots & 0 & 0 \\\\\n",
    "0 & 1 & 0 & \\cdots & 0 & 0 \\\\\n",
    "0 & 0 & 1 & \\cdots & 0 & 0 \\\\\n",
    "\\cdots\n",
    "\\end{matrix}\\right)\n",
    "$$\n",
    "* A signal $s$ on a graph is defined as the sequence of $N$ elements\n",
    "$$ x = (x_0, x_1, \\cdots, x_{N-1}) $$\n",
    "where each $x_i\\in\\Rez$."
   ]
  },
  {
   "cell_type": "markdown",
   "id": "34a87c78-1698-49e4-8fdf-04bf77a5a693",
   "metadata": {
    "id": "34a87c78-1698-49e4-8fdf-04bf77a5a693",
    "tags": []
   },
   "source": [
    "### 1-D Periodic Domain\n",
    "#### Fourier Filter\n",
    "### 1-D Non-periodic Domain\n",
    "## Fourier Transform, Discrete (DFT)\n",
    "### 1-D Periodic Domain \n",
    "### 1-D Non-periodic Domain\n",
    "## Graph Signal Processing, Discrete\n",
    "### 1-D cyclic graph\n",
    "### 2=D Discrete periodic \n",
    "### Adjoint $A$\n",
    "### Degree Matrix $D$\n",
    "### Laplacian $L$\n",
    "###"
   ]
  },
  {
   "cell_type": "code",
   "execution_count": 9,
   "id": "8d80c2de-b299-446f-8f55-1c50c11a7b75",
   "metadata": {
    "colab": {
     "referenced_widgets": [
      "2fb25b8e20254035aa801380e21f039e"
     ]
    },
    "id": "8d80c2de-b299-446f-8f55-1c50c11a7b75",
    "outputId": "d1ccdde7-2246-4056-ca4b-ad0d4632c524",
    "tags": []
   },
   "outputs": [
    {
     "data": {
      "application/vnd.jupyter.widget-view+json": {
       "model_id": "49d4d6f6570c407d8da49dca6bedcde4",
       "version_major": 2,
       "version_minor": 0
      },
      "text/plain": [
       "interactive(children=(IntSlider(value=10, description='N', max=40, min=5), IntSlider(value=110, description='s…"
      ]
     },
     "metadata": {},
     "output_type": "display_data"
    }
   ],
   "source": [
    "# layout = ['circular','planar','random']\n",
    "seed_slider = widgets.IntSlider(min=100, max=120, step=2, value=110)\n",
    "N_slider = widgets.IntSlider(min=5, max=40, step=1, value=10)\n",
    "# matrix = ['Adjacency Matrix', 'Laplacian', 'D^-1 A', 'D^-1 L', 'D^-1/2 L D^-1/2']\n",
    "\n",
    "\n",
    "@interact(N=N_slider, seed=seed_slider)\n",
    "def generate_graph_from_adjacency_matrix(N, seed):\n",
    "    \"\"\"\n",
    "    Arguments\n",
    "    N: number of nodes\n",
    "    \"\"\"\n",
    "    np.random.seed(seed)\n",
    "    ints = np.random.randint(0, 2, N * N).reshape(N, N)\n",
    "    for i in range(N):\n",
    "        ints[i,i] = 0\n",
    "\n",
    "    # Symmetric array\n",
    "    ints = ints + ints.transpose()\n",
    "    ints = np.clip(ints, 0, 1)  # the elements should be zero or 1\n",
    "\n",
    "    # Different matrices\n",
    "    A = ints\n",
    "    D = np.sum(A, axis=0)\n",
    "    D = np.diag(D)\n",
    "    L = D - A\n",
    "    invD = np.linalg.inv(D)\n",
    "    invDA = A * invD\n",
    "    invDL = invD * L\n",
    "    invDLinvD = np.sqrt(invD) * L * np.sqrt(invD)\n",
    "\n",
    "    matrix = [\"A\", \"D\", \"L\", \"invD\", \"invDA\", \"invDL\", \"invDinvD\"]\n",
    "    matrices = [A, D, L, invD, invDA, invDL, invDLinvD]\n",
    "\n",
    "    # Eigenvalues\n",
    "    fig, axes = plt.subplots(3, 3, figsize=(10, 8))\n",
    "    axes = axes.reshape(-1)\n",
    "    fig.suptitle(\"Sorted Eigenvalues of various matrices\")\n",
    "    for i, m in enumerate(matrices):\n",
    "        ax = axes[i]\n",
    "        eigs = np.linalg.eigvals(m)\n",
    "        eigs = np.sort(eigs)[::-1]\n",
    "        ax.set_title(matrix[i])\n",
    "        ax.grid(True)\n",
    "        ax.plot(eigs, \"-o\")\n",
    "    for i in range(i + 1, axes.shape[-1]):\n",
    "        axes[i].axis(\"off\")\n",
    "    plt.tight_layout()\n",
    "    plt.show()"
   ]
  },
  {
   "cell_type": "markdown",
   "id": "b11dd575-3b19-47c6-82a7-b3aedc57e6ae",
   "metadata": {},
   "source": [
    "### Notes\n",
    "* The eigenvalues (spectrum )of A and L are approximatley related (the plots look very similar) but not equal.\n",
    "* The spectra shape depend very little on the seed (A is filled with random numbers (0,1) and is symmetrized to make sure that the eigenvalues $\\lambda_i \\in \\Rez$."
   ]
  },
  {
   "cell_type": "markdown",
   "id": "5fe94bb4-da8b-4c7c-ae20-13e01c449dcb",
   "metadata": {
    "id": "5fe94bb4-da8b-4c7c-ae20-13e01c449dcb"
   },
   "source": [
    "***\n",
    "## Same plot as above but allowing for different types of graph types. \n",
    "* Generate the graph, compute the adjacent matrix, and call the previous function\n",
    "\n"
   ]
  },
  {
   "cell_type": "code",
   "execution_count": 10,
   "id": "140af255-b055-45fd-88c6-03001266d8a0",
   "metadata": {
    "id": "140af255-b055-45fd-88c6-03001266d8a0"
   },
   "outputs": [],
   "source": [
    "def generate_graph_from_adjacency_matrix_1(G, N, seed):\n",
    "    \"\"\"\n",
    "    Arguments\n",
    "    N: number of nodes\n",
    "    \"\"\"\n",
    "    np.random.seed(seed)\n",
    "\n",
    "    # Convert to np.ndArray\n",
    "    A = nx.linalg.graphmatrix.adjacency_matrix(G).toarray()\n",
    "    nx.linalg\n",
    "    # print(\"Adj: \", A, \"\\n\", A.shape, \"\\n\", type(A))\n",
    "\n",
    "    # Different matrices\n",
    "    D = np.sum(A, axis=0)\n",
    "    D = np.diag(D)\n",
    "    L = D - A\n",
    "    invD = np.linalg.inv(D)\n",
    "    invDA = A * invD\n",
    "    invDL = invD * L\n",
    "    invDLinvD = np.sqrt(invD) * L * np.sqrt(invD)\n",
    "\n",
    "    Ln = nx.normalized_laplacian_matrix(G)\n",
    "    Ln = Ln.toarray()  # from sparse array to ndarray\n",
    "\n",
    "    matrix = [\"A\", \"D\", \"L\", \"invD\", \"invDA\", \"invDL\", \"invDinvD\", \"Ln\"]\n",
    "    matrices = [A, D, L, invD, invDA, invDL, invDLinvD, Ln]\n",
    "\n",
    "    # Eigenvalues\n",
    "    fig, axes = plt.subplots(3, 3, figsize=(10, 8))\n",
    "    axes = axes.reshape(-1)\n",
    "    fig.suptitle(\"Eigenvalues of various matrices\")\n",
    "    for i, m in enumerate(matrices):\n",
    "        ax = axes[i]\n",
    "        eigs = np.linalg.eigvals(m)\n",
    "        eigs = np.sort(eigs)[::-1]\n",
    "        ax.set_title(matrix[i])\n",
    "        ax.grid(True)\n",
    "        ax.plot(eigs, \"-o\")\n",
    "    for i in range(i + 2, axes.shape[-1]):\n",
    "        axes[i].axis(\"off\")\n",
    "    plt.tight_layout()\n",
    "    plt.show()"
   ]
  },
  {
   "cell_type": "code",
   "execution_count": 13,
   "id": "d49f2cd0-58c6-454a-a1d3-0eb304c1af8a",
   "metadata": {
    "colab": {
     "referenced_widgets": [
      "544864f65faf42e6ac7de40f4c0a8f30"
     ]
    },
    "id": "d49f2cd0-58c6-454a-a1d3-0eb304c1af8a",
    "outputId": "39a6ddee-a482-46be-c702-14924b7d1cfb"
   },
   "outputs": [
    {
     "data": {
      "application/vnd.jupyter.widget-view+json": {
       "model_id": "abbc7c7600464fd4a6107361fde7f0b5",
       "version_major": 2,
       "version_minor": 0
      },
      "text/plain": [
       "interactive(children=(IntSlider(value=10, description='nb_nodes', max=30, min=3), IntSlider(value=4, descripti…"
      ]
     },
     "metadata": {},
     "output_type": "display_data"
    }
   ],
   "source": [
    "prob_slider = widgets.FloatSlider(min=0, max=1, step=0.1, value=0.5)\n",
    "node_slider = widgets.IntSlider(min=3, max=30, step=1, value=10)\n",
    "nb_neigh_slider = widgets.IntSlider(min=1, max=10, step=1, value=4)\n",
    "nb_edges_per_node_slider = widgets.IntSlider(min=1, max=20, step=2, value=5)\n",
    "seed_slider = widgets.IntSlider(int=1, max=50, step=1, value=25)\n",
    "graph_type = [\"connected_watts_strogatz\", \"powerlaw_cluster_graph\"]\n",
    "\n",
    "\n",
    "@interact(\n",
    "    nb_nodes=node_slider,\n",
    "    prob=prob_slider,\n",
    "    nb_neigh=nb_neigh_slider,\n",
    "    nb_edges_per_node=nb_edges_per_node_slider,\n",
    "    seed=seed_slider,\n",
    "    graph_type=graph_type,\n",
    "    # directed=True,\n",
    ")\n",
    "def drawGraph(nb_nodes, nb_neigh, prob, seed, nb_edges_per_node, graph_type):\n",
    "    if graph_type == \"connected_watts_strogatz\":\n",
    "        nb_edges_per_node_slider.style.handle_color = 'red'\n",
    "        nb_neigh_slider.style.handle_color = 'black'\n",
    "        nb_tries = 20\n",
    "        edge_prob = prob\n",
    "        G = nx.connected_watts_strogatz_graph(\n",
    "            nb_nodes, nb_neigh, edge_prob, nb_tries, seed\n",
    "        )\n",
    "    elif graph_type == \"powerlaw_cluster_graph\":\n",
    "        nb_neigh_slider.style.handle_color = 'red'\n",
    "        nb_edges_per_node_slider.style.handle_color = 'black'\n",
    "        add_tri_prob = prob\n",
    "        if nb_edges_per_node >= nb_nodes:\n",
    "            nb_edges_per_node = nb_nodes - 1\n",
    "        G = nx.powerlaw_cluster_graph(nb_nodes, nb_edges_per_node, add_tri_prob, seed)\n",
    "\n",
    "    generate_graph_from_adjacency_matrix_1(G, nb_nodes, seed)"
   ]
  },
  {
   "cell_type": "markdown",
   "id": "466b14f8-75f5-4a8c-9abe-a738924d2bb5",
   "metadata": {
    "id": "466b14f8-75f5-4a8c-9abe-a738924d2bb5",
    "tags": []
   },
   "source": [
    "<script>\n",
    "  $(document).ready(function(){\n",
    "    $('div.prompt').hide();\n",
    "    $('div.back-to-top').hide();\n",
    "    $('nav#menubar').hide();\n",
    "    $('.breadcrumb').hide();\n",
    "    $('.hidden-print').hide();\n",
    "  });\n",
    "</script>\n",
    "\n",
    "<footer id=\"attribution\" style=\"float:right; color:#999; background:#fff;\">\n",
    "Created with Jupyter, delivered by Fastly, rendered by Rackspace.\n",
    "</footer>"
   ]
  },
  {
   "cell_type": "code",
   "execution_count": 10,
   "id": "5fd7b9ae-2eaa-4494-bbc7-407914bc14d4",
   "metadata": {
    "colab": {
     "referenced_widgets": [
      "8e2bf9d727d04d0eb3736e08df6342df"
     ]
    },
    "id": "5fd7b9ae-2eaa-4494-bbc7-407914bc14d4",
    "outputId": "d66d946b-8b9c-4aa2-ed46-459ae95af333",
    "tags": []
   },
   "outputs": [
    {
     "data": {
      "application/vnd.jupyter.widget-view+json": {
       "model_id": "2eff1c81f799469385792d1a8df03b5a",
       "version_major": 2,
       "version_minor": 0
      },
      "text/plain": [
       "interactive(children=(IntSlider(value=7, description='nb_nodes', max=20, min=3), IntSlider(value=4, descriptio…"
      ]
     },
     "metadata": {},
     "output_type": "display_data"
    }
   ],
   "source": [
    "prob_slider = widgets.FloatSlider(\n",
    "    min=0, max=1, step=0.1, value=0.5, description=\"Probability\"\n",
    ")\n",
    "node_slider = widgets.IntSlider(min=3, max=20, step=1, value=7)\n",
    "nb_neigh_slider = widgets.IntSlider(min=1, max=10, step=1, value=4)\n",
    "nb_edges_per_node_slider = widgets.IntSlider(min=1, max=20, step=2, value=5)\n",
    "seed_slider = widgets.IntSlider(int=1, max=50, step=1, value=25)\n",
    "graph_type = [\"connected_watts_strogatz\", \"powerlaw_cluster_graph\", \"circular_graph\"]\n",
    "\n",
    "# Also draw the eigenfunctions for the cyclic case where the nodes are arranged in a circular layout,\n",
    "# with labels in the nodes\n",
    "\n",
    "\n",
    "@interact_manual(\n",
    "    nb_nodes=node_slider,\n",
    "    prob=prob_slider,\n",
    "    nb_neigh=nb_neigh_slider,\n",
    "    nb_edges_per_node=nb_edges_per_node_slider,\n",
    "    seed=seed_slider,\n",
    "    graph_type=graph_type,\n",
    ")\n",
    "def drawGraphEigenvalues(nb_nodes, nb_neigh, prob, seed, nb_edges_per_node, graph_type):\n",
    "    if graph_type == \"connected_watts_strogatz\":\n",
    "        nb_edges_per_node_slider.style.handle_color = \"red\"\n",
    "        nb_neigh_slider.style.handle_color = \"black\"\n",
    "        nb_tries = 20\n",
    "        edge_prob = prob\n",
    "        G = nx.connected_watts_strogatz_graph(\n",
    "            nb_nodes, nb_neigh, edge_prob, nb_tries, seed\n",
    "        )\n",
    "    elif graph_type == \"powerlaw_cluster_graph\":\n",
    "        nb_neigh_slider.style.handle_color = \"red\"\n",
    "        nb_edges_per_node_slider.style.handle_color = \"black\"\n",
    "        add_tri_prob = prob\n",
    "        if nb_edges_per_node >= nb_nodes:\n",
    "            nb_edges_per_node = nb_nodes - 1\n",
    "        G = nx.powerlaw_cluster_graph(nb_nodes, nb_edges_per_node, add_tri_prob, seed)\n",
    "    elif graph_type == \"circular_graph\":\n",
    "        nb_neigh_slider.style.handle_color = \"red\"\n",
    "        nb_edges_per_node_slider.style.handle_color = \"red\"\n",
    "        nb_neigh_slider.style.handle_color = \"red\"\n",
    "        prob_slider.style.handle_color = \"red\"\n",
    "        seed_slider.style.handle_color = \"red\"\n",
    "\n",
    "        G = nx.Graph()\n",
    "        for n in range(nb_nodes):\n",
    "            G.add_node(n)\n",
    "        for n in range(nb_nodes):\n",
    "            G.add_edge(n, n + 1)\n",
    "        G.add_edge(nb_nodes - 1, 0)\n",
    "\n",
    "    spec_lib.generate_eigenvectors_from_adjacency_matrix_1(G, nb_nodes, seed)"
   ]
  },
  {
   "cell_type": "code",
   "execution_count": 11,
   "id": "523416cc-781a-4c42-8145-7add99d3e900",
   "metadata": {
    "colab": {
     "referenced_widgets": [
      "fe24a298d8744e34a14603274b727ae5"
     ]
    },
    "id": "523416cc-781a-4c42-8145-7add99d3e900",
    "outputId": "6b924b33-a84e-4d2a-c41a-3a0f537a4f86"
   },
   "outputs": [
    {
     "data": {
      "application/vnd.jupyter.widget-view+json": {
       "model_id": "cd33a6e2b4a14d4080aeba28a99cba85",
       "version_major": 2,
       "version_minor": 0
      },
      "text/plain": [
       "interactive(children=(IntSlider(value=5, description='N', max=10, min=3), IntSlider(value=100, description='se…"
      ]
     },
     "metadata": {},
     "output_type": "display_data"
    }
   ],
   "source": [
    "# Test Eigenfunction, sorting, etc. by creating a matrix whose eigenvalues I know\n",
    "N_slider = widgets.IntSlider(min=3, max=10, step=1, value=5)\n",
    "seed_slider = widgets.IntSlider(min=100, max=200, step=1)\n",
    "\n",
    "\n",
    "@interact(N=N_slider, seed=seed_slider)\n",
    "def test_eigen(N, seed):\n",
    "    # generate eigenvalues\n",
    "    np.random.seed(seed)\n",
    "    # large variance for wider spread of spectrum\n",
    "    eigens = (20.0 + 100.0 * np.random.randn(N)) / 20\n",
    "    eigens = np.where(eigens < 0, -eigens, eigens)\n",
    "    print(\"eigens= \", eigens)\n",
    "    print(\"eigens[0]= \", eigens[0])\n",
    "    print(\"eigens[1]= \\n\", eigens[1])\n",
    "    # print(\"eigens= \\n\", eigens)\n",
    "    eigens = np.diag(eigens)\n",
    "    ee = np.linalg.eig(eigens)\n",
    "    print(\"ee= \\n\", ee)\n",
    "    print(\"ee[0]= \", ee[0], type(ee[0]))\n",
    "    print(\"ee[1]= \\n\", ee[1])\n",
    "\n",
    "    args = np.argsort(ee[0])\n",
    "    print(\"args:\", args, type(args))\n",
    "    ee0 = ee[0][args]\n",
    "    ee1 = ee[1][:, args]\n",
    "    print(\"sorted ee\")\n",
    "    print(\"ee[0]= \", ee0)\n",
    "    print(\"ee[1]= \\n\", ee1)\n",
    "    recursivelyrecursively\n",
    "\n",
    "    # create eigenvectors\n",
    "    x = ortho_group.rvs(N)\n",
    "    # Similarity transform (eigenvalues of A are invariant)\n",
    "    A = x.T @ eigens @ x\n",
    "    # A = x @ np.linalg.inv(x)\n",
    "    # print(\"A= \\n\", A)\n",
    "    # print(\"x.T= \\n\", x.T)\n",
    "    # print(\"inv(x)= \\n\", np.linalg.inv(x))\n",
    "    eigens = np.linalg.eig(A)\n",
    "    args = np.argsort(eigens[0])\n",
    "    print(\"===============================\")\n",
    "    print(\"args: \\n\", args)\n",
    "    eigs = eigens[0][args]\n",
    "    print(\"unsorted eigs: \\n\", eigens[0])\n",
    "    print(\"sorted eigs: \\n\", eigs)\n",
    "    eigv = eigens[1][:, args]\n",
    "    print(\"unsorted x:\\n \", x.T)\n",
    "    print(\"unsorted eigv: \\n\", eigens[1])\n",
    "    print(\"sorted x: \\n\", x.T[:, args])\n",
    "    print(\"sorted eigv= \\n\", eigv)\n",
    "\n",
    "    pass"
   ]
  },
  {
   "cell_type": "markdown",
   "id": "68ccfef3-10cc-48c8-aff2-2f982c43ee75",
   "metadata": {
    "id": "37a825c9-aaa4-48b5-b5ee-ea1a995e5d78"
   },
   "source": [
    "# Exploration of eigenvalue and eigenfunctions for the 1-D cyclic and non-cyclic cases\n",
    "As we have seen,  a signal $s^1=(s_0, s_1, \\cdots, s_{N-1})\\in\\Re{N}$, is transformed into a signal $s^2\\in\\Re{N}$ by a filter $H$ according to \n",
    "$$ s^2 = H s^1$$  where $H$ is a matrix in $\\Re{N\\times N}$. Applying this filter recursively, one finds that \n",
    "\\begin{align}\n",
    "s^3 &= H s^2 \\\\\n",
    "s^4 &= H s^3 \\\\\n",
    "s^l &= H s^{l-1}\n",
    "\\end{align}\n",
    "If this is done a large number of times, and if one assumes convergence of $s^l$ to a vector of finite norm, one finds in the limit: \n",
    "$$\n",
    "s^\\infty = H s^\\infty\n",
    "$$\n",
    "which states that $s^\\infty$ is an eigenvector of the filter $H$ with a unit eigenvalue $\\lambda=1$. "
   ]
  },
  {
   "cell_type": "markdown",
   "id": "d1d9befa-7a92-46f2-9736-3be58e2e4468",
   "metadata": {
    "id": "cd7058aa-bfbf-4b0d-ba94-d7d9a351f57b"
   },
   "source": [
    "## Cyclic case, directed graph\n",
    "The adjoint matrix is\n",
    "$$\n",
    "A = \\left(\\begin{matrix}\n",
    "0 & 0 & 0 & \\cdots & 0 & 1 \\\\\n",
    "1 & 0 & 0 & \\cdots & 0 & 0 \\\\\n",
    "0 & 1 & 0 & \\cdots & 0 & 0 \\\\\n",
    "0 & 0 & 1 & \\cdots & 0 & 0 \\\\\n",
    "\\cdots\n",
    "\\end{matrix}\\right)\n",
    "$$\n",
    "Recall: $A_{i,j} = 1$ means an edge goes from node $j$ to node $i$. In this case, there is an edge from node $i+1$ to node $i$\n",
    "for all nodes. There is also an edge from node $N-1$ to node $0$. This matrix is periodic. \n",
    "\n",
    "Given a signal \n",
    "$$\n",
    "s =  (s_0, s_1, \\cdots, s_{N-1})\n",
    "$$\n",
    "the action of $A$ on $s$ simply shifts the value $s_i$ on node $i$ to node $i-1$: \n",
    "$$\n",
    "s^1 = A s = (s_{N-1}, s_0, s_1, \\cdots, s_{N-2})\n",
    "$$\n",
    "\n",
    "In the next animation, we define a graph over a set of nodes, and a signal on this graph, and we apply the operator\n",
    "$A$ multiple times. "
   ]
  },
  {
   "cell_type": "code",
   "execution_count": 16,
   "id": "906b11fb-91b7-4fcb-8eeb-f1bf6f7efc71",
   "metadata": {
    "colab": {
     "referenced_widgets": [
      "03105b7a1b9a4a98b734b684a533e5c6"
     ]
    },
    "id": "ac43e403-5060-4019-8ebb-25c592440e89",
    "outputId": "249a7bb2-8239-42e2-cd89-9d79106317be",
    "tags": []
   },
   "outputs": [
    {
     "data": {
      "application/vnd.jupyter.widget-view+json": {
       "model_id": "d558c095720049b9a4b2d9157bbc44ef",
       "version_major": 2,
       "version_minor": 0
      },
      "text/plain": [
       "interactive(children=(IntSlider(value=50, description='seed', min=1), FloatSlider(value=0.75, description='eps…"
      ]
     },
     "metadata": {},
     "output_type": "display_data"
    }
   ],
   "source": [
    "j = -1\n",
    "\n",
    "\n",
    "@interact_manual(seed=(1, 100), eps=(0, 1.5), N=(5, 40))\n",
    "def plot1d(seed, eps, N=15):\n",
    "    global j\n",
    "    np.random.seed(seed)\n",
    "    # Define a NxN matrix\n",
    "    A = np.zeros([N, N])\n",
    "    for i in range(1, N):\n",
    "        A[i, i - 1] = 1\n",
    "    A[0, N - 1] = 1\n",
    "    x = np.linspace(0, 10, N)\n",
    "\n",
    "    # Signal s\n",
    "    noise = eps * np.random.randn(N)\n",
    "    s = np.sin((x / x[-1]) * 2 * np.pi * 2.5) + noise\n",
    "\n",
    "    j += 1\n",
    "    Aj = np.linalg.matrix_power(A, j)\n",
    "    new_s = Aj @ s\n",
    "\n",
    "    print(Aj)\n",
    "    plt.plot(x, s, \"-o\", color=\"red\")\n",
    "    plt.plot(x, new_s, \"-o\")\n",
    "    plt.title(\"Press button to apply $A$\")\n",
    "    plt.show()"
   ]
  },
  {
   "cell_type": "markdown",
   "id": "2a08c5b1-2cc8-48f3-b584-87e0266178af",
   "metadata": {},
   "source": [
    "A is called the shift operator in  1-D signal processing. Application of $A$ to a time signal translates the signal by $\\Delta t$. The same is true with our graph. Of course, we are working with a special kind of graph. Let us now repeat this process with an undirected cyclic graph. Since node $i$ has a bidirectional connection to node $j$, each row of $A$ has two columns with a unit value. Thus, the adjacency matrix (now symmetric) becomes: \n",
    "$$\n",
    "A = \\left(\\begin{matrix}\n",
    "0 & 1 & 0 & \\cdots & 0 & 1 \\\\\n",
    "1 & 0 & 1 & \\cdots & 0 & 0 \\\\\n",
    "0 & 1 & 0 & \\cdots & 0 & 0 \\\\\n",
    "0 & 0 & 1 & \\cdots & 0 & 0 \\\\\n",
    "\\cdots \\\\\n",
    "0 & 0 & 0 & \\cdots & 0 & 1 \\\\\n",
    "1 & 0 & 0 & \\cdots & 1 & 0 \\\\\n",
    "\\end{matrix}\\right)\n",
    "$$\n"
   ]
  },
  {
   "cell_type": "code",
   "execution_count": 17,
   "id": "04b8e465-8ae9-417c-a870-1bdd08484626",
   "metadata": {
    "colab": {
     "referenced_widgets": [
      "03105b7a1b9a4a98b734b684a533e5c6"
     ]
    },
    "id": "ac43e403-5060-4019-8ebb-25c592440e89",
    "outputId": "249a7bb2-8239-42e2-cd89-9d79106317be",
    "tags": []
   },
   "outputs": [
    {
     "data": {
      "application/vnd.jupyter.widget-view+json": {
       "model_id": "ba5356a56ba64db589424d9321e2e299",
       "version_major": 2,
       "version_minor": 0
      },
      "text/plain": [
       "interactive(children=(IntSlider(value=50, description='seed', min=1), FloatSlider(value=0.75, description='eps…"
      ]
     },
     "metadata": {},
     "output_type": "display_data"
    }
   ],
   "source": [
    "j = -1\n",
    "\n",
    "\n",
    "@interact_manual(seed=(1, 100), eps=(0, 1.5), N=(5, 40))\n",
    "def plot1d(seed, eps, N=15):\n",
    "    global j\n",
    "    np.random.seed(seed)\n",
    "    # Define a NxN matrix\n",
    "    A = np.zeros([N, N])\n",
    "    for i in range(1, N):\n",
    "        A[i, i - 1] = 1\n",
    "    A[0, N - 1] = 1\n",
    "    A = A + A.T\n",
    "\n",
    "    x = np.linspace(0, 10, N)\n",
    "\n",
    "    # Signal s\n",
    "    noise = eps * np.random.randn(N)\n",
    "    s = np.sin((x / x[-1]) * 2 * np.pi * 2.5) + noise\n",
    "\n",
    "    j += 1\n",
    "    Aj = np.linalg.matrix_power(A, j)\n",
    "    new_s = Aj @ s\n",
    "\n",
    "    print(Aj)\n",
    "    plt.plot(x, s, \"-\", color=\"red\")\n",
    "    plt.plot(x, new_s, \"-o\")\n",
    "    plt.title(\"Press button to apply $A$\")\n",
    "    plt.show()"
   ]
  },
  {
   "cell_type": "markdown",
   "id": "96216881-bfa4-4893-8dcb-926ada8021d2",
   "metadata": {
    "tags": []
   },
   "source": [
    "The result: instability. The signal $A^n s$ goes to infinity as the number of iterations grows without bound (i.e., $n\\rightarrow\\infty$). Later, when working with neural networks, we want to avoid weights that converge towards infinity or zero. \n",
    "\n",
    "This justifies the use of normalized adjacency matrices. The most common normalization is to premultiply $A$ by $D^{-1}$, where $D$ is the degree matrix. For our graph, all nodes have degree 2. Let us try again. We define a left normalization:\n",
    "$$\n",
    "A^* = D^{-1} A \n",
    "$$\n",
    "Another popular normalization technique is the symmetric version of the preceding one: \n",
    "$$\n",
    "A^* = D^{-1/2} A D^{-1/2}\n",
    "$$"
   ]
  },
  {
   "cell_type": "code",
   "execution_count": 19,
   "id": "13e06ab8-b5b2-49a7-a775-aee25500490e",
   "metadata": {
    "colab": {
     "referenced_widgets": [
      "03105b7a1b9a4a98b734b684a533e5c6"
     ]
    },
    "id": "ac43e403-5060-4019-8ebb-25c592440e89",
    "outputId": "249a7bb2-8239-42e2-cd89-9d79106317be",
    "tags": []
   },
   "outputs": [
    {
     "data": {
      "application/vnd.jupyter.widget-view+json": {
       "model_id": "99cda4921a6d473ba0d4bac3e205ee95",
       "version_major": 2,
       "version_minor": 0
      },
      "text/plain": [
       "interactive(children=(IntSlider(value=50, description='seed', min=1), FloatSlider(value=0.1, description='eps'…"
      ]
     },
     "metadata": {},
     "output_type": "display_data"
    }
   ],
   "source": [
    "j = -1\n",
    "\n",
    "\n",
    "@interact_manual(\n",
    "    seed=(1, 100),\n",
    "    eps=(0, 1.5),\n",
    "    N=(5, 40),\n",
    "    jincr=(1, 10),\n",
    "    normalization=[\"left\", \"symmetric\"],\n",
    ")\n",
    "def plot1d(seed, eps=0.1, N=15, normalization=\"left\", jincr=1):\n",
    "    global j\n",
    "    np.random.seed(seed)\n",
    "    # Define a NxN matrix\n",
    "    A = np.zeros([N, N])\n",
    "    for i in range(1, N):\n",
    "        A[i, i - 1] = 1\n",
    "    A[0, N - 1] = 1\n",
    "    A = A + A.T\n",
    "    D = np.sum(A, axis=1)  # works for all A\n",
    "    Dinv = np.diag(1.0 / D)\n",
    "\n",
    "    if normalization == \"left\":\n",
    "        Dinv = np.diag(1.0 / D)\n",
    "        A = Dinv @ A\n",
    "        print(\"DinvSq @ A @ DinvSq= \", A)\n",
    "    else:\n",
    "        DinvSq = np.sqrt(Dinv)\n",
    "        A = DinvSq @ A @ DinvSq\n",
    "\n",
    "    x = np.linspace(0, 10, N)\n",
    "\n",
    "    # Signal s\n",
    "    noise = eps * np.random.randn(N)\n",
    "    s = np.sin((x / x[-1]) * 2 * np.pi * 2.5) + noise\n",
    "    print(\"mean(s) = \", np.mean(s))\n",
    "\n",
    "    j += jincr\n",
    "    Aj = np.linalg.matrix_power(A, j)\n",
    "    new_s = Aj @ s\n",
    "    print(\"mean(new_s) = \", np.mean(new_s))\n",
    "    print(\"new_s= \", new_s)\n",
    "\n",
    "    plt.plot(x, s, \"-\", color=\"red\")\n",
    "    plt.plot(x, new_s, \"-o\")\n",
    "    plt.title(\"Press button to apply $A$\")\n",
    "    plt.show()"
   ]
  },
  {
   "cell_type": "markdown",
   "id": "023cbb54-74d1-40bd-bd06-1c2eccf869c1",
   "metadata": {},
   "source": [
    "One observes that after many repetitions of normalized (left or symmetric), $A$, the signal converges to a constant equal to the mean of the original signal: \n",
    "$$\n",
    "\\lim_{n\\rightarrow\\infty} s_{new} = \\text{mean}(s) = \\frac1N\\sum_0^{n-1} s_i\n",
    "$$\n",
    "\n",
    "From a theoretical point of view, if $s_{new}$ converges to a constant, it means that in the limit of $n\\rightarrow\\infty$, \n",
    "$$\n",
    "(A^*)^n  s_{new} = (A^*)^{n-1} s_{new}\n",
    "$$\n",
    "which implies that \n",
    "$$ A^* s_{new} = s_{new} $$\n",
    "In other words, $\\lambda=1$ is an eigenvalue of the normalized adjacency matrix (corresonding to a bidirectional cyclic graph), either \n",
    "$A^* = D^{-1} A$ or $A^* = D^{-1/2} A D^{-1/2}$. \n",
    "\n",
    "One can easily show that if a single eigenvalue is greater than 1, $s_{new} \\rightarrow \\infty$. Since that does not happen, the maximum eigenvalue must be unity.\n",
    "\n",
    "We check this out by computing the eigenvalues of the normalized matrix (which must be real since the matrix is symmetric). One also notices that since $A$ is symmetric, both normalizations produce the same results. \n",
    "\n",
    "Exercise: Can you prove this? "
   ]
  },
  {
   "cell_type": "code",
   "execution_count": 39,
   "id": "a2329636-a44f-4e83-b576-afce3e47e9be",
   "metadata": {
    "colab": {
     "referenced_widgets": [
      "03105b7a1b9a4a98b734b684a533e5c6"
     ]
    },
    "id": "ac43e403-5060-4019-8ebb-25c592440e89",
    "outputId": "249a7bb2-8239-42e2-cd89-9d79106317be",
    "tags": []
   },
   "outputs": [
    {
     "data": {
      "application/vnd.jupyter.widget-view+json": {
       "model_id": "8899830f568a48829438330764f600ef",
       "version_major": 2,
       "version_minor": 0
      },
      "text/plain": [
       "interactive(children=(IntSlider(value=15, description='N', max=40, min=5), Dropdown(description='normalization…"
      ]
     },
     "metadata": {},
     "output_type": "display_data"
    }
   ],
   "source": [
    "@interact_manual(N=(5, 40), normalization=[\"left\", \"symmetric\"])\n",
    "def plot1d(N=15, normalization=\"left\"):\n",
    "    # Define a NxN matrix\n",
    "    A = np.zeros([N, N])\n",
    "    # cyclic linear chain with two connections per node\n",
    "    for i in range(1, N):\n",
    "        A[i, i - 1] = 1\n",
    "    A[0, N - 1] = 1\n",
    "    A = A + A.T\n",
    "    \n",
    "    D = np.sum(A, axis=1)  # works for all A\n",
    "    Dinv = np.diag(1.0 / D)\n",
    "\n",
    "    if normalization == \"left\":\n",
    "        Dinv = np.diag(1.0 / D)\n",
    "        A = Dinv @ A\n",
    "    else:\n",
    "        DinvSq = np.sqrt(Dinv)\n",
    "        A = DinvSq @ A @ DinvSq\n",
    "\n",
    "    print(\"A^*= \", A)\n",
    "    evalue, evector = np.linalg.eig(A)\n",
    "    print(\"\\nSorted eigenvalues: \", np.sort(evalue))\n",
    "    print(f\"NOTE: the maximum eigenvalue = 1\")"
   ]
  },
  {
   "cell_type": "markdown",
   "id": "379fe51a-acf3-4cf8-ac10-27dfdf396604",
   "metadata": {
    "id": "921ae72a-bd52-44c3-a75c-37ffe2f31fc5",
    "tags": []
   },
   "source": [
    "---\n",
    "## Cyclic case, non-directed graph\n",
    "We now repeat the last few experiments with a linear graph (i.e., a chain), but non-periodic: the boundary points are not considered as a single point. \n",
    "\n",
    "### Directed Graph\n",
    " $A_{i+1,i}=1$, for $i=0,\\cdots,N-2$. \n",
    "\n",
    "### Undirected Graph\n",
    "$A_{i+1,i}$ and $A_{i,i+1}=1$ for $i=0,\\cdots,N-2$. \n",
    "\n",
    "Let us apply the previous code to this case and see the effect of successive applications of $A$ on the signal. \n",
    "\n",
    "Undirected graphs lead to NaNs in the normalized matrices. "
   ]
  },
  {
   "cell_type": "code",
   "execution_count": 41,
   "id": "6a5ea98f-dd8e-4b8c-a337-42c8dbbf0147",
   "metadata": {},
   "outputs": [
    {
     "data": {
      "application/vnd.jupyter.widget-view+json": {
       "model_id": "a2234401355d415f8fac24efb376318f",
       "version_major": 2,
       "version_minor": 0
      },
      "text/plain": [
       "interactive(children=(IntSlider(value=15, description='N', max=20, min=5), Dropdown(description='normalization…"
      ]
     },
     "metadata": {},
     "output_type": "display_data"
    }
   ],
   "source": [
    "@interact_manual(\n",
    "    N=(5, 20),\n",
    "    normalization=[\"none\", \"left\", \"symmetric\"],\n",
    "    graph=[\"undirected\", \"directed\"],\n",
    ")\n",
    "def plot1d(N=15, normalization=\"left\", graph=[\"undirected\"]):\n",
    "    # Define a NxN matrix\n",
    "    A = np.zeros([N, N])\n",
    "    for i in range(1, N):\n",
    "        A[i, i - 1] = 1\n",
    "\n",
    "    if graph == \"undirected\":\n",
    "        A = A + A.T\n",
    "\n",
    "    D = np.sum(A, axis=1)  # works for all A\n",
    "    print(\"D= \", D)\n",
    "\n",
    "    if normalization == \"left\":\n",
    "        Dinv = np.diag(1.0 / D)\n",
    "        An = Dinv @ A\n",
    "    elif normalization == \"none\":\n",
    "        An = A\n",
    "    else:\n",
    "        Dinv = np.diag(1.0 / D)\n",
    "        DinvSq = np.sqrt(Dinv)\n",
    "        An = DinvSq @ A @ DinvSq\n",
    "\n",
    "    print(\"A = \", A)\n",
    "    print(\"An= \", An)\n",
    "    evalue, evector = np.linalg.eig(An)\n",
    "    print(np.sort(evalue))"
   ]
  },
  {
   "cell_type": "markdown",
   "id": "6705cf4d-d805-4f55-ac67-20abdd507efc",
   "metadata": {},
   "source": [
    "When the graph is directed, the first row of $A$ is zero, which leads to a zero eigenvalue, and the matrix is not invertible. \n",
    "\n",
    "With no normalization, the maximum eigenvalue magnitude is greater than unity, which is not desirable for an iterative process. However, with both left and symmetric normalization, the eigenvalues are still greater than unity. \n",
    "\n",
    "This leads to the idea of iterating with a matrix whose eigenvalues have better properties. This matrix is the Laplacian: \n",
    "$$\n",
    "L = D - A\n",
    "$$\n",
    "whose rows sum to zero. One easily sees that this represents a first or second order approximation to the second derivative is the nodes are equally spaced. The Laplacian measure curvature. \n",
    "\n",
    "Let us compute the eigenvalues of $L$, and its normalized version: \n",
    "\\begin{align}\n",
    "L^* &= D^{-1} L \\\\\n",
    "L^* &= D^{-1/2} L D^{-1/2}\n",
    "\\end{align}\n",
    "where $D$ is still defined as the degree matrix of $A$. \n"
   ]
  },
  {
   "cell_type": "code",
   "execution_count": 126,
   "id": "aceb6903-575c-4b10-bede-47330861779f",
   "metadata": {},
   "outputs": [
    {
     "data": {
      "text/plain": [
       "array([[1, 0, 0],\n",
       "       [0, 2, 0],\n",
       "       [0, 0, 3]])"
      ]
     },
     "execution_count": 126,
     "metadata": {},
     "output_type": "execute_result"
    }
   ],
   "source": [
    "np.diag([1, 2, 3])"
   ]
  },
  {
   "cell_type": "code",
   "execution_count": 42,
   "id": "f8e3d387-6ca4-4dff-93b9-663b2dc09553",
   "metadata": {
    "tags": []
   },
   "outputs": [
    {
     "data": {
      "application/vnd.jupyter.widget-view+json": {
       "model_id": "8951360d753d421ca0437abd2cd414b9",
       "version_major": 2,
       "version_minor": 0
      },
      "text/plain": [
       "interactive(children=(IntSlider(value=15, description='N', max=20, min=5), Dropdown(description='normalization…"
      ]
     },
     "metadata": {},
     "output_type": "display_data"
    }
   ],
   "source": [
    "@interact_manual(\n",
    "    N=(5, 20),\n",
    "    normalization=[\"none\", \"left\", \"symmetric\"],\n",
    "    graph=[\"undirected\", \"directed\"],\n",
    ")\n",
    "def plot1d(N=15, normalization=\"none\", graph=[\"undirected\"]):\n",
    "    # Define a NxN matrix\n",
    "    A = np.zeros([N, N])\n",
    "    for i in range(1, N):\n",
    "        A[i, i - 1] = 1\n",
    "\n",
    "    if graph == \"undirected\":\n",
    "        A = A + A.T\n",
    "\n",
    "    diagD = np.sum(A, axis=1)  # works for all A\n",
    "    Dinv = np.diag(1 / diagD)\n",
    "    D = np.diag(diagD)\n",
    "    # print(\"D= \", D)\n",
    "    # print(\"Dinv= \", Dinv)\n",
    "    # print(\"diag(D) \", np.diag(D))\n",
    "\n",
    "    # print(\"D= \", D)\n",
    "    # print(\"A= \", A)\n",
    "    L = D - A\n",
    "    # print(\"L= \", L)\n",
    "\n",
    "    # We will call L (normalized or not, the filter)\n",
    "    H = L\n",
    "\n",
    "    if normalization == \"left\":\n",
    "        Hn = Dinv @ H  # normalized\n",
    "    elif normalization == \"none\":\n",
    "        Hn = L\n",
    "    else:\n",
    "        DinvSq = np.sqrt(Dinv)\n",
    "        Hn = DinvSq @ H @ DinvSq\n",
    "\n",
    "    print(\"A= \", A)\n",
    "    print(\"Dinv= \", Dinv)\n",
    "    print(\"(Dinv@D)= \", (Dinv @ np.diag(D)))\n",
    "    print(\"norm(Dinv@D-np.eye(N))= \", np.linalg.norm(Dinv @ np.diag(D) - np.eye(N)))\n",
    "    print(\"L=H = \", L)\n",
    "    print(\"Hn= \", Hn)\n",
    "    evalue, evector = np.linalg.eig(Hn)\n",
    "    print(\"Sorted eigenvalues: \", np.sort(evalue))"
   ]
  },
  {
   "cell_type": "markdown",
   "id": "af399ec4-3671-44c5-a336-cb2cfa2f5193",
   "metadata": {
    "tags": []
   },
   "source": [
    "Everything works as expected for undirected graphs. The two normalizations (left and symmetric) produce real eigenvalues in the range $[0,2]$. The unormalized Laplacian has unbounded eigenvalues. $\\lambda=1$ is another eigenvalue, independent of the number of nodes, $N$. \n",
    "\n",
    "Clearly, the iteration \n",
    "$$\n",
    "s^{n+1} = A^n s^n\n",
    "$$\n",
    "diverges as $n\\rightarrow\\infty$. "
   ]
  },
  {
   "cell_type": "markdown",
   "id": "7954224b-56c6-439e-93ad-4c6d8b4f2a5c",
   "metadata": {},
   "source": [
    "From linear algebra, any symmetric matrix $L$ can be expressed as\n",
    "$$\n",
    "L = U^{-1} \\Lambda U\n",
    "$$\n",
    "where the *columns* of $U^{-1}$ are the eigenvectors of $A$ and $\\Lambda$ is a diagonal matrix with the eigenvalues of $L$. This is easily seen by multiplying both sides by $U^{-1}$: \n",
    "$$\n",
    "L \\, U^{-1}  = U^{-1} \\Lambda \n",
    "$$\n",
    "In component notation: \n",
    "\\begin{align}\n",
    "\\sum_j L_{ij} U^{-1}_{jk} &= \\sum_j U^{-1}_{ij} \\Lambda_{jk} \\\\\n",
    "    &= \\sum_j U^{-1}_{ij} \\delta_{jk} \\Lambda_{jk} \\\\\n",
    "    &= U^{-1}_{ik} \\lambda_k\n",
    "\\end{align}\n",
    "where $\\Lambda\\in\\Re{N\\times N}$ is a diagonal matrix. If the eigenvectors are normalized, $U^{-1} = U^T$, which is a normal matrix (i.e., the eigenvectors have unit length, and are orthogonal). We made the implicit asumptions that all eigenvalues are different. Otherwise, one has to resort to the Jordan normal form, which is out of scope.\n",
    "The LHS (left-hand side) of the last equation represents $L U^{-1}_k$, where $U^{-1}_k$ is the $k^{th}$ column of $U^{-1}$. Therefore, $U^{-1}_k$ is an eigenfunction of $L$ with eigenvalue $\\lambda_k$. Again, we assume all eigenvalues are different. If an eigenvalue $\\lambda_k$ has multiplicity $m_k$, the corresponding eigenvectors form a subspace $U^{-1}_k \\in \\Re{m_k\\times m_k}$. "
   ]
  },
  {
   "cell_type": "markdown",
   "id": "e8dbb41d-3a5c-478f-a7a2-57b3de914517",
   "metadata": {},
   "source": [
    "## Eigenvectors of various operators on the cyclic and non-cyclic chain\n",
    "We write a program to plot the eigenvectors of $A$, normalized $A$ (left and symmetric), and $L$ (normalized or not). \n",
    "\n",
    "Consider a matrix that has a unit eigenvalue $\\lambda = 1$ with associated eigenvector $v$. Assume that $\\lambda=1$ is the largest eigenvector. Starting from a random signal $s$, we know that it can be expressed as a linear combination of the eigenvectors of $A$. Since the eigenvectors form a basis of $A$, this expansion is unique. Thus: \n",
    "$$\n",
    "s = \\sum_k a_k v_k\n",
    "$$\n",
    "where $v_k$, $k=0,1,\\cdots,N-1$ is the $k^{th}$ eigenvectors and $\\lambda_k$ is the $k^{th}$ eigenvalue. Apply $A$ to both sides: \n",
    "$$\n",
    "A s = \\sum_k a_k A_k v_k = \\sum_k a_k \\lambda_k v_k\n",
    "$$\n",
    "Therefore, applying $A$ multiple times to both sides: \n",
    "$$\n",
    "A^n s = \\sum_k a_k \\lambda^n_k v_k\n",
    "$$\n",
    "If we assume that $\\lambda_{max}$ is the eigenvalue of maximum magnitude, we reexpress the equation above as\n",
    "\\begin{align}\n",
    "A^n s &= \\lambda_{max}^n \\sum_k a_k \\left(\\frac{\\lambda_k}{\\lambda_{max}}\\right)^n v_k \n",
    "\\end{align}\n",
    "As $n\\rightarrow\\infty$, the term with the largest eigenvalue in magnitude will dominate the expression. Therefore, \n",
    "$$\n",
    "A^n s \\rightarrow a_{k^*} \\lambda_{k^*}^n v_{k^*}\n",
    "$$ \n",
    "for very large $n$. Setting $\\lambda_{max}=1$, we find that\n",
    "$$\n",
    "A^n s \\rightarrow a_{k^*} v_{k^*}\n",
    "$$\n",
    "which is finite. This result holds for any matrix $A$. \n",
    "\n",
    "We demonstrated this earlier in the case when $A$ is the shift operator of a linear undirected graph, that $v_{k^*} \\rightarrow \\text{mean}(s}$. In this case, the constant function is an eigenvector that corresponds to the unity eigenvalue. \n",
    "\n",
    "<font color='red'>\n",
    "(NEED MORE DEVELOPMENT). I AM CONFUSED. WHAT INFORMATION AM I TRYING TO IMPART? \n",
    "</font>"
   ]
  },
  {
   "cell_type": "code",
   "execution_count": 43,
   "id": "ed5808f6-9a79-480d-9753-7e5ff363942c",
   "metadata": {
    "tags": []
   },
   "outputs": [
    {
     "data": {
      "application/vnd.jupyter.widget-view+json": {
       "model_id": "e7f96daf1d0e4f1f89944e16d8254748",
       "version_major": 2,
       "version_minor": 0
      },
      "text/plain": [
       "interactive(children=(IntSlider(value=10, description='N', min=5), IntSlider(value=50, description='which_eig'…"
      ]
     },
     "metadata": {},
     "output_type": "display_data"
    }
   ],
   "source": [
    "# I would like which_eig to plot to have a maximum of N\n",
    "which_eig_slider = widgets.IntSlider(min=0, max=100, value=0)\n",
    "\n",
    "\n",
    "@interact(N=(5, 100), which_eig=(0, 100), graph=[\"undirected\", \"directed\"])\n",
    "def plot1d(N=10, which_eig=which_eig_slider, graph=[\"undirected\"]):\n",
    "    # poor programming but allows me to change the slider position\n",
    "    # global which_eig_slider\n",
    "\n",
    "    # Define a NxN matrix\n",
    "    # if which_eig > N:\n",
    "    #     which_eig = N - 1 # count from 0\n",
    "    # which_eig_slider.value = N - 1\n",
    "    # print(which_eig_slider)\n",
    "    # print(\"which_eig: \", which_eig)\n",
    "\n",
    "    A = np.zeros([N, N])\n",
    "    for i in range(1, N):\n",
    "        A[i, i - 1] = 1\n",
    "\n",
    "    if graph == \"undirected\":\n",
    "        A = A + A.T\n",
    "\n",
    "    diagD = np.sum(A, axis=1)  # works for all A\n",
    "    # The undirected version has an Inf in Dinv\n",
    "    Dinv = np.diag(1 / diagD)\n",
    "    D = np.diag(diagD)\n",
    "    L = D - A\n",
    "    # We will call L (normalized or not, the filter)\n",
    "    H = L\n",
    "\n",
    "    H_dict = {}\n",
    "    eigval_dict = {}\n",
    "    eigvec_dict = {}\n",
    "    H_dict[\"none\"] = L\n",
    "\n",
    "    # Next two matrices have NaNs in the undirected graph case\n",
    "    H_dict[\"left\"] = Dinv @ H  # normalized\n",
    "    DinvSq = np.sqrt(Dinv)\n",
    "    H_dict[\"symmetric\"] = DinvSq @ H @ DinvSq\n",
    "\n",
    "    if graph == \"directed\":\n",
    "        # Remove keys (works even when key is not in dict)\n",
    "        H_dict.pop(\"left\", None)\n",
    "        H_dict.pop(\"symmetric\", None)\n",
    "\n",
    "    # Draw three columns: no normalization, left, and symmetric\n",
    "    # Draw 5 eigenvectors for first five eigenvalues, sorted by magnitude\n",
    "    # Below the eigenvectors, plot the first 10 eigenvalues, sorted by magnitude\n",
    "\n",
    "    nrows = 3\n",
    "    ncols = 3\n",
    "    # rows and cols are used to access axes array elements\n",
    "    row_eigf, row_eigv = 0, 1\n",
    "    cols_dict = {\"none\": 0, \"left\": 1, \"symmetric\": 2}\n",
    "    pos_none_eig = 2, 1\n",
    "    pos_none_tot_var = 2, 0\n",
    "\n",
    "    fig, axes = plt.subplots(nrows, ncols, figsize=(15, 6))\n",
    "\n",
    "    for k, v in H_dict.items():\n",
    "        eigval_dict[k], eigvec_dict[k] = np.linalg.eig(v)\n",
    "        arg = np.argsort(eigval_dict[k])\n",
    "        eigval_dict[k] = eigval_dict[k][arg]\n",
    "        eigvec_dict[k] = eigvec_dict[k][:, arg]\n",
    "\n",
    "    for k in H_dict.keys():\n",
    "        ax = axes[row_eigf, cols_dict[k]]\n",
    "        for i in range(0, 5):\n",
    "            ax.plot(eigvec_dict[k][:, i], \"-o\", label=f\"$\\lambda_{i}$\")\n",
    "        ax.set_xlabel(\"k\")\n",
    "        ax.set_ylabel(\"v_k\")\n",
    "        ax.legend(framealpha=0.5)\n",
    "\n",
    "        ax = axes[row_eigv, cols_dict[k]]\n",
    "        ax.plot(eigval_dict[k], \"-o\", color=\"black\")\n",
    "        ax.set_ylim(0, 5)\n",
    "        ax.set_xlabel(\"k\")\n",
    "        ax.set_ylabel(\"$\\lambda_k$\")\n",
    "        ax.grid(True)\n",
    "\n",
    "    ax = axes[pos_none_eig]  # [0], pos_none_eig[1]]\n",
    "    ax.set_ylim(-0.2, 0.2)\n",
    "    ax.grid(True)\n",
    "    ax.set_title(\"Single Eigenvector, no normalization\")\n",
    "\n",
    "    try:\n",
    "        eigvec = eigvec_dict[\"none\"][:, which_eig]\n",
    "    except:\n",
    "        print(f\"which_eig must be < N! Reset value to ${N-1}$\")\n",
    "        which_eig = N - 1\n",
    "        eigvec = eigvec_dict[\"none\"][:, which_eig]\n",
    "\n",
    "    # print(\"norm(eigvec): \", np.linalg.norm(eigvec, 2))\n",
    "    # eig_string = \"$\\lambda_%s$\" % which_eig\n",
    "    # print(\"eig_string: \", eig_string)\n",
    "    ax.plot(eigvec, \"-o\", color=\"black\", label=f\"$\\lambda_{which_eig}$\")\n",
    "    ax = axes[row_eigv, cols_dict[\"none\"]]\n",
    "    ax.plot(which_eig, eigval_dict[\"none\"][which_eig], \"o\", ms=10, color=\"red\")\n",
    "    ax.set_title(f\"Eigenvalues $\\lambda_k$\")\n",
    "\n",
    "    ax = axes[pos_none_tot_var]\n",
    "\n",
    "    def tot_var(L, v):\n",
    "        \"\"\"\n",
    "        Calculate the total variation: \\sum_i (s[i]-s[j])^2\n",
    "        where s is a signal, which could be an eigenvector of $A$.\n",
    "        The function is inefficient but will work on general graphs\n",
    "        \"\"\"\n",
    "        total_variat = 0\n",
    "        for i in range(N):\n",
    "            for j in range(N):\n",
    "                if abs(A[i, j]) > 0.01:\n",
    "                    total_variat += (v[i] - v[j]) ** 2\n",
    "        return total_variat\n",
    "\n",
    "    # Calculate total variation for all eigenvalues, and for 'none' and 'symmetric' normaliz\n",
    "    totvar = []\n",
    "    for i in range(N):\n",
    "        v = eigvec_dict[\"none\"][:, i]\n",
    "        totvar.append(tot_var(L, v))\n",
    "\n",
    "    ax.plot(totvar, \"-o\", color=\"black\")\n",
    "    ax.plot(which_eig, totvar[which_eig], \"o\", ms=10, color=\"red\")\n",
    "    ax.grid(True)\n",
    "    ax.set_title(\"Total Variation, $L$, no normalization\")\n",
    "\n",
    "    # Plot curve\n",
    "\n",
    "    for k in H_dict.keys():\n",
    "        ax = axes[0, cols_dict[k]]\n",
    "        ax.set_title(k + \" normalization\")\n",
    "        ax = axes[1, cols_dict[k]]\n",
    "        ax.set_title(k + \" normalization\")\n",
    "\n",
    "    plt.suptitle(\n",
    "        \"Eigenvectors and eigenvalues for $L$ (left), $D^{-1}L$ (middle), $D^{-1/2}LD^{-1/2}$ (right)\",\n",
    "        fontsize=16,\n",
    "    )\n",
    "\n",
    "    plt.tight_layout()\n",
    "    # plt.show()"
   ]
  },
  {
   "cell_type": "markdown",
   "id": "dfa673e6-468c-4c9a-872d-0ed60ef888c4",
   "metadata": {},
   "source": [
    "## Findings\n",
    "* The spectrum (eigenvalues) range is independent of $N$. \n",
    "* The eigenvector of the unnormalized Laplacian has a fixed range for most $N$. It always has unit $l_2$ norm. \n",
    "* The total variation $\\sum_{i,j} A_{i,j} (v_i-v_j)^2$ increases with the eigenvalue. Here, $v_j$ is the eigenvector $j$ that corresponds to eigenvalue $\\lambda_i$. "
   ]
  },
  {
   "cell_type": "markdown",
   "id": "ad110faa-c031-444d-ae73-4e645cd130d9",
   "metadata": {},
   "source": [
    "## Code complexity\n",
    "The plotting code above is getting complicated. It is therefore time to simplify the code by refactoring common operations. Different plots have different number of subplots, and each subplot draws one or more curves. They require an axis (`ax`) and dependent and independent variables, either one or a group. Therefore, smaller routines dedicated to drawing a single subplot would be useful. \n",
    "Furthermore, there is a need to create routines to create different kinds of matrices, alogn with their eigenvalues, and eigenvectors. Of course, the `Networkx` graph already does this, but doing it ourselves is good coding practice. "
   ]
  },
  {
   "cell_type": "markdown",
   "id": "7139925d-6d95-4290-8cb7-7de81b0e6941",
   "metadata": {},
   "source": [
    "# Code refactoring"
   ]
  },
  {
   "cell_type": "markdown",
   "id": "f80d7b84-98dc-48ae-8171-e095a6d5c962",
   "metadata": {},
   "source": [
    "## Refactored version of previous function\n",
    "* The new functions are located in the file `spectral_function_library.py` in the main folder.\n",
    "* Pay attention to the first two lines of this notebook: \n",
    "    * %load_ext autoreload\n",
    "    * %autoreload 2\n",
    "    \n",
    "These two lines ensure that modules are automatically reloaded when changed on disk. "
   ]
  },
  {
   "cell_type": "code",
   "execution_count": 45,
   "id": "6ff3fad4-2233-4650-9369-3f24dea1ddd0",
   "metadata": {
    "tags": []
   },
   "outputs": [
    {
     "data": {
      "application/vnd.jupyter.widget-view+json": {
       "model_id": "0546779efa68403bb467984d2c2dbb8f",
       "version_major": 2,
       "version_minor": 0
      },
      "text/plain": [
       "interactive(children=(IntSlider(value=10, description='N', min=5), IntSlider(value=50, description='which_eig'…"
      ]
     },
     "metadata": {},
     "output_type": "display_data"
    }
   ],
   "source": [
    "# I would like which_eig to plot to have a maximum of N\n",
    "which_eig_slider = widgets.IntSlider(min=0, max=100, value=0)\n",
    "\n",
    "\n",
    "@interact(N=(5, 100), which_eig=(0, 100), graph=[\"undirected\", \"directed\"])\n",
    "def plot1d(N=10, which_eig=which_eig_slider, graph=[\"undirected\"]):\n",
    "    A = spec_lib.linear_acyclic_chain(N, graph)\n",
    "    D = spec_lib.degree_matrix(A)\n",
    "    H = L = D - A  # H stands for filter\n",
    "\n",
    "    norms = [\"none\", \"left\", \"symmetric\"]\n",
    "    H_dict = {k: spec_lib.normalized_matrix(L, D, k) for k in norms}\n",
    "\n",
    "    eigval_dict = {}\n",
    "    eigvec_dict = {}\n",
    "\n",
    "    if graph == \"directed\":\n",
    "        # Remove keys (works even when key is not in dict)\n",
    "        H_dict.pop(\"left\", None)\n",
    "        H_dict.pop(\"symmetric\", None)\n",
    "\n",
    "    # Draw three columns: no normalization, left, and symmetric\n",
    "    # Draw 5 eigenvectors for first five eigenvalues, sorted by magnitude\n",
    "    # Below the eigenvectors, plot the first 10 eigenvalues, sorted by magnitude\n",
    "\n",
    "    for k, v in H_dict.items():\n",
    "        eigval_dict[k], eigvec_dict[k] = np.linalg.eig(v)\n",
    "        arg = np.argsort(eigval_dict[k])\n",
    "        eigval_dict[k] = eigval_dict[k][arg]\n",
    "        eigvec_dict[k] = eigvec_dict[k][:, arg]\n",
    "        \n",
    "    # Total variation (based on Laplaci\n",
    "    totvar = [spec_lib.tot_var(A, eigvec_dict[\"none\"][:, i]) for i in range(N)]\n",
    "    \n",
    "    \"\"\"\n",
    "    Six plots of eigenvalues and eigenvectors of L and two normalized versions, \n",
    "    left and symmetric normalization by Dinv and sqrt(Dinv). \n",
    "    Also plotted: \n",
    "       1) total variation of the signal a a function of eigenvalue\n",
    "       2) the k^{th} eigenvector of the Laplacian. The chosen eigenvector is controlled\n",
    "        with a slider bar (which_eigen)\n",
    "    \"\"\"\n",
    "    spec_lib.plot_data1(H_dict, eigval_dict, eigvec_dict, totvar, which_eig)"
   ]
  },
  {
   "cell_type": "markdown",
   "id": "32cd10a5-45ca-4f14-946c-ed980ba908ba",
   "metadata": {},
   "source": [
    "# Example of a simple embedding calculation using a spectral approach. \n",
    "* We will not be concerned with efficiency\n",
    "* We will linearize any nonlinearities. "
   ]
  },
  {
   "cell_type": "markdown",
   "id": "5dad9db6-ddfa-433c-a0d7-dc22719f4d15",
   "metadata": {
    "tags": []
   },
   "source": [
    "---\n",
    "## Time to think about node embeddings and Neural networks\n",
    "The simplest algorithm would be to iterate the following: \n",
    "$$\n",
    "H^{n+1}_{i,l} = \\sum_{j\\in\\cal{N}(v_j)\\cup v_j} (I_{i,j} +A_{i,j}) H^{n+1}_{j,k} W_{k,l} \n",
    "$H^{i,l}$ to feature $l$ on graph node $i$. Feature $l$ is also called the value of element $l$ of the node's embedding. The number of features on a node need not be equal to the number of embeddings. \n",
    "\n",
    "The subscript refers to the iteration number. In practice, a nonlinear funciton is applied between iterations. Thus, \n",
    "$$\n",
    "H^{n+1} = \\sigma((I+A) H^{n} W) \n",
    "$$\n",
    "where $W$ is a weight matrix that will be determined by optimizing an appropriate cost function. \n",
    "\n",
    "Let us link together multiple iterations: \n",
    "\\begin{align}\n",
    "H^{1} &= \\sigma((I+A) H^0 W^0)  \\\\\n",
    "H^{2} &= \\sigma((I+A) H^1 W^1) \\\\\n",
    "\\cdots &=  \\cdots\n",
    "\\end{align}\n",
    "Note that $w^n$ could be independent of $n$, which reminds us of recursion, or have different values for each iteration, which reminds us of a multi-stage convolution network. The weight matrix $W^n \\in \\Re{d^{n}\\times d^{n+1}}$ where $d^n$ is the size of the embedding vector at iteration $n$. $H^0$ is usually chosen to be the existing feature matrix of the graph. \n",
    "\n",
    "Now let us remove the nonlinearity. This gives the linear algorithm :\n",
    "\\begin{align}\n",
    "H^{1} &= (I+A) H^0 W^0 \\\\\n",
    "H^{2} &= (I+A) H^1 W^1 \\\\\n",
    "\\cdots &=  \\cdots\n",
    "\\end{align}\n"
   ]
  },
  {
   "cell_type": "code",
   "execution_count": 13,
   "id": "turned-makeup",
   "metadata": {
    "id": "140af255-b055-45fd-88c6-03001266d8a0"
   },
   "outputs": [],
   "source": [
    "def generate_graph_from_adjacency_matrix_1(G, N, seed):\n",
    "    \"\"\"\n",
    "    Arguments\n",
    "    N: number of nodes\n",
    "    \"\"\"\n",
    "    np.random.seed(seed)\n",
    "\n",
    "    # Convert to np.ndArray\n",
    "    A = nx.linalg.graphmatrix.adjacency_matrix(G).toarray()\n",
    "    nx.linalg\n",
    "    # print(\"Adj: \", A, \"\\n\", A.shape, \"\\n\", type(A))\n",
    "\n",
    "    # Different matrices\n",
    "    D = np.sum(A, axis=0)\n",
    "    D = np.diag(D)\n",
    "    L = D - A\n",
    "    Ln = nx.normalized_laplacian_matrix(G)   # Is it symmetric?\n",
    "    Ln = Ln.toarray()  # from sparse array to ndarray\n",
    "\n",
    "    # Create a signal on the graph. We will choose a sine wave. \n",
    "    def sig(ivec, freq):\n",
    "        return np.sin(2.*np.pi*freq*ivec / ivec[-1])\n",
    "                   \n",
    "    ivec = np.asarray(list(range(D.shape[0])))\n",
    "    s = sig(ivec, freq=2)\n",
    "    \n",
    "    ### WHAT NEXT?\n",
    "                   \n",
    "                   \n",
    "    matrix = [\"A\", \"D\", \"L\", \"invD\", \"invDA\", \"invDL\", \"invDinvD\", \"Ln\"]\n",
    "    matrices = [A, D, L, invD, invDA, invDL, invDLinvD, Ln]\n",
    "\n",
    "    # Eigenvalues\n",
    "    fig, axes = plt.subplots(3, 3, figsize=(10, 8))\n",
    "    axes = axes.reshape(-1)\n",
    "    fig.suptitle(\"Eigenvalues of various matrices\")\n",
    "    for i, m in enumerate(matrices):\n",
    "        ax = axes[i]\n",
    "        eigs = np.linalg.eigvals(m)\n",
    "        eigs = np.sort(eigs)[::-1]\n",
    "        ax.set_title(matrix[i])\n",
    "        ax.grid(True)\n",
    "        ax.plot(eigs, \"-o\")\n",
    "    for i in range(i + 2, axes.shape[-1]):\n",
    "        axes[i].axis(\"off\")\n",
    "    plt.tight_layout()\n",
    "    plt.show()"
   ]
  },
  {
   "cell_type": "code",
   "execution_count": 14,
   "id": "robust-niger",
   "metadata": {
    "colab": {
     "referenced_widgets": [
      "544864f65faf42e6ac7de40f4c0a8f30"
     ]
    },
    "id": "d49f2cd0-58c6-454a-a1d3-0eb304c1af8a",
    "outputId": "39a6ddee-a482-46be-c702-14924b7d1cfb"
   },
   "outputs": [
    {
     "data": {
      "application/vnd.jupyter.widget-view+json": {
       "model_id": "78b66e6afc3c4ee2863bf9ba7d2f3ce0",
       "version_major": 2,
       "version_minor": 0
      },
      "text/plain": [
       "interactive(children=(IntSlider(value=10, description='nb_nodes', max=30, min=3), IntSlider(value=4, descripti…"
      ]
     },
     "metadata": {},
     "output_type": "display_data"
    }
   ],
   "source": [
    "prob_slider = widgets.FloatSlider(min=0, max=1, step=0.1, value=0.5)\n",
    "node_slider = widgets.IntSlider(min=3, max=30, step=1, value=10)\n",
    "nb_neigh_slider = widgets.IntSlider(min=1, max=10, step=1, value=4)\n",
    "nb_edges_per_node_slider = widgets.IntSlider(min=1, max=20, step=2, value=5)\n",
    "seed_slider = widgets.IntSlider(int=1, max=50, step=1, value=25)\n",
    "graph_type = [\"connected_watts_strogatz\", \"powerlaw_cluster_graph\"]\n",
    "\n",
    "@interact(\n",
    "    nb_nodes=node_slider,\n",
    "    prob=prob_slider,\n",
    "    nb_neigh=nb_neigh_slider,\n",
    "    nb_edges_per_node=nb_edges_per_node_slider,\n",
    "    seed=seed_slider,\n",
    "    graph_type=graph_type,\n",
    "    # directed=True,\n",
    ")\n",
    "def drawGraph(nb_nodes, nb_neigh, prob, seed, nb_edges_per_node, graph_type):\n",
    "    if graph_type == \"connected_watts_strogatz\":\n",
    "        nb_edges_per_node_slider.style.handle_color = 'red'\n",
    "        nb_neigh_slider.style.handle_color = 'black'\n",
    "        nb_tries = 20\n",
    "        edge_prob = prob\n",
    "        G = nx.connected_watts_strogatz_graph(\n",
    "            nb_nodes, nb_neigh, edge_prob, nb_tries, seed\n",
    "        )\n",
    "    elif graph_type == \"powerlaw_cluster_graph\":\n",
    "        nb_neigh_slider.style.handle_color = 'red'\n",
    "        nb_edges_per_node_slider.style.handle_color = 'black'\n",
    "        add_tri_prob = prob\n",
    "        if nb_edges_per_node >= nb_nodes:\n",
    "            nb_edges_per_node = nb_nodes - 1\n",
    "        G = nx.powerlaw_cluster_graph(nb_nodes, nb_edges_per_node, add_tri_prob, seed)\n",
    "\n",
    "    generate_graph_from_adjacency_matrix_1(G, nb_nodes, seed)"
   ]
  },
  {
   "cell_type": "code",
   "execution_count": null,
   "id": "d04f198a-3f09-47b6-8b97-c3c49a124f59",
   "metadata": {},
   "outputs": [],
   "source": []
  }
 ],
 "metadata": {
  "colab": {
   "name": "Spectral.ipynb",
   "provenance": []
  },
  "kernelspec": {
   "display_name": "Python 3",
   "language": "python",
   "name": "python3"
  },
  "language_info": {
   "codemirror_mode": {
    "name": "ipython",
    "version": 3
   },
   "file_extension": ".py",
   "mimetype": "text/x-python",
   "name": "python",
   "nbconvert_exporter": "python",
   "pygments_lexer": "ipython3",
   "version": "3.8.8"
  },
  "widgets": {
   "application/vnd.jupyter.widget-state+json": {
    "state": {
     "002613209a72413999d52801723b730d": {
      "model_module": "@jupyter-widgets/base",
      "model_module_version": "1.2.0",
      "model_name": "LayoutModel",
      "state": {}
     },
     "033ab272050e47d4949760a5a5deca80": {
      "model_module": "@jupyter-widgets/base",
      "model_module_version": "1.2.0",
      "model_name": "LayoutModel",
      "state": {}
     },
     "03f29c09a51f453a8e983c365047dc3c": {
      "model_module": "@jupyter-widgets/output",
      "model_module_version": "1.0.0",
      "model_name": "OutputModel",
      "state": {
       "layout": "IPY_MODEL_033ab272050e47d4949760a5a5deca80",
       "outputs": [
        {
         "data": {
          "image/png": "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\n",
          "text/plain": "<Figure size 432x288 with 1 Axes>"
         },
         "metadata": {
          "needs_background": "light"
         },
         "output_type": "display_data"
        }
       ]
      }
     },
     "05615a920d064dbf99d0d35cdb8af4d0": {
      "model_module": "@jupyter-widgets/controls",
      "model_module_version": "1.5.0",
      "model_name": "IntSliderModel",
      "state": {
       "description": "nb_edges_per_node",
       "layout": "IPY_MODEL_9fb519d4cafb499bb97d40463fec2a91",
       "max": 20,
       "min": 1,
       "step": 2,
       "style": "IPY_MODEL_a2f32c6ef4fc4fa5b11761a122736ed3",
       "value": 5
      }
     },
     "0a9892cb48f34d5c8d4ab6dd922c3835": {
      "model_module": "@jupyter-widgets/controls",
      "model_module_version": "1.5.0",
      "model_name": "SliderStyleModel",
      "state": {
       "description_width": "",
       "handle_color": "red"
      }
     },
     "0ac14f9d1c85463f989d7e3e1af6c125": {
      "model_module": "@jupyter-widgets/base",
      "model_module_version": "1.2.0",
      "model_name": "LayoutModel",
      "state": {}
     },
     "0c2cc9e6affb43d8aef0baa93ceda469": {
      "model_module": "@jupyter-widgets/controls",
      "model_module_version": "1.5.0",
      "model_name": "SliderStyleModel",
      "state": {
       "description_width": ""
      }
     },
     "104570c4e4784af1a8102f4a727aba14": {
      "model_module": "@jupyter-widgets/controls",
      "model_module_version": "1.5.0",
      "model_name": "SliderStyleModel",
      "state": {
       "description_width": ""
      }
     },
     "1122574244fa448992af4be2bd2d2b5c": {
      "model_module": "@jupyter-widgets/controls",
      "model_module_version": "1.5.0",
      "model_name": "SliderStyleModel",
      "state": {
       "description_width": "",
       "handle_color": "red"
      }
     },
     "11daafd9080f4a7b90d8553a17e35a32": {
      "model_module": "@jupyter-widgets/base",
      "model_module_version": "1.2.0",
      "model_name": "LayoutModel",
      "state": {}
     },
     "13b9983fd4e54f3e82343156873f47ee": {
      "model_module": "@jupyter-widgets/controls",
      "model_module_version": "1.5.0",
      "model_name": "VBoxModel",
      "state": {
       "_dom_classes": [
        "widget-interact"
       ],
       "children": [
        "IPY_MODEL_2b938439c7f34036b580b2f796c8b834",
        "IPY_MODEL_85803bc12b9141b7992cda2cb2646933"
       ],
       "layout": "IPY_MODEL_2bd0062818144196b07d09ec8b28df0a"
      }
     },
     "16baeac7051e4bdaaa6ad53226d04e9c": {
      "model_module": "@jupyter-widgets/base",
      "model_module_version": "1.2.0",
      "model_name": "LayoutModel",
      "state": {}
     },
     "16f917d5614d4925b4630dbef3932bd1": {
      "model_module": "@jupyter-widgets/controls",
      "model_module_version": "1.5.0",
      "model_name": "IntSliderModel",
      "state": {
       "description": "seed",
       "layout": "IPY_MODEL_c90ffaf842fb476c93829d489c4272a4",
       "max": 50,
       "style": "IPY_MODEL_7a04c71c6f84405ba8c36233ffcd9413",
       "value": 25
      }
     },
     "188d6294a1b44b1a8711acf2a1f1d95c": {
      "model_module": "@jupyter-widgets/controls",
      "model_module_version": "1.5.0",
      "model_name": "IntSliderModel",
      "state": {
       "description": "nb_edges_per_node",
       "layout": "IPY_MODEL_e927bf9f484a42e5bc6e23cef06d27c0",
       "max": 20,
       "min": 1,
       "step": 2,
       "style": "IPY_MODEL_0a9892cb48f34d5c8d4ab6dd922c3835",
       "value": 5
      }
     },
     "1de4b151ec184c92b2d984df1ee9c9d3": {
      "model_module": "@jupyter-widgets/base",
      "model_module_version": "1.2.0",
      "model_name": "LayoutModel",
      "state": {}
     },
     "2534a0c4aa8a49518eab0713d535771f": {
      "model_module": "@jupyter-widgets/controls",
      "model_module_version": "1.5.0",
      "model_name": "SliderStyleModel",
      "state": {
       "description_width": ""
      }
     },
     "2545dc131ce946f6aa3809e4e8204f9c": {
      "model_module": "@jupyter-widgets/base",
      "model_module_version": "1.2.0",
      "model_name": "LayoutModel",
      "state": {}
     },
     "27fecbe4e15e4ff3a1c59c16dd27901b": {
      "model_module": "@jupyter-widgets/base",
      "model_module_version": "1.2.0",
      "model_name": "LayoutModel",
      "state": {}
     },
     "28b6a932b1794f4b8e9e9fe8e0e3e6f1": {
      "model_module": "@jupyter-widgets/controls",
      "model_module_version": "1.5.0",
      "model_name": "IntSliderModel",
      "state": {
       "description": "nb_nodes",
       "layout": "IPY_MODEL_da9b77946cf141c4865b5d6c8f7bc729",
       "max": 30,
       "min": 3,
       "style": "IPY_MODEL_5a2bf7daa8bc474690015ecca7b6d4ae",
       "value": 14
      }
     },
     "2a73f18f4d0242789945f1825da37b96": {
      "model_module": "@jupyter-widgets/controls",
      "model_module_version": "1.5.0",
      "model_name": "VBoxModel",
      "state": {
       "_dom_classes": [
        "widget-interact"
       ],
       "children": [
        "IPY_MODEL_cf74953707ff4dda8e975fe5813dc6b0",
        "IPY_MODEL_69b440be9d1f48f89b856fe389dfb953",
        "IPY_MODEL_8cb8221bb6a747fc913d30902fe2d855",
        "IPY_MODEL_811b9405a4914bfc913f0a2d3cb9250e",
        "IPY_MODEL_ec040f01a1f44e6aa51a2fe3a4a95de7",
        "IPY_MODEL_e85437808b6c4f7ea91ae57756287958",
        "IPY_MODEL_c842a08567434e38ac04b6734344ab26"
       ],
       "layout": "IPY_MODEL_6252e1665da64915bffe9abe98bcda87"
      }
     },
     "2a97176c9bb9410ab72969674db72f74": {
      "model_module": "@jupyter-widgets/controls",
      "model_module_version": "1.5.0",
      "model_name": "SliderStyleModel",
      "state": {
       "description_width": ""
      }
     },
     "2b938439c7f34036b580b2f796c8b834": {
      "model_module": "@jupyter-widgets/controls",
      "model_module_version": "1.5.0",
      "model_name": "IntSliderModel",
      "state": {
       "description": "N",
       "layout": "IPY_MODEL_40530a64958a4a2689f9a313796cee4c",
       "max": 40,
       "min": 5,
       "style": "IPY_MODEL_2534a0c4aa8a49518eab0713d535771f",
       "value": 22
      }
     },
     "2bd0062818144196b07d09ec8b28df0a": {
      "model_module": "@jupyter-widgets/base",
      "model_module_version": "1.2.0",
      "model_name": "LayoutModel",
      "state": {}
     },
     "2db3d270da3940cdb9bfa32872655d26": {
      "model_module": "@jupyter-widgets/controls",
      "model_module_version": "1.5.0",
      "model_name": "SliderStyleModel",
      "state": {
       "description_width": ""
      }
     },
     "2ec5b548e29d49b09caff041c530dede": {
      "model_module": "@jupyter-widgets/controls",
      "model_module_version": "1.5.0",
      "model_name": "SliderStyleModel",
      "state": {
       "description_width": "",
       "handle_color": "black"
      }
     },
     "3288c7b48b5343eab8f3575f59986186": {
      "model_module": "@jupyter-widgets/controls",
      "model_module_version": "1.5.0",
      "model_name": "SliderStyleModel",
      "state": {
       "description_width": ""
      }
     },
     "35283d8ba4e64482bd9c05de065e75fb": {
      "model_module": "@jupyter-widgets/base",
      "model_module_version": "1.2.0",
      "model_name": "LayoutModel",
      "state": {}
     },
     "35e5c6ac0742493cb54f9c45d5f2b49d": {
      "model_module": "@jupyter-widgets/controls",
      "model_module_version": "1.5.0",
      "model_name": "FloatSliderModel",
      "state": {
       "description": "prob",
       "layout": "IPY_MODEL_4b4c1b1a631f4acb9caa974735c9e591",
       "max": 1,
       "step": 0.1,
       "style": "IPY_MODEL_b8a63936cad5402cac6443e56491f7db",
       "value": 0.5
      }
     },
     "35ee7a19a7cf4a14add1f5d41d638d62": {
      "model_module": "@jupyter-widgets/controls",
      "model_module_version": "1.5.0",
      "model_name": "DescriptionStyleModel",
      "state": {
       "description_width": ""
      }
     },
     "36d95b162c2341fa990b4ab0fd6669ba": {
      "model_module": "@jupyter-widgets/controls",
      "model_module_version": "1.5.0",
      "model_name": "IntSliderModel",
      "state": {
       "description": "nb_neigh",
       "layout": "IPY_MODEL_7b4a9fd0d78f413e924d1a00d71612d0",
       "max": 10,
       "min": 1,
       "style": "IPY_MODEL_ea38327d3db64b03b0c388187faca7d0",
       "value": 4
      }
     },
     "37c95266f8b94597bdb1eed69de75ea7": {
      "model_module": "@jupyter-widgets/output",
      "model_module_version": "1.0.0",
      "model_name": "OutputModel",
      "state": {
       "layout": "IPY_MODEL_11daafd9080f4a7b90d8553a17e35a32",
       "outputs": [
        {
         "data": {
          "image/png": "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\n",
          "text/plain": "<Figure size 432x288 with 1 Axes>"
         },
         "metadata": {
          "needs_background": "light"
         },
         "output_type": "display_data"
        }
       ]
      }
     },
     "3e0edf0d14d64594be8389fbaf55cf49": {
      "model_module": "@jupyter-widgets/controls",
      "model_module_version": "1.5.0",
      "model_name": "SliderStyleModel",
      "state": {
       "description_width": ""
      }
     },
     "4022cd918f4c44348dc03eb491437a87": {
      "model_module": "@jupyter-widgets/base",
      "model_module_version": "1.2.0",
      "model_name": "LayoutModel",
      "state": {}
     },
     "40530a64958a4a2689f9a313796cee4c": {
      "model_module": "@jupyter-widgets/base",
      "model_module_version": "1.2.0",
      "model_name": "LayoutModel",
      "state": {}
     },
     "41737e019c8c466ca677e0b66104ca9c": {
      "model_module": "@jupyter-widgets/output",
      "model_module_version": "1.0.0",
      "model_name": "OutputModel",
      "state": {
       "layout": "IPY_MODEL_7f555411ed704e80b38565fcd098f758",
       "outputs": [
        {
         "name": "stdout",
         "output_type": "stream",
         "text": "[ 0.00000000e+00  8.22983866e-01  9.35016243e-01  2.39315664e-01\n -6.63122658e-01 -9.92708874e-01 -4.64723172e-01  4.64723172e-01\n  9.92708874e-01  6.63122658e-01 -2.39315664e-01 -9.35016243e-01\n -8.22983866e-01  1.28649812e-15]\n"
        },
        {
         "ename": "NameError",
         "evalue": "name 'invD' is not defined",
         "output_type": "error",
         "traceback": [
          "\u001b[0;31m---------------------------------------------------------------------------\u001b[0m",
          "\u001b[0;31mNameError\u001b[0m                                 Traceback (most recent call last)",
          "\u001b[0;32m~/opt/anaconda3/lib/python3.8/site-packages/ipywidgets/widgets/interaction.py\u001b[0m in \u001b[0;36mupdate\u001b[0;34m(self, *args)\u001b[0m\n\u001b[1;32m    254\u001b[0m                     \u001b[0mvalue\u001b[0m \u001b[0;34m=\u001b[0m \u001b[0mwidget\u001b[0m\u001b[0;34m.\u001b[0m\u001b[0mget_interact_value\u001b[0m\u001b[0;34m(\u001b[0m\u001b[0;34m)\u001b[0m\u001b[0;34m\u001b[0m\u001b[0;34m\u001b[0m\u001b[0m\n\u001b[1;32m    255\u001b[0m                     \u001b[0mself\u001b[0m\u001b[0;34m.\u001b[0m\u001b[0mkwargs\u001b[0m\u001b[0;34m[\u001b[0m\u001b[0mwidget\u001b[0m\u001b[0;34m.\u001b[0m\u001b[0m_kwarg\u001b[0m\u001b[0;34m]\u001b[0m \u001b[0;34m=\u001b[0m \u001b[0mvalue\u001b[0m\u001b[0;34m\u001b[0m\u001b[0;34m\u001b[0m\u001b[0m\n\u001b[0;32m--> 256\u001b[0;31m                 \u001b[0mself\u001b[0m\u001b[0;34m.\u001b[0m\u001b[0mresult\u001b[0m \u001b[0;34m=\u001b[0m \u001b[0mself\u001b[0m\u001b[0;34m.\u001b[0m\u001b[0mf\u001b[0m\u001b[0;34m(\u001b[0m\u001b[0;34m**\u001b[0m\u001b[0mself\u001b[0m\u001b[0;34m.\u001b[0m\u001b[0mkwargs\u001b[0m\u001b[0;34m)\u001b[0m\u001b[0;34m\u001b[0m\u001b[0;34m\u001b[0m\u001b[0m\n\u001b[0m\u001b[1;32m    257\u001b[0m                 \u001b[0mshow_inline_matplotlib_plots\u001b[0m\u001b[0;34m(\u001b[0m\u001b[0;34m)\u001b[0m\u001b[0;34m\u001b[0m\u001b[0;34m\u001b[0m\u001b[0m\n\u001b[1;32m    258\u001b[0m                 \u001b[0;32mif\u001b[0m \u001b[0mself\u001b[0m\u001b[0;34m.\u001b[0m\u001b[0mauto_display\u001b[0m \u001b[0;32mand\u001b[0m \u001b[0mself\u001b[0m\u001b[0;34m.\u001b[0m\u001b[0mresult\u001b[0m \u001b[0;32mis\u001b[0m \u001b[0;32mnot\u001b[0m \u001b[0;32mNone\u001b[0m\u001b[0;34m:\u001b[0m\u001b[0;34m\u001b[0m\u001b[0;34m\u001b[0m\u001b[0m\n",
          "\u001b[0;32m<ipython-input-14-4fb4fccac6cc>\u001b[0m in \u001b[0;36mdrawGraph\u001b[0;34m(nb_nodes, nb_neigh, prob, seed, nb_edges_per_node, graph_type)\u001b[0m\n\u001b[1;32m     32\u001b[0m         \u001b[0mG\u001b[0m \u001b[0;34m=\u001b[0m \u001b[0mnx\u001b[0m\u001b[0;34m.\u001b[0m\u001b[0mpowerlaw_cluster_graph\u001b[0m\u001b[0;34m(\u001b[0m\u001b[0mnb_nodes\u001b[0m\u001b[0;34m,\u001b[0m \u001b[0mnb_edges_per_node\u001b[0m\u001b[0;34m,\u001b[0m \u001b[0madd_tri_prob\u001b[0m\u001b[0;34m,\u001b[0m \u001b[0mseed\u001b[0m\u001b[0;34m)\u001b[0m\u001b[0;34m\u001b[0m\u001b[0;34m\u001b[0m\u001b[0m\n\u001b[1;32m     33\u001b[0m \u001b[0;34m\u001b[0m\u001b[0m\n\u001b[0;32m---> 34\u001b[0;31m     \u001b[0mgenerate_graph_from_adjacency_matrix_1\u001b[0m\u001b[0;34m(\u001b[0m\u001b[0mG\u001b[0m\u001b[0;34m,\u001b[0m \u001b[0mnb_nodes\u001b[0m\u001b[0;34m,\u001b[0m \u001b[0mseed\u001b[0m\u001b[0;34m)\u001b[0m\u001b[0;34m\u001b[0m\u001b[0;34m\u001b[0m\u001b[0m\n\u001b[0m",
          "\u001b[0;32m<ipython-input-13-127485ba02ec>\u001b[0m in \u001b[0;36mgenerate_graph_from_adjacency_matrix_1\u001b[0;34m(G, N, seed)\u001b[0m\n\u001b[1;32m     28\u001b[0m \u001b[0;34m\u001b[0m\u001b[0m\n\u001b[1;32m     29\u001b[0m     \u001b[0mmatrix\u001b[0m \u001b[0;34m=\u001b[0m \u001b[0;34m[\u001b[0m\u001b[0;34m\"A\"\u001b[0m\u001b[0;34m,\u001b[0m \u001b[0;34m\"D\"\u001b[0m\u001b[0;34m,\u001b[0m \u001b[0;34m\"L\"\u001b[0m\u001b[0;34m,\u001b[0m \u001b[0;34m\"invD\"\u001b[0m\u001b[0;34m,\u001b[0m \u001b[0;34m\"invDA\"\u001b[0m\u001b[0;34m,\u001b[0m \u001b[0;34m\"invDL\"\u001b[0m\u001b[0;34m,\u001b[0m \u001b[0;34m\"invDinvD\"\u001b[0m\u001b[0;34m,\u001b[0m \u001b[0;34m\"Ln\"\u001b[0m\u001b[0;34m]\u001b[0m\u001b[0;34m\u001b[0m\u001b[0;34m\u001b[0m\u001b[0m\n\u001b[0;32m---> 30\u001b[0;31m     \u001b[0mmatrices\u001b[0m \u001b[0;34m=\u001b[0m \u001b[0;34m[\u001b[0m\u001b[0mA\u001b[0m\u001b[0;34m,\u001b[0m \u001b[0mD\u001b[0m\u001b[0;34m,\u001b[0m \u001b[0mL\u001b[0m\u001b[0;34m,\u001b[0m \u001b[0minvD\u001b[0m\u001b[0;34m,\u001b[0m \u001b[0minvDA\u001b[0m\u001b[0;34m,\u001b[0m \u001b[0minvDL\u001b[0m\u001b[0;34m,\u001b[0m \u001b[0minvDLinvD\u001b[0m\u001b[0;34m,\u001b[0m \u001b[0mLn\u001b[0m\u001b[0;34m]\u001b[0m\u001b[0;34m\u001b[0m\u001b[0;34m\u001b[0m\u001b[0m\n\u001b[0m\u001b[1;32m     31\u001b[0m \u001b[0;34m\u001b[0m\u001b[0m\n\u001b[1;32m     32\u001b[0m     \u001b[0;31m# Eigenvalues\u001b[0m\u001b[0;34m\u001b[0m\u001b[0;34m\u001b[0m\u001b[0;34m\u001b[0m\u001b[0m\n",
          "\u001b[0;31mNameError\u001b[0m: name 'invD' is not defined"
         ]
        }
       ]
      }
     },
     "430f8ea345fd45d6ad462918ddb1d791": {
      "model_module": "@jupyter-widgets/base",
      "model_module_version": "1.2.0",
      "model_name": "LayoutModel",
      "state": {}
     },
     "443f7b48828e4611939af8529f738948": {
      "model_module": "@jupyter-widgets/controls",
      "model_module_version": "1.5.0",
      "model_name": "DescriptionStyleModel",
      "state": {
       "description_width": ""
      }
     },
     "44b4ecf679ff4cd585e294ba18e2ced4": {
      "model_module": "@jupyter-widgets/controls",
      "model_module_version": "1.5.0",
      "model_name": "SliderStyleModel",
      "state": {
       "description_width": ""
      }
     },
     "4a3d509b52ce4178b60ba526efb6da9f": {
      "model_module": "@jupyter-widgets/base",
      "model_module_version": "1.2.0",
      "model_name": "LayoutModel",
      "state": {}
     },
     "4b04ccc5016d4a7eb9993a6231c914fb": {
      "model_module": "@jupyter-widgets/base",
      "model_module_version": "1.2.0",
      "model_name": "LayoutModel",
      "state": {}
     },
     "4b4c1b1a631f4acb9caa974735c9e591": {
      "model_module": "@jupyter-widgets/base",
      "model_module_version": "1.2.0",
      "model_name": "LayoutModel",
      "state": {}
     },
     "4ba7e277a54c4ca999c40492b894edb9": {
      "model_module": "@jupyter-widgets/controls",
      "model_module_version": "1.5.0",
      "model_name": "FloatSliderModel",
      "state": {
       "description": "Noise $\\sigma$",
       "layout": "IPY_MODEL_cb1514645c054645816ac745a6aa1e05",
       "max": 1.5,
       "step": 0.1,
       "style": "IPY_MODEL_4c66af49d60f44f7a28e0162050bbf2f",
       "value": 0.3
      }
     },
     "4bd6ee3435c0405ca02533ed46e0d152": {
      "model_module": "@jupyter-widgets/controls",
      "model_module_version": "1.5.0",
      "model_name": "FloatSliderModel",
      "state": {
       "description": "prob",
       "layout": "IPY_MODEL_cea89069c33e46ecb8524470ce9ad04c",
       "max": 1,
       "step": 0.1,
       "style": "IPY_MODEL_fd836af820d34c6cb16215539d410d31",
       "value": 0.5
      }
     },
     "4c66af49d60f44f7a28e0162050bbf2f": {
      "model_module": "@jupyter-widgets/controls",
      "model_module_version": "1.5.0",
      "model_name": "SliderStyleModel",
      "state": {
       "description_width": ""
      }
     },
     "4d983750b0cb4125a91dcb5caa72b2b0": {
      "model_module": "@jupyter-widgets/controls",
      "model_module_version": "1.5.0",
      "model_name": "IntSliderModel",
      "state": {
       "description": "Nb Attributes",
       "layout": "IPY_MODEL_8cb79d2ce87149cbbbd033c4658905c1",
       "max": 5,
       "min": 1,
       "style": "IPY_MODEL_104570c4e4784af1a8102f4a727aba14",
       "value": 3
      }
     },
     "502a2e03cd714111969e77743299a682": {
      "model_module": "@jupyter-widgets/controls",
      "model_module_version": "1.5.0",
      "model_name": "IntSliderModel",
      "state": {
       "description": "N",
       "layout": "IPY_MODEL_7c4107ac664f47a88d7fc9fde55520f9",
       "max": 40,
       "min": 5,
       "style": "IPY_MODEL_3288c7b48b5343eab8f3575f59986186",
       "value": 22
      }
     },
     "5a2bf7daa8bc474690015ecca7b6d4ae": {
      "model_module": "@jupyter-widgets/controls",
      "model_module_version": "1.5.0",
      "model_name": "SliderStyleModel",
      "state": {
       "description_width": ""
      }
     },
     "5cae74d7e6d5483faf849b3e5e65a098": {
      "model_module": "@jupyter-widgets/base",
      "model_module_version": "1.2.0",
      "model_name": "LayoutModel",
      "state": {}
     },
     "613dd3f66e424ce6a61bdf61ad67a1dd": {
      "model_module": "@jupyter-widgets/controls",
      "model_module_version": "1.5.0",
      "model_name": "IntSliderModel",
      "state": {
       "description": "N",
       "layout": "IPY_MODEL_7b6bf45b80184aaa85c158bfe42ebd56",
       "max": 40,
       "min": 5,
       "style": "IPY_MODEL_99505103c012493ebd9bc485b19b0919",
       "value": 22
      }
     },
     "6252e1665da64915bffe9abe98bcda87": {
      "model_module": "@jupyter-widgets/base",
      "model_module_version": "1.2.0",
      "model_name": "LayoutModel",
      "state": {}
     },
     "6289bce8e064459b99b7b9b03ba67f04": {
      "model_module": "@jupyter-widgets/controls",
      "model_module_version": "1.5.0",
      "model_name": "SliderStyleModel",
      "state": {
       "description_width": ""
      }
     },
     "6765f87e9c9b43929a9776afe20edc27": {
      "model_module": "@jupyter-widgets/base",
      "model_module_version": "1.2.0",
      "model_name": "LayoutModel",
      "state": {}
     },
     "69b440be9d1f48f89b856fe389dfb953": {
      "model_module": "@jupyter-widgets/controls",
      "model_module_version": "1.5.0",
      "model_name": "IntSliderModel",
      "state": {
       "description": "nb_neigh",
       "layout": "IPY_MODEL_5cae74d7e6d5483faf849b3e5e65a098",
       "max": 10,
       "min": 1,
       "style": "IPY_MODEL_2ec5b548e29d49b09caff041c530dede",
       "value": 4
      }
     },
     "6f7dc23e81294aabbbed12fc239fd767": {
      "model_module": "@jupyter-widgets/controls",
      "model_module_version": "1.5.0",
      "model_name": "IntSliderModel",
      "state": {
       "description": "nb_nodes",
       "layout": "IPY_MODEL_b55953cd46ec426f9c6b1224cfc26bed",
       "max": 30,
       "min": 3,
       "style": "IPY_MODEL_2db3d270da3940cdb9bfa32872655d26",
       "value": 10
      }
     },
     "73f7197ef6554ad5acccb69da9e6d7ec": {
      "model_module": "@jupyter-widgets/base",
      "model_module_version": "1.2.0",
      "model_name": "LayoutModel",
      "state": {}
     },
     "78b66e6afc3c4ee2863bf9ba7d2f3ce0": {
      "model_module": "@jupyter-widgets/controls",
      "model_module_version": "1.5.0",
      "model_name": "VBoxModel",
      "state": {
       "_dom_classes": [
        "widget-interact"
       ],
       "children": [
        "IPY_MODEL_28b6a932b1794f4b8e9e9fe8e0e3e6f1",
        "IPY_MODEL_36d95b162c2341fa990b4ab0fd6669ba",
        "IPY_MODEL_4bd6ee3435c0405ca02533ed46e0d152",
        "IPY_MODEL_c9f0bf5aa972491e91903ac9efe3db4b",
        "IPY_MODEL_e1804fad4e884c2b80194180d54b8952",
        "IPY_MODEL_99dea5792ac04bf29b6ea1e7c0312dc1",
        "IPY_MODEL_41737e019c8c466ca677e0b66104ca9c"
       ],
       "layout": "IPY_MODEL_4a3d509b52ce4178b60ba526efb6da9f"
      }
     },
     "7a04c71c6f84405ba8c36233ffcd9413": {
      "model_module": "@jupyter-widgets/controls",
      "model_module_version": "1.5.0",
      "model_name": "SliderStyleModel",
      "state": {
       "description_width": ""
      }
     },
     "7aa74405788f4eb59d0d8b38969bb508": {
      "model_module": "@jupyter-widgets/controls",
      "model_module_version": "1.5.0",
      "model_name": "SliderStyleModel",
      "state": {
       "description_width": "",
       "handle_color": "black"
      }
     },
     "7abae00f18874838abd8d6f431f64ab7": {
      "model_module": "@jupyter-widgets/controls",
      "model_module_version": "1.5.0",
      "model_name": "FloatSliderModel",
      "state": {
       "description": "prob",
       "layout": "IPY_MODEL_8b95c623c92d4632a6d05c5ccaeb46d9",
       "max": 1,
       "step": 0.1,
       "style": "IPY_MODEL_3e0edf0d14d64594be8389fbaf55cf49",
       "value": 0.5
      }
     },
     "7b4a9fd0d78f413e924d1a00d71612d0": {
      "model_module": "@jupyter-widgets/base",
      "model_module_version": "1.2.0",
      "model_name": "LayoutModel",
      "state": {}
     },
     "7b6bf45b80184aaa85c158bfe42ebd56": {
      "model_module": "@jupyter-widgets/base",
      "model_module_version": "1.2.0",
      "model_name": "LayoutModel",
      "state": {}
     },
     "7c4107ac664f47a88d7fc9fde55520f9": {
      "model_module": "@jupyter-widgets/base",
      "model_module_version": "1.2.0",
      "model_name": "LayoutModel",
      "state": {}
     },
     "7c5473538a7a46acaee60da3616a8019": {
      "model_module": "@jupyter-widgets/controls",
      "model_module_version": "1.5.0",
      "model_name": "IntSliderModel",
      "state": {
       "description": "nb_neigh",
       "layout": "IPY_MODEL_73f7197ef6554ad5acccb69da9e6d7ec",
       "max": 10,
       "min": 1,
       "style": "IPY_MODEL_7aa74405788f4eb59d0d8b38969bb508",
       "value": 4
      }
     },
     "7ea11ef96db54cff90595eb2f42738d6": {
      "model_module": "@jupyter-widgets/controls",
      "model_module_version": "1.5.0",
      "model_name": "IntSliderModel",
      "state": {
       "description": "nb_neigh",
       "layout": "IPY_MODEL_4022cd918f4c44348dc03eb491437a87",
       "max": 10,
       "min": 1,
       "style": "IPY_MODEL_fa364fd18021451faf6d127ce7517f04",
       "value": 4
      }
     },
     "7f555411ed704e80b38565fcd098f758": {
      "model_module": "@jupyter-widgets/base",
      "model_module_version": "1.2.0",
      "model_name": "LayoutModel",
      "state": {}
     },
     "811b9405a4914bfc913f0a2d3cb9250e": {
      "model_module": "@jupyter-widgets/controls",
      "model_module_version": "1.5.0",
      "model_name": "IntSliderModel",
      "state": {
       "description": "seed",
       "layout": "IPY_MODEL_002613209a72413999d52801723b730d",
       "max": 50,
       "style": "IPY_MODEL_896c3c4d2ddf47a1b96d1f15b74b451b",
       "value": 25
      }
     },
     "85803bc12b9141b7992cda2cb2646933": {
      "model_module": "@jupyter-widgets/output",
      "model_module_version": "1.0.0",
      "model_name": "OutputModel",
      "state": {
       "layout": "IPY_MODEL_1de4b151ec184c92b2d984df1ee9c9d3",
       "outputs": [
        {
         "data": {
          "image/png": "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\n",
          "text/plain": "<Figure size 432x288 with 1 Axes>"
         },
         "metadata": {
          "needs_background": "light"
         },
         "output_type": "display_data"
        }
       ]
      }
     },
     "85cb2a065e17467294f82b548426a94e": {
      "model_module": "@jupyter-widgets/controls",
      "model_module_version": "1.5.0",
      "model_name": "DescriptionStyleModel",
      "state": {
       "description_width": ""
      }
     },
     "85de000ae26a4d50a04bdefe599cd0cd": {
      "model_module": "@jupyter-widgets/controls",
      "model_module_version": "1.5.0",
      "model_name": "SliderStyleModel",
      "state": {
       "description_width": "",
       "handle_color": "red"
      }
     },
     "86622d06abe74ad3bb3cbd08a1dda59a": {
      "model_module": "@jupyter-widgets/base",
      "model_module_version": "1.2.0",
      "model_name": "LayoutModel",
      "state": {}
     },
     "86b57570f11e433f9068642081d0ccfd": {
      "model_module": "@jupyter-widgets/controls",
      "model_module_version": "1.5.0",
      "model_name": "VBoxModel",
      "state": {
       "_dom_classes": [
        "widget-interact"
       ],
       "children": [
        "IPY_MODEL_6f7dc23e81294aabbbed12fc239fd767",
        "IPY_MODEL_7ea11ef96db54cff90595eb2f42738d6",
        "IPY_MODEL_35e5c6ac0742493cb54f9c45d5f2b49d",
        "IPY_MODEL_16f917d5614d4925b4630dbef3932bd1",
        "IPY_MODEL_188d6294a1b44b1a8711acf2a1f1d95c",
        "IPY_MODEL_b00b08cdb4ed4f248801330d89006551",
        "IPY_MODEL_b3dfbbbe574941efbfa2ec6814666a44"
       ],
       "layout": "IPY_MODEL_a1e07b5b6d944a5ba4ca2cd0cadecc7c"
      }
     },
     "896c3c4d2ddf47a1b96d1f15b74b451b": {
      "model_module": "@jupyter-widgets/controls",
      "model_module_version": "1.5.0",
      "model_name": "SliderStyleModel",
      "state": {
       "description_width": ""
      }
     },
     "8b95c623c92d4632a6d05c5ccaeb46d9": {
      "model_module": "@jupyter-widgets/base",
      "model_module_version": "1.2.0",
      "model_name": "LayoutModel",
      "state": {}
     },
     "8cb79d2ce87149cbbbd033c4658905c1": {
      "model_module": "@jupyter-widgets/base",
      "model_module_version": "1.2.0",
      "model_name": "LayoutModel",
      "state": {}
     },
     "8cb8221bb6a747fc913d30902fe2d855": {
      "model_module": "@jupyter-widgets/controls",
      "model_module_version": "1.5.0",
      "model_name": "FloatSliderModel",
      "state": {
       "description": "prob",
       "layout": "IPY_MODEL_a4d9289d1c7b462ca6feb9579a9ef282",
       "max": 1,
       "step": 0.1,
       "style": "IPY_MODEL_9a615a5bc19c4ed59b7cf28becf92669",
       "value": 0.5
      }
     },
     "8fa0be27e09747758cb9a8d916c56788": {
      "model_module": "@jupyter-widgets/output",
      "model_module_version": "1.0.0",
      "model_name": "OutputModel",
      "state": {
       "layout": "IPY_MODEL_a4711698bcf74f96be6f3b7bdc9d0354",
       "outputs": [
        {
         "name": "stdout",
         "output_type": "stream",
         "text": "ivec=  [0, 1, 2, 3, 4, 5, 6, 7, 8, 9, 10, 11, 12, 13, 14, 15]\n"
        },
        {
         "ename": "NameError",
         "evalue": "name 'sin' is not defined",
         "output_type": "error",
         "traceback": [
          "\u001b[0;31m---------------------------------------------------------------------------\u001b[0m",
          "\u001b[0;31mNameError\u001b[0m                                 Traceback (most recent call last)",
          "\u001b[0;32m~/opt/anaconda3/lib/python3.8/site-packages/ipywidgets/widgets/interaction.py\u001b[0m in \u001b[0;36mupdate\u001b[0;34m(self, *args)\u001b[0m\n\u001b[1;32m    254\u001b[0m                     \u001b[0mvalue\u001b[0m \u001b[0;34m=\u001b[0m \u001b[0mwidget\u001b[0m\u001b[0;34m.\u001b[0m\u001b[0mget_interact_value\u001b[0m\u001b[0;34m(\u001b[0m\u001b[0;34m)\u001b[0m\u001b[0;34m\u001b[0m\u001b[0;34m\u001b[0m\u001b[0m\n\u001b[1;32m    255\u001b[0m                     \u001b[0mself\u001b[0m\u001b[0;34m.\u001b[0m\u001b[0mkwargs\u001b[0m\u001b[0;34m[\u001b[0m\u001b[0mwidget\u001b[0m\u001b[0;34m.\u001b[0m\u001b[0m_kwarg\u001b[0m\u001b[0;34m]\u001b[0m \u001b[0;34m=\u001b[0m \u001b[0mvalue\u001b[0m\u001b[0;34m\u001b[0m\u001b[0;34m\u001b[0m\u001b[0m\n\u001b[0;32m--> 256\u001b[0;31m                 \u001b[0mself\u001b[0m\u001b[0;34m.\u001b[0m\u001b[0mresult\u001b[0m \u001b[0;34m=\u001b[0m \u001b[0mself\u001b[0m\u001b[0;34m.\u001b[0m\u001b[0mf\u001b[0m\u001b[0;34m(\u001b[0m\u001b[0;34m**\u001b[0m\u001b[0mself\u001b[0m\u001b[0;34m.\u001b[0m\u001b[0mkwargs\u001b[0m\u001b[0;34m)\u001b[0m\u001b[0;34m\u001b[0m\u001b[0;34m\u001b[0m\u001b[0m\n\u001b[0m\u001b[1;32m    257\u001b[0m                 \u001b[0mshow_inline_matplotlib_plots\u001b[0m\u001b[0;34m(\u001b[0m\u001b[0;34m)\u001b[0m\u001b[0;34m\u001b[0m\u001b[0;34m\u001b[0m\u001b[0m\n\u001b[1;32m    258\u001b[0m                 \u001b[0;32mif\u001b[0m \u001b[0mself\u001b[0m\u001b[0;34m.\u001b[0m\u001b[0mauto_display\u001b[0m \u001b[0;32mand\u001b[0m \u001b[0mself\u001b[0m\u001b[0;34m.\u001b[0m\u001b[0mresult\u001b[0m \u001b[0;32mis\u001b[0m \u001b[0;32mnot\u001b[0m \u001b[0;32mNone\u001b[0m\u001b[0;34m:\u001b[0m\u001b[0;34m\u001b[0m\u001b[0;34m\u001b[0m\u001b[0m\n",
          "\u001b[0;32m<ipython-input-8-4fb4fccac6cc>\u001b[0m in \u001b[0;36mdrawGraph\u001b[0;34m(nb_nodes, nb_neigh, prob, seed, nb_edges_per_node, graph_type)\u001b[0m\n\u001b[1;32m     32\u001b[0m         \u001b[0mG\u001b[0m \u001b[0;34m=\u001b[0m \u001b[0mnx\u001b[0m\u001b[0;34m.\u001b[0m\u001b[0mpowerlaw_cluster_graph\u001b[0m\u001b[0;34m(\u001b[0m\u001b[0mnb_nodes\u001b[0m\u001b[0;34m,\u001b[0m \u001b[0mnb_edges_per_node\u001b[0m\u001b[0;34m,\u001b[0m \u001b[0madd_tri_prob\u001b[0m\u001b[0;34m,\u001b[0m \u001b[0mseed\u001b[0m\u001b[0;34m)\u001b[0m\u001b[0;34m\u001b[0m\u001b[0;34m\u001b[0m\u001b[0m\n\u001b[1;32m     33\u001b[0m \u001b[0;34m\u001b[0m\u001b[0m\n\u001b[0;32m---> 34\u001b[0;31m     \u001b[0mgenerate_graph_from_adjacency_matrix_1\u001b[0m\u001b[0;34m(\u001b[0m\u001b[0mG\u001b[0m\u001b[0;34m,\u001b[0m \u001b[0mnb_nodes\u001b[0m\u001b[0;34m,\u001b[0m \u001b[0mseed\u001b[0m\u001b[0;34m)\u001b[0m\u001b[0;34m\u001b[0m\u001b[0;34m\u001b[0m\u001b[0m\n\u001b[0m",
          "\u001b[0;32m<ipython-input-7-7fa789457b0e>\u001b[0m in \u001b[0;36mgenerate_graph_from_adjacency_matrix_1\u001b[0;34m(G, N, seed)\u001b[0m\n\u001b[1;32m     24\u001b[0m     \u001b[0mivec\u001b[0m \u001b[0;34m=\u001b[0m \u001b[0mlist\u001b[0m\u001b[0;34m(\u001b[0m\u001b[0mrange\u001b[0m\u001b[0;34m(\u001b[0m\u001b[0mD\u001b[0m\u001b[0;34m.\u001b[0m\u001b[0mshape\u001b[0m\u001b[0;34m[\u001b[0m\u001b[0;36m0\u001b[0m\u001b[0;34m]\u001b[0m\u001b[0;34m)\u001b[0m\u001b[0;34m)\u001b[0m\u001b[0;34m\u001b[0m\u001b[0;34m\u001b[0m\u001b[0m\n\u001b[1;32m     25\u001b[0m     \u001b[0mprint\u001b[0m\u001b[0;34m(\u001b[0m\u001b[0;34m\"ivec= \"\u001b[0m\u001b[0;34m,\u001b[0m \u001b[0mivec\u001b[0m\u001b[0;34m)\u001b[0m\u001b[0;34m\u001b[0m\u001b[0;34m\u001b[0m\u001b[0m\n\u001b[0;32m---> 26\u001b[0;31m     \u001b[0ms\u001b[0m \u001b[0;34m=\u001b[0m \u001b[0msig\u001b[0m\u001b[0;34m(\u001b[0m\u001b[0mivec\u001b[0m\u001b[0;34m,\u001b[0m \u001b[0mfreq\u001b[0m\u001b[0;34m=\u001b[0m\u001b[0;36m2\u001b[0m\u001b[0;34m)\u001b[0m\u001b[0;34m\u001b[0m\u001b[0;34m\u001b[0m\u001b[0m\n\u001b[0m\u001b[1;32m     27\u001b[0m \u001b[0;34m\u001b[0m\u001b[0m\n\u001b[1;32m     28\u001b[0m \u001b[0;34m\u001b[0m\u001b[0m\n",
          "\u001b[0;32m<ipython-input-7-7fa789457b0e>\u001b[0m in \u001b[0;36msig\u001b[0;34m(ivec, freq)\u001b[0m\n\u001b[1;32m     20\u001b[0m     \u001b[0;31m# Create a signal on the graph. We will choose a sine wave.\u001b[0m\u001b[0;34m\u001b[0m\u001b[0;34m\u001b[0m\u001b[0;34m\u001b[0m\u001b[0m\n\u001b[1;32m     21\u001b[0m     \u001b[0;32mdef\u001b[0m \u001b[0msig\u001b[0m\u001b[0;34m(\u001b[0m\u001b[0mivec\u001b[0m\u001b[0;34m,\u001b[0m \u001b[0mfreq\u001b[0m\u001b[0;34m)\u001b[0m\u001b[0;34m:\u001b[0m\u001b[0;34m\u001b[0m\u001b[0;34m\u001b[0m\u001b[0m\n\u001b[0;32m---> 22\u001b[0;31m         \u001b[0;32mreturn\u001b[0m \u001b[0msin\u001b[0m\u001b[0;34m(\u001b[0m\u001b[0;36m2.\u001b[0m\u001b[0;34m*\u001b[0m\u001b[0mnp\u001b[0m\u001b[0;34m.\u001b[0m\u001b[0mpi\u001b[0m\u001b[0;34m*\u001b[0m\u001b[0mfreq\u001b[0m\u001b[0;34m*\u001b[0m\u001b[0mivec\u001b[0m \u001b[0;34m/\u001b[0m \u001b[0mivec\u001b[0m\u001b[0;34m[\u001b[0m\u001b[0;34m-\u001b[0m\u001b[0;36m1\u001b[0m\u001b[0;34m]\u001b[0m\u001b[0;34m)\u001b[0m\u001b[0;34m\u001b[0m\u001b[0;34m\u001b[0m\u001b[0m\n\u001b[0m\u001b[1;32m     23\u001b[0m \u001b[0;34m\u001b[0m\u001b[0m\n\u001b[1;32m     24\u001b[0m     \u001b[0mivec\u001b[0m \u001b[0;34m=\u001b[0m \u001b[0mlist\u001b[0m\u001b[0;34m(\u001b[0m\u001b[0mrange\u001b[0m\u001b[0;34m(\u001b[0m\u001b[0mD\u001b[0m\u001b[0;34m.\u001b[0m\u001b[0mshape\u001b[0m\u001b[0;34m[\u001b[0m\u001b[0;36m0\u001b[0m\u001b[0;34m]\u001b[0m\u001b[0;34m)\u001b[0m\u001b[0;34m)\u001b[0m\u001b[0;34m\u001b[0m\u001b[0;34m\u001b[0m\u001b[0m\n",
          "\u001b[0;31mNameError\u001b[0m: name 'sin' is not defined"
         ]
        }
       ]
      }
     },
     "99505103c012493ebd9bc485b19b0919": {
      "model_module": "@jupyter-widgets/controls",
      "model_module_version": "1.5.0",
      "model_name": "SliderStyleModel",
      "state": {
       "description_width": ""
      }
     },
     "99dea5792ac04bf29b6ea1e7c0312dc1": {
      "model_module": "@jupyter-widgets/controls",
      "model_module_version": "1.5.0",
      "model_name": "DropdownModel",
      "state": {
       "_options_labels": [
        "connected_watts_strogatz",
        "powerlaw_cluster_graph"
       ],
       "description": "graph_type",
       "index": 0,
       "layout": "IPY_MODEL_bdba26dc050a4a4b9349a61d56bddf3a",
       "style": "IPY_MODEL_443f7b48828e4611939af8529f738948"
      }
     },
     "9a615a5bc19c4ed59b7cf28becf92669": {
      "model_module": "@jupyter-widgets/controls",
      "model_module_version": "1.5.0",
      "model_name": "SliderStyleModel",
      "state": {
       "description_width": ""
      }
     },
     "9fb519d4cafb499bb97d40463fec2a91": {
      "model_module": "@jupyter-widgets/base",
      "model_module_version": "1.2.0",
      "model_name": "LayoutModel",
      "state": {}
     },
     "a1e07b5b6d944a5ba4ca2cd0cadecc7c": {
      "model_module": "@jupyter-widgets/base",
      "model_module_version": "1.2.0",
      "model_name": "LayoutModel",
      "state": {}
     },
     "a1fbc04144f4466fa44bdad41c0b8510": {
      "model_module": "@jupyter-widgets/controls",
      "model_module_version": "1.5.0",
      "model_name": "FloatSliderModel",
      "state": {
       "description": "eps",
       "layout": "IPY_MODEL_2545dc131ce946f6aa3809e4e8204f9c",
       "max": 1.5,
       "step": 0.1,
       "style": "IPY_MODEL_6289bce8e064459b99b7b9b03ba67f04",
       "value": 0.75
      }
     },
     "a2f32c6ef4fc4fa5b11761a122736ed3": {
      "model_module": "@jupyter-widgets/controls",
      "model_module_version": "1.5.0",
      "model_name": "SliderStyleModel",
      "state": {
       "description_width": "",
       "handle_color": "red"
      }
     },
     "a4711698bcf74f96be6f3b7bdc9d0354": {
      "model_module": "@jupyter-widgets/base",
      "model_module_version": "1.2.0",
      "model_name": "LayoutModel",
      "state": {}
     },
     "a4d9289d1c7b462ca6feb9579a9ef282": {
      "model_module": "@jupyter-widgets/base",
      "model_module_version": "1.2.0",
      "model_name": "LayoutModel",
      "state": {}
     },
     "a524e9c5f6f64afa9fbcddb87c3e2700": {
      "model_module": "@jupyter-widgets/base",
      "model_module_version": "1.2.0",
      "model_name": "LayoutModel",
      "state": {}
     },
     "a8cd551685c649b885dd0acf5d121cdd": {
      "model_module": "@jupyter-widgets/controls",
      "model_module_version": "1.5.0",
      "model_name": "SliderStyleModel",
      "state": {
       "description_width": ""
      }
     },
     "add4eeb22dc9492b93b22fb494bd5292": {
      "model_module": "@jupyter-widgets/controls",
      "model_module_version": "1.5.0",
      "model_name": "SliderStyleModel",
      "state": {
       "description_width": ""
      }
     },
     "ae0b66f9e81f4ec4a6fc10b4cd5c094a": {
      "model_module": "@jupyter-widgets/base",
      "model_module_version": "1.2.0",
      "model_name": "LayoutModel",
      "state": {}
     },
     "b00b08cdb4ed4f248801330d89006551": {
      "model_module": "@jupyter-widgets/controls",
      "model_module_version": "1.5.0",
      "model_name": "DropdownModel",
      "state": {
       "_options_labels": [
        "connected_watts_strogatz",
        "powerlaw_cluster_graph"
       ],
       "description": "graph_type",
       "index": 0,
       "layout": "IPY_MODEL_c9884d667f464247b31abeea35b2771c",
       "style": "IPY_MODEL_85cb2a065e17467294f82b548426a94e"
      }
     },
     "b2b0d52066c649a8bf8b25080aeb30d9": {
      "model_module": "@jupyter-widgets/controls",
      "model_module_version": "1.5.0",
      "model_name": "VBoxModel",
      "state": {
       "_dom_classes": [
        "widget-interact"
       ],
       "children": [
        "IPY_MODEL_bc874825e76945e2b658e35845e5a3fd",
        "IPY_MODEL_7c5473538a7a46acaee60da3616a8019",
        "IPY_MODEL_7abae00f18874838abd8d6f431f64ab7",
        "IPY_MODEL_d20b38915e784cae8dd4beda3b8e2ca0",
        "IPY_MODEL_05615a920d064dbf99d0d35cdb8af4d0",
        "IPY_MODEL_f66cf6e2312d44648a77f0bb312811dd",
        "IPY_MODEL_8fa0be27e09747758cb9a8d916c56788"
       ],
       "layout": "IPY_MODEL_6765f87e9c9b43929a9776afe20edc27"
      }
     },
     "b3dfbbbe574941efbfa2ec6814666a44": {
      "model_module": "@jupyter-widgets/output",
      "model_module_version": "1.0.0",
      "model_name": "OutputModel",
      "state": {
       "layout": "IPY_MODEL_b977709ff628463799cce75b8d80bc21",
       "outputs": [
        {
         "ename": "TypeError",
         "evalue": "can't multiply sequence by non-int of type 'float'",
         "output_type": "error",
         "traceback": [
          "\u001b[0;31m---------------------------------------------------------------------------\u001b[0m",
          "\u001b[0;31mTypeError\u001b[0m                                 Traceback (most recent call last)",
          "\u001b[0;32m~/opt/anaconda3/lib/python3.8/site-packages/ipywidgets/widgets/interaction.py\u001b[0m in \u001b[0;36mupdate\u001b[0;34m(self, *args)\u001b[0m\n\u001b[1;32m    254\u001b[0m                     \u001b[0mvalue\u001b[0m \u001b[0;34m=\u001b[0m \u001b[0mwidget\u001b[0m\u001b[0;34m.\u001b[0m\u001b[0mget_interact_value\u001b[0m\u001b[0;34m(\u001b[0m\u001b[0;34m)\u001b[0m\u001b[0;34m\u001b[0m\u001b[0;34m\u001b[0m\u001b[0m\n\u001b[1;32m    255\u001b[0m                     \u001b[0mself\u001b[0m\u001b[0;34m.\u001b[0m\u001b[0mkwargs\u001b[0m\u001b[0;34m[\u001b[0m\u001b[0mwidget\u001b[0m\u001b[0;34m.\u001b[0m\u001b[0m_kwarg\u001b[0m\u001b[0;34m]\u001b[0m \u001b[0;34m=\u001b[0m \u001b[0mvalue\u001b[0m\u001b[0;34m\u001b[0m\u001b[0;34m\u001b[0m\u001b[0m\n\u001b[0;32m--> 256\u001b[0;31m                 \u001b[0mself\u001b[0m\u001b[0;34m.\u001b[0m\u001b[0mresult\u001b[0m \u001b[0;34m=\u001b[0m \u001b[0mself\u001b[0m\u001b[0;34m.\u001b[0m\u001b[0mf\u001b[0m\u001b[0;34m(\u001b[0m\u001b[0;34m**\u001b[0m\u001b[0mself\u001b[0m\u001b[0;34m.\u001b[0m\u001b[0mkwargs\u001b[0m\u001b[0;34m)\u001b[0m\u001b[0;34m\u001b[0m\u001b[0;34m\u001b[0m\u001b[0m\n\u001b[0m\u001b[1;32m    257\u001b[0m                 \u001b[0mshow_inline_matplotlib_plots\u001b[0m\u001b[0;34m(\u001b[0m\u001b[0;34m)\u001b[0m\u001b[0;34m\u001b[0m\u001b[0;34m\u001b[0m\u001b[0m\n\u001b[1;32m    258\u001b[0m                 \u001b[0;32mif\u001b[0m \u001b[0mself\u001b[0m\u001b[0;34m.\u001b[0m\u001b[0mauto_display\u001b[0m \u001b[0;32mand\u001b[0m \u001b[0mself\u001b[0m\u001b[0;34m.\u001b[0m\u001b[0mresult\u001b[0m \u001b[0;32mis\u001b[0m \u001b[0;32mnot\u001b[0m \u001b[0;32mNone\u001b[0m\u001b[0;34m:\u001b[0m\u001b[0;34m\u001b[0m\u001b[0;34m\u001b[0m\u001b[0m\n",
          "\u001b[0;32m<ipython-input-12-4fb4fccac6cc>\u001b[0m in \u001b[0;36mdrawGraph\u001b[0;34m(nb_nodes, nb_neigh, prob, seed, nb_edges_per_node, graph_type)\u001b[0m\n\u001b[1;32m     32\u001b[0m         \u001b[0mG\u001b[0m \u001b[0;34m=\u001b[0m \u001b[0mnx\u001b[0m\u001b[0;34m.\u001b[0m\u001b[0mpowerlaw_cluster_graph\u001b[0m\u001b[0;34m(\u001b[0m\u001b[0mnb_nodes\u001b[0m\u001b[0;34m,\u001b[0m \u001b[0mnb_edges_per_node\u001b[0m\u001b[0;34m,\u001b[0m \u001b[0madd_tri_prob\u001b[0m\u001b[0;34m,\u001b[0m \u001b[0mseed\u001b[0m\u001b[0;34m)\u001b[0m\u001b[0;34m\u001b[0m\u001b[0;34m\u001b[0m\u001b[0m\n\u001b[1;32m     33\u001b[0m \u001b[0;34m\u001b[0m\u001b[0m\n\u001b[0;32m---> 34\u001b[0;31m     \u001b[0mgenerate_graph_from_adjacency_matrix_1\u001b[0m\u001b[0;34m(\u001b[0m\u001b[0mG\u001b[0m\u001b[0;34m,\u001b[0m \u001b[0mnb_nodes\u001b[0m\u001b[0;34m,\u001b[0m \u001b[0mseed\u001b[0m\u001b[0;34m)\u001b[0m\u001b[0;34m\u001b[0m\u001b[0;34m\u001b[0m\u001b[0m\n\u001b[0m",
          "\u001b[0;32m<ipython-input-11-381bbfc7d0a8>\u001b[0m in \u001b[0;36mgenerate_graph_from_adjacency_matrix_1\u001b[0;34m(G, N, seed)\u001b[0m\n\u001b[1;32m     23\u001b[0m \u001b[0;34m\u001b[0m\u001b[0m\n\u001b[1;32m     24\u001b[0m     \u001b[0mivec\u001b[0m \u001b[0;34m=\u001b[0m \u001b[0mlist\u001b[0m\u001b[0;34m(\u001b[0m\u001b[0mrange\u001b[0m\u001b[0;34m(\u001b[0m\u001b[0mD\u001b[0m\u001b[0;34m.\u001b[0m\u001b[0mshape\u001b[0m\u001b[0;34m[\u001b[0m\u001b[0;36m0\u001b[0m\u001b[0;34m]\u001b[0m\u001b[0;34m)\u001b[0m\u001b[0;34m)\u001b[0m\u001b[0;34m\u001b[0m\u001b[0;34m\u001b[0m\u001b[0m\n\u001b[0;32m---> 25\u001b[0;31m     \u001b[0ms\u001b[0m \u001b[0;34m=\u001b[0m \u001b[0msig\u001b[0m\u001b[0;34m(\u001b[0m\u001b[0mivec\u001b[0m\u001b[0;34m,\u001b[0m \u001b[0mfreq\u001b[0m\u001b[0;34m=\u001b[0m\u001b[0;36m2\u001b[0m\u001b[0;34m)\u001b[0m\u001b[0;34m\u001b[0m\u001b[0;34m\u001b[0m\u001b[0m\n\u001b[0m\u001b[1;32m     26\u001b[0m     \u001b[0mprint\u001b[0m\u001b[0;34m(\u001b[0m\u001b[0ms\u001b[0m\u001b[0;34m)\u001b[0m\u001b[0;34m\u001b[0m\u001b[0;34m\u001b[0m\u001b[0m\n\u001b[1;32m     27\u001b[0m \u001b[0;34m\u001b[0m\u001b[0m\n",
          "\u001b[0;32m<ipython-input-11-381bbfc7d0a8>\u001b[0m in \u001b[0;36msig\u001b[0;34m(ivec, freq)\u001b[0m\n\u001b[1;32m     20\u001b[0m     \u001b[0;31m# Create a signal on the graph. We will choose a sine wave.\u001b[0m\u001b[0;34m\u001b[0m\u001b[0;34m\u001b[0m\u001b[0;34m\u001b[0m\u001b[0m\n\u001b[1;32m     21\u001b[0m     \u001b[0;32mdef\u001b[0m \u001b[0msig\u001b[0m\u001b[0;34m(\u001b[0m\u001b[0mivec\u001b[0m\u001b[0;34m,\u001b[0m \u001b[0mfreq\u001b[0m\u001b[0;34m)\u001b[0m\u001b[0;34m:\u001b[0m\u001b[0;34m\u001b[0m\u001b[0;34m\u001b[0m\u001b[0m\n\u001b[0;32m---> 22\u001b[0;31m         \u001b[0;32mreturn\u001b[0m \u001b[0mnp\u001b[0m\u001b[0;34m.\u001b[0m\u001b[0msin\u001b[0m\u001b[0;34m(\u001b[0m\u001b[0;36m2.\u001b[0m\u001b[0;34m*\u001b[0m\u001b[0mnp\u001b[0m\u001b[0;34m.\u001b[0m\u001b[0mpi\u001b[0m\u001b[0;34m*\u001b[0m\u001b[0mfreq\u001b[0m\u001b[0;34m*\u001b[0m\u001b[0mivec\u001b[0m \u001b[0;34m/\u001b[0m \u001b[0mivec\u001b[0m\u001b[0;34m[\u001b[0m\u001b[0;34m-\u001b[0m\u001b[0;36m1\u001b[0m\u001b[0;34m]\u001b[0m\u001b[0;34m)\u001b[0m\u001b[0;34m\u001b[0m\u001b[0;34m\u001b[0m\u001b[0m\n\u001b[0m\u001b[1;32m     23\u001b[0m \u001b[0;34m\u001b[0m\u001b[0m\n\u001b[1;32m     24\u001b[0m     \u001b[0mivec\u001b[0m \u001b[0;34m=\u001b[0m \u001b[0mlist\u001b[0m\u001b[0;34m(\u001b[0m\u001b[0mrange\u001b[0m\u001b[0;34m(\u001b[0m\u001b[0mD\u001b[0m\u001b[0;34m.\u001b[0m\u001b[0mshape\u001b[0m\u001b[0;34m[\u001b[0m\u001b[0;36m0\u001b[0m\u001b[0;34m]\u001b[0m\u001b[0;34m)\u001b[0m\u001b[0;34m)\u001b[0m\u001b[0;34m\u001b[0m\u001b[0;34m\u001b[0m\u001b[0m\n",
          "\u001b[0;31mTypeError\u001b[0m: can't multiply sequence by non-int of type 'float'"
         ]
        }
       ]
      }
     },
     "b55953cd46ec426f9c6b1224cfc26bed": {
      "model_module": "@jupyter-widgets/base",
      "model_module_version": "1.2.0",
      "model_name": "LayoutModel",
      "state": {}
     },
     "b8a63936cad5402cac6443e56491f7db": {
      "model_module": "@jupyter-widgets/controls",
      "model_module_version": "1.5.0",
      "model_name": "SliderStyleModel",
      "state": {
       "description_width": ""
      }
     },
     "b977709ff628463799cce75b8d80bc21": {
      "model_module": "@jupyter-widgets/base",
      "model_module_version": "1.2.0",
      "model_name": "LayoutModel",
      "state": {}
     },
     "bc874825e76945e2b658e35845e5a3fd": {
      "model_module": "@jupyter-widgets/controls",
      "model_module_version": "1.5.0",
      "model_name": "IntSliderModel",
      "state": {
       "description": "nb_nodes",
       "layout": "IPY_MODEL_86622d06abe74ad3bb3cbd08a1dda59a",
       "max": 30,
       "min": 3,
       "style": "IPY_MODEL_0c2cc9e6affb43d8aef0baa93ceda469",
       "value": 16
      }
     },
     "bdba26dc050a4a4b9349a61d56bddf3a": {
      "model_module": "@jupyter-widgets/base",
      "model_module_version": "1.2.0",
      "model_name": "LayoutModel",
      "state": {}
     },
     "bf40f03d956b4fabacc8611a4c27a45f": {
      "model_module": "@jupyter-widgets/controls",
      "model_module_version": "1.5.0",
      "model_name": "IntSliderModel",
      "state": {
       "description": "seed",
       "layout": "IPY_MODEL_e1b63776725540ce98d8df30c41574cd",
       "min": 1,
       "style": "IPY_MODEL_c53ca5c915b94248809af435e5e02d83",
       "value": 50
      }
     },
     "c435c776ac7a4e3d895d0b53c836a26f": {
      "model_module": "@jupyter-widgets/base",
      "model_module_version": "1.2.0",
      "model_name": "LayoutModel",
      "state": {}
     },
     "c53ca5c915b94248809af435e5e02d83": {
      "model_module": "@jupyter-widgets/controls",
      "model_module_version": "1.5.0",
      "model_name": "SliderStyleModel",
      "state": {
       "description_width": ""
      }
     },
     "c842a08567434e38ac04b6734344ab26": {
      "model_module": "@jupyter-widgets/output",
      "model_module_version": "1.0.0",
      "model_name": "OutputModel",
      "state": {
       "layout": "IPY_MODEL_fea6755bf5014f4c85d4c2317b3f9b1a",
       "outputs": [
        {
         "ename": "NameError",
         "evalue": "name 'sin' is not defined",
         "output_type": "error",
         "traceback": [
          "\u001b[0;31m---------------------------------------------------------------------------\u001b[0m",
          "\u001b[0;31mNameError\u001b[0m                                 Traceback (most recent call last)",
          "\u001b[0;32m~/opt/anaconda3/lib/python3.8/site-packages/ipywidgets/widgets/interaction.py\u001b[0m in \u001b[0;36mupdate\u001b[0;34m(self, *args)\u001b[0m\n\u001b[1;32m    254\u001b[0m                     \u001b[0mvalue\u001b[0m \u001b[0;34m=\u001b[0m \u001b[0mwidget\u001b[0m\u001b[0;34m.\u001b[0m\u001b[0mget_interact_value\u001b[0m\u001b[0;34m(\u001b[0m\u001b[0;34m)\u001b[0m\u001b[0;34m\u001b[0m\u001b[0;34m\u001b[0m\u001b[0m\n\u001b[1;32m    255\u001b[0m                     \u001b[0mself\u001b[0m\u001b[0;34m.\u001b[0m\u001b[0mkwargs\u001b[0m\u001b[0;34m[\u001b[0m\u001b[0mwidget\u001b[0m\u001b[0;34m.\u001b[0m\u001b[0m_kwarg\u001b[0m\u001b[0;34m]\u001b[0m \u001b[0;34m=\u001b[0m \u001b[0mvalue\u001b[0m\u001b[0;34m\u001b[0m\u001b[0;34m\u001b[0m\u001b[0m\n\u001b[0;32m--> 256\u001b[0;31m                 \u001b[0mself\u001b[0m\u001b[0;34m.\u001b[0m\u001b[0mresult\u001b[0m \u001b[0;34m=\u001b[0m \u001b[0mself\u001b[0m\u001b[0;34m.\u001b[0m\u001b[0mf\u001b[0m\u001b[0;34m(\u001b[0m\u001b[0;34m**\u001b[0m\u001b[0mself\u001b[0m\u001b[0;34m.\u001b[0m\u001b[0mkwargs\u001b[0m\u001b[0;34m)\u001b[0m\u001b[0;34m\u001b[0m\u001b[0;34m\u001b[0m\u001b[0m\n\u001b[0m\u001b[1;32m    257\u001b[0m                 \u001b[0mshow_inline_matplotlib_plots\u001b[0m\u001b[0;34m(\u001b[0m\u001b[0;34m)\u001b[0m\u001b[0;34m\u001b[0m\u001b[0;34m\u001b[0m\u001b[0m\n\u001b[1;32m    258\u001b[0m                 \u001b[0;32mif\u001b[0m \u001b[0mself\u001b[0m\u001b[0;34m.\u001b[0m\u001b[0mauto_display\u001b[0m \u001b[0;32mand\u001b[0m \u001b[0mself\u001b[0m\u001b[0;34m.\u001b[0m\u001b[0mresult\u001b[0m \u001b[0;32mis\u001b[0m \u001b[0;32mnot\u001b[0m \u001b[0;32mNone\u001b[0m\u001b[0;34m:\u001b[0m\u001b[0;34m\u001b[0m\u001b[0;34m\u001b[0m\u001b[0m\n",
          "\u001b[0;32m<ipython-input-10-4fb4fccac6cc>\u001b[0m in \u001b[0;36mdrawGraph\u001b[0;34m(nb_nodes, nb_neigh, prob, seed, nb_edges_per_node, graph_type)\u001b[0m\n\u001b[1;32m     32\u001b[0m         \u001b[0mG\u001b[0m \u001b[0;34m=\u001b[0m \u001b[0mnx\u001b[0m\u001b[0;34m.\u001b[0m\u001b[0mpowerlaw_cluster_graph\u001b[0m\u001b[0;34m(\u001b[0m\u001b[0mnb_nodes\u001b[0m\u001b[0;34m,\u001b[0m \u001b[0mnb_edges_per_node\u001b[0m\u001b[0;34m,\u001b[0m \u001b[0madd_tri_prob\u001b[0m\u001b[0;34m,\u001b[0m \u001b[0mseed\u001b[0m\u001b[0;34m)\u001b[0m\u001b[0;34m\u001b[0m\u001b[0;34m\u001b[0m\u001b[0m\n\u001b[1;32m     33\u001b[0m \u001b[0;34m\u001b[0m\u001b[0m\n\u001b[0;32m---> 34\u001b[0;31m     \u001b[0mgenerate_graph_from_adjacency_matrix_1\u001b[0m\u001b[0;34m(\u001b[0m\u001b[0mG\u001b[0m\u001b[0;34m,\u001b[0m \u001b[0mnb_nodes\u001b[0m\u001b[0;34m,\u001b[0m \u001b[0mseed\u001b[0m\u001b[0;34m)\u001b[0m\u001b[0;34m\u001b[0m\u001b[0;34m\u001b[0m\u001b[0m\n\u001b[0m",
          "\u001b[0;32m<ipython-input-9-b43aa82b2c20>\u001b[0m in \u001b[0;36mgenerate_graph_from_adjacency_matrix_1\u001b[0;34m(G, N, seed)\u001b[0m\n\u001b[1;32m     23\u001b[0m \u001b[0;34m\u001b[0m\u001b[0m\n\u001b[1;32m     24\u001b[0m     \u001b[0mivec\u001b[0m \u001b[0;34m=\u001b[0m \u001b[0mlist\u001b[0m\u001b[0;34m(\u001b[0m\u001b[0mrange\u001b[0m\u001b[0;34m(\u001b[0m\u001b[0mD\u001b[0m\u001b[0;34m.\u001b[0m\u001b[0mshape\u001b[0m\u001b[0;34m[\u001b[0m\u001b[0;36m0\u001b[0m\u001b[0;34m]\u001b[0m\u001b[0;34m)\u001b[0m\u001b[0;34m)\u001b[0m\u001b[0;34m\u001b[0m\u001b[0;34m\u001b[0m\u001b[0m\n\u001b[0;32m---> 25\u001b[0;31m     \u001b[0ms\u001b[0m \u001b[0;34m=\u001b[0m \u001b[0msig\u001b[0m\u001b[0;34m(\u001b[0m\u001b[0mivec\u001b[0m\u001b[0;34m,\u001b[0m \u001b[0mfreq\u001b[0m\u001b[0;34m=\u001b[0m\u001b[0;36m2\u001b[0m\u001b[0;34m)\u001b[0m\u001b[0;34m\u001b[0m\u001b[0;34m\u001b[0m\u001b[0m\n\u001b[0m\u001b[1;32m     26\u001b[0m     \u001b[0mprint\u001b[0m\u001b[0;34m(\u001b[0m\u001b[0ms\u001b[0m\u001b[0;34m)\u001b[0m\u001b[0;34m\u001b[0m\u001b[0;34m\u001b[0m\u001b[0m\n\u001b[1;32m     27\u001b[0m \u001b[0;34m\u001b[0m\u001b[0m\n",
          "\u001b[0;32m<ipython-input-9-b43aa82b2c20>\u001b[0m in \u001b[0;36msig\u001b[0;34m(ivec, freq)\u001b[0m\n\u001b[1;32m     20\u001b[0m     \u001b[0;31m# Create a signal on the graph. We will choose a sine wave.\u001b[0m\u001b[0;34m\u001b[0m\u001b[0;34m\u001b[0m\u001b[0;34m\u001b[0m\u001b[0m\n\u001b[1;32m     21\u001b[0m     \u001b[0;32mdef\u001b[0m \u001b[0msig\u001b[0m\u001b[0;34m(\u001b[0m\u001b[0mivec\u001b[0m\u001b[0;34m,\u001b[0m \u001b[0mfreq\u001b[0m\u001b[0;34m)\u001b[0m\u001b[0;34m:\u001b[0m\u001b[0;34m\u001b[0m\u001b[0;34m\u001b[0m\u001b[0m\n\u001b[0;32m---> 22\u001b[0;31m         \u001b[0;32mreturn\u001b[0m \u001b[0msin\u001b[0m\u001b[0;34m(\u001b[0m\u001b[0;36m2.\u001b[0m\u001b[0;34m*\u001b[0m\u001b[0mnp\u001b[0m\u001b[0;34m.\u001b[0m\u001b[0mpi\u001b[0m\u001b[0;34m*\u001b[0m\u001b[0mfreq\u001b[0m\u001b[0;34m*\u001b[0m\u001b[0mivec\u001b[0m \u001b[0;34m/\u001b[0m \u001b[0mivec\u001b[0m\u001b[0;34m[\u001b[0m\u001b[0;34m-\u001b[0m\u001b[0;36m1\u001b[0m\u001b[0;34m]\u001b[0m\u001b[0;34m)\u001b[0m\u001b[0;34m\u001b[0m\u001b[0;34m\u001b[0m\u001b[0m\n\u001b[0m\u001b[1;32m     23\u001b[0m \u001b[0;34m\u001b[0m\u001b[0m\n\u001b[1;32m     24\u001b[0m     \u001b[0mivec\u001b[0m \u001b[0;34m=\u001b[0m \u001b[0mlist\u001b[0m\u001b[0;34m(\u001b[0m\u001b[0mrange\u001b[0m\u001b[0;34m(\u001b[0m\u001b[0mD\u001b[0m\u001b[0;34m.\u001b[0m\u001b[0mshape\u001b[0m\u001b[0;34m[\u001b[0m\u001b[0;36m0\u001b[0m\u001b[0;34m]\u001b[0m\u001b[0;34m)\u001b[0m\u001b[0;34m)\u001b[0m\u001b[0;34m\u001b[0m\u001b[0;34m\u001b[0m\u001b[0m\n",
          "\u001b[0;31mNameError\u001b[0m: name 'sin' is not defined"
         ]
        }
       ]
      }
     },
     "c90ffaf842fb476c93829d489c4272a4": {
      "model_module": "@jupyter-widgets/base",
      "model_module_version": "1.2.0",
      "model_name": "LayoutModel",
      "state": {}
     },
     "c9884d667f464247b31abeea35b2771c": {
      "model_module": "@jupyter-widgets/base",
      "model_module_version": "1.2.0",
      "model_name": "LayoutModel",
      "state": {}
     },
     "c9f0bf5aa972491e91903ac9efe3db4b": {
      "model_module": "@jupyter-widgets/controls",
      "model_module_version": "1.5.0",
      "model_name": "IntSliderModel",
      "state": {
       "description": "seed",
       "layout": "IPY_MODEL_35283d8ba4e64482bd9c05de065e75fb",
       "max": 50,
       "style": "IPY_MODEL_a8cd551685c649b885dd0acf5d121cdd",
       "value": 25
      }
     },
     "cb1514645c054645816ac745a6aa1e05": {
      "model_module": "@jupyter-widgets/base",
      "model_module_version": "1.2.0",
      "model_name": "LayoutModel",
      "state": {}
     },
     "cea89069c33e46ecb8524470ce9ad04c": {
      "model_module": "@jupyter-widgets/base",
      "model_module_version": "1.2.0",
      "model_name": "LayoutModel",
      "state": {}
     },
     "cf13b258bdbb446690e6f9a672370ee7": {
      "model_module": "@jupyter-widgets/controls",
      "model_module_version": "1.5.0",
      "model_name": "VBoxModel",
      "state": {
       "_dom_classes": [
        "widget-interact"
       ],
       "children": [
        "IPY_MODEL_d15b0a3b20334507b2b08b4d6147a4bb",
        "IPY_MODEL_4ba7e277a54c4ca999c40492b894edb9",
        "IPY_MODEL_613dd3f66e424ce6a61bdf61ad67a1dd",
        "IPY_MODEL_4d983750b0cb4125a91dcb5caa72b2b0",
        "IPY_MODEL_dd8ac0db913249bcb7ec6cfd936cae24",
        "IPY_MODEL_03f29c09a51f453a8e983c365047dc3c"
       ],
       "layout": "IPY_MODEL_430f8ea345fd45d6ad462918ddb1d791"
      }
     },
     "cf74953707ff4dda8e975fe5813dc6b0": {
      "model_module": "@jupyter-widgets/controls",
      "model_module_version": "1.5.0",
      "model_name": "IntSliderModel",
      "state": {
       "description": "nb_nodes",
       "layout": "IPY_MODEL_0ac14f9d1c85463f989d7e3e1af6c125",
       "max": 30,
       "min": 3,
       "style": "IPY_MODEL_2a97176c9bb9410ab72969674db72f74",
       "value": 10
      }
     },
     "d15b0a3b20334507b2b08b4d6147a4bb": {
      "model_module": "@jupyter-widgets/controls",
      "model_module_version": "1.5.0",
      "model_name": "IntSliderModel",
      "state": {
       "description": "Seed",
       "layout": "IPY_MODEL_e2da59e8e4d04a05a8c1d318f70c6c77",
       "min": 1,
       "style": "IPY_MODEL_44b4ecf679ff4cd585e294ba18e2ced4",
       "value": 50
      }
     },
     "d20b38915e784cae8dd4beda3b8e2ca0": {
      "model_module": "@jupyter-widgets/controls",
      "model_module_version": "1.5.0",
      "model_name": "IntSliderModel",
      "state": {
       "description": "seed",
       "layout": "IPY_MODEL_4b04ccc5016d4a7eb9993a6231c914fb",
       "max": 50,
       "style": "IPY_MODEL_add4eeb22dc9492b93b22fb494bd5292",
       "value": 25
      }
     },
     "da9b77946cf141c4865b5d6c8f7bc729": {
      "model_module": "@jupyter-widgets/base",
      "model_module_version": "1.2.0",
      "model_name": "LayoutModel",
      "state": {}
     },
     "dd8ac0db913249bcb7ec6cfd936cae24": {
      "model_module": "@jupyter-widgets/controls",
      "model_module_version": "1.5.0",
      "model_name": "IntSliderModel",
      "state": {
       "description": "nb_blur_iter",
       "layout": "IPY_MODEL_16baeac7051e4bdaaa6ad53226d04e9c",
       "max": 5,
       "style": "IPY_MODEL_e3847bc6fda34cdf8866e48ac9d225ed",
       "value": 2
      }
     },
     "e1804fad4e884c2b80194180d54b8952": {
      "model_module": "@jupyter-widgets/controls",
      "model_module_version": "1.5.0",
      "model_name": "IntSliderModel",
      "state": {
       "description": "nb_edges_per_node",
       "layout": "IPY_MODEL_ee369dd95b1f4c6a82151be173ae2a83",
       "max": 20,
       "min": 1,
       "step": 2,
       "style": "IPY_MODEL_1122574244fa448992af4be2bd2d2b5c",
       "value": 5
      }
     },
     "e1b63776725540ce98d8df30c41574cd": {
      "model_module": "@jupyter-widgets/base",
      "model_module_version": "1.2.0",
      "model_name": "LayoutModel",
      "state": {}
     },
     "e2da59e8e4d04a05a8c1d318f70c6c77": {
      "model_module": "@jupyter-widgets/base",
      "model_module_version": "1.2.0",
      "model_name": "LayoutModel",
      "state": {}
     },
     "e3847bc6fda34cdf8866e48ac9d225ed": {
      "model_module": "@jupyter-widgets/controls",
      "model_module_version": "1.5.0",
      "model_name": "SliderStyleModel",
      "state": {
       "description_width": ""
      }
     },
     "e5169c5e52814f9da519500e3874648d": {
      "model_module": "@jupyter-widgets/controls",
      "model_module_version": "1.5.0",
      "model_name": "DescriptionStyleModel",
      "state": {
       "description_width": ""
      }
     },
     "e85437808b6c4f7ea91ae57756287958": {
      "model_module": "@jupyter-widgets/controls",
      "model_module_version": "1.5.0",
      "model_name": "DropdownModel",
      "state": {
       "_options_labels": [
        "connected_watts_strogatz",
        "powerlaw_cluster_graph"
       ],
       "description": "graph_type",
       "index": 0,
       "layout": "IPY_MODEL_c435c776ac7a4e3d895d0b53c836a26f",
       "style": "IPY_MODEL_35ee7a19a7cf4a14add1f5d41d638d62"
      }
     },
     "e927bf9f484a42e5bc6e23cef06d27c0": {
      "model_module": "@jupyter-widgets/base",
      "model_module_version": "1.2.0",
      "model_name": "LayoutModel",
      "state": {}
     },
     "ea38327d3db64b03b0c388187faca7d0": {
      "model_module": "@jupyter-widgets/controls",
      "model_module_version": "1.5.0",
      "model_name": "SliderStyleModel",
      "state": {
       "description_width": "",
       "handle_color": "black"
      }
     },
     "ec040f01a1f44e6aa51a2fe3a4a95de7": {
      "model_module": "@jupyter-widgets/controls",
      "model_module_version": "1.5.0",
      "model_name": "IntSliderModel",
      "state": {
       "description": "nb_edges_per_node",
       "layout": "IPY_MODEL_ae0b66f9e81f4ec4a6fc10b4cd5c094a",
       "max": 20,
       "min": 1,
       "step": 2,
       "style": "IPY_MODEL_85de000ae26a4d50a04bdefe599cd0cd",
       "value": 5
      }
     },
     "ee369dd95b1f4c6a82151be173ae2a83": {
      "model_module": "@jupyter-widgets/base",
      "model_module_version": "1.2.0",
      "model_name": "LayoutModel",
      "state": {}
     },
     "f2436b1832bc4f8c9743499c88c3573d": {
      "model_module": "@jupyter-widgets/controls",
      "model_module_version": "1.5.0",
      "model_name": "VBoxModel",
      "state": {
       "_dom_classes": [
        "widget-interact"
       ],
       "children": [
        "IPY_MODEL_bf40f03d956b4fabacc8611a4c27a45f",
        "IPY_MODEL_a1fbc04144f4466fa44bdad41c0b8510",
        "IPY_MODEL_502a2e03cd714111969e77743299a682",
        "IPY_MODEL_37c95266f8b94597bdb1eed69de75ea7"
       ],
       "layout": "IPY_MODEL_27fecbe4e15e4ff3a1c59c16dd27901b"
      }
     },
     "f66cf6e2312d44648a77f0bb312811dd": {
      "model_module": "@jupyter-widgets/controls",
      "model_module_version": "1.5.0",
      "model_name": "DropdownModel",
      "state": {
       "_options_labels": [
        "connected_watts_strogatz",
        "powerlaw_cluster_graph"
       ],
       "description": "graph_type",
       "index": 0,
       "layout": "IPY_MODEL_a524e9c5f6f64afa9fbcddb87c3e2700",
       "style": "IPY_MODEL_e5169c5e52814f9da519500e3874648d"
      }
     },
     "fa364fd18021451faf6d127ce7517f04": {
      "model_module": "@jupyter-widgets/controls",
      "model_module_version": "1.5.0",
      "model_name": "SliderStyleModel",
      "state": {
       "description_width": "",
       "handle_color": "black"
      }
     },
     "fd836af820d34c6cb16215539d410d31": {
      "model_module": "@jupyter-widgets/controls",
      "model_module_version": "1.5.0",
      "model_name": "SliderStyleModel",
      "state": {
       "description_width": ""
      }
     },
     "fea6755bf5014f4c85d4c2317b3f9b1a": {
      "model_module": "@jupyter-widgets/base",
      "model_module_version": "1.2.0",
      "model_name": "LayoutModel",
      "state": {}
     }
    },
    "version_major": 2,
    "version_minor": 0
   }
  }
 },
 "nbformat": 4,
 "nbformat_minor": 5
}
