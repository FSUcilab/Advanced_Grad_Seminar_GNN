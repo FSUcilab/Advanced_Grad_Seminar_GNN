{
 "cells": [
  {
   "cell_type": "code",
   "execution_count": 60,
   "id": "78aa904c-9150-4159-8b2a-fc4a678c4170",
   "metadata": {},
   "outputs": [],
   "source": [
    "import torch"
   ]
  },
  {
   "cell_type": "code",
   "execution_count": 137,
   "id": "dc5b4054-2407-48d4-a90d-d167580792c9",
   "metadata": {},
   "outputs": [
    {
     "name": "stdout",
     "output_type": "stream",
     "text": [
      "tensor([2., 3.])\n",
      "a3:  Parameter containing:\n",
      "tensor([4., 6., 7., 2.], requires_grad=True)\n",
      "Parameter containing:\n",
      "tensor([2., 3.], requires_grad=True)\n",
      "a1:  tensor([2., 3.])\n",
      "a1 with grad:  tensor([2., 3.], requires_grad=True)\n",
      "True\n",
      "True\n",
      "tensor([4., 9.], grad_fn=<MulBackward0>)\n",
      "a=  Parameter containing:\n",
      "tensor([2., 3.], requires_grad=True) , a=  tensor([2., 3.], requires_grad=True) , b=  tensor([4., 9.], grad_fn=<MulBackward0>)\n"
     ]
    }
   ],
   "source": [
    "a = torch.tensor([2.,3])\n",
    "print(a)\n",
    "a = torch.nn.Parameter(a)  # allow gradient calculation\n",
    "a3 = torch.tensor([4,6,7.,2])\n",
    "a3 = torch.nn.Parameter(a3)  # allow gradient calculation\n",
    "print(\"a3: \", a3)\n",
    "print(a)\n",
    "a1 = torch.FloatTensor([2,3])\n",
    "print(\"a1: \", a1)\n",
    "a1.requires_grad_()\n",
    "print(\"a1 with grad: \", a1)\n",
    "a1.requires_grad_(True)\n",
    "print(a1.requires_grad)  # Bool\n",
    "b = a+a * a\n",
    "print(b.requires_grad)\n",
    "a, b\n",
    "b = a * a\n",
    "print(b)\n",
    "#a = a.detach()\n",
    "print(\"a= \", a, \", a= \", a1, \", b= \", b)"
   ]
  },
  {
   "cell_type": "code",
   "execution_count": 138,
   "id": "1ea17f5d-33e8-4312-a0c4-72416cccd25f",
   "metadata": {},
   "outputs": [
    {
     "name": "stdout",
     "output_type": "stream",
     "text": [
      "tensor(13., grad_fn=<SumBackward0>)\n"
     ]
    }
   ],
   "source": [
    "c = torch.sum(b)\n",
    "print(c)"
   ]
  },
  {
   "cell_type": "code",
   "execution_count": 140,
   "id": "4816837f-021f-4817-ad0d-9cef82d68bbc",
   "metadata": {},
   "outputs": [
    {
     "name": "stdout",
     "output_type": "stream",
     "text": [
      "1 a.grad:  None\n"
     ]
    },
    {
     "ename": "AttributeError",
     "evalue": "'NoneType' object has no attribute 'zero_'",
     "output_type": "error",
     "traceback": [
      "\u001b[0;31m---------------------------------------------------------------------------\u001b[0m",
      "\u001b[0;31mAttributeError\u001b[0m                            Traceback (most recent call last)",
      "\u001b[0;32m<ipython-input-140-7c3bc7ec2520>\u001b[0m in \u001b[0;36m<module>\u001b[0;34m\u001b[0m\n\u001b[1;32m      4\u001b[0m     \u001b[0ma\u001b[0m \u001b[0;34m=\u001b[0m \u001b[0ma\u001b[0m\u001b[0;34m.\u001b[0m\u001b[0mgrad\u001b[0m\u001b[0;34m.\u001b[0m\u001b[0mdetach_\u001b[0m\u001b[0;34m(\u001b[0m\u001b[0;34m)\u001b[0m\u001b[0;34m\u001b[0m\u001b[0;34m\u001b[0m\u001b[0m\n\u001b[1;32m      5\u001b[0m     \u001b[0mprint\u001b[0m\u001b[0;34m(\u001b[0m\u001b[0;34m\"1 a.grad: \"\u001b[0m\u001b[0;34m,\u001b[0m \u001b[0ma\u001b[0m\u001b[0;34m.\u001b[0m\u001b[0mgrad\u001b[0m\u001b[0;34m)\u001b[0m\u001b[0;34m\u001b[0m\u001b[0;34m\u001b[0m\u001b[0m\n\u001b[0;32m----> 6\u001b[0;31m     \u001b[0ma\u001b[0m\u001b[0;34m.\u001b[0m\u001b[0mgrad\u001b[0m\u001b[0;34m.\u001b[0m\u001b[0mzero_\u001b[0m\u001b[0;34m(\u001b[0m\u001b[0;34m)\u001b[0m\u001b[0;34m\u001b[0m\u001b[0;34m\u001b[0m\u001b[0m\n\u001b[0m\u001b[1;32m      7\u001b[0m     \u001b[0mprint\u001b[0m\u001b[0;34m(\u001b[0m\u001b[0;34m\"2 a.grad: \"\u001b[0m\u001b[0;34m,\u001b[0m \u001b[0ma\u001b[0m\u001b[0;34m.\u001b[0m\u001b[0mgrad\u001b[0m\u001b[0;34m)\u001b[0m\u001b[0;34m\u001b[0m\u001b[0;34m\u001b[0m\u001b[0m\n\u001b[1;32m      8\u001b[0m \u001b[0mc\u001b[0m\u001b[0;34m.\u001b[0m\u001b[0mbackward\u001b[0m\u001b[0;34m(\u001b[0m\u001b[0mretain_graph\u001b[0m\u001b[0;34m=\u001b[0m\u001b[0;32mTrue\u001b[0m\u001b[0;34m)\u001b[0m\u001b[0;34m\u001b[0m\u001b[0;34m\u001b[0m\u001b[0m\n",
      "\u001b[0;31mAttributeError\u001b[0m: 'NoneType' object has no attribute 'zero_'"
     ]
    }
   ],
   "source": [
    "c = torch.sum(b)\n",
    "# Cannot run c.backward() two times in a row\n",
    "if a.grad != None:\n",
    "    a.grad.zero_()\n",
    "c.backward(retain_graph=True)"
   ]
  },
  {
   "cell_type": "code",
   "execution_count": 49,
   "id": "760e1ec0-b7d8-4fec-9db5-9eb9a4cfecc3",
   "metadata": {},
   "outputs": [
    {
     "name": "stderr",
     "output_type": "stream",
     "text": [
      "<ipython-input-49-2388778a1c1d>:1: UserWarning: The .grad attribute of a Tensor that is not a leaf Tensor is being accessed. Its .grad attribute won't be populated during autograd.backward(). If you indeed want the gradient for a non-leaf Tensor, use .retain_grad() on the non-leaf Tensor. If you access the non-leaf Tensor by mistake, make sure you access the leaf Tensor instead. See github.com/pytorch/pytorch/pull/30531 for more information.\n",
      "  a.grad, b.grad\n"
     ]
    },
    {
     "data": {
      "text/plain": [
       "(None, None)"
      ]
     },
     "execution_count": 49,
     "metadata": {},
     "output_type": "execute_result"
    }
   ],
   "source": [
    "a.grad, b.grad"
   ]
  },
  {
   "cell_type": "markdown",
   "id": "608a2b05-4f1f-4d54-a21c-dc1f100d6ad0",
   "metadata": {},
   "source": [
    "* Can only take derivatives with respect to leaves. \n",
    "* Since $b$ depends on $a$, I can only compute the gradient with respect to $a$. \n",
    "* To compute the gradient with respect to $b$, I have to cut off the gradient propagation at $b$. HOW TO DO THIS? "
   ]
  },
  {
   "cell_type": "code",
   "execution_count": 50,
   "id": "937a6705-c3fc-4d6f-b6dc-7e6d063388ed",
   "metadata": {},
   "outputs": [
    {
     "data": {
      "text/plain": [
       "tensor([2., 3.])"
      ]
     },
     "execution_count": 50,
     "metadata": {},
     "output_type": "execute_result"
    }
   ],
   "source": [
    "a"
   ]
  },
  {
   "cell_type": "code",
   "execution_count": 51,
   "id": "66fbc066-b356-4c8a-a180-f35a8d15138c",
   "metadata": {},
   "outputs": [
    {
     "data": {
      "text/plain": [
       "tensor([4., 9.], grad_fn=<MulBackward0>)"
      ]
     },
     "execution_count": 51,
     "metadata": {},
     "output_type": "execute_result"
    }
   ],
   "source": [
    "b"
   ]
  },
  {
   "cell_type": "code",
   "execution_count": 52,
   "id": "4e52e967-f3ff-48c8-80b2-b0c4127b5680",
   "metadata": {},
   "outputs": [
    {
     "data": {
      "text/plain": [
       "tensor(13., grad_fn=<SumBackward0>)"
      ]
     },
     "execution_count": 52,
     "metadata": {},
     "output_type": "execute_result"
    }
   ],
   "source": [
    "c"
   ]
  },
  {
   "cell_type": "code",
   "execution_count": null,
   "id": "c54503c7-8810-4ba5-a783-4e7ef0d3ab23",
   "metadata": {},
   "outputs": [],
   "source": []
  }
 ],
 "metadata": {
  "kernelspec": {
   "display_name": "Python 3 (ipykernel)",
   "language": "python",
   "name": "python3"
  },
  "language_info": {
   "codemirror_mode": {
    "name": "ipython",
    "version": 3
   },
   "file_extension": ".py",
   "mimetype": "text/x-python",
   "name": "python",
   "nbconvert_exporter": "python",
   "pygments_lexer": "ipython3",
   "version": "3.8.12"
  },
  "widgets": {
   "application/vnd.jupyter.widget-state+json": {
    "state": {},
    "version_major": 2,
    "version_minor": 0
   }
  }
 },
 "nbformat": 4,
 "nbformat_minor": 5
}
