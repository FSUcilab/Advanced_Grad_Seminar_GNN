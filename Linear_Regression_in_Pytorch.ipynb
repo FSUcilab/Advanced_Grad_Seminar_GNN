{
 "cells": [
  {
   "cell_type": "markdown",
   "metadata": {
    "id": "TDmcSGewXJDr"
   },
   "source": [
    "## Imports "
   ]
  },
  {
   "cell_type": "code",
   "execution_count": 1,
   "metadata": {
    "id": "vvPLjUrfXKZM"
   },
   "outputs": [],
   "source": [
    "import torch\n",
    "import numpy as np"
   ]
  },
  {
   "cell_type": "markdown",
   "metadata": {
    "id": "xYfAerwpXQ3O"
   },
   "source": [
    "## Data"
   ]
  },
  {
   "cell_type": "code",
   "execution_count": 2,
   "metadata": {
    "id": "XoXue2OfXSMh"
   },
   "outputs": [],
   "source": [
    "inputs = np.array([[73, 67, 43], \n",
    "                   [91, 88, 64], \n",
    "                   [87, 134, 58], \n",
    "                   [102, 43, 37], \n",
    "                   [69, 96, 70], \n",
    "                   [74, 66, 43], \n",
    "                   [91, 87, 65], \n",
    "                   [88, 134, 59], \n",
    "                   [101, 44, 37], \n",
    "                   [68, 96, 71], \n",
    "                   [73, 66, 44], \n",
    "                   [92, 87, 64], \n",
    "                   [87, 135, 57], \n",
    "                   [103, 43, 36], \n",
    "                   [68, 97, 70]], \n",
    "                  dtype='float32')\n",
    "targets = np.array([[56, 70], \n",
    "                    [81, 101], \n",
    "                    [119, 133], \n",
    "                    [22, 37], \n",
    "                    [103, 119],\n",
    "                    [57, 69], \n",
    "                    [80, 102], \n",
    "                    [118, 132], \n",
    "                    [21, 38], \n",
    "                    [104, 118], \n",
    "                    [57, 69], \n",
    "                    [82, 100], \n",
    "                    [118, 134], \n",
    "                    [20, 38], \n",
    "                    [102, 120]], \n",
    "                   dtype='float32')"
   ]
  },
  {
   "cell_type": "code",
   "execution_count": 3,
   "metadata": {
    "id": "2T2h3N4TXUsP"
   },
   "outputs": [],
   "source": [
    "inputs = torch.from_numpy(inputs)\n",
    "targets = torch.from_numpy(targets)"
   ]
  },
  {
   "cell_type": "code",
   "execution_count": 4,
   "metadata": {
    "colab": {
     "base_uri": "https://localhost:8080/"
    },
    "id": "ZBHzMWjEXWhC",
    "outputId": "9cb28f60-5f48-4896-a443-02270c408269"
   },
   "outputs": [
    {
     "name": "stdout",
     "output_type": "stream",
     "text": [
      "tensor([[ 73.,  67.,  43.],\n",
      "        [ 91.,  88.,  64.],\n",
      "        [ 87., 134.,  58.],\n",
      "        [102.,  43.,  37.],\n",
      "        [ 69.,  96.,  70.],\n",
      "        [ 74.,  66.,  43.],\n",
      "        [ 91.,  87.,  65.],\n",
      "        [ 88., 134.,  59.],\n",
      "        [101.,  44.,  37.],\n",
      "        [ 68.,  96.,  71.],\n",
      "        [ 73.,  66.,  44.],\n",
      "        [ 92.,  87.,  64.],\n",
      "        [ 87., 135.,  57.],\n",
      "        [103.,  43.,  36.],\n",
      "        [ 68.,  97.,  70.]])\n"
     ]
    }
   ],
   "source": [
    "print(inputs)"
   ]
  },
  {
   "cell_type": "code",
   "execution_count": 5,
   "metadata": {
    "colab": {
     "base_uri": "https://localhost:8080/"
    },
    "id": "K8eMXjAhXYif",
    "outputId": "ea3bff8a-901b-4f1e-f29e-9c50e8d6be02"
   },
   "outputs": [
    {
     "name": "stdout",
     "output_type": "stream",
     "text": [
      "tensor([[ 56.,  70.],\n",
      "        [ 81., 101.],\n",
      "        [119., 133.],\n",
      "        [ 22.,  37.],\n",
      "        [103., 119.],\n",
      "        [ 57.,  69.],\n",
      "        [ 80., 102.],\n",
      "        [118., 132.],\n",
      "        [ 21.,  38.],\n",
      "        [104., 118.],\n",
      "        [ 57.,  69.],\n",
      "        [ 82., 100.],\n",
      "        [118., 134.],\n",
      "        [ 20.,  38.],\n",
      "        [102., 120.]])\n"
     ]
    }
   ],
   "source": [
    "print(targets)"
   ]
  },
  {
   "cell_type": "markdown",
   "metadata": {
    "id": "m80Yf02zXdVc"
   },
   "source": [
    "## Dataset"
   ]
  },
  {
   "cell_type": "code",
   "execution_count": 6,
   "metadata": {
    "id": "1vQKBZRgXeIt"
   },
   "outputs": [],
   "source": [
    "from torch.utils.data import TensorDataset\n",
    "\n",
    "dataset = TensorDataset(inputs, targets)"
   ]
  },
  {
   "cell_type": "code",
   "execution_count": 7,
   "metadata": {
    "colab": {
     "base_uri": "https://localhost:8080/"
    },
    "id": "jjY28mVLXgMh",
    "outputId": "a128a310-0440-4cbd-c393-9e7b6394877d"
   },
   "outputs": [
    {
     "data": {
      "text/plain": [
       "(tensor([[ 73.,  67.,  43.],\n",
       "         [ 91.,  88.,  64.],\n",
       "         [ 87., 134.,  58.]]),\n",
       " tensor([[ 56.,  70.],\n",
       "         [ 81., 101.],\n",
       "         [119., 133.]]))"
      ]
     },
     "execution_count": 7,
     "metadata": {},
     "output_type": "execute_result"
    }
   ],
   "source": [
    "dataset[:3]"
   ]
  },
  {
   "cell_type": "markdown",
   "metadata": {
    "id": "7Q2OQsChXkx-"
   },
   "source": [
    "## DataLoader"
   ]
  },
  {
   "cell_type": "code",
   "execution_count": 8,
   "metadata": {
    "id": "WQe0YuyYXhib"
   },
   "outputs": [],
   "source": [
    "from torch.utils.data import DataLoader\n",
    "\n",
    "batch_size = 3\n",
    "train_loader = DataLoader(dataset, batch_size=batch_size, shuffle=True)"
   ]
  },
  {
   "cell_type": "code",
   "execution_count": 9,
   "metadata": {
    "colab": {
     "base_uri": "https://localhost:8080/"
    },
    "id": "LkIz1yA7XmSg",
    "outputId": "ab67e337-6211-45a3-f506-f1ec4439584b"
   },
   "outputs": [
    {
     "name": "stdout",
     "output_type": "stream",
     "text": [
      "tensor([[74., 66., 43.],\n",
      "        [69., 96., 70.],\n",
      "        [91., 87., 65.]])\n",
      "tensor([[ 57.,  69.],\n",
      "        [103., 119.],\n",
      "        [ 80., 102.]])\n"
     ]
    }
   ],
   "source": [
    "# A Batch Sample\n",
    "for inp,target in train_loader:\n",
    "    print(inp)\n",
    "    print(target)\n",
    "    break"
   ]
  },
  {
   "cell_type": "markdown",
   "metadata": {
    "id": "u3LOkTVNXuMA"
   },
   "source": [
    "## Linear Regression"
   ]
  },
  {
   "cell_type": "code",
   "execution_count": 10,
   "metadata": {
    "colab": {
     "base_uri": "https://localhost:8080/"
    },
    "id": "NXl5yvccXvcS",
    "outputId": "48c99287-3d3d-4e05-f724-39fc50b79905"
   },
   "outputs": [
    {
     "name": "stdout",
     "output_type": "stream",
     "text": [
      "tensor([[ 0.2889,  1.3758, -0.3526],\n",
      "        [ 0.1972,  0.3231,  0.2537]], requires_grad=True)\n",
      "tensor([ 0.2265, -0.2737], requires_grad=True)\n"
     ]
    }
   ],
   "source": [
    "w = torch.randn(2, 3, requires_grad=True)\n",
    "b = torch.randn(2, requires_grad=True)\n",
    "print(w)\n",
    "print(b)"
   ]
  },
  {
   "cell_type": "code",
   "execution_count": 11,
   "metadata": {
    "id": "XjBvWQIgXvuL"
   },
   "outputs": [],
   "source": [
    "def model(X):\n",
    "    return X @ w.t() + b"
   ]
  },
  {
   "cell_type": "code",
   "execution_count": 12,
   "metadata": {
    "colab": {
     "base_uri": "https://localhost:8080/"
    },
    "id": "OA3ZN9njXx_x",
    "outputId": "a6ea179d-4e58-4d68-aedb-18f669d1f85a"
   },
   "outputs": [
    {
     "name": "stdout",
     "output_type": "stream",
     "text": [
      "Prediction is :\n",
      " tensor([[ 76.8878,  43.2507],\n",
      "        [123.2839,  62.2739],\n",
      "        [ 97.2398,  46.5545]], grad_fn=<AddBackward0>)\n",
      "\n",
      "Actual targets is :\n",
      " tensor([[ 21.,  38.],\n",
      "        [ 80., 102.],\n",
      "        [ 57.,  69.]])\n"
     ]
    }
   ],
   "source": [
    "for x,y in train_loader:\n",
    "    preds = model(x)\n",
    "    print(\"Prediction is :\\n\",preds)\n",
    "    print(\"\\nActual targets is :\\n\",y)\n",
    "    break"
   ]
  },
  {
   "cell_type": "markdown",
   "metadata": {
    "id": "ZKln4cKhX2nP"
   },
   "source": [
    "### Loss"
   ]
  },
  {
   "cell_type": "code",
   "execution_count": 13,
   "metadata": {
    "id": "MP5BloM9X3Tc"
   },
   "outputs": [],
   "source": [
    "def mse_loss(predictions, targets):\n",
    "    difference = predictions - targets\n",
    "    return torch.sum(difference * difference) / difference.numel()"
   ]
  },
  {
   "cell_type": "code",
   "execution_count": 14,
   "metadata": {
    "colab": {
     "base_uri": "https://localhost:8080/"
    },
    "id": "qvQwDBBjX3hu",
    "outputId": "7cecb448-5854-4627-8442-da193c8f0a6c"
   },
   "outputs": [
    {
     "name": "stdout",
     "output_type": "stream",
     "text": [
      "Prediction is :\n",
      " tensor([[ 76.4423,  43.0684],\n",
      "        [123.9254,  62.2175],\n",
      "        [ 97.2398,  46.5545]], grad_fn=<AddBackward0>)\n",
      "\n",
      "Actual targets is :\n",
      " tensor([[ 20.,  38.],\n",
      "        [ 82., 100.],\n",
      "        [ 57.,  69.]])\n",
      "\n",
      "Loss is:  tensor(1419.9540, grad_fn=<DivBackward0>)\n"
     ]
    }
   ],
   "source": [
    "for x,y in train_loader:\n",
    "    preds = model(x)\n",
    "    print(\"Prediction is :\\n\",preds)\n",
    "    print(\"\\nActual targets is :\\n\",y)\n",
    "    print(\"\\nLoss is: \",mse_loss(preds, y))\n",
    "    break"
   ]
  },
  {
   "cell_type": "code",
   "execution_count": 15,
   "metadata": {
    "colab": {
     "base_uri": "https://localhost:8080/"
    },
    "id": "G0aviSvOX5BX",
    "outputId": "8e1dc662-99b7-42fd-b8e9-2ed97f9c8e7e"
   },
   "outputs": [
    {
     "name": "stdout",
     "output_type": "stream",
     "text": [
      "Epoch 0/50: Loss: 728.4745483398438\n",
      "Epoch 1/50: Loss: 367.2543029785156\n",
      "Epoch 2/50: Loss: 292.3853759765625\n",
      "Epoch 3/50: Loss: 152.8395233154297\n",
      "Epoch 4/50: Loss: 115.80294799804688\n",
      "Epoch 5/50: Loss: 454.1225280761719\n",
      "Epoch 6/50: Loss: 322.7727355957031\n",
      "Epoch 7/50: Loss: 352.5608825683594\n",
      "Epoch 8/50: Loss: 304.7715759277344\n",
      "Epoch 9/50: Loss: 277.3539123535156\n",
      "Epoch 10/50: Loss: 60.40011978149414\n",
      "Epoch 11/50: Loss: 192.6470184326172\n",
      "Epoch 12/50: Loss: 149.48106384277344\n",
      "Epoch 13/50: Loss: 167.32679748535156\n",
      "Epoch 14/50: Loss: 124.42317962646484\n",
      "Epoch 15/50: Loss: 143.9129638671875\n",
      "Epoch 16/50: Loss: 213.5840301513672\n",
      "Epoch 17/50: Loss: 211.6987762451172\n",
      "Epoch 18/50: Loss: 212.7648468017578\n",
      "Epoch 19/50: Loss: 24.273561477661133\n",
      "Epoch 20/50: Loss: 158.4571990966797\n",
      "Epoch 21/50: Loss: 96.69017791748047\n",
      "Epoch 22/50: Loss: 175.9143524169922\n",
      "Epoch 23/50: Loss: 119.3244857788086\n",
      "Epoch 24/50: Loss: 112.75337982177734\n",
      "Epoch 25/50: Loss: 98.65904998779297\n",
      "Epoch 26/50: Loss: 124.75748443603516\n",
      "Epoch 27/50: Loss: 106.7737808227539\n",
      "Epoch 28/50: Loss: 115.4173583984375\n",
      "Epoch 29/50: Loss: 213.6871337890625\n",
      "Epoch 30/50: Loss: 145.5048828125\n",
      "Epoch 31/50: Loss: 70.82417297363281\n",
      "Epoch 32/50: Loss: 51.88882064819336\n",
      "Epoch 33/50: Loss: 131.56851196289062\n",
      "Epoch 34/50: Loss: 153.95704650878906\n",
      "Epoch 35/50: Loss: 97.77615356445312\n",
      "Epoch 36/50: Loss: 45.02444839477539\n",
      "Epoch 37/50: Loss: 53.880680084228516\n",
      "Epoch 38/50: Loss: 45.16946792602539\n",
      "Epoch 39/50: Loss: 10.185754776000977\n",
      "Epoch 40/50: Loss: 9.36999797821045\n",
      "Epoch 41/50: Loss: 39.455528259277344\n",
      "Epoch 42/50: Loss: 111.40253448486328\n",
      "Epoch 43/50: Loss: 32.44710922241211\n",
      "Epoch 44/50: Loss: 89.94005584716797\n",
      "Epoch 45/50: Loss: 84.2603988647461\n",
      "Epoch 46/50: Loss: 40.296749114990234\n",
      "Epoch 47/50: Loss: 81.68964385986328\n",
      "Epoch 48/50: Loss: 93.97534942626953\n",
      "Epoch 49/50: Loss: 85.5953369140625\n"
     ]
    }
   ],
   "source": [
    "epochs = 50\n",
    "for i in range(epochs):\n",
    "    # Iterate through training dataloader\n",
    "    for x,y in train_loader:\n",
    "        # Generate Prediction\n",
    "        preds = model(x)\n",
    "        # Get the loss and perform backpropagation\n",
    "        loss = mse_loss(preds, y)\n",
    "        loss.backward()\n",
    "        # print(loss)\n",
    "        # Let's update the weights\n",
    "        with torch.no_grad():\n",
    "            w -= w.grad *1e-5\n",
    "            b -= b.grad * 1e-5\n",
    "            # Set the gradients to zero\n",
    "            w.grad.zero_()\n",
    "            b.grad.zero_()\n",
    "    print(f\"Epoch {i}/{epochs}: Loss: {loss}\")"
   ]
  },
  {
   "cell_type": "markdown",
   "metadata": {
    "id": "mOEq3zILaONg"
   },
   "source": [
    "## Results"
   ]
  },
  {
   "cell_type": "code",
   "execution_count": null,
   "metadata": {
    "colab": {
     "base_uri": "https://localhost:8080/"
    },
    "id": "gTQZbjRwXr94",
    "outputId": "2fcb917b-b9a6-4d17-d126-0a9cc33d2d9a"
   },
   "outputs": [
    {
     "name": "stdout",
     "output_type": "stream",
     "text": [
      "Prediction is :\n",
      " tensor([[102.6596, 110.3845],\n",
      "        [ 81.1419,  95.7303],\n",
      "        [ 56.8479,  70.9188]], grad_fn=<AddBackward0>)\n",
      "\n",
      "Actual targets is :\n",
      " tensor([[103., 119.],\n",
      "        [ 82., 100.],\n",
      "        [ 56.,  70.]])\n"
     ]
    }
   ],
   "source": [
    "for x,y in train_loader:\n",
    "    preds = model(x)\n",
    "    print(\"Prediction is :\\n\",preds)\n",
    "    print(\"\\nActual targets is :\\n\",y)\n",
    "    break"
   ]
  },
  {
   "cell_type": "code",
   "execution_count": null,
   "metadata": {
    "id": "veMY0yeNr3KQ"
   },
   "outputs": [],
   "source": []
  },
  {
   "cell_type": "code",
   "execution_count": null,
   "metadata": {
    "id": "jlRey5z-rrw6"
   },
   "outputs": [],
   "source": []
  }
 ],
 "metadata": {
  "colab": {
   "name": "Linear Regression in Pytorch.ipynb",
   "provenance": []
  },
  "kernelspec": {
   "display_name": "Python 3 (ipykernel)",
   "language": "python",
   "name": "python3"
  },
  "language_info": {
   "codemirror_mode": {
    "name": "ipython",
    "version": 3
   },
   "file_extension": ".py",
   "mimetype": "text/x-python",
   "name": "python",
   "nbconvert_exporter": "python",
   "pygments_lexer": "ipython3",
   "version": "3.8.12"
  },
  "widgets": {
   "application/vnd.jupyter.widget-state+json": {
    "state": {},
    "version_major": 2,
    "version_minor": 0
   }
  }
 },
 "nbformat": 4,
 "nbformat_minor": 4
}
