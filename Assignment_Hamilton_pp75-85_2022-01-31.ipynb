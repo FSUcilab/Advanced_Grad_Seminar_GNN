{
 "cells": [
  {
   "cell_type": "markdown",
   "id": "88306c96-b76c-4796-8e61-bf371412f49b",
   "metadata": {},
   "source": [
    "# Assignment\n",
    "\n",
    "Please read pages 75-85 of Hamilton's book: Graph Representation Learning. \n",
    "This is the first 10 pages of Chapter 7: Theoretical Motivations, which you should be able to follow given the lectures so far on the spectral theory of GNN. \n",
    "\n",
    "For the students registered in the class, please come up with a simple demonstration of at least one of the concepts discussed in these 10 pages. Develop a Jupyter notebook program with a mixture of calculations and interactive visualization. The demos do not have to be sophisticated, but they must be elucidating. \n",
    "\n",
    "Please email your jupyter notebook to Nathan Crock (ncrock@fsu.edu) and I (gerlebacher@fsu.edu) by  next Monday, Feb. 7, 2022. "
   ]
  },
  {
   "cell_type": "code",
   "execution_count": null,
   "id": "2b195443-03d6-4280-b219-8b565d16c586",
   "metadata": {},
   "outputs": [],
   "source": []
  }
 ],
 "metadata": {
  "kernelspec": {
   "display_name": "Python 3",
   "language": "python",
   "name": "python3"
  },
  "language_info": {
   "codemirror_mode": {
    "name": "ipython",
    "version": 3
   },
   "file_extension": ".py",
   "mimetype": "text/x-python",
   "name": "python",
   "nbconvert_exporter": "python",
   "pygments_lexer": "ipython3",
   "version": "3.8.8"
  },
  "widgets": {
   "application/vnd.jupyter.widget-state+json": {
    "state": {},
    "version_major": 2,
    "version_minor": 0
   }
  }
 },
 "nbformat": 4,
 "nbformat_minor": 5
}
